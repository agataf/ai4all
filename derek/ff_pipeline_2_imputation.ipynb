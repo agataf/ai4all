{
 "cells": [
  {
   "cell_type": "markdown",
   "metadata": {},
   "source": [
    "# Data imputation\n",
    "\n",
    "This step may be skipped depending on what you are using for prediction. "
   ]
  },
  {
   "cell_type": "code",
   "execution_count": 1,
   "metadata": {
    "collapsed": false
   },
   "outputs": [
    {
     "name": "stderr",
     "output_type": "stream",
     "text": [
      "Using TensorFlow backend.\n"
     ]
    },
    {
     "name": "stdout",
     "output_type": "stream",
     "text": [
      "Imputing row 1/4242 with 3256 missing, elapsed time: 494.041\n",
      "Imputing row 101/4242 with 2991 missing, elapsed time: 498.519\n",
      "Imputing row 201/4242 with 1771 missing, elapsed time: 502.787\n",
      "Imputing row 301/4242 with 210 missing, elapsed time: 507.399\n",
      "Imputing row 401/4242 with 1224 missing, elapsed time: 512.275\n",
      "Imputing row 501/4242 with 764 missing, elapsed time: 517.107\n",
      "Imputing row 601/4242 with 2007 missing, elapsed time: 521.955\n",
      "Imputing row 701/4242 with 1242 missing, elapsed time: 526.620\n",
      "Imputing row 801/4242 with 2046 missing, elapsed time: 530.973\n",
      "Imputing row 901/4242 with 1956 missing, elapsed time: 535.346\n",
      "Imputing row 1001/4242 with 1680 missing, elapsed time: 539.516\n",
      "Imputing row 1101/4242 with 781 missing, elapsed time: 543.668\n",
      "Imputing row 1201/4242 with 608 missing, elapsed time: 548.101\n",
      "Imputing row 1301/4242 with 306 missing, elapsed time: 552.301\n",
      "Imputing row 1401/4242 with 2534 missing, elapsed time: 556.643\n",
      "Imputing row 1501/4242 with 870 missing, elapsed time: 560.754\n",
      "Imputing row 1601/4242 with 1376 missing, elapsed time: 564.858\n",
      "Imputing row 1701/4242 with 258 missing, elapsed time: 569.433\n",
      "Imputing row 1801/4242 with 350 missing, elapsed time: 573.679\n",
      "Imputing row 1901/4242 with 135 missing, elapsed time: 578.090\n",
      "Imputing row 2001/4242 with 528 missing, elapsed time: 582.896\n",
      "Imputing row 2101/4242 with 2605 missing, elapsed time: 587.356\n",
      "Imputing row 2201/4242 with 496 missing, elapsed time: 591.941\n",
      "Imputing row 2301/4242 with 2464 missing, elapsed time: 596.174\n",
      "Imputing row 2401/4242 with 2210 missing, elapsed time: 601.283\n",
      "Imputing row 2501/4242 with 2988 missing, elapsed time: 606.401\n",
      "Imputing row 2601/4242 with 93 missing, elapsed time: 610.371\n",
      "Imputing row 2701/4242 with 833 missing, elapsed time: 615.436\n",
      "Imputing row 2801/4242 with 577 missing, elapsed time: 620.389\n",
      "Imputing row 2901/4242 with 164 missing, elapsed time: 625.355\n",
      "Imputing row 3001/4242 with 73 missing, elapsed time: 631.456\n",
      "Imputing row 3101/4242 with 1343 missing, elapsed time: 636.747\n",
      "Imputing row 3201/4242 with 705 missing, elapsed time: 640.601\n",
      "Imputing row 3301/4242 with 445 missing, elapsed time: 645.039\n",
      "Imputing row 3401/4242 with 1026 missing, elapsed time: 648.989\n",
      "Imputing row 3501/4242 with 250 missing, elapsed time: 653.320\n",
      "Imputing row 3601/4242 with 1153 missing, elapsed time: 658.613\n",
      "Imputing row 3701/4242 with 653 missing, elapsed time: 662.976\n",
      "Imputing row 3801/4242 with 1136 missing, elapsed time: 666.737\n",
      "Imputing row 3901/4242 with 746 missing, elapsed time: 670.738\n",
      "Imputing row 4001/4242 with 712 missing, elapsed time: 674.854\n",
      "Imputing row 4101/4242 with 101 missing, elapsed time: 678.368\n",
      "Imputing row 4201/4242 with 2132 missing, elapsed time: 682.294\n"
     ]
    }
   ],
   "source": [
    "'''\n",
    "* summary: imputes missing data (negative or NaN) via KNN.\n",
    "* input:   bg\n",
    "* output:  bg\n",
    "'''\n",
    "import pandas as pd\n",
    "import sys\n",
    "import fancyimpute as fi\n",
    "\n",
    "output_dir = \"output\"\n",
    "\n",
    "# This is expensive so we give you the option to skip it...\n",
    "LOAD = False\n",
    "\n",
    "if LOAD:\n",
    "    bg = pd.read_csv(output_dir+'/imputed_bg.csv', index_col=0)\n",
    "    bg = bg.set_index('challengeID')\n",
    "else:\n",
    "    bg = pd.read_csv(output_dir+'/background.csv', low_memory=False, index_col=0)\n",
    "    raw_bg = bg.copy()\n",
    "    bg = fi.KNN(k=5).complete(raw_bg)\n",
    "\n",
    "    bg = pd.DataFrame(bg)\n",
    "    bg.index = raw_bg.index\n",
    "    bg.columns = raw_bg.columns\n",
    "\n",
    "    bg.to_csv(output_dir+'/imputed_bg.csv')\n",
    "\n"
   ]
  },
  {
   "cell_type": "code",
   "execution_count": null,
   "metadata": {
    "collapsed": true
   },
   "outputs": [],
   "source": []
  }
 ],
 "metadata": {
  "anaconda-cloud": {},
  "kernelspec": {
   "display_name": "Python [Root]",
   "language": "python",
   "name": "Python [Root]"
  },
  "language_info": {
   "codemirror_mode": {
    "name": "ipython",
    "version": 3
   },
   "file_extension": ".py",
   "mimetype": "text/x-python",
   "name": "python",
   "nbconvert_exporter": "python",
   "pygments_lexer": "ipython3",
   "version": "3.5.2"
  }
 },
 "nbformat": 4,
 "nbformat_minor": 2
}
