{
 "cells": [
  {
   "cell_type": "markdown",
   "metadata": {},
   "source": [
    "# Visualizing Data\n",
    "\n",
    "In this lesson, we will learn about how we can use Python to visualize quantitative data through histograms, box plots, scatter plots, pie charts, and bar plots. \n",
    "\n",
    "The type of plot to use will depend on whether the data we want to plot consists of continiuous, discrete, or categorical variables. Continuous variables are numeric variables that can take on any value within its permissible range. Examples of continuous variables are length measurements (e.g. height, width) and time measurements. Discrete variables are numeric variables that can take on a set of finite values. Examples are coin values (1,5,10,25,50,100 cents), and the number of pokemon in your Pokemon Blue pokedex (integers between 0-151). Categorical variables, like discrete variables, can only take on a finite number of values, but the values might not have a logical order and they don't have to be numerical. Examples of categorical variables include gender, food preference, and payment method.\n",
    "\n",
    "We will see that some plots are better than others at displaying information about continuous, discrete, or categorical variables and that sometimes we can use the same plot to visualize more than one type of variable simultaneously. "
   ]
  },
  {
   "cell_type": "code",
   "execution_count": 1,
   "metadata": {
    "collapsed": false
   },
   "outputs": [
    {
     "ename": "FileNotFoundError",
     "evalue": "File b'../output/background.csv' does not exist",
     "output_type": "error",
     "traceback": [
      "\u001b[0;31m---------------------------------------------------------------------------\u001b[0m",
      "\u001b[0;31mFileNotFoundError\u001b[0m                         Traceback (most recent call last)",
      "\u001b[0;32m<ipython-input-1-2ac31022d8a7>\u001b[0m in \u001b[0;36m<module>\u001b[0;34m()\u001b[0m\n\u001b[1;32m     11\u001b[0m \u001b[0;34m\u001b[0m\u001b[0m\n\u001b[1;32m     12\u001b[0m \u001b[0;31m# Load data\u001b[0m\u001b[0;34m\u001b[0m\u001b[0;34m\u001b[0m\u001b[0m\n\u001b[0;32m---> 13\u001b[0;31m \u001b[0mdata_frame\u001b[0m \u001b[0;34m=\u001b[0m \u001b[0mpd\u001b[0m\u001b[0;34m.\u001b[0m\u001b[0mread_csv\u001b[0m\u001b[0;34m(\u001b[0m\u001b[0moutput_dir\u001b[0m\u001b[0;34m+\u001b[0m\u001b[0;34m'/background.csv'\u001b[0m\u001b[0;34m,\u001b[0m \u001b[0mindex_col\u001b[0m\u001b[0;34m=\u001b[0m\u001b[0;36m0\u001b[0m\u001b[0;34m)\u001b[0m \u001b[0;31m# for now we load all the data\u001b[0m\u001b[0;34m\u001b[0m\u001b[0m\n\u001b[0m",
      "\u001b[0;32m//anaconda/lib/python3.5/site-packages/pandas/io/parsers.py\u001b[0m in \u001b[0;36mparser_f\u001b[0;34m(filepath_or_buffer, sep, delimiter, header, names, index_col, usecols, squeeze, prefix, mangle_dupe_cols, dtype, engine, converters, true_values, false_values, skipinitialspace, skiprows, nrows, na_values, keep_default_na, na_filter, verbose, skip_blank_lines, parse_dates, infer_datetime_format, keep_date_col, date_parser, dayfirst, iterator, chunksize, compression, thousands, decimal, lineterminator, quotechar, quoting, escapechar, comment, encoding, dialect, tupleize_cols, error_bad_lines, warn_bad_lines, skipfooter, doublequote, delim_whitespace, low_memory, memory_map, float_precision)\u001b[0m\n\u001b[1;32m    676\u001b[0m                     skip_blank_lines=skip_blank_lines)\n\u001b[1;32m    677\u001b[0m \u001b[0;34m\u001b[0m\u001b[0m\n\u001b[0;32m--> 678\u001b[0;31m         \u001b[0;32mreturn\u001b[0m \u001b[0m_read\u001b[0m\u001b[0;34m(\u001b[0m\u001b[0mfilepath_or_buffer\u001b[0m\u001b[0;34m,\u001b[0m \u001b[0mkwds\u001b[0m\u001b[0;34m)\u001b[0m\u001b[0;34m\u001b[0m\u001b[0m\n\u001b[0m\u001b[1;32m    679\u001b[0m \u001b[0;34m\u001b[0m\u001b[0m\n\u001b[1;32m    680\u001b[0m     \u001b[0mparser_f\u001b[0m\u001b[0;34m.\u001b[0m\u001b[0m__name__\u001b[0m \u001b[0;34m=\u001b[0m \u001b[0mname\u001b[0m\u001b[0;34m\u001b[0m\u001b[0m\n",
      "\u001b[0;32m//anaconda/lib/python3.5/site-packages/pandas/io/parsers.py\u001b[0m in \u001b[0;36m_read\u001b[0;34m(filepath_or_buffer, kwds)\u001b[0m\n\u001b[1;32m    438\u001b[0m \u001b[0;34m\u001b[0m\u001b[0m\n\u001b[1;32m    439\u001b[0m     \u001b[0;31m# Create the parser.\u001b[0m\u001b[0;34m\u001b[0m\u001b[0;34m\u001b[0m\u001b[0m\n\u001b[0;32m--> 440\u001b[0;31m     \u001b[0mparser\u001b[0m \u001b[0;34m=\u001b[0m \u001b[0mTextFileReader\u001b[0m\u001b[0;34m(\u001b[0m\u001b[0mfilepath_or_buffer\u001b[0m\u001b[0;34m,\u001b[0m \u001b[0;34m**\u001b[0m\u001b[0mkwds\u001b[0m\u001b[0;34m)\u001b[0m\u001b[0;34m\u001b[0m\u001b[0m\n\u001b[0m\u001b[1;32m    441\u001b[0m \u001b[0;34m\u001b[0m\u001b[0m\n\u001b[1;32m    442\u001b[0m     \u001b[0;32mif\u001b[0m \u001b[0mchunksize\u001b[0m \u001b[0;32mor\u001b[0m \u001b[0miterator\u001b[0m\u001b[0;34m:\u001b[0m\u001b[0;34m\u001b[0m\u001b[0m\n",
      "\u001b[0;32m//anaconda/lib/python3.5/site-packages/pandas/io/parsers.py\u001b[0m in \u001b[0;36m__init__\u001b[0;34m(self, f, engine, **kwds)\u001b[0m\n\u001b[1;32m    785\u001b[0m             \u001b[0mself\u001b[0m\u001b[0;34m.\u001b[0m\u001b[0moptions\u001b[0m\u001b[0;34m[\u001b[0m\u001b[0;34m'has_index_names'\u001b[0m\u001b[0;34m]\u001b[0m \u001b[0;34m=\u001b[0m \u001b[0mkwds\u001b[0m\u001b[0;34m[\u001b[0m\u001b[0;34m'has_index_names'\u001b[0m\u001b[0;34m]\u001b[0m\u001b[0;34m\u001b[0m\u001b[0m\n\u001b[1;32m    786\u001b[0m \u001b[0;34m\u001b[0m\u001b[0m\n\u001b[0;32m--> 787\u001b[0;31m         \u001b[0mself\u001b[0m\u001b[0;34m.\u001b[0m\u001b[0m_make_engine\u001b[0m\u001b[0;34m(\u001b[0m\u001b[0mself\u001b[0m\u001b[0;34m.\u001b[0m\u001b[0mengine\u001b[0m\u001b[0;34m)\u001b[0m\u001b[0;34m\u001b[0m\u001b[0m\n\u001b[0m\u001b[1;32m    788\u001b[0m \u001b[0;34m\u001b[0m\u001b[0m\n\u001b[1;32m    789\u001b[0m     \u001b[0;32mdef\u001b[0m \u001b[0mclose\u001b[0m\u001b[0;34m(\u001b[0m\u001b[0mself\u001b[0m\u001b[0;34m)\u001b[0m\u001b[0;34m:\u001b[0m\u001b[0;34m\u001b[0m\u001b[0m\n",
      "\u001b[0;32m//anaconda/lib/python3.5/site-packages/pandas/io/parsers.py\u001b[0m in \u001b[0;36m_make_engine\u001b[0;34m(self, engine)\u001b[0m\n\u001b[1;32m   1012\u001b[0m     \u001b[0;32mdef\u001b[0m \u001b[0m_make_engine\u001b[0m\u001b[0;34m(\u001b[0m\u001b[0mself\u001b[0m\u001b[0;34m,\u001b[0m \u001b[0mengine\u001b[0m\u001b[0;34m=\u001b[0m\u001b[0;34m'c'\u001b[0m\u001b[0;34m)\u001b[0m\u001b[0;34m:\u001b[0m\u001b[0;34m\u001b[0m\u001b[0m\n\u001b[1;32m   1013\u001b[0m         \u001b[0;32mif\u001b[0m \u001b[0mengine\u001b[0m \u001b[0;34m==\u001b[0m \u001b[0;34m'c'\u001b[0m\u001b[0;34m:\u001b[0m\u001b[0;34m\u001b[0m\u001b[0m\n\u001b[0;32m-> 1014\u001b[0;31m             \u001b[0mself\u001b[0m\u001b[0;34m.\u001b[0m\u001b[0m_engine\u001b[0m \u001b[0;34m=\u001b[0m \u001b[0mCParserWrapper\u001b[0m\u001b[0;34m(\u001b[0m\u001b[0mself\u001b[0m\u001b[0;34m.\u001b[0m\u001b[0mf\u001b[0m\u001b[0;34m,\u001b[0m \u001b[0;34m**\u001b[0m\u001b[0mself\u001b[0m\u001b[0;34m.\u001b[0m\u001b[0moptions\u001b[0m\u001b[0;34m)\u001b[0m\u001b[0;34m\u001b[0m\u001b[0m\n\u001b[0m\u001b[1;32m   1015\u001b[0m         \u001b[0;32melse\u001b[0m\u001b[0;34m:\u001b[0m\u001b[0;34m\u001b[0m\u001b[0m\n\u001b[1;32m   1016\u001b[0m             \u001b[0;32mif\u001b[0m \u001b[0mengine\u001b[0m \u001b[0;34m==\u001b[0m \u001b[0;34m'python'\u001b[0m\u001b[0;34m:\u001b[0m\u001b[0;34m\u001b[0m\u001b[0m\n",
      "\u001b[0;32m//anaconda/lib/python3.5/site-packages/pandas/io/parsers.py\u001b[0m in \u001b[0;36m__init__\u001b[0;34m(self, src, **kwds)\u001b[0m\n\u001b[1;32m   1706\u001b[0m         \u001b[0mkwds\u001b[0m\u001b[0;34m[\u001b[0m\u001b[0;34m'usecols'\u001b[0m\u001b[0;34m]\u001b[0m \u001b[0;34m=\u001b[0m \u001b[0mself\u001b[0m\u001b[0;34m.\u001b[0m\u001b[0musecols\u001b[0m\u001b[0;34m\u001b[0m\u001b[0m\n\u001b[1;32m   1707\u001b[0m \u001b[0;34m\u001b[0m\u001b[0m\n\u001b[0;32m-> 1708\u001b[0;31m         \u001b[0mself\u001b[0m\u001b[0;34m.\u001b[0m\u001b[0m_reader\u001b[0m \u001b[0;34m=\u001b[0m \u001b[0mparsers\u001b[0m\u001b[0;34m.\u001b[0m\u001b[0mTextReader\u001b[0m\u001b[0;34m(\u001b[0m\u001b[0msrc\u001b[0m\u001b[0;34m,\u001b[0m \u001b[0;34m**\u001b[0m\u001b[0mkwds\u001b[0m\u001b[0;34m)\u001b[0m\u001b[0;34m\u001b[0m\u001b[0m\n\u001b[0m\u001b[1;32m   1709\u001b[0m \u001b[0;34m\u001b[0m\u001b[0m\n\u001b[1;32m   1710\u001b[0m         \u001b[0mpassed_names\u001b[0m \u001b[0;34m=\u001b[0m \u001b[0mself\u001b[0m\u001b[0;34m.\u001b[0m\u001b[0mnames\u001b[0m \u001b[0;32mis\u001b[0m \u001b[0;32mNone\u001b[0m\u001b[0;34m\u001b[0m\u001b[0m\n",
      "\u001b[0;32mpandas/_libs/parsers.pyx\u001b[0m in \u001b[0;36mpandas._libs.parsers.TextReader.__cinit__\u001b[0;34m()\u001b[0m\n",
      "\u001b[0;32mpandas/_libs/parsers.pyx\u001b[0m in \u001b[0;36mpandas._libs.parsers.TextReader._setup_parser_source\u001b[0;34m()\u001b[0m\n",
      "\u001b[0;31mFileNotFoundError\u001b[0m: File b'../output/background.csv' does not exist"
     ]
    }
   ],
   "source": [
    "# First, we import the libraries we will use in this notebook and load the Fragile Families data. \n",
    "# The first line sets maplotlib plots to show inside the notebook.\n",
    "%matplotlib inline \n",
    "import matplotlib.pyplot as plt\n",
    "import numpy as np\n",
    "import scipy.stats as stats\n",
    "import pandas as pd\n",
    "\n",
    "# Directory with cleaned data\n",
    "output_dir = \"../output\"\n",
    "\n",
    "# Load data\n",
    "data_frame = pd.read_csv(output_dir+'/background.csv', index_col=0) # for now we load all the data"
   ]
  },
  {
   "cell_type": "markdown",
   "metadata": {},
   "source": [
    "## Visualizing Continuous and Discrete Variables"
   ]
  },
  {
   "cell_type": "markdown",
   "metadata": {},
   "source": [
    "### Histograms\n",
    "\n",
    "In this cell we will learn how to plot histograms. Histograms are diagrams consisting of rectangles (bins) whose height \n",
    "is proportional to the frequency of a variable  (i.e., number of times the variable appears in the data) and whose \n",
    "width is equal to the class interval (i.e., the range of values that fall within the bin).\n",
    "Here, we will plot two histograms. The first histogram will be for the age of the mother when the child was born and the\n",
    "second histogram will be for the age of the father when the child was born.\n",
    "\n",
    "Try and use the Fragile Families feature lookup website to find the name of the features that contains the mother's and father's age when the child was born. You snould find that the feature names are cm1age and cf1age.\n",
    "\n",
    "Are these continuous or discrete variables?"
   ]
  },
  {
   "cell_type": "code",
   "execution_count": null,
   "metadata": {
    "collapsed": false
   },
   "outputs": [],
   "source": [
    "# Let's read the cm1age and cf1age features from the data into the variables mom_age and dad_age\n",
    "mom_age = data_frame.cm1age;\n",
    "dad_age = data_frame.cf1age;\n",
    "# We want to remove entries that contain no information, that is, we want to impute the NaN (not a number) entries\n",
    "mom_age = mom_age[~np.isnan(mom_age)];\n",
    "dad_age = dad_age[~np.isnan(dad_age)];\n",
    "# Before we plot the histograms, let's check the age range in mom_age and dad_age to figure out what is a reasonable\n",
    "# width for the bins and how many bins we should use\n",
    "print('Oldest father: {0}; Youngest father: {1}; Father''s Age Range: {2}'.format(max(dad_age),min(dad_age),max(dad_age)-min(dad_age)))\n",
    "print('Oldest mother: {0}; Youngest mother: {1}; Mother''s Age Range: {2}'.format(max(mom_age),min(mom_age),max(mom_age)-min(mom_age)))\n",
    "# Based on the results, we don't need any bins below 10 years old and no bins above 60 years old. \n",
    "# We will set the bins width to one year to get a good resolution of the data. We use\n",
    "# the numpy linspace function to create an array of 50 evenly spaced numbers (representing the bins) between 10 and 50.\n",
    "bins = np.linspace(10, 60, 50)\n",
    "# Let's create the matplotlib figure where we will plots the histograms.\n",
    "fig = plt.figure(figsize=(10,10))\n",
    "# Plot the histograms. We use pyplot's hist function and provide and set the opacity of the plot to 0.5 through the alpha argument.\n",
    "plt.hist(mom_age, bins, alpha=0.5, label='mother''s age')\n",
    "plt.hist(dad_age, bins, alpha=0.5, label='father''s age')\n",
    "# Label the plot.\n",
    "plt.xlabel('Age')\n",
    "plt.ylabel('Frequency')\n",
    "plt.title('Parent''s age at birth')\n",
    "# To make the plot look nicer, we set x-tick marks every 5 years. \n",
    "plt.xticks(np.arange(10, 60, 5.0))\n",
    "# Plot a legend so that we can match the color of the histogram to the data.\n",
    "plt.legend(loc='upper right')\n",
    "# Show the plot\n",
    "plt.show()"
   ]
  },
  {
   "cell_type": "markdown",
   "metadata": {},
   "source": [
    "### Box Plots\n",
    "\n",
    "The box plot is a standardized way of displaying the distribution of data based on the five key properties: \n",
    "minimum, first quartile, median, third quartile, and maximum. The median (Q2) of the data appears as a red line inside a box, where the lower and upper limits of the box denote the first (Q1) and third quantile (Q3) of the data. Box plots may also have lines extending vertically from the boxes (whiskers) indicating variability outside the upper and lower quartiles. Data that falls outside of the whiskers (outliers) usually appear as data points in the box plot. \n",
    "\n",
    "We will use the boxplot function from pyplot which computes the inter-quartile range IQR = (Q3-Q1), sets the upper whisker to extend up to the last data point less than Q3 + 1.5 IQR and sets the lower whisker to extend up to the first data point greater than Q1 - 1.5 IQR. Beyond the whiskers, data are considered outliers and are plotted as individual points.\n",
    "\n",
    "Below, we plot a box plot for the mother's age and one for the father's age (when the child was born). "
   ]
  },
  {
   "cell_type": "code",
   "execution_count": null,
   "metadata": {
    "collapsed": false
   },
   "outputs": [],
   "source": [
    "# The boxplot function in pyplot takes only one argument for the data. To plot two boxplots at once we combine the two \n",
    "# arrays into a list.\n",
    "data = [mom_age, dad_age]\n",
    "# multiple box plots on one figure\n",
    "fig = plt.figure(figsize=(10,10))\n",
    "plt.boxplot(data)\n",
    "# Set y-axes to be between 10 and 60\n",
    "plt.ylim(10,60)\n",
    "# Set x-ticks to display labels\n",
    "labels = ('Mother','Father')\n",
    "plt.xticks([1,2], labels)\n",
    "plt.show()"
   ]
  },
  {
   "cell_type": "markdown",
   "metadata": {},
   "source": [
    "### Scatter Plots\n",
    "\n",
    "In this cell we will learn how to use scatter plots. Scatter plots are graphs in which the values of two variables are \n",
    "plotted along two axes, the pattern of the resulting points revealing any correlation present.\n",
    "We will use mother's age and father's age when the child was born to make a scatter plot that will yield information \n",
    "about the age difference of the parents.\n",
    "\n",
    "As before, we will use the features cm1age and cf1age from the data."
   ]
  },
  {
   "cell_type": "code",
   "execution_count": null,
   "metadata": {
    "collapsed": false
   },
   "outputs": [],
   "source": [
    "# We could try and use the mom_age and dad_age arrays we created for the histogram\n",
    "# to create a scatter plot using the pyplot scatter function\n",
    "\n",
    "#plt.scatter(mom_age,dad_age)\n",
    "\n",
    "# If you run this cell you should find that this doesn't work. Looking at the error, we see that it fails to create the\n",
    "# scatter plot because the mom_age and dad_age arrays do not have the same number of entries. Why is this? Discuss with \n",
    "# the rest of your group. If you have figure it out, or if you give up (don't!), move to the next cell.\n",
    "\n",
    "# Tip: comment the code that has is producing the error and re-run the cell in order to clean the cell's output.\n"
   ]
  },
  {
   "cell_type": "markdown",
   "metadata": {},
   "source": [
    "The reason why we couldn't plot mom_age vs dad_age was because when we removed the NaN entries in each array\n",
    "we didn't check whether the same rows were removed in both arrays. In order to plot couples, we need to make\n",
    "sure that when we remove a row, we remove a row in both the mother's and the father's age arrays.\n",
    "This means that we have to remove all rows for which either the mother's or the father's age is NaN."
   ]
  },
  {
   "cell_type": "code",
   "execution_count": null,
   "metadata": {
    "collapsed": false
   },
   "outputs": [],
   "source": [
    "# Let's find all the rows that are not NaN for cm1age and cf1age.\n",
    "dad_age_notnan = ~np.isnan(data_frame.cf1age)\n",
    "mom_age_notnan = ~np.isnan(data_frame.cm1age)\n",
    "# Now, dad_age_notnan and mom_age_notnan have entries that are either 1 (if that row is not a NaN) or 0 (if the row is NaN). \n",
    "# We use the logic AND function (i.e., &) to get an array with entries that are 1 only if the row is not NaN for both\n",
    "# the mother's and the father's age.\n",
    "momdad_age_notnan = mom_age_notnan & dad_age_notnan\n",
    "# Now, we can redefine the vectors mom_age and dad_age as the rows of cm1age and cf1age that have an entry equal .\n",
    "# to 1 in momdad_notnan\n",
    "mom_age = data_frame.cm1age[momdad_age_notnan];\n",
    "dad_age = data_frame.cf1age[momdad_age_notnan];\n",
    "# Create a scatter plot where the x-axis represents the father's age and the y-axis represents the mother's age.\n",
    "fig = plt.figure(figsize=(10,10))\n",
    "plt.scatter(mom_age,dad_age)\n",
    "# We add a line along the diagonal which will split the plot into two regions. Points above the diagonal represent\n",
    "# couples with the father older than the mother, while points below the diagonal represent couples with the\n",
    "# father younger than the mother. Lines exactly on the diagonal represent couples with the father and mother being \n",
    "# the same age. \n",
    "plt.plot([10,55],[10,55])\n",
    "# We set the x-axes and y-axes to be between 10 and 55 according to the range of the data. \n",
    "plt.xlim(10,55)\n",
    "plt.ylim(10,55)\n",
    "# Label the scatter plot\n",
    "plt.xlabel('Mother''s Age')\n",
    "plt.ylabel('Father''s Age')\n",
    "plt.title('Parent''s age at birth')"
   ]
  },
  {
   "cell_type": "markdown",
   "metadata": {},
   "source": [
    "While the scatter plot looks great, there is a little detail that we need to be careful about! Since the entries in mom_age and dad_age are rounded to the nearest year, there are some points in the scatter plot that lie right on top of other points. We will not deal with this at the moment, but it is something to keep in mind. \n",
    "\n",
    "Extra tip: To address this issue, we could find out what are the unique entries in the variables and how many times they appear in the array. We could then plot the scatter plot again while coloring the points according to how many points in the data take on that value."
   ]
  },
  {
   "cell_type": "markdown",
   "metadata": {},
   "source": [
    "### Scatter Plots and Correlations\n",
    "\n",
    "If you look at the plot above, you will see that there seems to be a relationship between the age of the mother and the age of the father. Young mothers tend to be with young fathers, while older mothers tend to be with older fathers. \n",
    "\n",
    "Correlation is a statistical technique that can show whether and how strongly pairs of variables are related. A positive correlation means that as you increase one of the variables, you would expect the second variable to increase too. A negative correlation means that as you increase one of the variables, you would expect the second variable to decrease.\n",
    "\n",
    "We see that we have a positive correlation between the age of the mother and the father. We can compute the correlation by using the numpy corrcoef function which computes the Pearson correlation coefficient. The result is a number that lies between -1 and 1. -1 means that the variables are very strongly correlated in a negative way, 1 means that the variables are very strongly related in a positive way, and 0 means that the variables are not correlated with each other.\n",
    "\n",
    "Note that the Pearson correlation is a linear correlation measure (only tells you about whether a line in a scatter plot captures the relationship between the variables) and does not provide information on any nonlinear relationship there might exist between the two variables."
   ]
  },
  {
   "cell_type": "code",
   "execution_count": null,
   "metadata": {
    "collapsed": false
   },
   "outputs": [],
   "source": [
    "# corrcoef returns what is known as the Pearson product-moment correlation coefficients. The correlation between the two\n",
    "# variables is equal to the non-diagonal entries of the array.\n",
    "Pearson_corr = np.corrcoef(mom_age,dad_age)\n",
    "age_corr = Pearson_corr[0,1] # or equivalently Pearson_corr[1,0]\n",
    "print(\"Correlation between mother and father's age: {0}\".format(age_corr))"
   ]
  },
  {
   "cell_type": "markdown",
   "metadata": {},
   "source": [
    "### Scatter Plots and Linear Regression\n",
    "\n",
    "We described above how there is a positive linear correlation between the age of the mother and the father. Another way to characterize the relationship between the two variables is through a linear regression. In statistics, linear regression is a linear approach to modelling the relationship between a scalar response (or dependent variable) and one or more explanatory variables (or independent variables). \n",
    "\n",
    "In linear regression, we compute the y-intercept and slope of the best-fit line running through the data points in a scatter plot, where \"best-fit\" refers to the fact that the resulting line minimizes the squared distance between the data points and the line. The best-fit line can be described by its y-intercept and slope (e.g. y = mx+b, m:slope,b:y-intercept).\n",
    "\n",
    "The best-fit line provides what is known as a linear model. That is, we can use the equation y=mx+b to make predictions about the value of y given the value of x.\n",
    "\n",
    "Below, we do a linear regression analysis and then use the resulting linear model to predict the age of the father given the age of the mother."
   ]
  },
  {
   "cell_type": "code",
   "execution_count": null,
   "metadata": {
    "collapsed": false
   },
   "outputs": [],
   "source": [
    "x = mom_age # Variable that will be used to predict\n",
    "y = dad_age # Variable that we want to predict\n",
    "# The linregress function returns the slope and intercept values for the best-fit line. \n",
    "# The linregress function also returns the half of the R2 statistic which provides information about the goodness of fit of a model. \n",
    "# In regression, the R2 coefficient of determination is a statistical measure of how well the regression predictions \n",
    "# approximate the real data points. An R2 of 1 indicates that the regression predictions perfectly fit the data.\n",
    "slope, intercept, r_value, p_value, std_err = stats.linregress(x, y)\n",
    "R2 = r_value**2 # Recall the ** operator is the power operator in Python, so **2 means we are squaring the value.\n",
    "print('slope : {}'.format(slope))\n",
    "print('intercept : {}'.format(intercept))\n",
    "print('r-squared : {}'.format(R2))"
   ]
  },
  {
   "cell_type": "code",
   "execution_count": null,
   "metadata": {
    "collapsed": false
   },
   "outputs": [],
   "source": [
    "# Now we can use the linear regression model to predict the age of the father for a mother aged 25\n",
    "given_mom_age = 25\n",
    "pred_dad_age = slope*given_mom_age + intercept\n",
    "print('Predicted age of father, given that mother''s age is {0} : {1}'.format(given_mom_age,pred_dad_age))\n",
    "\n",
    "# Is the prediction a valid prediction? Why or why not?"
   ]
  },
  {
   "cell_type": "code",
   "execution_count": null,
   "metadata": {
    "collapsed": false
   },
   "outputs": [],
   "source": [
    "# Let's plot the data along with the linear regression model and our prediction for the father's age\n",
    "fig = plt.figure(figsize=(10,10))\n",
    "plt.scatter(mom_age,dad_age,label='Data')\n",
    "# We set the x-axes and y-axes to be between 10 and 55 according to the range of the data. \n",
    "plt.xlim(10,55)\n",
    "plt.ylim(10,55)\n",
    "# Label the scatter plot\n",
    "plt.xlabel('Mother''s Age')\n",
    "plt.ylabel('Father''s Age')\n",
    "plt.title('Parent''s age at birth')\n",
    "\n",
    "# Add the linear regression model\n",
    "# best-fit line model\n",
    "f = lambda x: slope*x + intercept\n",
    "# x values of line to plot\n",
    "x = np.array([10,55])\n",
    "# plot fit\n",
    "plt.plot(x,f(x),lw=2.5, c=\"k\",label=\"Linear regression model\")\n",
    "# plot prediction\n",
    "ymax_pred_line = (pred_dad_age - 10)/(55-10)\n",
    "plt.axvline(x=given_mom_age,ymax=ymax_pred_line,lw=2.5,c='r') # This line adds a vertical line at x=25\n",
    "plt.scatter(given_mom_age,pred_dad_age,c='r',s=100,label='Prediction') # This line adds a point at the predicted dad age\n",
    "# for a mom who is 25. The c argument sets the color of the points and the s argument sets the size of the points.\n",
    "plt.grid(True) # This line turns on the \"grid\" in the plot\n",
    "plt.legend(loc='lower right')\n",
    "plt.show()"
   ]
  },
  {
   "cell_type": "markdown",
   "metadata": {},
   "source": [
    "### Combining Histograms and Scatter Plots\n",
    "\n",
    "As we saw above, we can use histograms and scatter plots to represent continuous variables. Both the histogram and the scatter\n",
    "plot contain the same information, but certain properties (e.g. couples) are easier to observe in one plot versus the other. \n",
    "\n",
    "We can also combine the histogram and the scatter plot to visualize data in a more information dense plot. The cell below shows\n",
    "and example of how to do this. The code below is a bit more complex than what we have seen so far, so feel free to skip this cell if you want to."
   ]
  },
  {
   "cell_type": "code",
   "execution_count": null,
   "metadata": {
    "collapsed": false
   },
   "outputs": [],
   "source": [
    "from matplotlib.ticker import NullFormatter\n",
    "\n",
    "nullfmt = NullFormatter()         # Used to remove labels in plots\n",
    "\n",
    "# Definitions for the axes.\n",
    "left, width = 0.1, 0.65\n",
    "bottom, height = 0.1, 0.65\n",
    "bottom_h = left_h = left + width + 0.02\n",
    "# Define the rectangles that will contain the scatter plot and the histograms.\n",
    "rect_scatter = [left, bottom, width, height]\n",
    "rect_histx = [left, bottom_h, width, 0.2]\n",
    "rect_histy = [left_h, bottom, 0.2, height]\n",
    "# Set the font size in the plot to 10\n",
    "plt.rcParams.update({'font.size': 10})\n",
    "# Start with a rectangular Figure\n",
    "plt.figure(1, figsize=(10, 10))\n",
    "# Create axis for the scatter plot and the two histograms.\n",
    "axScatter = plt.axes(rect_scatter)\n",
    "axHistx = plt.axes(rect_histx)\n",
    "axHisty = plt.axes(rect_histy)\n",
    "# remove labels for the histograms to prevent a cluttered look.\n",
    "axHistx.xaxis.set_major_formatter(nullfmt)\n",
    "axHisty.yaxis.set_major_formatter(nullfmt)\n",
    "\n",
    "# Plot the scatter plot.\n",
    "axScatter.scatter(mom_age, dad_age)\n",
    "axScatter.set_xlim((10, 60))\n",
    "axScatter.set_ylim((10, 60))\n",
    "axScatter.set_xlabel('Mother''s Age')\n",
    "axScatter.set_ylabel('Father''s Age')\n",
    "# Plot the histograms.\n",
    "bins = np.arange(10, 60, 1)\n",
    "axHistx.hist(mom_age, bins=bins)\n",
    "axHisty.hist(dad_age, bins=bins, orientation='horizontal')\n",
    "# Align histograms with scatter plot.\n",
    "axHistx.set_xlim(axScatter.get_xlim())\n",
    "axHisty.set_ylim(axScatter.get_ylim())\n",
    "# Show plot.\n",
    "plt.show()"
   ]
  },
  {
   "cell_type": "markdown",
   "metadata": {},
   "source": [
    "## Visualizing Categorical (Discrete) Variables"
   ]
  },
  {
   "cell_type": "markdown",
   "metadata": {},
   "source": [
    "### Pie Charts\n",
    "\n",
    "You have probably seen and used pie charts before. They are great for visualizing proportions. Below we use a pie chart to\n",
    "visualize the level of education of the parents when the child was born. \n",
    "\n",
    "These are categorical variables, meaning that the variable can take on one of a limited, and usually fixed number of possible values, assigning each entry in the data to a particular group.\n",
    "\n",
    "We use the cm1edu and cf1edu features from the data which contain encoded information about the level of education of the parents when the child was born. The entries in cf1edu and cm1edu are either 1,2,3 or 4:\n",
    "\n",
    "1: 'Less than High School',\n",
    "\n",
    "2: 'High School or equivalent',\n",
    "\n",
    "3: 'Some college or technical degree',\n",
    "\n",
    "4: 'college or graduate degree'"
   ]
  },
  {
   "cell_type": "code",
   "execution_count": null,
   "metadata": {
    "collapsed": false
   },
   "outputs": [],
   "source": [
    "# Parents educational level at birth\n",
    "mom_edu = data_frame.cm1edu[momdad_age_notnan]; # level of education of mother at birth\n",
    "dad_edu = data_frame.cf1edu[momdad_age_notnan]; # level of education of father at birth\n",
    "#  How many in each category? Use the len function to obtain the length of an array.\n",
    "mom_edu_1 = len(mom_edu[mom_edu==1])\n",
    "mom_edu_2 = len(mom_edu[mom_edu==2])\n",
    "mom_edu_3 = len(mom_edu[mom_edu==3])\n",
    "mom_edu_4 = len(mom_edu[mom_edu==4])\n",
    "\n",
    "dad_edu_1 = len(dad_edu[dad_edu==1])\n",
    "dad_edu_2 = len(dad_edu[dad_edu==2])\n",
    "dad_edu_3 = len(dad_edu[dad_edu==3])\n",
    "dad_edu_4 = len(dad_edu[dad_edu==4])\n",
    "\n",
    "# Pie chart, where the slices will be ordered and plotted counter-clockwise:\n",
    "labels = 'less HS','HS or equiv','Some coll or tech','coll or grad' \n",
    "mom_sizes = [mom_edu_1, mom_edu_2, mom_edu_3, mom_edu_4]\n",
    "dad_sizes = [dad_edu_1, dad_edu_2, dad_edu_3, dad_edu_4]\n",
    "# We can also pass an array called \"explode\" which determines how much we want to highlight one of the pie slices.\n",
    "explode = (0, 0, 0, 0.1)  # only \"explode\" the 4th slice (i.e. 'College or Graduate Degree')\n",
    "# Set the plot font size to 22\n",
    "plt.rcParams.update({'font.size': 22})\n",
    "# We will create a pie chart for the mother and one for the father, but we will place both pie charts on the same figure.\n",
    "fig = plt.figure(figsize=(30,10))\n",
    "# To do this, we make use of subplots. Subplots partition the figure into multiple plots. \n",
    "ax1 = plt.subplot(121) # 121 means we want 1 row, 2 columns, and that we want to plot on the first of these 2 subplots\n",
    "plt.title('Mother''s Education')\n",
    "ax1.pie(mom_sizes, explode=explode, labels=labels, autopct='%1.1f%%',\n",
    "        shadow=True, startangle=90)\n",
    "ax1.axis('equal')  # Equal aspect ratio ensures that pie is drawn as a circle.\n",
    "ax2 = plt.subplot(122) # 122 means we want the 2nd plot of the 1 row, 2 columns figure.\n",
    "plt.title('Father''s Education')\n",
    "ax2.pie(dad_sizes, explode=explode, labels=labels, autopct='%1.1f%%',\n",
    "        shadow=True, startangle=90)\n",
    "ax2.axis('equal')  # Equal aspect ratio ensures that pie is drawn as a circle.\n",
    "plt.show()"
   ]
  },
  {
   "cell_type": "markdown",
   "metadata": {},
   "source": [
    "### Bar Plots\n",
    "\n",
    "Another great way to visualize categorical variables is to use bar plots. Below, we plot the level of education of the parents when the child was born on a bar plot together with whether they were married or not. To do this, we use the feature cf1marm, which is a binary variable representing whether the couple was married or not at the time the child was born."
   ]
  },
  {
   "cell_type": "code",
   "execution_count": null,
   "metadata": {
    "collapsed": false
   },
   "outputs": [],
   "source": [
    "# Impute NaN entries in cf1marm\n",
    "married = data_frame.cf1marm[momdad_age_notnan]\n",
    "# How many moms are married in each of the 4 education level groups? \n",
    "# Here we make use of a for loop to check how many married and non married moms there are with each of the 4 levels of \n",
    "# education.\n",
    "\n",
    "# First we initialize the mom_married_count and mom_not_married_count to empty lists\n",
    "mom_married_count = []\n",
    "mom_not_married_count = []\n",
    "# For each education level:\n",
    "for eduLevel in range(1,5):\n",
    "    # Get array of married moms with current education level\n",
    "    mom_married_with_eduLevel = married[mom_edu==eduLevel]\n",
    "    # Count how many of them are married and how many are not married\n",
    "    count_true =  len(mom_married_with_eduLevel[mom_married_with_eduLevel==1])\n",
    "    count_false = len(mom_married_with_eduLevel[mom_married_with_eduLevel==0])\n",
    "    # Update count arrays\n",
    "    mom_married_count.append(count_true)\n",
    "    mom_not_married_count.append(count_false)\n",
    "    \n",
    "# And we do the same for the father\n",
    "dad_married_count = []\n",
    "dad_not_married_count = []\n",
    "# For each education level:\n",
    "for eduLevel in range(1,5):\n",
    "    # Get array of married moms with current education level\n",
    "    dad_married_with_eduLevel = married[dad_edu==eduLevel]\n",
    "    # Count how many of them are married and how many are not married\n",
    "    count_true =  len(dad_married_with_eduLevel[dad_married_with_eduLevel==1])\n",
    "    count_false = len(dad_married_with_eduLevel[dad_married_with_eduLevel==0])\n",
    "    # Update count arrays\n",
    "    dad_married_count.append(count_true)\n",
    "    dad_not_married_count.append(count_false)\n",
    "\n",
    "# We need to define the position of the bars. Since we have 4 levels of education, we will set the position of the\n",
    "# bars to be at 1 2 3 and 4 on the x-axes. To make the two bars (one for married and one for not married) fit nicely,\n",
    "# we set the width of the bars to 0.35\n",
    "bar_pos = np.arange(4)\n",
    "bar_width = 0.35\n",
    " \n",
    "# create plot\n",
    "fig = plt.figure(figsize=(30,10))\n",
    "# subplot for mother\n",
    "ax1 = plt.subplot(121)\n",
    "rects1 = ax1.bar(bar_pos, mom_married_count, bar_width, color='b', label='Married') \n",
    "rects2 = ax1.bar(bar_pos + bar_width, mom_not_married_count, bar_width,color='g', label='Not Married') \n",
    "ax1.set_ylabel('Count')\n",
    "plt.title('Mother')\n",
    "# set the level of education as the x-ticks\n",
    "plt.xticks(bar_pos + bar_width, labels)\n",
    "plt.legend()\n",
    "plt.tight_layout()\n",
    "# subplot for father\n",
    "ax2 = plt.subplot(122)\n",
    "rects1 = ax2.bar(bar_pos, dad_married_count, bar_width, color='b', label='Married') \n",
    "rects2 = ax2.bar(bar_pos + bar_width, dad_not_married_count, bar_width,color='g', label='Not Married') \n",
    "ax2.set_ylabel('Count')\n",
    "plt.title('Father')\n",
    "# set the level of education as the x-ticks\n",
    "plt.xticks(bar_pos + bar_width, labels)\n",
    "plt.legend()\n",
    "plt.tight_layout()\n",
    "\n",
    "plt.show()"
   ]
  },
  {
   "cell_type": "markdown",
   "metadata": {},
   "source": [
    "## Visualizing Continuous/Discrete and Categorical Variables Simoultaneously"
   ]
  },
  {
   "cell_type": "markdown",
   "metadata": {},
   "source": [
    "### Scatter Plot With Group Colors and Group Markers Based on Discrete Variables\n",
    "\n",
    "What makes scatter plots great to visualize data is that we can use the color, marker type, and color of the points in the plot\n",
    "to increase the amount of information present in the plot. For example, we can color code the points in a scatter plot according to a discrete variable.\n",
    "\n",
    "Below, we color the points in the parent's age scatter plot to see if the parents were married at the time the child was born."
   ]
  },
  {
   "cell_type": "code",
   "execution_count": null,
   "metadata": {
    "collapsed": false
   },
   "outputs": [],
   "source": [
    "# We will color points according to whether the couple was married or not. To do this, we neet to obtain the indices \n",
    "# of married array corresponding to the entries that are 1 (true) and 0 (false). \n",
    "married_yes = married[married==True].index.values\n",
    "married_no = married[married==False].index.values\n",
    "# Create new arrays for married and not married couples\n",
    "mom_age_married = mom_age[married_yes]\n",
    "mom_age_not_married = mom_age[married_no]\n",
    "dad_age_married = dad_age[married_yes]\n",
    "dad_age_not_married = dad_age[married_no]\n",
    "# We will create a plot with different color, marker, and size for married and not married couples by providing more\n",
    "# arguments to the pyplot scatter function. The argument c is used to define the colors of the points, s to define the\n",
    "# size, and marker for the type of marker. \n",
    "fig = plt.figure(figsize=(10,10))\n",
    "plt.scatter(mom_age_married,dad_age_married,c='b',s=240, marker='s',alpha=0.5,label='Married')\n",
    "plt.scatter(mom_age_not_married,dad_age_not_married,c='r',s=70,marker='^',alpha=0.5,label='Not married')\n",
    "plt.legend()\n",
    "plt.plot([10,55],[10,55])\n",
    "plt.xlim(10,55)\n",
    "plt.ylim(10,55)\n",
    "plt.xlabel('Mother''s Age')\n",
    "plt.ylabel('Father''s Age')\n",
    "plt.title('Parent''s age at birth')"
   ]
  },
  {
   "cell_type": "markdown",
   "metadata": {},
   "source": [
    "# Exercises\n",
    "\n",
    "Below, there are two exercises that will help you get more experience programming in Python and using maplotlib to visualize data."
   ]
  },
  {
   "cell_type": "code",
   "execution_count": null,
   "metadata": {
    "collapsed": false
   },
   "outputs": [],
   "source": [
    "# EXERCISE: make a scatter plot like the one above, but make the points corresponding to couples who are not married\n",
    "# but living together (cohabiting) be green stars.\n",
    "\n",
    "# Tip: Remember to remove the same rows that we removed NaNs from cm1age and cf1age for any new feature that you want to use.\n",
    "\n",
    "# SOLUTION:\n",
    "# To do this, we can use the binary feature cf1cohm or cm1cohm with removed nan entries.\n",
    "coh = data_frame.cf1cohm[momdad_age_notnan]\n",
    "# Get indices of true and false entries \n",
    "coh_yes = coh[coh==True].index.values\n",
    "coh_no = coh[coh==False].index.values\n",
    "# Create new vectors for cohabiting and not cohabiting parents\n",
    "mom_age_coh_yes = mom_age[coh_yes]\n",
    "mom_age_coh_no = mom_age[coh_no]\n",
    "dad_age_coh_yes = dad_age[coh_yes]\n",
    "dad_age_coh_no = dad_age[coh_no]\n",
    "# Create plot\n",
    "fig = plt.figure(figsize=(10,10))\n",
    "# plot married couples\n",
    "plt.scatter(mom_age_married,dad_age_married,c='b',s=70, marker='s',alpha=0.5,label='Married')\n",
    "# plot not married couples that do not live together\n",
    "plt.scatter(mom_age_coh_no,dad_age_coh_no,c='r',s=70, marker='^',alpha=0.5,label='Not married - Not living together')\n",
    "# plot not married couples that live together\n",
    "plt.scatter(mom_age_coh_yes,dad_age_coh_yes,c='g',s=70,marker='*',alpha=0.5,label='Not married - Living together')\n",
    "plt.legend()\n",
    "plt.plot([10,55],[10,55])\n",
    "plt.xlim(10,55)\n",
    "plt.ylim(10,55)\n",
    "plt.xlabel('Mother''s Age')\n",
    "plt.ylabel('Father''s Age')\n",
    "plt.title('Parent''s age at birth')"
   ]
  },
  {
   "cell_type": "code",
   "execution_count": null,
   "metadata": {
    "collapsed": false
   },
   "outputs": [],
   "source": [
    "# EXERCISE: make the size of markers in the previous plot reflect for how many years the mother knew the father\n",
    "# before getting pregnant.  \n",
    "\n",
    "# SOLUTION:\n",
    "# To do this, we can use the feature m1b1a or cm1cohm with removed nan entries\n",
    "years_known = data_frame.m1b1a[momdad_age_notnan]\n",
    "# Create new vectors for cohabiting and not cohabiting parents\n",
    "y_married = years_known[married_yes]\n",
    "y_coh_yes =  years_known[coh_yes]\n",
    "y_coh_no =  years_known[coh_no]\n",
    "# Create plot\n",
    "fig = plt.figure(figsize=(10,10))\n",
    "# plot married couples\n",
    "plt.scatter(mom_age_married,dad_age_married,c='b',s=70*y_married, marker='s',alpha=0.5,label='Married')\n",
    "# plot not married couples that do not live together\n",
    "plt.scatter(mom_age_coh_no,dad_age_coh_no,c='r',s=70*y_coh_no, marker='^',alpha=0.5,label='Not married - Not living together')\n",
    "# plot not married couples that live together\n",
    "plt.scatter(mom_age_coh_yes,dad_age_coh_yes,c='g',s=70*y_coh_yes,marker='*',alpha=0.5,label='Not married - Living together')\n",
    "plt.legend()\n",
    "plt.plot([10,55],[10,55])\n",
    "plt.xlim(10,55)\n",
    "plt.ylim(10,55)\n",
    "plt.xlabel('Mother''s Age')\n",
    "plt.ylabel('Father''s Age')\n",
    "plt.title('Parent''s age at birth')"
   ]
  },
  {
   "cell_type": "code",
   "execution_count": null,
   "metadata": {
    "collapsed": true
   },
   "outputs": [],
   "source": []
  }
 ],
 "metadata": {
  "kernelspec": {
   "display_name": "Python [Root]",
   "language": "python",
   "name": "Python [Root]"
  },
  "language_info": {
   "codemirror_mode": {
    "name": "ipython",
    "version": 3
   },
   "file_extension": ".py",
   "mimetype": "text/x-python",
   "name": "python",
   "nbconvert_exporter": "python",
   "pygments_lexer": "ipython3",
   "version": "3.5.2"
  }
 },
 "nbformat": 4,
 "nbformat_minor": 0
}
