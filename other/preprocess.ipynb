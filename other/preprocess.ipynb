{
 "cells": [
  {
   "cell_type": "code",
   "execution_count": 65,
   "metadata": {
    "collapsed": false
   },
   "outputs": [],
   "source": [
    "import os\n",
    "import numpy as np\n",
    "import pandas as pd\n",
    "from sklearn.model_selection import train_test_split\n",
    "from sklearn.linear_model import BayesianRidge, LinearRegression\n",
    "from ggplot import *\n",
    "import matplotlib.pyplot as plt\n",
    "import ff"
   ]
  },
  {
   "cell_type": "code",
   "execution_count": 66,
   "metadata": {
    "collapsed": true
   },
   "outputs": [],
   "source": [
    "# for some reason, this doesn't work...\n",
    "def plot_hist(lbl='gpa'):\n",
    "    plt.style.use('ggplot')\n",
    "    plt.figure()\n",
    "    df_train[lbl].plot.hist(alpha=0.5, label = lbl)\n",
    "    #plt.xlabel('% Newborns Who Were Checked Up Within 24 Hrs Of Birth Total')\n",
    "    plt.legend()\n",
    "    plt.show()\n",
    "    "
   ]
  },
  {
   "cell_type": "code",
   "execution_count": 61,
   "metadata": {
    "collapsed": true
   },
   "outputs": [],
   "source": [
    "def select_respondent_data(df, person=\"mother\"):\n",
    "    respondent_dict = {'mother':'m', 'father':'f'}\n",
    "    labels = ff.search(respondent_dict.get(person), 'respondent')\n",
    "    print(len(labels))\n",
    "    overlap_labels = [lab for lab in labels if lab in df.keys()]\n",
    "    print(len(overlap_labels))\n",
    "    overlap_labels = overlap_labels + ['challengeID', 'gpa', 'grit', 'materialHardship', 'eviction', 'layoff',\n",
    "       'jobTraining']\n",
    "    return df[overlap_labels]"
   ]
  },
  {
   "cell_type": "markdown",
   "metadata": {},
   "source": [
    "## 1. Load data"
   ]
  },
  {
   "cell_type": "code",
   "execution_count": 67,
   "metadata": {
    "collapsed": false
   },
   "outputs": [],
   "source": [
    "data_dir = os.path.expanduser('~/FFC')\n",
    "df_train = pd.read_csv(os.path.join(data_dir, 'train.csv'), low_memory=False)\n",
    "df_bg = pd.read_csv(os.path.join(data_dir, 'background.csv'), low_memory=False)\n",
    "# not sure why it's merge left - this merges predictors (backround) \n",
    "# of size 4k and outcome variables (train) of size 2k \n",
    "df = df_bg.merge(df_train, on='challengeID', how='left')"
   ]
  },
  {
   "cell_type": "code",
   "execution_count": 12,
   "metadata": {
    "collapsed": false
   },
   "outputs": [
    {
     "data": {
      "text/plain": [
       "Index(['challengeID', 'gpa', 'grit', 'materialHardship', 'eviction', 'layoff',\n",
       "       'jobTraining'],\n",
       "      dtype='object')"
      ]
     },
     "execution_count": 12,
     "metadata": {},
     "output_type": "execute_result"
    }
   ],
   "source": [
    "df_train.keys()"
   ]
  },
  {
   "cell_type": "code",
   "execution_count": null,
   "metadata": {
    "collapsed": false
   },
   "outputs": [],
   "source": [
    "print(df_train.shape)\n",
    "print(df_bg.shape)\n",
    "print(df.shape)"
   ]
  },
  {
   "cell_type": "code",
   "execution_count": null,
   "metadata": {
    "collapsed": false
   },
   "outputs": [],
   "source": [
    "mother_data"
   ]
  },
  {
   "cell_type": "markdown",
   "metadata": {},
   "source": [
    "Visualizations of the outcome variable distribution"
   ]
  },
  {
   "cell_type": "code",
   "execution_count": 68,
   "metadata": {
    "collapsed": false
   },
   "outputs": [
    {
     "name": "stdout",
     "output_type": "stream",
     "text": [
      "4692\n",
      "4568\n"
     ]
    }
   ],
   "source": [
    "mother_data = select_respondent_data(df, \"mother\")"
   ]
  },
  {
   "cell_type": "code",
   "execution_count": 69,
   "metadata": {
    "collapsed": false
   },
   "outputs": [
    {
     "data": {
      "text/plain": [
       "(4242, 13033)"
      ]
     },
     "execution_count": 69,
     "metadata": {},
     "output_type": "execute_result"
    }
   ],
   "source": [
    "df.shape"
   ]
  },
  {
   "cell_type": "code",
   "execution_count": 70,
   "metadata": {
    "collapsed": false
   },
   "outputs": [
    {
     "data": {
      "text/html": [
       "<div>\n",
       "<table border=\"1\" class=\"dataframe\">\n",
       "  <thead>\n",
       "    <tr style=\"text-align: right;\">\n",
       "      <th></th>\n",
       "      <th>cm1intmon</th>\n",
       "      <th>cm1intyr</th>\n",
       "      <th>cm1lenhr</th>\n",
       "      <th>cm1lenmin</th>\n",
       "      <th>cm1twoc</th>\n",
       "      <th>cm1fint</th>\n",
       "      <th>cm1tdiff</th>\n",
       "      <th>cm1natsm</th>\n",
       "      <th>m1natwt</th>\n",
       "      <th>cm1natsmx</th>\n",
       "      <th>...</th>\n",
       "      <th>cm5povco</th>\n",
       "      <th>cm5povca</th>\n",
       "      <th>cm5samp</th>\n",
       "      <th>challengeID</th>\n",
       "      <th>gpa</th>\n",
       "      <th>grit</th>\n",
       "      <th>materialHardship</th>\n",
       "      <th>eviction</th>\n",
       "      <th>layoff</th>\n",
       "      <th>jobTraining</th>\n",
       "    </tr>\n",
       "  </thead>\n",
       "  <tbody>\n",
       "    <tr>\n",
       "      <th>0</th>\n",
       "      <td>-3</td>\n",
       "      <td>-3</td>\n",
       "      <td>-3</td>\n",
       "      <td>40</td>\n",
       "      <td>-3</td>\n",
       "      <td>0</td>\n",
       "      <td>-3</td>\n",
       "      <td>-3</td>\n",
       "      <td>-3</td>\n",
       "      <td>-3</td>\n",
       "      <td>...</td>\n",
       "      <td>-9.000000</td>\n",
       "      <td>-9</td>\n",
       "      <td>6</td>\n",
       "      <td>1</td>\n",
       "      <td>NaN</td>\n",
       "      <td>NaN</td>\n",
       "      <td>NaN</td>\n",
       "      <td>NaN</td>\n",
       "      <td>NaN</td>\n",
       "      <td>NaN</td>\n",
       "    </tr>\n",
       "    <tr>\n",
       "      <th>1</th>\n",
       "      <td>-3</td>\n",
       "      <td>-3</td>\n",
       "      <td>0</td>\n",
       "      <td>40</td>\n",
       "      <td>-3</td>\n",
       "      <td>1</td>\n",
       "      <td>-3</td>\n",
       "      <td>-3</td>\n",
       "      <td>-3</td>\n",
       "      <td>-3</td>\n",
       "      <td>...</td>\n",
       "      <td>0.842485</td>\n",
       "      <td>1</td>\n",
       "      <td>-7</td>\n",
       "      <td>2</td>\n",
       "      <td>NaN</td>\n",
       "      <td>NaN</td>\n",
       "      <td>NaN</td>\n",
       "      <td>NaN</td>\n",
       "      <td>NaN</td>\n",
       "      <td>NaN</td>\n",
       "    </tr>\n",
       "    <tr>\n",
       "      <th>2</th>\n",
       "      <td>-3</td>\n",
       "      <td>-3</td>\n",
       "      <td>0</td>\n",
       "      <td>35</td>\n",
       "      <td>-3</td>\n",
       "      <td>1</td>\n",
       "      <td>-3</td>\n",
       "      <td>-3</td>\n",
       "      <td>-3</td>\n",
       "      <td>-3</td>\n",
       "      <td>...</td>\n",
       "      <td>-9.000000</td>\n",
       "      <td>-9</td>\n",
       "      <td>7</td>\n",
       "      <td>3</td>\n",
       "      <td>NaN</td>\n",
       "      <td>NaN</td>\n",
       "      <td>NaN</td>\n",
       "      <td>NaN</td>\n",
       "      <td>NaN</td>\n",
       "      <td>NaN</td>\n",
       "    </tr>\n",
       "    <tr>\n",
       "      <th>3</th>\n",
       "      <td>-3</td>\n",
       "      <td>-3</td>\n",
       "      <td>0</td>\n",
       "      <td>30</td>\n",
       "      <td>-3</td>\n",
       "      <td>1</td>\n",
       "      <td>-3</td>\n",
       "      <td>-3</td>\n",
       "      <td>-3</td>\n",
       "      <td>-3</td>\n",
       "      <td>...</td>\n",
       "      <td>2.755591</td>\n",
       "      <td>4</td>\n",
       "      <td>-7</td>\n",
       "      <td>4</td>\n",
       "      <td>NaN</td>\n",
       "      <td>NaN</td>\n",
       "      <td>NaN</td>\n",
       "      <td>NaN</td>\n",
       "      <td>NaN</td>\n",
       "      <td>NaN</td>\n",
       "    </tr>\n",
       "    <tr>\n",
       "      <th>4</th>\n",
       "      <td>-3</td>\n",
       "      <td>-3</td>\n",
       "      <td>0</td>\n",
       "      <td>25</td>\n",
       "      <td>-3</td>\n",
       "      <td>1</td>\n",
       "      <td>-3</td>\n",
       "      <td>-3</td>\n",
       "      <td>-3</td>\n",
       "      <td>-3</td>\n",
       "      <td>...</td>\n",
       "      <td>0.744948</td>\n",
       "      <td>1</td>\n",
       "      <td>-7</td>\n",
       "      <td>5</td>\n",
       "      <td>NaN</td>\n",
       "      <td>NaN</td>\n",
       "      <td>NaN</td>\n",
       "      <td>NaN</td>\n",
       "      <td>NaN</td>\n",
       "      <td>NaN</td>\n",
       "    </tr>\n",
       "  </tbody>\n",
       "</table>\n",
       "<p>5 rows × 4575 columns</p>\n",
       "</div>"
      ],
      "text/plain": [
       "   cm1intmon  cm1intyr  cm1lenhr  cm1lenmin  cm1twoc  cm1fint  cm1tdiff  \\\n",
       "0         -3        -3        -3         40       -3        0        -3   \n",
       "1         -3        -3         0         40       -3        1        -3   \n",
       "2         -3        -3         0         35       -3        1        -3   \n",
       "3         -3        -3         0         30       -3        1        -3   \n",
       "4         -3        -3         0         25       -3        1        -3   \n",
       "\n",
       "   cm1natsm  m1natwt  cm1natsmx     ...       cm5povco  cm5povca  cm5samp  \\\n",
       "0        -3       -3         -3     ...      -9.000000        -9        6   \n",
       "1        -3       -3         -3     ...       0.842485         1       -7   \n",
       "2        -3       -3         -3     ...      -9.000000        -9        7   \n",
       "3        -3       -3         -3     ...       2.755591         4       -7   \n",
       "4        -3       -3         -3     ...       0.744948         1       -7   \n",
       "\n",
       "   challengeID  gpa  grit  materialHardship  eviction  layoff  jobTraining  \n",
       "0            1  NaN   NaN               NaN       NaN     NaN          NaN  \n",
       "1            2  NaN   NaN               NaN       NaN     NaN          NaN  \n",
       "2            3  NaN   NaN               NaN       NaN     NaN          NaN  \n",
       "3            4  NaN   NaN               NaN       NaN     NaN          NaN  \n",
       "4            5  NaN   NaN               NaN       NaN     NaN          NaN  \n",
       "\n",
       "[5 rows x 4575 columns]"
      ]
     },
     "execution_count": 70,
     "metadata": {},
     "output_type": "execute_result"
    }
   ],
   "source": [
    "mother_data.head()"
   ]
  },
  {
   "cell_type": "code",
   "execution_count": 71,
   "metadata": {
    "collapsed": false
   },
   "outputs": [
    {
     "name": "stderr",
     "output_type": "stream",
     "text": [
      "//anaconda/lib/python3.5/site-packages/numpy/lib/function_base.py:4269: RuntimeWarning: Invalid value encountered in percentile\n",
      "  interpolation=interpolation)\n"
     ]
    },
    {
     "data": {
      "text/html": [
       "<div>\n",
       "<table border=\"1\" class=\"dataframe\">\n",
       "  <thead>\n",
       "    <tr style=\"text-align: right;\">\n",
       "      <th></th>\n",
       "      <th>cm1intmon</th>\n",
       "      <th>cm1intyr</th>\n",
       "      <th>cm1lenhr</th>\n",
       "      <th>cm1lenmin</th>\n",
       "      <th>cm1twoc</th>\n",
       "      <th>cm1fint</th>\n",
       "      <th>cm1tdiff</th>\n",
       "      <th>cm1natsm</th>\n",
       "      <th>m1natwt</th>\n",
       "      <th>cm1natsmx</th>\n",
       "      <th>...</th>\n",
       "      <th>cm5povco</th>\n",
       "      <th>cm5povca</th>\n",
       "      <th>cm5samp</th>\n",
       "      <th>challengeID</th>\n",
       "      <th>gpa</th>\n",
       "      <th>grit</th>\n",
       "      <th>materialHardship</th>\n",
       "      <th>eviction</th>\n",
       "      <th>layoff</th>\n",
       "      <th>jobTraining</th>\n",
       "    </tr>\n",
       "  </thead>\n",
       "  <tbody>\n",
       "    <tr>\n",
       "      <th>count</th>\n",
       "      <td>4242.0</td>\n",
       "      <td>4242.0</td>\n",
       "      <td>4242.000000</td>\n",
       "      <td>4242.000000</td>\n",
       "      <td>4242.0</td>\n",
       "      <td>4242.000000</td>\n",
       "      <td>4242.0</td>\n",
       "      <td>4242.0</td>\n",
       "      <td>4242.0</td>\n",
       "      <td>4242.0</td>\n",
       "      <td>...</td>\n",
       "      <td>4242.000000</td>\n",
       "      <td>4242.000000</td>\n",
       "      <td>4242.000000</td>\n",
       "      <td>4242.00000</td>\n",
       "      <td>1165.000000</td>\n",
       "      <td>1418.000000</td>\n",
       "      <td>1459.000000</td>\n",
       "      <td>1459.000000</td>\n",
       "      <td>1277.000000</td>\n",
       "      <td>1461.000000</td>\n",
       "    </tr>\n",
       "    <tr>\n",
       "      <th>mean</th>\n",
       "      <td>-3.0</td>\n",
       "      <td>-3.0</td>\n",
       "      <td>-0.376238</td>\n",
       "      <td>34.397218</td>\n",
       "      <td>-3.0</td>\n",
       "      <td>0.777228</td>\n",
       "      <td>-3.0</td>\n",
       "      <td>-3.0</td>\n",
       "      <td>-3.0</td>\n",
       "      <td>-3.0</td>\n",
       "      <td>...</td>\n",
       "      <td>-1.184354</td>\n",
       "      <td>-0.347713</td>\n",
       "      <td>-3.569307</td>\n",
       "      <td>2121.50000</td>\n",
       "      <td>2.866738</td>\n",
       "      <td>3.427539</td>\n",
       "      <td>0.103745</td>\n",
       "      <td>0.059630</td>\n",
       "      <td>0.209084</td>\n",
       "      <td>0.234771</td>\n",
       "    </tr>\n",
       "    <tr>\n",
       "      <th>std</th>\n",
       "      <td>0.0</td>\n",
       "      <td>0.0</td>\n",
       "      <td>1.211390</td>\n",
       "      <td>13.497759</td>\n",
       "      <td>0.0</td>\n",
       "      <td>0.440916</td>\n",
       "      <td>0.0</td>\n",
       "      <td>0.0</td>\n",
       "      <td>0.0</td>\n",
       "      <td>0.0</td>\n",
       "      <td>...</td>\n",
       "      <td>5.008415</td>\n",
       "      <td>5.477788</td>\n",
       "      <td>5.616825</td>\n",
       "      <td>1224.70425</td>\n",
       "      <td>0.665322</td>\n",
       "      <td>0.485130</td>\n",
       "      <td>0.155665</td>\n",
       "      <td>0.236881</td>\n",
       "      <td>0.406814</td>\n",
       "      <td>0.424001</td>\n",
       "    </tr>\n",
       "    <tr>\n",
       "      <th>min</th>\n",
       "      <td>-3.0</td>\n",
       "      <td>-3.0</td>\n",
       "      <td>-9.000000</td>\n",
       "      <td>-9.000000</td>\n",
       "      <td>-3.0</td>\n",
       "      <td>-9.000000</td>\n",
       "      <td>-3.0</td>\n",
       "      <td>-3.0</td>\n",
       "      <td>-3.0</td>\n",
       "      <td>-3.0</td>\n",
       "      <td>...</td>\n",
       "      <td>-9.000000</td>\n",
       "      <td>-9.000000</td>\n",
       "      <td>-7.000000</td>\n",
       "      <td>1.00000</td>\n",
       "      <td>1.000000</td>\n",
       "      <td>1.250000</td>\n",
       "      <td>0.000000</td>\n",
       "      <td>0.000000</td>\n",
       "      <td>0.000000</td>\n",
       "      <td>0.000000</td>\n",
       "    </tr>\n",
       "    <tr>\n",
       "      <th>25%</th>\n",
       "      <td>-3.0</td>\n",
       "      <td>-3.0</td>\n",
       "      <td>0.000000</td>\n",
       "      <td>30.000000</td>\n",
       "      <td>-3.0</td>\n",
       "      <td>1.000000</td>\n",
       "      <td>-3.0</td>\n",
       "      <td>-3.0</td>\n",
       "      <td>-3.0</td>\n",
       "      <td>-3.0</td>\n",
       "      <td>...</td>\n",
       "      <td>-9.000000</td>\n",
       "      <td>-9.000000</td>\n",
       "      <td>-7.000000</td>\n",
       "      <td>1061.25000</td>\n",
       "      <td>NaN</td>\n",
       "      <td>NaN</td>\n",
       "      <td>NaN</td>\n",
       "      <td>NaN</td>\n",
       "      <td>NaN</td>\n",
       "      <td>NaN</td>\n",
       "    </tr>\n",
       "    <tr>\n",
       "      <th>50%</th>\n",
       "      <td>-3.0</td>\n",
       "      <td>-3.0</td>\n",
       "      <td>0.000000</td>\n",
       "      <td>35.000000</td>\n",
       "      <td>-3.0</td>\n",
       "      <td>1.000000</td>\n",
       "      <td>-3.0</td>\n",
       "      <td>-3.0</td>\n",
       "      <td>-3.0</td>\n",
       "      <td>-3.0</td>\n",
       "      <td>...</td>\n",
       "      <td>0.822261</td>\n",
       "      <td>2.000000</td>\n",
       "      <td>-7.000000</td>\n",
       "      <td>2121.50000</td>\n",
       "      <td>NaN</td>\n",
       "      <td>NaN</td>\n",
       "      <td>NaN</td>\n",
       "      <td>NaN</td>\n",
       "      <td>NaN</td>\n",
       "      <td>NaN</td>\n",
       "    </tr>\n",
       "    <tr>\n",
       "      <th>75%</th>\n",
       "      <td>-3.0</td>\n",
       "      <td>-3.0</td>\n",
       "      <td>0.000000</td>\n",
       "      <td>45.000000</td>\n",
       "      <td>-3.0</td>\n",
       "      <td>1.000000</td>\n",
       "      <td>-3.0</td>\n",
       "      <td>-3.0</td>\n",
       "      <td>-3.0</td>\n",
       "      <td>-3.0</td>\n",
       "      <td>...</td>\n",
       "      <td>2.013977</td>\n",
       "      <td>3.000000</td>\n",
       "      <td>3.750000</td>\n",
       "      <td>3181.75000</td>\n",
       "      <td>NaN</td>\n",
       "      <td>NaN</td>\n",
       "      <td>NaN</td>\n",
       "      <td>NaN</td>\n",
       "      <td>NaN</td>\n",
       "      <td>NaN</td>\n",
       "    </tr>\n",
       "    <tr>\n",
       "      <th>max</th>\n",
       "      <td>-3.0</td>\n",
       "      <td>-3.0</td>\n",
       "      <td>5.000000</td>\n",
       "      <td>59.000000</td>\n",
       "      <td>-3.0</td>\n",
       "      <td>1.000000</td>\n",
       "      <td>-3.0</td>\n",
       "      <td>-3.0</td>\n",
       "      <td>-3.0</td>\n",
       "      <td>-3.0</td>\n",
       "      <td>...</td>\n",
       "      <td>6.394828</td>\n",
       "      <td>5.000000</td>\n",
       "      <td>7.000000</td>\n",
       "      <td>4242.00000</td>\n",
       "      <td>4.000000</td>\n",
       "      <td>4.000000</td>\n",
       "      <td>0.818182</td>\n",
       "      <td>1.000000</td>\n",
       "      <td>1.000000</td>\n",
       "      <td>1.000000</td>\n",
       "    </tr>\n",
       "  </tbody>\n",
       "</table>\n",
       "<p>8 rows × 4575 columns</p>\n",
       "</div>"
      ],
      "text/plain": [
       "       cm1intmon  cm1intyr     cm1lenhr    cm1lenmin  cm1twoc      cm1fint  \\\n",
       "count     4242.0    4242.0  4242.000000  4242.000000   4242.0  4242.000000   \n",
       "mean        -3.0      -3.0    -0.376238    34.397218     -3.0     0.777228   \n",
       "std          0.0       0.0     1.211390    13.497759      0.0     0.440916   \n",
       "min         -3.0      -3.0    -9.000000    -9.000000     -3.0    -9.000000   \n",
       "25%         -3.0      -3.0     0.000000    30.000000     -3.0     1.000000   \n",
       "50%         -3.0      -3.0     0.000000    35.000000     -3.0     1.000000   \n",
       "75%         -3.0      -3.0     0.000000    45.000000     -3.0     1.000000   \n",
       "max         -3.0      -3.0     5.000000    59.000000     -3.0     1.000000   \n",
       "\n",
       "       cm1tdiff  cm1natsm  m1natwt  cm1natsmx     ...          cm5povco  \\\n",
       "count    4242.0    4242.0   4242.0     4242.0     ...       4242.000000   \n",
       "mean       -3.0      -3.0     -3.0       -3.0     ...         -1.184354   \n",
       "std         0.0       0.0      0.0        0.0     ...          5.008415   \n",
       "min        -3.0      -3.0     -3.0       -3.0     ...         -9.000000   \n",
       "25%        -3.0      -3.0     -3.0       -3.0     ...         -9.000000   \n",
       "50%        -3.0      -3.0     -3.0       -3.0     ...          0.822261   \n",
       "75%        -3.0      -3.0     -3.0       -3.0     ...          2.013977   \n",
       "max        -3.0      -3.0     -3.0       -3.0     ...          6.394828   \n",
       "\n",
       "          cm5povca      cm5samp  challengeID          gpa         grit  \\\n",
       "count  4242.000000  4242.000000   4242.00000  1165.000000  1418.000000   \n",
       "mean     -0.347713    -3.569307   2121.50000     2.866738     3.427539   \n",
       "std       5.477788     5.616825   1224.70425     0.665322     0.485130   \n",
       "min      -9.000000    -7.000000      1.00000     1.000000     1.250000   \n",
       "25%      -9.000000    -7.000000   1061.25000          NaN          NaN   \n",
       "50%       2.000000    -7.000000   2121.50000          NaN          NaN   \n",
       "75%       3.000000     3.750000   3181.75000          NaN          NaN   \n",
       "max       5.000000     7.000000   4242.00000     4.000000     4.000000   \n",
       "\n",
       "       materialHardship     eviction       layoff  jobTraining  \n",
       "count       1459.000000  1459.000000  1277.000000  1461.000000  \n",
       "mean           0.103745     0.059630     0.209084     0.234771  \n",
       "std            0.155665     0.236881     0.406814     0.424001  \n",
       "min            0.000000     0.000000     0.000000     0.000000  \n",
       "25%                 NaN          NaN          NaN          NaN  \n",
       "50%                 NaN          NaN          NaN          NaN  \n",
       "75%                 NaN          NaN          NaN          NaN  \n",
       "max            0.818182     1.000000     1.000000     1.000000  \n",
       "\n",
       "[8 rows x 4575 columns]"
      ]
     },
     "execution_count": 71,
     "metadata": {},
     "output_type": "execute_result"
    }
   ],
   "source": [
    "mother_data.describe()"
   ]
  },
  {
   "cell_type": "code",
   "execution_count": null,
   "metadata": {
    "collapsed": true
   },
   "outputs": [],
   "source": []
  },
  {
   "cell_type": "code",
   "execution_count": 80,
   "metadata": {
    "collapsed": false
   },
   "outputs": [
    {
     "name": "stdout",
     "output_type": "stream",
     "text": [
      "0 cm1intmon {'label': 'Mother interview month'} 1.0\n",
      "1 cm1intyr {'label': 'Mother interview year'} 1.0\n",
      "2 cm1lenhr {'label': 'What was the total length of interview - Hours'} 0.00366298904218\n",
      "3 cm1lenmin {'label': 'What was the total length of interview - Minutes'} 0.000625574992349\n",
      "4 cm1twoc {'label': 'Constructed - Two cities flag'} 1.0\n",
      "5 cm1fint {'label': 'Constructed - Was father interviewed?'} 3.26823721564e-06\n",
      "6 cm1tdiff {'label': 'Constructed - time difference between mother and father interview dates'} 1.0\n"
     ]
    }
   ],
   "source": [
    "results_dict = {}\n",
    "\n",
    "df1 = mother_data.select_dtypes(include=[np.number])\n",
    "\n",
    "#print(len(df1.columns))\n",
    "\n",
    "# Loop over the columns \n",
    "for c,col in enumerate(df1.columns):\n",
    "    if df1.keys()[c] != 'challengeID':\n",
    "    \n",
    "    \n",
    "        stats_df = df1.loc[(df1['gpa'].notnull()) \n",
    "                          & (df1[col].notnull())\n",
    "                          & (df1[col]>-9), ['gpa', col, 'challengeID']]\n",
    "\n",
    "        #print(stats_df.describe())\n",
    "\n",
    "        # If there's no data then don't fit a model!\n",
    "        n = len(stats_df['challengeID'])\n",
    "\n",
    "        if n > 3:\n",
    "            #print(stats_df)\n",
    "            model = LinearRegression(normalize=True)\n",
    "            #ols.fit(X_train, y_train)\n",
    "            #model = ols(\"gpa ~ {}\".format(col), data=stats_df)\n",
    "            #print(c, df1.keys()[c])\n",
    "            #print(df1.keys()[c])\n",
    "            #print(stats_df['cm1intmon'])\n",
    "            #print(stats_df[df1.keys()[c]])\n",
    "            a= stats_df['gpa'].shape[0]\n",
    "            b = stats_df[df1.keys()[c]].shape[0]\n",
    "            X_train = stats_df['gpa'].reshape((a,1))\n",
    "            y_train = stats_df[df1.keys()[c]].reshape((b,1))\n",
    "            model.fit(X_train, y_train)\n",
    "            print(c, df1.keys()[c], ff.select(df1.keys()[c], 'label'), model.score(X_train, y_train))\n",
    "            #print(result.summary())\n",
    "\n",
    "            #results_dict[col] = [result.rsquared,result.nobs,result.params[1]]\n",
    "\n",
    "        if c >  5:\n",
    "            break\n",
    "\n",
    "#df2 = pd.DataFrame.from_dict(results_dict)\n",
    "#df2 = df2.T\n",
    "#df2.columns = [\"R^2\",\"N\",\"coeff\"]    \n",
    "#df2"
   ]
  },
  {
   "cell_type": "code",
   "execution_count": null,
   "metadata": {
    "collapsed": false
   },
   "outputs": [],
   "source": [
    "def load_data(data_dir, label_id = 0):    \n",
    "    train = pd.read_csv(os.path.join(data_dir, 'train.csv'))\n",
    "    background = pd.read_csv(os.path.expanduser(data_dir, 'background.csv'))\n",
    "    df = df_bg.merge(df_train, on='challengeID', how='left')\n",
    "    #data_train = data.iloc[:labels.shape[0]]\n",
    "    #y_label = labels.columns.values[label_id+1]\n",
    "    #y = labels[y_label].values\n",
    "    #X_train, X_test, y_train, y_test = train_test_split(data_train, y, test_size=0.33, random_state=42)\n",
    "    #labels = labels.columns.values[1:]\n",
    "    return X_train, X_test, y_train, y_test, labels\n",
    "\n",
    "def run_ols(X_train, X_test, y_train, y_test, labels):\n",
    "    ols = LinearRegression(normalize=True)\n",
    "    ols.fit(X_train, y_train)\n",
    "    ols_coefs = ols.coef_\n",
    "    sorted_coefs = np.sort(np.abs(ols_coefs))\n",
    "    sorted_indices = np.argsort(np.abs(ols_coefs))\n",
    "    sorted_labels = labels[sorted_indices]\n",
    "    sorted_labels[-100:]\n",
    "    els = []\n",
    "    for el in zip(sorted_labels[-10:],ols_coefs[sorted_indices[-10:]]):\n",
    "        els.append(el)\n",
    "    print(ols.score(X_test, y_test))\n",
    "    print(ols.score(X_train, y_train))\n",
    "    ols_yhat = ols.predict(X_test)\n",
    "    error = ols_yhat-y_test\n",
    "    plt.hist(error, bins=20)\n",
    "    plt.xlabel(\"Linear regression error plot for file \" + tag)\n",
    "    plt.show()\n",
    "    return els"
   ]
  },
  {
   "cell_type": "code",
   "execution_count": null,
   "metadata": {
    "collapsed": false
   },
   "outputs": [],
   "source": [
    "ols_cols = run_ols(X_train, X_test, y_train, y_test, labels)"
   ]
  },
  {
   "cell_type": "code",
   "execution_count": null,
   "metadata": {
    "collapsed": false
   },
   "outputs": [],
   "source": [
    "background_train = background[:train.shape[0]]"
   ]
  },
  {
   "cell_type": "code",
   "execution_count": null,
   "metadata": {
    "collapsed": true
   },
   "outputs": [],
   "source": []
  },
  {
   "cell_type": "code",
   "execution_count": null,
   "metadata": {
    "collapsed": false
   },
   "outputs": [],
   "source": [
    "print(train.shape)\n",
    "print(train.count())\n",
    "print(train_nona.shape)\n",
    "print(train_nona.count())\n",
    "print(background.shape)\n"
   ]
  },
  {
   "cell_type": "code",
   "execution_count": null,
   "metadata": {
    "collapsed": false
   },
   "outputs": [],
   "source": [
    "background_train.shape"
   ]
  }
 ],
 "metadata": {
  "anaconda-cloud": {},
  "kernelspec": {
   "display_name": "Python [Root]",
   "language": "python",
   "name": "Python [Root]"
  },
  "language_info": {
   "codemirror_mode": {
    "name": "ipython",
    "version": 3
   },
   "file_extension": ".py",
   "mimetype": "text/x-python",
   "name": "python",
   "nbconvert_exporter": "python",
   "pygments_lexer": "ipython3",
   "version": "3.5.2"
  }
 },
 "nbformat": 4,
 "nbformat_minor": 0
}
