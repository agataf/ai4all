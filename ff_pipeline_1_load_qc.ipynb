{
 "cells": [
  {
   "cell_type": "markdown",
   "metadata": {},
   "source": [
    "# Load in the data and perform basic quality control\n",
    "\n",
    "The input is the background covariates file and an output directory.\n",
    "The output is a background covariates file that has been quality controlled.\n"
   ]
  },
  {
   "cell_type": "code",
   "execution_count": 1,
   "metadata": {
    "collapsed": true
   },
   "outputs": [],
   "source": [
    "import pandas as pd\n",
    "import numpy as np\n",
    "import sys, os"
   ]
  },
  {
   "cell_type": "markdown",
   "metadata": {},
   "source": [
    "## Set input variables"
   ]
  },
  {
   "cell_type": "code",
   "execution_count": 2,
   "metadata": {
    "collapsed": false
   },
   "outputs": [],
   "source": [
    "background = \"data/background.csv\"\n",
    "output_dir = \"output\"\n",
    "\n",
    "if not os.path.exists(output_dir):\n",
    "    os.makedirs(output_dir)"
   ]
  },
  {
   "cell_type": "markdown",
   "metadata": {},
   "source": [
    "## Read in data and perform some basic quality control"
   ]
  },
  {
   "cell_type": "code",
   "execution_count": null,
   "metadata": {
    "collapsed": false
   },
   "outputs": [],
   "source": [
    "'''\n",
    "* summary: loads data\n",
    "* input: \n",
    "* output:  bg, tr\n",
    "'''\n",
    "\n",
    "# read in as pandas dataframes\n",
    "bg = pd.read_csv(background, low_memory=False)\n",
    "\n",
    "'''\n",
    "* summary: replaces row indices with `challengeID`\n",
    "* input:   bg, tr\n",
    "* output:  bg, tr\n",
    "'''\n",
    "\n",
    "nb_samples = bg.shape[0]\n",
    "assert bg['challengeID'].to_dict().values() == range(1, nb_samples + 1)\n",
    "\n",
    "bg = bg.set_index('challengeID')\n",
    "\n",
    "'''\n",
    "* summary: cleans background data; replaces 'missing' with -3, ignores non-numeric columns,\n",
    "  ignores completely missing columns. Ignores columns with more than 50% missingness.  \n",
    "* input:   bg\n",
    "* output:  bg\n",
    "'''\n",
    "\n",
    "bg = bg.replace('missing', -3)\n",
    "bg = bg.apply(lambda x: pd.to_numeric(x, errors='ignore'))\n",
    "bg = bg.select_dtypes(include = [np.number])\n",
    "\n",
    "threshold = 0.5 # lower is stricter, default to 0.5\n",
    "bg[bg < 0] = np.nan\n",
    "col_names_to_remove = []\n",
    "for col_name in bg:\n",
    "    to_remove = False\n",
    "    col = bg[col_name]\n",
    "    null_prop = float(sum(col.isnull())) / nb_samples\n",
    "    \n",
    "    if null_prop >= threshold:\n",
    "        to_remove = True\n",
    "    \n",
    "    if to_remove:\n",
    "        col_names_to_remove.append(col_name)\n",
    "\n",
    "nb_features = bg.shape[1]\n",
    "print '{}/{} features kept'.format(nb_features - len(col_names_to_remove), \n",
    "                                   nb_features) \n",
    "bg = bg.drop(col_names_to_remove, axis=1)\n",
    "bg.to_csv(output_dir+'/background.csv', index=True)"
   ]
  },
  {
   "cell_type": "code",
   "execution_count": null,
   "metadata": {
    "collapsed": true
   },
   "outputs": [],
   "source": []
  }
 ],
 "metadata": {
  "anaconda-cloud": {},
  "kernelspec": {
   "display_name": "Python [python27]",
   "language": "python",
   "name": "Python [python27]"
  },
  "language_info": {
   "codemirror_mode": {
    "name": "ipython",
    "version": 2
   },
   "file_extension": ".py",
   "mimetype": "text/x-python",
   "name": "python",
   "nbconvert_exporter": "python",
   "pygments_lexer": "ipython2",
   "version": "2.7.13"
  }
 },
 "nbformat": 4,
 "nbformat_minor": 2
}
