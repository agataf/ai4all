{
 "cells": [
  {
   "cell_type": "markdown",
   "metadata": {},
   "source": [
    "### Load in the data"
   ]
  },
  {
   "cell_type": "code",
   "execution_count": 2,
   "metadata": {},
   "outputs": [],
   "source": [
    "import pandas as pd\n",
    "import numpy as np\n",
    "import sys, os"
   ]
  },
  {
   "cell_type": "markdown",
   "metadata": {},
   "source": [
    "### Set input variables"
   ]
  },
  {
   "cell_type": "code",
   "execution_count": 3,
   "metadata": {},
   "outputs": [],
   "source": [
    "background = \"../ai4all_data/background.csv\"\n",
    "train = \"../ai4all_data/train.csv\"\n",
    "output_dir = \"output\"\n",
    "\n",
    "if not os.path.exists(output_dir):\n",
    "    os.makedirs(output_dir)"
   ]
  },
  {
   "cell_type": "markdown",
   "metadata": {},
   "source": [
    "### Read in data"
   ]
  },
  {
   "cell_type": "code",
   "execution_count": 4,
   "metadata": {},
   "outputs": [],
   "source": [
    "data_frame = pd.read_csv(background, low_memory=False)\n",
    "\n",
    "num_samples = data_frame.shape[0]\n",
    "assert data_frame['challengeID'].to_dict().values() == range(1, num_samples+1)\n",
    "\n",
    "data_frame = data_frame.set_index('challengeID')\n",
    "\n",
    "data_frame = data_frame.replace('missing', -3)\n",
    "data_frame = data_frame.apply(lambda x: pd.to_numeric(x, errors='ignore'))\n",
    "# removing all non-numeric elements\n",
    "data_frame = data_frame.select_dtypes(include = [np.number])"
   ]
  },
  {
   "cell_type": "code",
   "execution_count": 5,
   "metadata": {},
   "outputs": [
    {
     "data": {
      "text/plain": [
       "12795"
      ]
     },
     "execution_count": 5,
     "metadata": {},
     "output_type": "execute_result"
    }
   ],
   "source": [
    "outcome = pd.read_csv(train, low_memory=False)\n",
    "outcome = outcome.set_index('challengeID')\n",
    "outcome = outcome.loc[~outcome['gpa'].isnull()]\n",
    "data_frame.shape[1]"
   ]
  },
  {
   "cell_type": "markdown",
   "metadata": {},
   "source": [
    "### Pick out the students whose 'p5i7' and GPA are both numeric. \n",
    "In other words we get rid of the NaN values. "
   ]
  },
  {
   "cell_type": "code",
   "execution_count": 34,
   "metadata": {},
   "outputs": [],
   "source": [
    "data_frame = data_frame.loc[data_frame.index.isin(outcome.index.values)]\n",
    "year9_weekday = data_frame.loc[~data_frame['p5i7'].isnull()]\n",
    "year9_weekday = year9_weekday['p5i7']\n",
    "Y = outcome.loc[outcome.index.isin(year9_weekday.index.values)]\n",
    "GPA = Y['gpa']"
   ]
  },
  {
   "cell_type": "markdown",
   "metadata": {},
   "source": [
    "Use scatter plots and histogram to see what the data look like."
   ]
  },
  {
   "cell_type": "code",
   "execution_count": 35,
   "metadata": {},
   "outputs": [
    {
     "data": {
      "image/png": "[encoded data removed]",
      "text/plain": [
       "<matplotlib.figure.Figure at 0x1149c63d0>"
      ]
     },
     "metadata": {},
     "output_type": "display_data"
    },
    {
     "data": {
      "image/png": "[encoded data removed]",
      "text/plain": [
       "<matplotlib.figure.Figure at 0x11480fb10>"
      ]
     },
     "metadata": {},
     "output_type": "display_data"
    }
   ],
   "source": [
    "import matplotlib.pyplot as plt\n",
    "plt.scatter(year9_weekday, GPA)\n",
    "plt.show()\n",
    "n, bins, patches = plt.hist(year9_weekday,6)\n",
    "plt.show()"
   ]
  },
  {
   "cell_type": "markdown",
   "metadata": {},
   "source": [
    "If we calculate the average GPAs for students in each category(0,1,2,3 hours) we might see the correlation between GPA and study time on weekdays."
   ]
  },
  {
   "cell_type": "code",
   "execution_count": 36,
   "metadata": {},
   "outputs": [],
   "source": [
    "# Calculate average GPA for students who don't study on weekdays\n",
    "zero_hour = year9_weekday.loc[year9_weekday == 0 ]\n",
    "zero_gpa = GPA.loc[GPA.index.isin(zero_hour.index.values)]\n",
    "zero_gpa_mean = np.mean(zero_gpa)\n",
    "# Calculate average GPA for students who study for one hour on weekdays\n",
    "one_hour = year9_weekday.loc[year9_weekday == 1 ]\n",
    "one_gpa = GPA.loc[GPA.index.isin(one_hour.index.values)]\n",
    "one_gpa_mean = np.mean(one_gpa)\n",
    "# Calculate average GPA for students who study for two hours on weekdays\n",
    "two_hour = year9_weekday.loc[year9_weekday == 2 ]\n",
    "two_gpa = GPA.loc[GPA.index.isin(two_hour.index.values)]\n",
    "two_gpa_mean = np.mean(two_gpa)\n",
    "# Calculate average GPA for students who study for three hours on weekdays\n",
    "three_hour = year9_weekday.loc[year9_weekday == 3 ]\n",
    "three_gpa = GPA.loc[GPA.index.isin(three_hour.index.values)]\n",
    "three_gpa_mean = np.mean(three_gpa)"
   ]
  },
  {
   "cell_type": "markdown",
   "metadata": {},
   "source": [
    "We plot the average GPA against the weekday study hours. Unfortunately, it seems there's no strong relationship.'"
   ]
  },
  {
   "cell_type": "code",
   "execution_count": 37,
   "metadata": {},
   "outputs": [
    {
     "data": {
      "image/png": "[encoded data removed]",
      "text/plain": [
       "<matplotlib.figure.Figure at 0x114654810>"
      ]
     },
     "metadata": {},
     "output_type": "display_data"
    }
   ],
   "source": [
    "plt.scatter([0,1,2,3], [zero_gpa_mean,one_gpa_mean,two_gpa_mean,three_gpa_mean])\n",
    "plt.show()"
   ]
  },
  {
   "cell_type": "markdown",
   "metadata": {},
   "source": [
    "We can do the same thing for the weekend study hours. It's a better indicator of average GPA since the average GPA increases when the study hours increase except studying for three hours. It's still not a good feature to look at. The question would be, is there two feature that have strong correlation in data and the correlation makes sense intuitively?"
   ]
  },
  {
   "cell_type": "code",
   "execution_count": 38,
   "metadata": {},
   "outputs": [
    {
     "data": {
      "image/png": "[encoded data removed]",
      "text/plain": [
       "<matplotlib.figure.Figure at 0x1148d2910>"
      ]
     },
     "metadata": {},
     "output_type": "display_data"
    },
    {
     "data": {
      "image/png": "[encoded data removed]",
      "text/plain": [
       "<matplotlib.figure.Figure at 0x114dadc90>"
      ]
     },
     "metadata": {},
     "output_type": "display_data"
    }
   ],
   "source": [
    "year9_weekend = data_frame.loc[~data_frame['p5i8'].isnull()]\n",
    "year9_weekend = year9_weekend['p5i8']\n",
    "Y = outcome.loc[outcome.index.isin(year9_weekend.index.values)]\n",
    "GPA = Y['gpa']\n",
    "plt.scatter(year9_weekend, GPA)\n",
    "plt.show()\n",
    "n, bins, patches = plt.hist(year9_weekend,7)\n",
    "plt.show()"
   ]
  },
  {
   "cell_type": "code",
   "execution_count": 39,
   "metadata": {},
   "outputs": [],
   "source": [
    "# Calculate average GPA for students who don't study on weekends\n",
    "zero_hour = year9_weekend.loc[year9_weekend == 0 ]\n",
    "zero_gpa = GPA.loc[GPA.index.isin(zero_hour.index.values)]\n",
    "zero_gpa_mean = np.mean(zero_gpa)\n",
    "# Calculate average GPA for students who study for one hour on weekends\n",
    "one_hour = year9_weekend.loc[year9_weekend == 1 ]\n",
    "one_gpa = GPA.loc[GPA.index.isin(one_hour.index.values)]\n",
    "one_gpa_mean = np.mean(one_gpa)\n",
    "# Calculate average GPA for students who study for two hours on weekends\n",
    "two_hour = year9_weekend.loc[year9_weekend == 2 ]\n",
    "two_gpa = GPA.loc[GPA.index.isin(two_hour.index.values)]\n",
    "two_gpa_mean = np.mean(two_gpa)\n",
    "# Calculate average GPA for students who study for three hours on weekends\n",
    "three_hour = year9_weekend.loc[year9_weekend == 3 ]\n",
    "three_gpa = GPA.loc[GPA.index.isin(three_hour.index.values)]\n",
    "three_gpa_mean = np.mean(three_gpa)"
   ]
  },
  {
   "cell_type": "code",
   "execution_count": 40,
   "metadata": {},
   "outputs": [
    {
     "data": {
      "image/png": "[encoded data removed]",
      "text/plain": [
       "<matplotlib.figure.Figure at 0x114327850>"
      ]
     },
     "metadata": {},
     "output_type": "display_data"
    }
   ],
   "source": [
    "plt.scatter([0,1,2,3], [zero_gpa_mean,one_gpa_mean,two_gpa_mean,three_gpa_mean])\n",
    "plt.show()"
   ]
  },
  {
   "cell_type": "code",
   "execution_count": 42,
   "metadata": {},
   "outputs": [
    {
     "data": {
      "image/png": "[encoded data removed]",
      "text/plain": [
       "<matplotlib.figure.Figure at 0x1146ff610>"
      ]
     },
     "metadata": {},
     "output_type": "display_data"
    },
    {
     "data": {
      "image/png": "[encoded data removed]",
      "text/plain": [
       "<matplotlib.figure.Figure at 0x11441f350>"
      ]
     },
     "metadata": {},
     "output_type": "display_data"
    }
   ],
   "source": [
    "days_seen_month = data_frame.loc[~data_frame['m5a3e'].isnull()]\n",
    "days_seen_month = days_seen_month['m5a3e']\n",
    "Y = outcome.loc[outcome.index.isin(days_seen_month.index.values)]\n",
    "GPA = Y['gpa']\n",
    "plt.scatter(days_seen_month, GPA)\n",
    "plt.show()\n",
    "n, bins, patches = plt.hist(days_seen_month,9)\n",
    "plt.show()"
   ]
  }
 ],
 "metadata": {
  "kernelspec": {
   "display_name": "Python 2",
   "language": "python",
   "name": "python2"
  }
 },
 "nbformat": 4,
 "nbformat_minor": 2
}
