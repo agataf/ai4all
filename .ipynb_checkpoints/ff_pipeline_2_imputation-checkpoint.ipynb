{
 "cells": [
  {
   "cell_type": "markdown",
   "metadata": {},
   "source": [
    "# Data imputation\n",
    "\n",
    "This step may be skipped depending on what you are using for prediction. "
   ]
  },
  {
   "cell_type": "code",
   "execution_count": 1,
   "metadata": {
    "collapsed": false
   },
   "outputs": [
    {
     "ename": "ImportError",
     "evalue": "No module named fancyimpute",
     "output_type": "error",
     "traceback": [
      "\u001b[0;31m---------------------------------------------------------------------------\u001b[0m",
      "\u001b[0;31mImportError\u001b[0m                               Traceback (most recent call last)",
      "\u001b[0;32m<ipython-input-1-c83af865b14d>\u001b[0m in \u001b[0;36m<module>\u001b[0;34m()\u001b[0m\n\u001b[1;32m      6\u001b[0m \u001b[0;32mimport\u001b[0m \u001b[0mpandas\u001b[0m \u001b[0;32mas\u001b[0m \u001b[0mpd\u001b[0m\u001b[0;34m\u001b[0m\u001b[0m\n\u001b[1;32m      7\u001b[0m \u001b[0;32mimport\u001b[0m \u001b[0msys\u001b[0m\u001b[0;34m\u001b[0m\u001b[0m\n\u001b[0;32m----> 8\u001b[0;31m \u001b[0;32mimport\u001b[0m \u001b[0mfancyimpute\u001b[0m \u001b[0;32mas\u001b[0m \u001b[0mfi\u001b[0m\u001b[0;34m\u001b[0m\u001b[0m\n\u001b[0m\u001b[1;32m      9\u001b[0m \u001b[0;34m\u001b[0m\u001b[0m\n\u001b[1;32m     10\u001b[0m \u001b[0moutput_dir\u001b[0m \u001b[0;34m=\u001b[0m \u001b[0;34m\"/tigress/BEE/projects/rufragfam/ai4all/output\"\u001b[0m\u001b[0;34m\u001b[0m\u001b[0m\n",
      "\u001b[0;31mImportError\u001b[0m: No module named fancyimpute"
     ]
    }
   ],
   "source": [
    "'''\n",
    "* summary: imputes missing data (negative or NaN) via KNN.\n",
    "* input:   bg\n",
    "* output:  bg\n",
    "'''\n",
    "import pandas as pd\n",
    "import sys\n",
    "import fancyimpute as fi\n",
    "\n",
    "output_dir = \"/tigress/BEE/projects/rufragfam/ai4all/output\"\n",
    "\n",
    "# This is expensive so we give you the option to skip it...\n",
    "LOAD = False\n",
    "\n",
    "if LOAD:\n",
    "    bg = pd.read_csv(output_dir+'/imputed_bg.csv', index_col=0)\n",
    "    bg = bg.set_index('challengeID')\n",
    "else:\n",
    "    bg = pd.read_csv(output_dir+'/background.csv', low_memory=False, index_col=0)\n",
    "    raw_bg = bg.copy()\n",
    "    bg = fi.KNN(k=5).complete(raw_bg)\n",
    "\n",
    "    bg = pd.DataFrame(bg)\n",
    "    bg.index = raw_bg.index\n",
    "    bg.columns = raw_bg.columns\n",
    "\n",
    "    bg.to_csv(output_dir+'/imputed_bg.csv')\n",
    "\n"
   ]
  },
  {
   "cell_type": "code",
   "execution_count": null,
   "metadata": {
    "collapsed": true
   },
   "outputs": [],
   "source": []
  }
 ],
 "metadata": {
  "anaconda-cloud": {},
  "kernelspec": {
   "display_name": "Python [python27]",
   "language": "python",
   "name": "Python [python27]"
  },
  "language_info": {
   "codemirror_mode": {
    "name": "ipython",
    "version": 2
   },
   "file_extension": ".py",
   "mimetype": "text/x-python",
   "name": "python",
   "nbconvert_exporter": "python",
   "pygments_lexer": "ipython2",
   "version": "2.7.13"
  }
 },
 "nbformat": 4,
 "nbformat_minor": 2
}
