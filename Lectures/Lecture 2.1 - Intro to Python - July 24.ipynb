{
 "cells": [
  {
   "cell_type": "markdown",
   "metadata": {},
   "source": [
    "# Intro to Python\n",
    "\n",
    "This notebook contains some additional exercises that will help us get comfortable with the Python concepts covered in today's lecture."
   ]
  },
  {
   "cell_type": "markdown",
   "metadata": {},
   "source": [
    "# Table of contents\n",
    "[1. Variables and Strings](#1.-Variables-and-Strings)\n",
    "\n",
    "[2. Lists](#2.-Lists)\n",
    "- [2.1 Iterating through Lists](#2.1-Iterating-through-Lists)\n",
    "\n",
    "[3. Functions](#3.-Functions)\n",
    "\n",
    "[4. Conditionals and Loops](#4.-Conditionals-and-Loops)"
   ]
  },
  {
   "cell_type": "markdown",
   "metadata": {
    "collapsed": true
   },
   "source": [
    "# 1. Variables and Strings\n",
    "## Exercise 1.1: Hello World - variable\n",
    "\n",
    "Store your own version of the message \"Hello World\" in a variable, and print it."
   ]
  },
  {
   "cell_type": "code",
   "execution_count": null,
   "metadata": {
    "collapsed": true
   },
   "outputs": [],
   "source": []
  },
  {
   "cell_type": "markdown",
   "metadata": {},
   "source": [
    "## Exercise 1.2: Full Name\n",
    "Store your first name and last name in separate variables, and then combine them to print out your full name (remember to add a space in between!)"
   ]
  },
  {
   "cell_type": "code",
   "execution_count": null,
   "metadata": {
    "collapsed": true
   },
   "outputs": [],
   "source": []
  },
  {
   "cell_type": "markdown",
   "metadata": {},
   "source": [
    "## Exercise 1.3: First function\n",
    "Define a function that will take in a person's first and last name, as well as their current age and another number (n), like:\n",
    "\n",
    "`my_function(\"Anne\", \"Jones\", 17, 6)`\n",
    "\n",
    "and print out the following string, giving the person's current age and future age (in n years)\n",
    "\n",
    "`\"Anne Jones is now 17 years old. They will be 23 in 6 years\".`"
   ]
  },
  {
   "cell_type": "code",
   "execution_count": null,
   "metadata": {
    "collapsed": true
   },
   "outputs": [],
   "source": [
    "def my_function(first_name, last_name, current_age, n):\n",
    "    age_in_n_years = \n",
    "    ret_string = \n",
    "    return ret_string"
   ]
  },
  {
   "cell_type": "markdown",
   "metadata": {},
   "source": [
    "## Exercise 2.1: Iterating through lists"
   ]
  }
 ],
 "metadata": {
  "anaconda-cloud": {},
  "kernelspec": {
   "display_name": "Python [Root]",
   "language": "python",
   "name": "Python [Root]"
  },
  "language_info": {
   "codemirror_mode": {
    "name": "ipython",
    "version": 3
   },
   "file_extension": ".py",
   "mimetype": "text/x-python",
   "name": "python",
   "nbconvert_exporter": "python",
   "pygments_lexer": "ipython3",
   "version": "3.5.2"
  }
 },
 "nbformat": 4,
 "nbformat_minor": 0
}
