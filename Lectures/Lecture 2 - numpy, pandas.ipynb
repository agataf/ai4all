{
 "cells": [
  {
   "cell_type": "markdown",
   "metadata": {},
   "source": [
    "sources:\n",
    "\n",
    "https://pandas.pydata.org/pandas-docs/stable/10min.html\n",
    "        "
   ]
  },
  {
   "cell_type": "markdown",
   "metadata": {},
   "source": [
    "# Python Libraries\n",
    "Python libraries are sets of functions written by other people and open sourced for the general use. You do not need to worry about how the function is implemented - you can just call it according to the *library spec*. Some of the libraries popular in AI research are:\n",
    "\n",
    "For data manipulation:\n",
    "* **numpy** - for efficient math and dealing with operations on tables and matrices\n",
    "* **pandas** - similar to numpy, more readable, more similar to the R programming language\n",
    "\n",
    "For visualization:\n",
    "* **matplotlib** - plotting\n",
    "\n",
    "We will not be using the following libraries, but you will probably use them in the future:\n",
    "\n",
    "For Machine Learning calculations\n",
    "* TensorFlow - offering efficient implementations of Machine Learning algorithms, such as Neural Networks\n",
    "* PyTorch\n",
    "* Caffe"
   ]
  },
  {
   "cell_type": "markdown",
   "metadata": {},
   "source": [
    "## Importing a library"
   ]
  },
  {
   "cell_type": "code",
   "execution_count": null,
   "metadata": {
    "collapsed": true
   },
   "outputs": [],
   "source": [
    "import pandas as pd\n",
    "import numpy as np\n",
    "import matplotlib.pyplot as plt"
   ]
  },
  {
   "cell_type": "markdown",
   "metadata": {},
   "source": [
    "What we need to learn from pandas:\n",
    "* how to make 2D arrays\n",
    "* how indexing works\n",
    "* how to add two rows\n",
    "* find mean of a row\n",
    "* display the mean, median of a row, histogram it\n",
    "* how to flip axes\n",
    "* how to access row/column with a specific name\n",
    "* how to convert a column into indices"
   ]
  },
  {
   "cell_type": "markdown",
   "metadata": {},
   "source": [
    "## Indexing in numpy"
   ]
  },
  {
   "cell_type": "code",
   "execution_count": null,
   "metadata": {
    "collapsed": true
   },
   "outputs": [],
   "source": [
    "married[married==True].index.values"
   ]
  },
  {
   "cell_type": "markdown",
   "metadata": {},
   "source": [
    "## Dealing with NaNs"
   ]
  },
  {
   "cell_type": "code",
   "execution_count": null,
   "metadata": {
    "collapsed": true
   },
   "outputs": [],
   "source": [
    "array[~np.isnan(bg.cm1age)]"
   ]
  }
 ],
 "metadata": {
  "kernelspec": {
   "display_name": "Python [Root]",
   "language": "python",
   "name": "Python [Root]"
  },
  "language_info": {
   "codemirror_mode": {
    "name": "ipython",
    "version": 3
   },
   "file_extension": ".py",
   "mimetype": "text/x-python",
   "name": "python",
   "nbconvert_exporter": "python",
   "pygments_lexer": "ipython3",
   "version": "3.5.2"
  }
 },
 "nbformat": 4,
 "nbformat_minor": 0
}
