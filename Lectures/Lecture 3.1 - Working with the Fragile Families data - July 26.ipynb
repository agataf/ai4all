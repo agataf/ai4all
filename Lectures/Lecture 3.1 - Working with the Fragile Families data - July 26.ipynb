{
 "cells": [
  {
   "cell_type": "markdown",
   "metadata": {},
   "source": [
    "# Working with the Fragile Families Challenge data"
   ]
  },
  {
   "cell_type": "markdown",
   "metadata": {},
   "source": [
    "# Table of contents\n",
    "[1. Reading in the data](#1.-Reading-in-the-Data)\n",
    "\n",
    "[2. Understanding column names](#2.-Understanding-column-names)\n",
    "\n",
    "[3. Subselecting variables](#4.-Subselecting-variables)\n",
    "\n",
    "[4. Imputation](#4.-Imputation)"
   ]
  },
  {
   "cell_type": "code",
   "execution_count": 3,
   "metadata": {
    "collapsed": true
   },
   "outputs": [],
   "source": [
    "# First, we import the libraries we will use in this notebook and load the Fragile Families data. \n",
    "%matplotlib inline \n",
    "import pandas as pd\n",
    "import sys"
   ]
  },
  {
   "cell_type": "markdown",
   "metadata": {},
   "source": [
    "# 1. Reading in the data\n",
    "When you download the challenge data, you should have the following data files:\n",
    "- **`background.csv`**: the set of questionaire answers from years 0, 1, 3, 5 and 9\n",
    "- **`train.csv`**: the set of 6 features from year 15 to be predicted (train split)\n",
    "- **`test.csv`**: the set of 6 features from year 15 to be predicted (test split)\n",
    "\n",
    "Let's read these files one by one and inspect them."
   ]
  },
  {
   "cell_type": "code",
   "execution_count": 54,
   "metadata": {
    "collapsed": true
   },
   "outputs": [],
   "source": [
    "# Give the absolute path to the \n",
    "background = \"../../ai4all_data/background.csv\""
   ]
  },
  {
   "cell_type": "markdown",
   "metadata": {},
   "source": [
    "The Fragile Families data is saved in CSV files. CSV files are \"comma separated values\" files and are a very common format used to save tabular (excel-like) data. To create a DataFrame from a CSV file, we use the Pandas read_csv function."
   ]
  },
  {
   "cell_type": "code",
   "execution_count": 52,
   "metadata": {
    "collapsed": true
   },
   "outputs": [],
   "source": [
    "# Read in data\n",
    "data_frame = pd.read_csv(background, low_memory=False)"
   ]
  },
  {
   "cell_type": "markdown",
   "metadata": {},
   "source": [
    "We can display the shapes of the dataframes by calling the shape function (notice no parentheses!)"
   ]
  },
  {
   "cell_type": "code",
   "execution_count": 45,
   "metadata": {
    "collapsed": false
   },
   "outputs": [
    {
     "name": "stdout",
     "output_type": "stream",
     "text": [
      "Background data frame shape is: (4242, 12942)\n"
     ]
    }
   ],
   "source": [
    "print(\"Background data frame shape is:\", data_frame.shape)"
   ]
  },
  {
   "cell_type": "markdown",
   "metadata": {},
   "source": [
    "We can display the first few rows of the data frame by calling the .head() function:"
   ]
  },
  {
   "cell_type": "code",
   "execution_count": 6,
   "metadata": {
    "collapsed": false
   },
   "outputs": [
    {
     "data": {
      "text/html": [
       "<div>\n",
       "<style scoped>\n",
       "    .dataframe tbody tr th:only-of-type {\n",
       "        vertical-align: middle;\n",
       "    }\n",
       "\n",
       "    .dataframe tbody tr th {\n",
       "        vertical-align: top;\n",
       "    }\n",
       "\n",
       "    .dataframe thead th {\n",
       "        text-align: right;\n",
       "    }\n",
       "</style>\n",
       "<table border=\"1\" class=\"dataframe\">\n",
       "  <thead>\n",
       "    <tr style=\"text-align: right;\">\n",
       "      <th></th>\n",
       "      <th>challengeID</th>\n",
       "      <th>m1intmon</th>\n",
       "      <th>m1intyr</th>\n",
       "      <th>m1lenhr</th>\n",
       "      <th>m1lenmin</th>\n",
       "      <th>cm1twoc</th>\n",
       "      <th>cm1fint</th>\n",
       "      <th>cm1tdiff</th>\n",
       "      <th>cm1natsm</th>\n",
       "      <th>m1natwt</th>\n",
       "      <th>...</th>\n",
       "      <th>m4d9</th>\n",
       "      <th>m4e23</th>\n",
       "      <th>f4d6</th>\n",
       "      <th>f4d7</th>\n",
       "      <th>f4d9</th>\n",
       "      <th>m5c6</th>\n",
       "      <th>m5d20</th>\n",
       "      <th>m5k10</th>\n",
       "      <th>f5c6</th>\n",
       "      <th>k5f1</th>\n",
       "    </tr>\n",
       "  </thead>\n",
       "  <tbody>\n",
       "    <tr>\n",
       "      <th>0</th>\n",
       "      <td>1</td>\n",
       "      <td>-3</td>\n",
       "      <td>NaN</td>\n",
       "      <td>-3</td>\n",
       "      <td>40</td>\n",
       "      <td>NaN</td>\n",
       "      <td>0</td>\n",
       "      <td>NaN</td>\n",
       "      <td>NaN</td>\n",
       "      <td>NaN</td>\n",
       "      <td>...</td>\n",
       "      <td>-3.0</td>\n",
       "      <td>-3.000000</td>\n",
       "      <td>-3.000000</td>\n",
       "      <td>-3.000000</td>\n",
       "      <td>-3.0</td>\n",
       "      <td>-3.000000</td>\n",
       "      <td>-3.000000</td>\n",
       "      <td>-3</td>\n",
       "      <td>-3.000000</td>\n",
       "      <td>-3.000000</td>\n",
       "    </tr>\n",
       "    <tr>\n",
       "      <th>1</th>\n",
       "      <td>2</td>\n",
       "      <td>-3</td>\n",
       "      <td>NaN</td>\n",
       "      <td>0</td>\n",
       "      <td>40</td>\n",
       "      <td>NaN</td>\n",
       "      <td>1</td>\n",
       "      <td>NaN</td>\n",
       "      <td>NaN</td>\n",
       "      <td>NaN</td>\n",
       "      <td>...</td>\n",
       "      <td>-3.0</td>\n",
       "      <td>8.473318</td>\n",
       "      <td>-3.000000</td>\n",
       "      <td>-3.000000</td>\n",
       "      <td>-3.0</td>\n",
       "      <td>-3.000000</td>\n",
       "      <td>9.845074</td>\n",
       "      <td>-3</td>\n",
       "      <td>-3.000000</td>\n",
       "      <td>9.723551</td>\n",
       "    </tr>\n",
       "    <tr>\n",
       "      <th>2</th>\n",
       "      <td>3</td>\n",
       "      <td>-3</td>\n",
       "      <td>NaN</td>\n",
       "      <td>0</td>\n",
       "      <td>35</td>\n",
       "      <td>NaN</td>\n",
       "      <td>1</td>\n",
       "      <td>NaN</td>\n",
       "      <td>NaN</td>\n",
       "      <td>NaN</td>\n",
       "      <td>...</td>\n",
       "      <td>-3.0</td>\n",
       "      <td>-3.000000</td>\n",
       "      <td>9.097495</td>\n",
       "      <td>10.071504</td>\n",
       "      <td>-3.0</td>\n",
       "      <td>-3.000000</td>\n",
       "      <td>-3.000000</td>\n",
       "      <td>-3</td>\n",
       "      <td>-3.000000</td>\n",
       "      <td>-3.000000</td>\n",
       "    </tr>\n",
       "    <tr>\n",
       "      <th>3</th>\n",
       "      <td>4</td>\n",
       "      <td>-3</td>\n",
       "      <td>NaN</td>\n",
       "      <td>0</td>\n",
       "      <td>30</td>\n",
       "      <td>NaN</td>\n",
       "      <td>1</td>\n",
       "      <td>NaN</td>\n",
       "      <td>NaN</td>\n",
       "      <td>NaN</td>\n",
       "      <td>...</td>\n",
       "      <td>-3.0</td>\n",
       "      <td>-3.000000</td>\n",
       "      <td>9.512706</td>\n",
       "      <td>10.286578</td>\n",
       "      <td>-3.0</td>\n",
       "      <td>10.677285</td>\n",
       "      <td>-3.000000</td>\n",
       "      <td>-3</td>\n",
       "      <td>8.522331</td>\n",
       "      <td>10.608137</td>\n",
       "    </tr>\n",
       "    <tr>\n",
       "      <th>4</th>\n",
       "      <td>5</td>\n",
       "      <td>-3</td>\n",
       "      <td>NaN</td>\n",
       "      <td>0</td>\n",
       "      <td>25</td>\n",
       "      <td>NaN</td>\n",
       "      <td>1</td>\n",
       "      <td>NaN</td>\n",
       "      <td>NaN</td>\n",
       "      <td>NaN</td>\n",
       "      <td>...</td>\n",
       "      <td>-3.0</td>\n",
       "      <td>-3.000000</td>\n",
       "      <td>11.076016</td>\n",
       "      <td>9.615958</td>\n",
       "      <td>-3.0</td>\n",
       "      <td>9.731979</td>\n",
       "      <td>-3.000000</td>\n",
       "      <td>-3</td>\n",
       "      <td>10.115313</td>\n",
       "      <td>9.646466</td>\n",
       "    </tr>\n",
       "  </tbody>\n",
       "</table>\n",
       "<p>5 rows × 12943 columns</p>\n",
       "</div>"
      ],
      "text/plain": [
       "   challengeID  m1intmon  m1intyr  m1lenhr  m1lenmin  cm1twoc  cm1fint  \\\n",
       "0            1        -3      NaN       -3        40      NaN        0   \n",
       "1            2        -3      NaN        0        40      NaN        1   \n",
       "2            3        -3      NaN        0        35      NaN        1   \n",
       "3            4        -3      NaN        0        30      NaN        1   \n",
       "4            5        -3      NaN        0        25      NaN        1   \n",
       "\n",
       "   cm1tdiff  cm1natsm  m1natwt    ...      m4d9     m4e23       f4d6  \\\n",
       "0       NaN       NaN      NaN    ...      -3.0 -3.000000  -3.000000   \n",
       "1       NaN       NaN      NaN    ...      -3.0  8.473318  -3.000000   \n",
       "2       NaN       NaN      NaN    ...      -3.0 -3.000000   9.097495   \n",
       "3       NaN       NaN      NaN    ...      -3.0 -3.000000   9.512706   \n",
       "4       NaN       NaN      NaN    ...      -3.0 -3.000000  11.076016   \n",
       "\n",
       "        f4d7  f4d9       m5c6     m5d20  m5k10       f5c6       k5f1  \n",
       "0  -3.000000  -3.0  -3.000000 -3.000000     -3  -3.000000  -3.000000  \n",
       "1  -3.000000  -3.0  -3.000000  9.845074     -3  -3.000000   9.723551  \n",
       "2  10.071504  -3.0  -3.000000 -3.000000     -3  -3.000000  -3.000000  \n",
       "3  10.286578  -3.0  10.677285 -3.000000     -3   8.522331  10.608137  \n",
       "4   9.615958  -3.0   9.731979 -3.000000     -3  10.115313   9.646466  \n",
       "\n",
       "[5 rows x 12943 columns]"
      ]
     },
     "execution_count": 6,
     "metadata": {},
     "output_type": "execute_result"
    }
   ],
   "source": [
    "data_frame.head()"
   ]
  },
  {
   "cell_type": "markdown",
   "metadata": {},
   "source": [
    "# 2. Understanding column names\n",
    "\n",
    "Each row in the data frame represents a single family enrolled in the Fragile Families study. Each column represents a different *variable* - information collected about that family. The row labels is the default numbering of rows starting at 0 while the column labels are the names of the variables. However, this names don't make much sense!\n",
    "\n",
    "The first column labelled \"challengeID\" is the a unique identifier for each family. So challengeID=5 stands for the family identified as Family 5."
   ]
  },
  {
   "cell_type": "markdown",
   "metadata": {},
   "source": [
    "First, let's use the challengeID as the labels for the rows. This way, we can refer to Family 5 by referring to variables in data_frame for the row with label \"5\". To do this, we can use the \"data_frame.set_index('row label')\" function where we set the row label to 'challengeID':  "
   ]
  },
  {
   "cell_type": "code",
   "execution_count": 53,
   "metadata": {
    "collapsed": false
   },
   "outputs": [
    {
     "data": {
      "text/html": [
       "<div>\n",
       "<style scoped>\n",
       "    .dataframe tbody tr th:only-of-type {\n",
       "        vertical-align: middle;\n",
       "    }\n",
       "\n",
       "    .dataframe tbody tr th {\n",
       "        vertical-align: top;\n",
       "    }\n",
       "\n",
       "    .dataframe thead th {\n",
       "        text-align: right;\n",
       "    }\n",
       "</style>\n",
       "<table border=\"1\" class=\"dataframe\">\n",
       "  <thead>\n",
       "    <tr style=\"text-align: right;\">\n",
       "      <th></th>\n",
       "      <th>m1intmon</th>\n",
       "      <th>m1intyr</th>\n",
       "      <th>m1lenhr</th>\n",
       "      <th>m1lenmin</th>\n",
       "      <th>cm1twoc</th>\n",
       "      <th>cm1fint</th>\n",
       "      <th>cm1tdiff</th>\n",
       "      <th>cm1natsm</th>\n",
       "      <th>m1natwt</th>\n",
       "      <th>cm1natsmx</th>\n",
       "      <th>...</th>\n",
       "      <th>m4d9</th>\n",
       "      <th>m4e23</th>\n",
       "      <th>f4d6</th>\n",
       "      <th>f4d7</th>\n",
       "      <th>f4d9</th>\n",
       "      <th>m5c6</th>\n",
       "      <th>m5d20</th>\n",
       "      <th>m5k10</th>\n",
       "      <th>f5c6</th>\n",
       "      <th>k5f1</th>\n",
       "    </tr>\n",
       "    <tr>\n",
       "      <th>challengeID</th>\n",
       "      <th></th>\n",
       "      <th></th>\n",
       "      <th></th>\n",
       "      <th></th>\n",
       "      <th></th>\n",
       "      <th></th>\n",
       "      <th></th>\n",
       "      <th></th>\n",
       "      <th></th>\n",
       "      <th></th>\n",
       "      <th></th>\n",
       "      <th></th>\n",
       "      <th></th>\n",
       "      <th></th>\n",
       "      <th></th>\n",
       "      <th></th>\n",
       "      <th></th>\n",
       "      <th></th>\n",
       "      <th></th>\n",
       "      <th></th>\n",
       "      <th></th>\n",
       "    </tr>\n",
       "  </thead>\n",
       "  <tbody>\n",
       "    <tr>\n",
       "      <th>1</th>\n",
       "      <td>-3</td>\n",
       "      <td>NaN</td>\n",
       "      <td>-3</td>\n",
       "      <td>40</td>\n",
       "      <td>NaN</td>\n",
       "      <td>0</td>\n",
       "      <td>NaN</td>\n",
       "      <td>NaN</td>\n",
       "      <td>NaN</td>\n",
       "      <td>NaN</td>\n",
       "      <td>...</td>\n",
       "      <td>-3.0</td>\n",
       "      <td>-3.000000</td>\n",
       "      <td>-3.000000</td>\n",
       "      <td>-3.000000</td>\n",
       "      <td>-3.0</td>\n",
       "      <td>-3.000000</td>\n",
       "      <td>-3.000000</td>\n",
       "      <td>-3</td>\n",
       "      <td>-3.000000</td>\n",
       "      <td>-3.000000</td>\n",
       "    </tr>\n",
       "    <tr>\n",
       "      <th>2</th>\n",
       "      <td>-3</td>\n",
       "      <td>NaN</td>\n",
       "      <td>0</td>\n",
       "      <td>40</td>\n",
       "      <td>NaN</td>\n",
       "      <td>1</td>\n",
       "      <td>NaN</td>\n",
       "      <td>NaN</td>\n",
       "      <td>NaN</td>\n",
       "      <td>NaN</td>\n",
       "      <td>...</td>\n",
       "      <td>-3.0</td>\n",
       "      <td>8.473318</td>\n",
       "      <td>-3.000000</td>\n",
       "      <td>-3.000000</td>\n",
       "      <td>-3.0</td>\n",
       "      <td>-3.000000</td>\n",
       "      <td>9.845074</td>\n",
       "      <td>-3</td>\n",
       "      <td>-3.000000</td>\n",
       "      <td>9.723551</td>\n",
       "    </tr>\n",
       "    <tr>\n",
       "      <th>3</th>\n",
       "      <td>-3</td>\n",
       "      <td>NaN</td>\n",
       "      <td>0</td>\n",
       "      <td>35</td>\n",
       "      <td>NaN</td>\n",
       "      <td>1</td>\n",
       "      <td>NaN</td>\n",
       "      <td>NaN</td>\n",
       "      <td>NaN</td>\n",
       "      <td>NaN</td>\n",
       "      <td>...</td>\n",
       "      <td>-3.0</td>\n",
       "      <td>-3.000000</td>\n",
       "      <td>9.097495</td>\n",
       "      <td>10.071504</td>\n",
       "      <td>-3.0</td>\n",
       "      <td>-3.000000</td>\n",
       "      <td>-3.000000</td>\n",
       "      <td>-3</td>\n",
       "      <td>-3.000000</td>\n",
       "      <td>-3.000000</td>\n",
       "    </tr>\n",
       "    <tr>\n",
       "      <th>4</th>\n",
       "      <td>-3</td>\n",
       "      <td>NaN</td>\n",
       "      <td>0</td>\n",
       "      <td>30</td>\n",
       "      <td>NaN</td>\n",
       "      <td>1</td>\n",
       "      <td>NaN</td>\n",
       "      <td>NaN</td>\n",
       "      <td>NaN</td>\n",
       "      <td>NaN</td>\n",
       "      <td>...</td>\n",
       "      <td>-3.0</td>\n",
       "      <td>-3.000000</td>\n",
       "      <td>9.512706</td>\n",
       "      <td>10.286578</td>\n",
       "      <td>-3.0</td>\n",
       "      <td>10.677285</td>\n",
       "      <td>-3.000000</td>\n",
       "      <td>-3</td>\n",
       "      <td>8.522331</td>\n",
       "      <td>10.608137</td>\n",
       "    </tr>\n",
       "    <tr>\n",
       "      <th>5</th>\n",
       "      <td>-3</td>\n",
       "      <td>NaN</td>\n",
       "      <td>0</td>\n",
       "      <td>25</td>\n",
       "      <td>NaN</td>\n",
       "      <td>1</td>\n",
       "      <td>NaN</td>\n",
       "      <td>NaN</td>\n",
       "      <td>NaN</td>\n",
       "      <td>NaN</td>\n",
       "      <td>...</td>\n",
       "      <td>-3.0</td>\n",
       "      <td>-3.000000</td>\n",
       "      <td>11.076016</td>\n",
       "      <td>9.615958</td>\n",
       "      <td>-3.0</td>\n",
       "      <td>9.731979</td>\n",
       "      <td>-3.000000</td>\n",
       "      <td>-3</td>\n",
       "      <td>10.115313</td>\n",
       "      <td>9.646466</td>\n",
       "    </tr>\n",
       "  </tbody>\n",
       "</table>\n",
       "<p>5 rows × 12942 columns</p>\n",
       "</div>"
      ],
      "text/plain": [
       "             m1intmon  m1intyr  m1lenhr  m1lenmin  cm1twoc  cm1fint  cm1tdiff  \\\n",
       "challengeID                                                                     \n",
       "1                  -3      NaN       -3        40      NaN        0       NaN   \n",
       "2                  -3      NaN        0        40      NaN        1       NaN   \n",
       "3                  -3      NaN        0        35      NaN        1       NaN   \n",
       "4                  -3      NaN        0        30      NaN        1       NaN   \n",
       "5                  -3      NaN        0        25      NaN        1       NaN   \n",
       "\n",
       "             cm1natsm  m1natwt  cm1natsmx    ...      m4d9     m4e23  \\\n",
       "challengeID                                  ...                       \n",
       "1                 NaN      NaN        NaN    ...      -3.0 -3.000000   \n",
       "2                 NaN      NaN        NaN    ...      -3.0  8.473318   \n",
       "3                 NaN      NaN        NaN    ...      -3.0 -3.000000   \n",
       "4                 NaN      NaN        NaN    ...      -3.0 -3.000000   \n",
       "5                 NaN      NaN        NaN    ...      -3.0 -3.000000   \n",
       "\n",
       "                  f4d6       f4d7  f4d9       m5c6     m5d20  m5k10  \\\n",
       "challengeID                                                           \n",
       "1            -3.000000  -3.000000  -3.0  -3.000000 -3.000000     -3   \n",
       "2            -3.000000  -3.000000  -3.0  -3.000000  9.845074     -3   \n",
       "3             9.097495  10.071504  -3.0  -3.000000 -3.000000     -3   \n",
       "4             9.512706  10.286578  -3.0  10.677285 -3.000000     -3   \n",
       "5            11.076016   9.615958  -3.0   9.731979 -3.000000     -3   \n",
       "\n",
       "                  f5c6       k5f1  \n",
       "challengeID                        \n",
       "1            -3.000000  -3.000000  \n",
       "2            -3.000000   9.723551  \n",
       "3            -3.000000  -3.000000  \n",
       "4             8.522331  10.608137  \n",
       "5            10.115313   9.646466  \n",
       "\n",
       "[5 rows x 12942 columns]"
      ]
     },
     "execution_count": 53,
     "metadata": {},
     "output_type": "execute_result"
    }
   ],
   "source": [
    "data_frame = data_frame.set_index('challengeID')\n",
    "data_frame.head()"
   ]
  },
  {
   "cell_type": "markdown",
   "metadata": {},
   "source": [
    "For all other variables, the names appear to be not that helpful! Luckily for us, the Fragile Families project has a fantastic website that provides information on what each variable name represents, what type of variable it is, and what the values of the variable mean:\n",
    "\n",
    "[http://metadata.fragilefamilies.princeton.edu/variables](http://metadata.fragilefamilies.princeton.edu/variables)"
   ]
  },
  {
   "cell_type": "markdown",
   "metadata": {},
   "source": [
    "## 2.1. Checking if feature is present in the data_frame\n",
    "Note that not all variables listed on the website are accessible in our dataset. Some have been removed because they were considered sensitive data, or have not yet been released publicly. If you want to check if a given column name (metadata variable) is in the data frame, you can type"
   ]
  },
  {
   "cell_type": "code",
   "execution_count": 72,
   "metadata": {
    "collapsed": false
   },
   "outputs": [
    {
     "data": {
      "text/plain": [
       "False"
      ]
     },
     "execution_count": 72,
     "metadata": {},
     "output_type": "execute_result"
    }
   ],
   "source": [
    "\"p6b21\" in data_frame.columns"
   ]
  },
  {
   "cell_type": "code",
   "execution_count": 85,
   "metadata": {
    "collapsed": false
   },
   "outputs": [
    {
     "data": {
      "text/plain": [
       "True"
      ]
     },
     "execution_count": 85,
     "metadata": {},
     "output_type": "execute_result"
    }
   ],
   "source": [
    "\"k5e1a\" in data_frame.columns"
   ]
  },
  {
   "cell_type": "markdown",
   "metadata": {},
   "source": [
    "## 2.2. What about NaN values?"
   ]
  },
  {
   "cell_type": "markdown",
   "metadata": {},
   "source": [
    "Notice that we have a few NaN - not a number - values in the DataFrame. NaN entries appear in real-world datasets very often, usually signifying missing data. NaNs are also produced when dividing by zero, or casting a non-numerical value to a number.\n",
    "\n",
    "We will discuss dealing with NaNs in the Imputation section (below)."
   ]
  },
  {
   "cell_type": "markdown",
   "metadata": {},
   "source": [
    "# 3. Subselecting variables"
   ]
  },
  {
   "cell_type": "markdown",
   "metadata": {},
   "source": [
    "It is very hard to work with all 12,942 features at once when trying to predict outcomes - we would have to use very advanced methods to learn which features to discard, otherwise we'll just have a ton of features impacting outcomes to a very small extent.\n",
    "\n",
    "What we can do instead is to pick out a few potential features and try to predict the target variable using only those features."
   ]
  },
  {
   "cell_type": "markdown",
   "metadata": {},
   "source": [
    "## Problem 3.1. \n",
    "Let's assume we want to study the impact of various features on variable **`k5g2i`** *I (child) worry about doing well in school (in year 9).*\n",
    "\n",
    "Take a few minutes, and look through the metadata website and try to find 3 features which would be features which we would like to study along with **`k5g2i`**, among them:\n",
    "- one continuous\n",
    "- one binary \n",
    "- and one categorical (ordered or unordered)\n",
    "\n",
    "(Hint: use the Variable Type option on the metadata website to select the desired type)\n",
    "\n",
    "Let's down their names so that you can all share the features we found.\n",
    "\n",
    "## Answer:"
   ]
  },
  {
   "cell_type": "code",
   "execution_count": 95,
   "metadata": {
    "collapsed": true
   },
   "outputs": [],
   "source": [
    "feature_continuous = \"\" # what it means\n",
    "feature_binary = \"\" # what it means\n",
    "feature_categorical = \"\" # what it means\n",
    "\n",
    "############ TODO: comment out these lines #############\n",
    "feature_1 = \"t5e13\" # % children that complete hw\n",
    "feature_2 = \"p5i2a\" # participated in athletic activity\n",
    "feature_3 = \"t5c13a\" # math skills\n",
    "########################################################"
   ]
  },
  {
   "cell_type": "markdown",
   "metadata": {},
   "source": [
    "Let's now make a list that contains the names of all the variables we're interested in"
   ]
  },
  {
   "cell_type": "code",
   "execution_count": 96,
   "metadata": {
    "collapsed": false
   },
   "outputs": [
    {
     "data": {
      "text/plain": [
       "['k5g2i', 't5e13', 'p5i2a', 't5c13a']"
      ]
     },
     "execution_count": 96,
     "metadata": {},
     "output_type": "execute_result"
    }
   ],
   "source": [
    "selected_features = [\"k5g2i\", feature_1, feature_2, feature_3]\n",
    "selected_features"
   ]
  },
  {
   "cell_type": "markdown",
   "metadata": {},
   "source": [
    "## Problem 3.2\n",
    "Check if all the features you selected are in the data frame columns (see 2.1).\n",
    "\n",
    "(Hint: use the following loop format)"
   ]
  },
  {
   "cell_type": "code",
   "execution_count": 102,
   "metadata": {
    "collapsed": false
   },
   "outputs": [
    {
     "name": "stdout",
     "output_type": "stream",
     "text": [
      "Feature k5g2i is in the columns!\n",
      "Feature t5e13 is in the columns!\n",
      "Feature p5i2a is in the columns!\n",
      "Feature t5c13a is in the columns!\n"
     ]
    }
   ],
   "source": [
    "for feature in selected_features:\n",
    "    if feature in data_frame.columns:\n",
    "        print(\"Feature \" + feature + \" is in the columns!\")\n",
    "    else:\n",
    "        print(\"Feature \" + feature + \" is in NOT the columns!\")"
   ]
  },
  {
   "cell_type": "code",
   "execution_count": null,
   "metadata": {
    "collapsed": true
   },
   "outputs": [],
   "source": [
    "for feature in selected_features:\n",
    "    # if feature is in the columns:\n",
    "        print(\"Feature \" + feature + \" is in the columns!\")\n",
    "    # otherwise (remember the keyword for that in python?):\n",
    "        print(\"Feature \" + feature + \" is in NOT the columns!\")"
   ]
  },
  {
   "cell_type": "markdown",
   "metadata": {},
   "source": [
    "Now, let's create a new data frame that contains only these features."
   ]
  },
  {
   "cell_type": "code",
   "execution_count": 97,
   "metadata": {
    "collapsed": false
   },
   "outputs": [
    {
     "data": {
      "text/html": [
       "<div>\n",
       "<style scoped>\n",
       "    .dataframe tbody tr th:only-of-type {\n",
       "        vertical-align: middle;\n",
       "    }\n",
       "\n",
       "    .dataframe tbody tr th {\n",
       "        vertical-align: top;\n",
       "    }\n",
       "\n",
       "    .dataframe thead th {\n",
       "        text-align: right;\n",
       "    }\n",
       "</style>\n",
       "<table border=\"1\" class=\"dataframe\">\n",
       "  <thead>\n",
       "    <tr style=\"text-align: right;\">\n",
       "      <th></th>\n",
       "      <th>k5g2i</th>\n",
       "      <th>t5e13</th>\n",
       "      <th>p5i2a</th>\n",
       "      <th>t5c13a</th>\n",
       "    </tr>\n",
       "    <tr>\n",
       "      <th>challengeID</th>\n",
       "      <th></th>\n",
       "      <th></th>\n",
       "      <th></th>\n",
       "      <th></th>\n",
       "    </tr>\n",
       "  </thead>\n",
       "  <tbody>\n",
       "    <tr>\n",
       "      <th>1</th>\n",
       "      <td>-9</td>\n",
       "      <td>-9</td>\n",
       "      <td>-9</td>\n",
       "      <td>-9</td>\n",
       "    </tr>\n",
       "    <tr>\n",
       "      <th>2</th>\n",
       "      <td>1</td>\n",
       "      <td>90</td>\n",
       "      <td>2</td>\n",
       "      <td>3</td>\n",
       "    </tr>\n",
       "    <tr>\n",
       "      <th>3</th>\n",
       "      <td>-9</td>\n",
       "      <td>-9</td>\n",
       "      <td>2</td>\n",
       "      <td>-9</td>\n",
       "    </tr>\n",
       "    <tr>\n",
       "      <th>4</th>\n",
       "      <td>1</td>\n",
       "      <td>-9</td>\n",
       "      <td>1</td>\n",
       "      <td>-9</td>\n",
       "    </tr>\n",
       "    <tr>\n",
       "      <th>5</th>\n",
       "      <td>2</td>\n",
       "      <td>-9</td>\n",
       "      <td>1</td>\n",
       "      <td>-9</td>\n",
       "    </tr>\n",
       "  </tbody>\n",
       "</table>\n",
       "</div>"
      ],
      "text/plain": [
       "             k5g2i  t5e13  p5i2a  t5c13a\n",
       "challengeID                             \n",
       "1               -9     -9     -9      -9\n",
       "2                1     90      2       3\n",
       "3               -9     -9      2      -9\n",
       "4                1     -9      1      -9\n",
       "5                2     -9      1      -9"
      ]
     },
     "execution_count": 97,
     "metadata": {},
     "output_type": "execute_result"
    }
   ],
   "source": [
    "df = data_frame[selected_features]\n",
    "df.head()"
   ]
  },
  {
   "cell_type": "markdown",
   "metadata": {},
   "source": [
    "Let's take a closer look at the values displayed for each feature. Go back to the metadata website and look at response codes for all variables.\n",
    "\n",
    "Notice that the negative values in the Fragile Families dataset are reserved for missing values. There are various reasons for which data is missing.\n",
    "\n",
    "We need to remember that we cannot interpret missing values the same way we do actual responses.\n",
    "\n",
    "We talk more about dealing with missing values and NaN values in the imputation part of the notebook. For now, let's just remove all the rows which contain any missing values. You can use the functions provided below:"
   ]
  },
  {
   "cell_type": "code",
   "execution_count": 92,
   "metadata": {
    "collapsed": true
   },
   "outputs": [],
   "source": [
    "'''\n",
    "This function removes rows containing NaNs from a \n",
    "DataFrame. Works for both 1D and 2D DataFrames.\n",
    "'''\n",
    "def remove_nan(data):\n",
    "    if len(data.shape)>1:\n",
    "        return data[(~np.isnan(data)).all(1)]\n",
    "    else:\n",
    "        return data[~np.isnan(data)]\n",
    "\n",
    "'''\n",
    "This function removes rows with values below 0 from a \n",
    "DataFrame. Works for both 1D and 2D DataFrames.\n",
    "'''\n",
    "def select_nonnegative(data):\n",
    "    if len(data.shape)>1:\n",
    "        return data[(data>=0).all(1)]\n",
    "    else:\n",
    "        return data[data>=0]"
   ]
  },
  {
   "cell_type": "code",
   "execution_count": 98,
   "metadata": {
    "collapsed": false
   },
   "outputs": [
    {
     "data": {
      "text/html": [
       "<div>\n",
       "<style scoped>\n",
       "    .dataframe tbody tr th:only-of-type {\n",
       "        vertical-align: middle;\n",
       "    }\n",
       "\n",
       "    .dataframe tbody tr th {\n",
       "        vertical-align: top;\n",
       "    }\n",
       "\n",
       "    .dataframe thead th {\n",
       "        text-align: right;\n",
       "    }\n",
       "</style>\n",
       "<table border=\"1\" class=\"dataframe\">\n",
       "  <thead>\n",
       "    <tr style=\"text-align: right;\">\n",
       "      <th></th>\n",
       "      <th>k5g2i</th>\n",
       "      <th>t5e13</th>\n",
       "      <th>p5i2a</th>\n",
       "      <th>t5c13a</th>\n",
       "    </tr>\n",
       "    <tr>\n",
       "      <th>challengeID</th>\n",
       "      <th></th>\n",
       "      <th></th>\n",
       "      <th></th>\n",
       "      <th></th>\n",
       "    </tr>\n",
       "  </thead>\n",
       "  <tbody>\n",
       "    <tr>\n",
       "      <th>2</th>\n",
       "      <td>1</td>\n",
       "      <td>90</td>\n",
       "      <td>2</td>\n",
       "      <td>3</td>\n",
       "    </tr>\n",
       "    <tr>\n",
       "      <th>9</th>\n",
       "      <td>0</td>\n",
       "      <td>95</td>\n",
       "      <td>2</td>\n",
       "      <td>1</td>\n",
       "    </tr>\n",
       "    <tr>\n",
       "      <th>11</th>\n",
       "      <td>0</td>\n",
       "      <td>25</td>\n",
       "      <td>1</td>\n",
       "      <td>4</td>\n",
       "    </tr>\n",
       "    <tr>\n",
       "      <th>12</th>\n",
       "      <td>0</td>\n",
       "      <td>98</td>\n",
       "      <td>2</td>\n",
       "      <td>4</td>\n",
       "    </tr>\n",
       "    <tr>\n",
       "      <th>14</th>\n",
       "      <td>0</td>\n",
       "      <td>90</td>\n",
       "      <td>1</td>\n",
       "      <td>3</td>\n",
       "    </tr>\n",
       "  </tbody>\n",
       "</table>\n",
       "</div>"
      ],
      "text/plain": [
       "             k5g2i  t5e13  p5i2a  t5c13a\n",
       "challengeID                             \n",
       "2                1     90      2       3\n",
       "9                0     95      2       1\n",
       "11               0     25      1       4\n",
       "12               0     98      2       4\n",
       "14               0     90      1       3"
      ]
     },
     "execution_count": 98,
     "metadata": {},
     "output_type": "execute_result"
    }
   ],
   "source": [
    "df = remove_nan(df)\n",
    "df = select_nonnegative(df)\n",
    "df.head()"
   ]
  },
  {
   "cell_type": "code",
   "execution_count": 99,
   "metadata": {
    "collapsed": false
   },
   "outputs": [
    {
     "data": {
      "text/plain": [
       "(1932, 4)"
      ]
     },
     "execution_count": 99,
     "metadata": {},
     "output_type": "execute_result"
    }
   ],
   "source": [
    "df.shape"
   ]
  },
  {
   "cell_type": "markdown",
   "metadata": {},
   "source": [
    "If your data frame at this point is empty, don't despair - this simply means that your feature have a lot of missing values in them. You can go back and look for better features, or plug in the ones we've already tested:"
   ]
  },
  {
   "cell_type": "code",
   "execution_count": 100,
   "metadata": {
    "collapsed": true
   },
   "outputs": [],
   "source": [
    "feature_1 = \"t5e13\" # % children that complete hw\n",
    "feature_2 = \"p5i2a\" # participated in athletic activity\n",
    "feature_3 = \"t5c13a\" # math skills"
   ]
  },
  {
   "cell_type": "markdown",
   "metadata": {},
   "source": [
    "We will put all these steps together in a single function so that we can just do it all at once next time:"
   ]
  },
  {
   "cell_type": "code",
   "execution_count": 105,
   "metadata": {
    "collapsed": true
   },
   "outputs": [],
   "source": [
    "'''\n",
    "This function takes in the backtround DataFrame,\n",
    "a list of desired background variables,\n",
    "and subselects them from the background frame.\n",
    "It returns a single DataFrame containing the desired columns, where \n",
    "corresponding rows between the two DataFrames have been subselected.\n",
    "\n",
    "The function also provides the options to remove nan variables and remove negative values.\n",
    "'''\n",
    "def pick_ff_variables(dataframe, features, remove_nans=False, remove_negatives=False):\n",
    "    for ft in features:\n",
    "        if ft not in dataframe.columns:\n",
    "            print(\"Feature \" + ft + \" is in NOT the columns - provide other features.\")\n",
    "    new_frame = dataframe[features]\n",
    "    if remove_nans:\n",
    "        if len(new_frame.shape)>1:\n",
    "            new_frame = new_frame[(~np.isnan(new_frame)).all(1)]\n",
    "        else:\n",
    "            new_frame = new_frame[~np.isnan(new_frame)]\n",
    "    if remove_negatives:\n",
    "        if len(new_frame.shape)>1:\n",
    "            new_frame = new_frame[(new_frame>=0).all(1)]\n",
    "        else:\n",
    "            new_frame = new_frame[new_frame>=0]\n",
    "    return new_frame"
   ]
  },
  {
   "cell_type": "markdown",
   "metadata": {},
   "source": [
    "Now you can reproduce the dataframe we created earlier by calling the function with your read-in **data_frame** and **selected_features**."
   ]
  },
  {
   "cell_type": "code",
   "execution_count": null,
   "metadata": {
    "collapsed": true
   },
   "outputs": [],
   "source": [
    "df1 = pick_ff_variables(data_frame, selected_features, remove_nans=True, remove_negatives=True)"
   ]
  },
  {
   "cell_type": "markdown",
   "metadata": {},
   "source": [
    "Check if the two data frames are indeed equivalent:"
   ]
  },
  {
   "cell_type": "code",
   "execution_count": 110,
   "metadata": {
    "collapsed": false
   },
   "outputs": [
    {
     "data": {
      "text/plain": [
       "True"
      ]
     },
     "execution_count": 110,
     "metadata": {},
     "output_type": "execute_result"
    }
   ],
   "source": [
    "df.equals(df1)"
   ]
  },
  {
   "cell_type": "markdown",
   "metadata": {},
   "source": [
    "# 4. Imputation"
   ]
  },
  {
   "cell_type": "markdown",
   "metadata": {},
   "source": [
    "## What should we do about missing values?\n",
    "Some researchers simply discard data samples where NaN values are present. This is problematic, because in relatively small datasets, this means getting rid of a large portion of the data.\n",
    "\n",
    "The alternative solution is to *impute* - or fill in - missing data points. However, correct imputation requires advanced statistical knowledge. Sometimes, the average of a given column is used to replace NaN values. Other times, values are copied from other rows which have similar entries in the non-missing columns (the K Nearest Neighbors algorithm, which you'll learn about in week 2).\n",
    "\n",
    "During this project, we will use three ways of dealing with missing data:\n",
    "* removing NaN and missing columns (see above)\n",
    "* filling in average values of the column (potentially making a simplifying assumption)\n",
    "* using the *K Nearest Neighbors (KNN)* algorithm described above\n",
    "\n",
    "We built functions which will deal with missing data in the examples you'll be seeing during the next two weeks. You can see them in the `imputation.py` file. However, it's important that you understand what goes on under the hood."
   ]
  },
  {
   "cell_type": "markdown",
   "metadata": {},
   "source": [
    "### 4.1. Filling the mean values in each column\n",
    "You can use a pandas function fillna:\n",
    "\n",
    "https://pandas.pydata.org/pandas-docs/version/0.23/generated/pandas.DataFrame.fillna.html"
   ]
  },
  {
   "cell_type": "code",
   "execution_count": 114,
   "metadata": {
    "collapsed": false
   },
   "outputs": [
    {
     "data": {
      "text/plain": [
       "k5g2i     -1.679868\n",
       "t5e13     33.846299\n",
       "p5i2a     -1.153230\n",
       "t5c13a    -3.379774\n",
       "dtype: float64"
      ]
     },
     "execution_count": 114,
     "metadata": {},
     "output_type": "execute_result"
    }
   ],
   "source": [
    "df_means =  data_frame[selected_features]\n",
    "data_mean = df_means.mean()\n",
    "data_mean"
   ]
  },
  {
   "cell_type": "code",
   "execution_count": 115,
   "metadata": {
    "collapsed": false
   },
   "outputs": [
    {
     "data": {
      "text/html": [
       "<div>\n",
       "<style scoped>\n",
       "    .dataframe tbody tr th:only-of-type {\n",
       "        vertical-align: middle;\n",
       "    }\n",
       "\n",
       "    .dataframe tbody tr th {\n",
       "        vertical-align: top;\n",
       "    }\n",
       "\n",
       "    .dataframe thead th {\n",
       "        text-align: right;\n",
       "    }\n",
       "</style>\n",
       "<table border=\"1\" class=\"dataframe\">\n",
       "  <thead>\n",
       "    <tr style=\"text-align: right;\">\n",
       "      <th></th>\n",
       "      <th>k5g2i</th>\n",
       "      <th>t5e13</th>\n",
       "      <th>p5i2a</th>\n",
       "      <th>t5c13a</th>\n",
       "    </tr>\n",
       "    <tr>\n",
       "      <th>challengeID</th>\n",
       "      <th></th>\n",
       "      <th></th>\n",
       "      <th></th>\n",
       "      <th></th>\n",
       "    </tr>\n",
       "  </thead>\n",
       "  <tbody>\n",
       "    <tr>\n",
       "      <th>1</th>\n",
       "      <td>-9</td>\n",
       "      <td>-9</td>\n",
       "      <td>-9</td>\n",
       "      <td>-9</td>\n",
       "    </tr>\n",
       "    <tr>\n",
       "      <th>2</th>\n",
       "      <td>1</td>\n",
       "      <td>90</td>\n",
       "      <td>2</td>\n",
       "      <td>3</td>\n",
       "    </tr>\n",
       "    <tr>\n",
       "      <th>3</th>\n",
       "      <td>-9</td>\n",
       "      <td>-9</td>\n",
       "      <td>2</td>\n",
       "      <td>-9</td>\n",
       "    </tr>\n",
       "    <tr>\n",
       "      <th>4</th>\n",
       "      <td>1</td>\n",
       "      <td>-9</td>\n",
       "      <td>1</td>\n",
       "      <td>-9</td>\n",
       "    </tr>\n",
       "    <tr>\n",
       "      <th>5</th>\n",
       "      <td>2</td>\n",
       "      <td>-9</td>\n",
       "      <td>1</td>\n",
       "      <td>-9</td>\n",
       "    </tr>\n",
       "  </tbody>\n",
       "</table>\n",
       "</div>"
      ],
      "text/plain": [
       "             k5g2i  t5e13  p5i2a  t5c13a\n",
       "challengeID                             \n",
       "1               -9     -9     -9      -9\n",
       "2                1     90      2       3\n",
       "3               -9     -9      2      -9\n",
       "4                1     -9      1      -9\n",
       "5                2     -9      1      -9"
      ]
     },
     "execution_count": 115,
     "metadata": {},
     "output_type": "execute_result"
    }
   ],
   "source": [
    "df_means = df_means.fillna(data_mean)\n",
    "df_means.head()"
   ]
  }
 ],
 "metadata": {
  "anaconda-cloud": {},
  "kernelspec": {
   "display_name": "Python [Root]",
   "language": "python",
   "name": "Python [Root]"
  },
  "language_info": {
   "codemirror_mode": {
    "name": "ipython",
    "version": 3
   },
   "file_extension": ".py",
   "mimetype": "text/x-python",
   "name": "python",
   "nbconvert_exporter": "python",
   "pygments_lexer": "ipython3",
   "version": "3.5.2"
  }
 },
 "nbformat": 4,
 "nbformat_minor": 2
}
