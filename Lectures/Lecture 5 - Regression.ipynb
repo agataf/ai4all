{
 "cells": [
  {
   "cell_type": "markdown",
   "metadata": {},
   "source": [
    "# Regression\n",
    "\n",
    "One of the most important and common question concerning data analysis if there is a statistical relationship between a response variable $Y$ and explanatory variables $X_i$. An common, powerful framework to address this question is to employ regression analysis in order to model the relationship. There are various types of regression analysis. The type of the regression model depends on the type of the distribution of the response variable $Y$; if it is continuous we use a linear regression model and if it is binary (i.e., 0 or 1) we use logistic regression. By modeling we try to predict the outcome $Y$ based on values of a set of predictor variables $X_i$ and noise $\\epsilon$. These methods allow us to assess the effects that the predictors $X_i$ have in the outcome $Y$. \n",
    "\n",
    "We will cover four different types of regression:\n",
    "\n",
    "1) Linear Regression (Models the value of one continuous outcome Y given one continuous or discrete predictor X)\n",
    "\n",
    "$$Y = c_0 + c_1 X + \\epsilon$$\n",
    "\n",
    "2) Multiple Linear Regression (Models the value of one continuous outcome Y given multiple continuous, discrete, or categorical predictors Xi)\n",
    "\n",
    "$$Y = c_0 + c_1 X_1 + c_2 X_2 + c_3 X_3 + \\dots + c_n X_n + \\epsilon$$\n",
    "\n",
    "3) Logistic Regression (Models the probability of a binary outcome Y given one continuous or discrete predictor X)\n",
    "\n",
    "$$\\frac{p(Y)}{1-p(Y)} = c_0 + c_1 X + \\epsilon$$\n",
    "\n",
    "4) Multiple Logistic Regression (Models the probability of a binary outcome Y given multiple continuous, discrete, or categorical predictors Xi)\n",
    "\n",
    "$$\\frac{p(Y)}{1-p(Y)} = c_0 + c_1 X_1 + c_2 X_2 + c_3 X_3 + \\dots + c_n X_n + \\epsilon$$"
   ]
  },
  {
   "cell_type": "markdown",
   "metadata": {},
   "source": [
    "## Linear Regression\n",
    "\n",
    "Linear regression is a linear approach to modelling the relationship between a continuous variable (called the outcome or the dependent variable) and one explanatory variable (called predictor or independent variable). \n",
    "\n",
    "In linear regression, we plot the data on a scatter plot and then compute the best-fit line through the data points. The term \"best-fit\" refers to the fact that the resulting line minimizes the squared distance between the data points and the line. \n",
    "\n",
    "The best-fit line is described by the equation:\n",
    "\n",
    "$$Y = c_0 + c_1 X + \\epsilon$$\n",
    "\n",
    "where $c_0$ is the regression coefficient associated with the value of $Y$ when $X=0$, $c_1$ is the regression coefficient that tells us by how much $Y$ changes when $X$ is not zero, and $\\epsilon$ is noise. For now, we will set $\\epsilon$ to zero, meaning we will ignore the effects of noise. The resulting equation $Y = c_0 + c_1 X$ is just the equation for a line with $c_0$ as its y-intercept and $c_1$ is its slope. \n",
    "\n",
    "The best-fit line provides what is known as a linear model which allows us to make predictions about the value of $Y$ given the value of $X$.\n",
    "\n",
    "In this section we will build a linear regression model to predict the child's GPA scores. As a predictor, we will use language and literacy skills (feature `t5c13a`), science and social skills (feature `t5c13b`), and math skills (feature `t5c13c`)."
   ]
  },
  {
   "cell_type": "code",
<<<<<<< HEAD
   "execution_count": 5,
   "metadata": {
    "collapsed": true
   },
=======
   "execution_count": 93,
   "metadata": {},
>>>>>>> edc129993c2bfbf6c5aa8499aff4d997bf7eaf0d
   "outputs": [],
   "source": [
    "# First, we import the libraries we will use in this notebook and load the Fragile Families data. \n",
    "# The first line sets maplotlib plots to show inside the notebook.\n",
    "%matplotlib inline \n",
    "import matplotlib.pyplot as plt\n",
    "import numpy as np\n",
    "import scipy.stats as stats\n",
    "import pandas as pd\n",
    "\n",
    "# Directory with cleaned data\n",
    "background = \"../../ai4all_data/background.csv\"\n",
    "train = \"../../ai4all_data/train.csv\"\n",
    "output_dir = \"../output\""
   ]
  },
  {
   "cell_type": "markdown",
   "metadata": {},
   "source": [
    "# Data preprocessing\n",
    "\n",
    "### Read in data"
   ]
  },
  {
   "cell_type": "code",
<<<<<<< HEAD
   "execution_count": 6,
=======
   "execution_count": 94,
>>>>>>> edc129993c2bfbf6c5aa8499aff4d997bf7eaf0d
   "metadata": {},
   "outputs": [
    {
     "name": "stdout",
     "output_type": "stream",
     "text": [
      "(4242, 12943)\n"
     ]
    },
    {
     "data": {
      "text/html": [
       "<div>\n",
       "<style scoped>\n",
       "    .dataframe tbody tr th:only-of-type {\n",
       "        vertical-align: middle;\n",
       "    }\n",
       "\n",
       "    .dataframe tbody tr th {\n",
       "        vertical-align: top;\n",
       "    }\n",
       "\n",
       "    .dataframe thead th {\n",
       "        text-align: right;\n",
       "    }\n",
       "</style>\n",
       "<table border=\"1\" class=\"dataframe\">\n",
       "  <thead>\n",
       "    <tr style=\"text-align: right;\">\n",
       "      <th></th>\n",
       "      <th>challengeID</th>\n",
       "      <th>m1intmon</th>\n",
       "      <th>m1intyr</th>\n",
       "      <th>m1lenhr</th>\n",
       "      <th>m1lenmin</th>\n",
       "      <th>cm1twoc</th>\n",
       "      <th>cm1fint</th>\n",
       "      <th>cm1tdiff</th>\n",
       "      <th>cm1natsm</th>\n",
       "      <th>m1natwt</th>\n",
       "      <th>...</th>\n",
       "      <th>m4d9</th>\n",
       "      <th>m4e23</th>\n",
       "      <th>f4d6</th>\n",
       "      <th>f4d7</th>\n",
       "      <th>f4d9</th>\n",
       "      <th>m5c6</th>\n",
       "      <th>m5d20</th>\n",
       "      <th>m5k10</th>\n",
       "      <th>f5c6</th>\n",
       "      <th>k5f1</th>\n",
       "    </tr>\n",
       "  </thead>\n",
       "  <tbody>\n",
       "    <tr>\n",
       "      <th>0</th>\n",
       "      <td>1</td>\n",
       "      <td>-3</td>\n",
       "      <td>NaN</td>\n",
       "      <td>-3</td>\n",
       "      <td>40</td>\n",
       "      <td>NaN</td>\n",
       "      <td>0</td>\n",
       "      <td>NaN</td>\n",
       "      <td>NaN</td>\n",
       "      <td>NaN</td>\n",
       "      <td>...</td>\n",
       "      <td>-3.0</td>\n",
       "      <td>-3.000000</td>\n",
       "      <td>-3.000000</td>\n",
       "      <td>-3.000000</td>\n",
       "      <td>-3.0</td>\n",
       "      <td>-3.000000</td>\n",
       "      <td>-3.000000</td>\n",
       "      <td>-3</td>\n",
       "      <td>-3.000000</td>\n",
       "      <td>-3.000000</td>\n",
       "    </tr>\n",
       "    <tr>\n",
       "      <th>1</th>\n",
       "      <td>2</td>\n",
       "      <td>-3</td>\n",
       "      <td>NaN</td>\n",
       "      <td>0</td>\n",
       "      <td>40</td>\n",
       "      <td>NaN</td>\n",
       "      <td>1</td>\n",
       "      <td>NaN</td>\n",
       "      <td>NaN</td>\n",
       "      <td>NaN</td>\n",
       "      <td>...</td>\n",
       "      <td>-3.0</td>\n",
       "      <td>8.473318</td>\n",
       "      <td>-3.000000</td>\n",
       "      <td>-3.000000</td>\n",
       "      <td>-3.0</td>\n",
       "      <td>-3.000000</td>\n",
       "      <td>9.845074</td>\n",
       "      <td>-3</td>\n",
       "      <td>-3.000000</td>\n",
       "      <td>9.723551</td>\n",
       "    </tr>\n",
       "    <tr>\n",
       "      <th>2</th>\n",
       "      <td>3</td>\n",
       "      <td>-3</td>\n",
       "      <td>NaN</td>\n",
       "      <td>0</td>\n",
       "      <td>35</td>\n",
       "      <td>NaN</td>\n",
       "      <td>1</td>\n",
       "      <td>NaN</td>\n",
       "      <td>NaN</td>\n",
       "      <td>NaN</td>\n",
       "      <td>...</td>\n",
       "      <td>-3.0</td>\n",
       "      <td>-3.000000</td>\n",
       "      <td>9.097495</td>\n",
       "      <td>10.071504</td>\n",
       "      <td>-3.0</td>\n",
       "      <td>-3.000000</td>\n",
       "      <td>-3.000000</td>\n",
       "      <td>-3</td>\n",
       "      <td>-3.000000</td>\n",
       "      <td>-3.000000</td>\n",
       "    </tr>\n",
       "    <tr>\n",
       "      <th>3</th>\n",
       "      <td>4</td>\n",
       "      <td>-3</td>\n",
       "      <td>NaN</td>\n",
       "      <td>0</td>\n",
       "      <td>30</td>\n",
       "      <td>NaN</td>\n",
       "      <td>1</td>\n",
       "      <td>NaN</td>\n",
       "      <td>NaN</td>\n",
       "      <td>NaN</td>\n",
       "      <td>...</td>\n",
       "      <td>-3.0</td>\n",
       "      <td>-3.000000</td>\n",
       "      <td>9.512706</td>\n",
       "      <td>10.286578</td>\n",
       "      <td>-3.0</td>\n",
       "      <td>10.677285</td>\n",
       "      <td>-3.000000</td>\n",
       "      <td>-3</td>\n",
       "      <td>8.522331</td>\n",
       "      <td>10.608137</td>\n",
       "    </tr>\n",
       "    <tr>\n",
       "      <th>4</th>\n",
       "      <td>5</td>\n",
       "      <td>-3</td>\n",
       "      <td>NaN</td>\n",
       "      <td>0</td>\n",
       "      <td>25</td>\n",
       "      <td>NaN</td>\n",
       "      <td>1</td>\n",
       "      <td>NaN</td>\n",
       "      <td>NaN</td>\n",
       "      <td>NaN</td>\n",
       "      <td>...</td>\n",
       "      <td>-3.0</td>\n",
       "      <td>-3.000000</td>\n",
       "      <td>11.076016</td>\n",
       "      <td>9.615958</td>\n",
       "      <td>-3.0</td>\n",
       "      <td>9.731979</td>\n",
       "      <td>-3.000000</td>\n",
       "      <td>-3</td>\n",
       "      <td>10.115313</td>\n",
       "      <td>9.646466</td>\n",
       "    </tr>\n",
       "  </tbody>\n",
       "</table>\n",
       "<p>5 rows × 12943 columns</p>\n",
       "</div>"
      ],
      "text/plain": [
       "   challengeID  m1intmon  m1intyr  m1lenhr  m1lenmin  cm1twoc  cm1fint  \\\n",
       "0            1        -3      NaN       -3        40      NaN        0   \n",
       "1            2        -3      NaN        0        40      NaN        1   \n",
       "2            3        -3      NaN        0        35      NaN        1   \n",
       "3            4        -3      NaN        0        30      NaN        1   \n",
       "4            5        -3      NaN        0        25      NaN        1   \n",
       "\n",
       "   cm1tdiff  cm1natsm  m1natwt    ...      m4d9     m4e23       f4d6  \\\n",
       "0       NaN       NaN      NaN    ...      -3.0 -3.000000  -3.000000   \n",
       "1       NaN       NaN      NaN    ...      -3.0  8.473318  -3.000000   \n",
       "2       NaN       NaN      NaN    ...      -3.0 -3.000000   9.097495   \n",
       "3       NaN       NaN      NaN    ...      -3.0 -3.000000   9.512706   \n",
       "4       NaN       NaN      NaN    ...      -3.0 -3.000000  11.076016   \n",
       "\n",
       "        f4d7  f4d9       m5c6     m5d20  m5k10       f5c6       k5f1  \n",
       "0  -3.000000  -3.0  -3.000000 -3.000000     -3  -3.000000  -3.000000  \n",
       "1  -3.000000  -3.0  -3.000000  9.845074     -3  -3.000000   9.723551  \n",
       "2  10.071504  -3.0  -3.000000 -3.000000     -3  -3.000000  -3.000000  \n",
       "3  10.286578  -3.0  10.677285 -3.000000     -3   8.522331  10.608137  \n",
       "4   9.615958  -3.0   9.731979 -3.000000     -3  10.115313   9.646466  \n",
       "\n",
       "[5 rows x 12943 columns]"
      ]
     },
     "execution_count": 94,
     "metadata": {},
     "output_type": "execute_result"
    }
   ],
   "source": [
    "data_frame = pd.read_csv(background, low_memory=False)\n",
    "print(data_frame.shape)\n",
    "data_frame.head()"
   ]
  },
  {
   "cell_type": "code",
   "execution_count": 95,
   "metadata": {},
   "outputs": [
    {
     "name": "stdout",
     "output_type": "stream",
     "text": [
      "(4242, 12942)\n"
     ]
    },
    {
     "data": {
      "text/html": [
       "<div>\n",
       "<style scoped>\n",
       "    .dataframe tbody tr th:only-of-type {\n",
       "        vertical-align: middle;\n",
       "    }\n",
       "\n",
       "    .dataframe tbody tr th {\n",
       "        vertical-align: top;\n",
       "    }\n",
       "\n",
       "    .dataframe thead th {\n",
       "        text-align: right;\n",
       "    }\n",
       "</style>\n",
       "<table border=\"1\" class=\"dataframe\">\n",
       "  <thead>\n",
       "    <tr style=\"text-align: right;\">\n",
       "      <th></th>\n",
       "      <th>m1intmon</th>\n",
       "      <th>m1intyr</th>\n",
       "      <th>m1lenhr</th>\n",
       "      <th>m1lenmin</th>\n",
       "      <th>cm1twoc</th>\n",
       "      <th>cm1fint</th>\n",
       "      <th>cm1tdiff</th>\n",
       "      <th>cm1natsm</th>\n",
       "      <th>m1natwt</th>\n",
       "      <th>cm1natsmx</th>\n",
       "      <th>...</th>\n",
       "      <th>m4d9</th>\n",
       "      <th>m4e23</th>\n",
       "      <th>f4d6</th>\n",
       "      <th>f4d7</th>\n",
       "      <th>f4d9</th>\n",
       "      <th>m5c6</th>\n",
       "      <th>m5d20</th>\n",
       "      <th>m5k10</th>\n",
       "      <th>f5c6</th>\n",
       "      <th>k5f1</th>\n",
       "    </tr>\n",
       "    <tr>\n",
       "      <th>challengeID</th>\n",
       "      <th></th>\n",
       "      <th></th>\n",
       "      <th></th>\n",
       "      <th></th>\n",
       "      <th></th>\n",
       "      <th></th>\n",
       "      <th></th>\n",
       "      <th></th>\n",
       "      <th></th>\n",
       "      <th></th>\n",
       "      <th></th>\n",
       "      <th></th>\n",
       "      <th></th>\n",
       "      <th></th>\n",
       "      <th></th>\n",
       "      <th></th>\n",
       "      <th></th>\n",
       "      <th></th>\n",
       "      <th></th>\n",
       "      <th></th>\n",
       "      <th></th>\n",
       "    </tr>\n",
       "  </thead>\n",
       "  <tbody>\n",
       "    <tr>\n",
       "      <th>1</th>\n",
       "      <td>-3</td>\n",
       "      <td>NaN</td>\n",
       "      <td>-3</td>\n",
       "      <td>40</td>\n",
       "      <td>NaN</td>\n",
       "      <td>0</td>\n",
       "      <td>NaN</td>\n",
       "      <td>NaN</td>\n",
       "      <td>NaN</td>\n",
       "      <td>NaN</td>\n",
       "      <td>...</td>\n",
       "      <td>-3.0</td>\n",
       "      <td>-3.000000</td>\n",
       "      <td>-3.000000</td>\n",
       "      <td>-3.000000</td>\n",
       "      <td>-3.0</td>\n",
       "      <td>-3.000000</td>\n",
       "      <td>-3.000000</td>\n",
       "      <td>-3</td>\n",
       "      <td>-3.000000</td>\n",
       "      <td>-3.000000</td>\n",
       "    </tr>\n",
       "    <tr>\n",
       "      <th>2</th>\n",
       "      <td>-3</td>\n",
       "      <td>NaN</td>\n",
       "      <td>0</td>\n",
       "      <td>40</td>\n",
       "      <td>NaN</td>\n",
       "      <td>1</td>\n",
       "      <td>NaN</td>\n",
       "      <td>NaN</td>\n",
       "      <td>NaN</td>\n",
       "      <td>NaN</td>\n",
       "      <td>...</td>\n",
       "      <td>-3.0</td>\n",
       "      <td>8.473318</td>\n",
       "      <td>-3.000000</td>\n",
       "      <td>-3.000000</td>\n",
       "      <td>-3.0</td>\n",
       "      <td>-3.000000</td>\n",
       "      <td>9.845074</td>\n",
       "      <td>-3</td>\n",
       "      <td>-3.000000</td>\n",
       "      <td>9.723551</td>\n",
       "    </tr>\n",
       "    <tr>\n",
       "      <th>3</th>\n",
       "      <td>-3</td>\n",
       "      <td>NaN</td>\n",
       "      <td>0</td>\n",
       "      <td>35</td>\n",
       "      <td>NaN</td>\n",
       "      <td>1</td>\n",
       "      <td>NaN</td>\n",
       "      <td>NaN</td>\n",
       "      <td>NaN</td>\n",
       "      <td>NaN</td>\n",
       "      <td>...</td>\n",
       "      <td>-3.0</td>\n",
       "      <td>-3.000000</td>\n",
       "      <td>9.097495</td>\n",
       "      <td>10.071504</td>\n",
       "      <td>-3.0</td>\n",
       "      <td>-3.000000</td>\n",
       "      <td>-3.000000</td>\n",
       "      <td>-3</td>\n",
       "      <td>-3.000000</td>\n",
       "      <td>-3.000000</td>\n",
       "    </tr>\n",
       "    <tr>\n",
       "      <th>4</th>\n",
       "      <td>-3</td>\n",
       "      <td>NaN</td>\n",
       "      <td>0</td>\n",
       "      <td>30</td>\n",
       "      <td>NaN</td>\n",
       "      <td>1</td>\n",
       "      <td>NaN</td>\n",
       "      <td>NaN</td>\n",
       "      <td>NaN</td>\n",
       "      <td>NaN</td>\n",
       "      <td>...</td>\n",
       "      <td>-3.0</td>\n",
       "      <td>-3.000000</td>\n",
       "      <td>9.512706</td>\n",
       "      <td>10.286578</td>\n",
       "      <td>-3.0</td>\n",
       "      <td>10.677285</td>\n",
       "      <td>-3.000000</td>\n",
       "      <td>-3</td>\n",
       "      <td>8.522331</td>\n",
       "      <td>10.608137</td>\n",
       "    </tr>\n",
       "    <tr>\n",
       "      <th>5</th>\n",
       "      <td>-3</td>\n",
       "      <td>NaN</td>\n",
       "      <td>0</td>\n",
       "      <td>25</td>\n",
       "      <td>NaN</td>\n",
       "      <td>1</td>\n",
       "      <td>NaN</td>\n",
       "      <td>NaN</td>\n",
       "      <td>NaN</td>\n",
       "      <td>NaN</td>\n",
       "      <td>...</td>\n",
       "      <td>-3.0</td>\n",
       "      <td>-3.000000</td>\n",
       "      <td>11.076016</td>\n",
       "      <td>9.615958</td>\n",
       "      <td>-3.0</td>\n",
       "      <td>9.731979</td>\n",
       "      <td>-3.000000</td>\n",
       "      <td>-3</td>\n",
       "      <td>10.115313</td>\n",
       "      <td>9.646466</td>\n",
       "    </tr>\n",
       "  </tbody>\n",
       "</table>\n",
       "<p>5 rows × 12942 columns</p>\n",
       "</div>"
      ],
      "text/plain": [
       "             m1intmon  m1intyr  m1lenhr  m1lenmin  cm1twoc  cm1fint  cm1tdiff  \\\n",
       "challengeID                                                                     \n",
       "1                  -3      NaN       -3        40      NaN        0       NaN   \n",
       "2                  -3      NaN        0        40      NaN        1       NaN   \n",
       "3                  -3      NaN        0        35      NaN        1       NaN   \n",
       "4                  -3      NaN        0        30      NaN        1       NaN   \n",
       "5                  -3      NaN        0        25      NaN        1       NaN   \n",
       "\n",
       "             cm1natsm  m1natwt  cm1natsmx    ...      m4d9     m4e23  \\\n",
       "challengeID                                  ...                       \n",
       "1                 NaN      NaN        NaN    ...      -3.0 -3.000000   \n",
       "2                 NaN      NaN        NaN    ...      -3.0  8.473318   \n",
       "3                 NaN      NaN        NaN    ...      -3.0 -3.000000   \n",
       "4                 NaN      NaN        NaN    ...      -3.0 -3.000000   \n",
       "5                 NaN      NaN        NaN    ...      -3.0 -3.000000   \n",
       "\n",
       "                  f4d6       f4d7  f4d9       m5c6     m5d20  m5k10  \\\n",
       "challengeID                                                           \n",
       "1            -3.000000  -3.000000  -3.0  -3.000000 -3.000000     -3   \n",
       "2            -3.000000  -3.000000  -3.0  -3.000000  9.845074     -3   \n",
       "3             9.097495  10.071504  -3.0  -3.000000 -3.000000     -3   \n",
       "4             9.512706  10.286578  -3.0  10.677285 -3.000000     -3   \n",
       "5            11.076016   9.615958  -3.0   9.731979 -3.000000     -3   \n",
       "\n",
       "                  f5c6       k5f1  \n",
       "challengeID                        \n",
       "1            -3.000000  -3.000000  \n",
       "2            -3.000000   9.723551  \n",
       "3            -3.000000  -3.000000  \n",
       "4             8.522331  10.608137  \n",
       "5            10.115313   9.646466  \n",
       "\n",
       "[5 rows x 12942 columns]"
      ]
     },
     "execution_count": 95,
     "metadata": {},
     "output_type": "execute_result"
    }
   ],
   "source": [
    "num_samples = data_frame.shape[0]\n",
    "\n",
    "# \"assert\" will throw an error if the condition is not fulfilled. This checks whether the challengeID frame is \n",
    "# a set of consecutive numbers from 1 to number of samples+1\n",
    "assert list(data_frame['challengeID'].to_dict().values()) == list(range(1, num_samples+1))\n",
    "\n",
    "# move from the original index (starting from 0) to the challengeID index\n",
    "data_frame = data_frame.set_index('challengeID')\n",
    "\n",
    "print(data_frame.shape)\n",
    "data_frame.head()"
   ]
  },
  {
   "cell_type": "markdown",
   "metadata": {},
   "source": [
    "**Next, we clean the data and get a data frame with all numeric elements for future use.**"
   ]
  },
  {
   "cell_type": "code",
   "execution_count": 96,
   "metadata": {},
   "outputs": [
    {
     "name": "stdout",
     "output_type": "stream",
     "text": [
      "(4242, 12795)\n"
     ]
    },
    {
     "data": {
      "text/html": [
       "<div>\n",
       "<style scoped>\n",
       "    .dataframe tbody tr th:only-of-type {\n",
       "        vertical-align: middle;\n",
       "    }\n",
       "\n",
       "    .dataframe tbody tr th {\n",
       "        vertical-align: top;\n",
       "    }\n",
       "\n",
       "    .dataframe thead th {\n",
       "        text-align: right;\n",
       "    }\n",
       "</style>\n",
       "<table border=\"1\" class=\"dataframe\">\n",
       "  <thead>\n",
       "    <tr style=\"text-align: right;\">\n",
       "      <th></th>\n",
       "      <th>m1intmon</th>\n",
       "      <th>m1intyr</th>\n",
       "      <th>m1lenhr</th>\n",
       "      <th>m1lenmin</th>\n",
       "      <th>cm1twoc</th>\n",
       "      <th>cm1fint</th>\n",
       "      <th>cm1tdiff</th>\n",
       "      <th>cm1natsm</th>\n",
       "      <th>m1natwt</th>\n",
       "      <th>cm1natsmx</th>\n",
       "      <th>...</th>\n",
       "      <th>m4d9</th>\n",
       "      <th>m4e23</th>\n",
       "      <th>f4d6</th>\n",
       "      <th>f4d7</th>\n",
       "      <th>f4d9</th>\n",
       "      <th>m5c6</th>\n",
       "      <th>m5d20</th>\n",
       "      <th>m5k10</th>\n",
       "      <th>f5c6</th>\n",
       "      <th>k5f1</th>\n",
       "    </tr>\n",
       "    <tr>\n",
       "      <th>challengeID</th>\n",
       "      <th></th>\n",
       "      <th></th>\n",
       "      <th></th>\n",
       "      <th></th>\n",
       "      <th></th>\n",
       "      <th></th>\n",
       "      <th></th>\n",
       "      <th></th>\n",
       "      <th></th>\n",
       "      <th></th>\n",
       "      <th></th>\n",
       "      <th></th>\n",
       "      <th></th>\n",
       "      <th></th>\n",
       "      <th></th>\n",
       "      <th></th>\n",
       "      <th></th>\n",
       "      <th></th>\n",
       "      <th></th>\n",
       "      <th></th>\n",
       "      <th></th>\n",
       "    </tr>\n",
       "  </thead>\n",
       "  <tbody>\n",
       "    <tr>\n",
       "      <th>1</th>\n",
       "      <td>-3</td>\n",
       "      <td>NaN</td>\n",
       "      <td>-3</td>\n",
       "      <td>40</td>\n",
       "      <td>NaN</td>\n",
       "      <td>0</td>\n",
       "      <td>NaN</td>\n",
       "      <td>NaN</td>\n",
       "      <td>NaN</td>\n",
       "      <td>NaN</td>\n",
       "      <td>...</td>\n",
       "      <td>-3.0</td>\n",
       "      <td>-3.000000</td>\n",
       "      <td>-3.000000</td>\n",
       "      <td>-3.000000</td>\n",
       "      <td>-3.0</td>\n",
       "      <td>-3.000000</td>\n",
       "      <td>-3.000000</td>\n",
       "      <td>-3</td>\n",
       "      <td>-3.000000</td>\n",
       "      <td>-3.000000</td>\n",
       "    </tr>\n",
       "    <tr>\n",
       "      <th>2</th>\n",
       "      <td>-3</td>\n",
       "      <td>NaN</td>\n",
       "      <td>0</td>\n",
       "      <td>40</td>\n",
       "      <td>NaN</td>\n",
       "      <td>1</td>\n",
       "      <td>NaN</td>\n",
       "      <td>NaN</td>\n",
       "      <td>NaN</td>\n",
       "      <td>NaN</td>\n",
       "      <td>...</td>\n",
       "      <td>-3.0</td>\n",
       "      <td>8.473318</td>\n",
       "      <td>-3.000000</td>\n",
       "      <td>-3.000000</td>\n",
       "      <td>-3.0</td>\n",
       "      <td>-3.000000</td>\n",
       "      <td>9.845074</td>\n",
       "      <td>-3</td>\n",
       "      <td>-3.000000</td>\n",
       "      <td>9.723551</td>\n",
       "    </tr>\n",
       "    <tr>\n",
       "      <th>3</th>\n",
       "      <td>-3</td>\n",
       "      <td>NaN</td>\n",
       "      <td>0</td>\n",
       "      <td>35</td>\n",
       "      <td>NaN</td>\n",
       "      <td>1</td>\n",
       "      <td>NaN</td>\n",
       "      <td>NaN</td>\n",
       "      <td>NaN</td>\n",
       "      <td>NaN</td>\n",
       "      <td>...</td>\n",
       "      <td>-3.0</td>\n",
       "      <td>-3.000000</td>\n",
       "      <td>9.097495</td>\n",
       "      <td>10.071504</td>\n",
       "      <td>-3.0</td>\n",
       "      <td>-3.000000</td>\n",
       "      <td>-3.000000</td>\n",
       "      <td>-3</td>\n",
       "      <td>-3.000000</td>\n",
       "      <td>-3.000000</td>\n",
       "    </tr>\n",
       "    <tr>\n",
       "      <th>4</th>\n",
       "      <td>-3</td>\n",
       "      <td>NaN</td>\n",
       "      <td>0</td>\n",
       "      <td>30</td>\n",
       "      <td>NaN</td>\n",
       "      <td>1</td>\n",
       "      <td>NaN</td>\n",
       "      <td>NaN</td>\n",
       "      <td>NaN</td>\n",
       "      <td>NaN</td>\n",
       "      <td>...</td>\n",
       "      <td>-3.0</td>\n",
       "      <td>-3.000000</td>\n",
       "      <td>9.512706</td>\n",
       "      <td>10.286578</td>\n",
       "      <td>-3.0</td>\n",
       "      <td>10.677285</td>\n",
       "      <td>-3.000000</td>\n",
       "      <td>-3</td>\n",
       "      <td>8.522331</td>\n",
       "      <td>10.608137</td>\n",
       "    </tr>\n",
       "    <tr>\n",
       "      <th>5</th>\n",
       "      <td>-3</td>\n",
       "      <td>NaN</td>\n",
       "      <td>0</td>\n",
       "      <td>25</td>\n",
       "      <td>NaN</td>\n",
       "      <td>1</td>\n",
       "      <td>NaN</td>\n",
       "      <td>NaN</td>\n",
       "      <td>NaN</td>\n",
       "      <td>NaN</td>\n",
       "      <td>...</td>\n",
       "      <td>-3.0</td>\n",
       "      <td>-3.000000</td>\n",
       "      <td>11.076016</td>\n",
       "      <td>9.615958</td>\n",
       "      <td>-3.0</td>\n",
       "      <td>9.731979</td>\n",
       "      <td>-3.000000</td>\n",
       "      <td>-3</td>\n",
       "      <td>10.115313</td>\n",
       "      <td>9.646466</td>\n",
       "    </tr>\n",
       "  </tbody>\n",
       "</table>\n",
       "<p>5 rows × 12795 columns</p>\n",
       "</div>"
      ],
      "text/plain": [
       "             m1intmon  m1intyr  m1lenhr  m1lenmin  cm1twoc  cm1fint  cm1tdiff  \\\n",
       "challengeID                                                                     \n",
       "1                  -3      NaN       -3        40      NaN        0       NaN   \n",
       "2                  -3      NaN        0        40      NaN        1       NaN   \n",
       "3                  -3      NaN        0        35      NaN        1       NaN   \n",
       "4                  -3      NaN        0        30      NaN        1       NaN   \n",
       "5                  -3      NaN        0        25      NaN        1       NaN   \n",
       "\n",
       "             cm1natsm  m1natwt  cm1natsmx    ...      m4d9     m4e23  \\\n",
       "challengeID                                  ...                       \n",
       "1                 NaN      NaN        NaN    ...      -3.0 -3.000000   \n",
       "2                 NaN      NaN        NaN    ...      -3.0  8.473318   \n",
       "3                 NaN      NaN        NaN    ...      -3.0 -3.000000   \n",
       "4                 NaN      NaN        NaN    ...      -3.0 -3.000000   \n",
       "5                 NaN      NaN        NaN    ...      -3.0 -3.000000   \n",
       "\n",
       "                  f4d6       f4d7  f4d9       m5c6     m5d20  m5k10  \\\n",
       "challengeID                                                           \n",
       "1            -3.000000  -3.000000  -3.0  -3.000000 -3.000000     -3   \n",
       "2            -3.000000  -3.000000  -3.0  -3.000000  9.845074     -3   \n",
       "3             9.097495  10.071504  -3.0  -3.000000 -3.000000     -3   \n",
       "4             9.512706  10.286578  -3.0  10.677285 -3.000000     -3   \n",
       "5            11.076016   9.615958  -3.0   9.731979 -3.000000     -3   \n",
       "\n",
       "                  f5c6       k5f1  \n",
       "challengeID                        \n",
       "1            -3.000000  -3.000000  \n",
       "2            -3.000000   9.723551  \n",
       "3            -3.000000  -3.000000  \n",
       "4             8.522331  10.608137  \n",
       "5            10.115313   9.646466  \n",
       "\n",
       "[5 rows x 12795 columns]"
      ]
     },
     "execution_count": 96,
     "metadata": {},
     "output_type": "execute_result"
    }
   ],
   "source": [
    "# Replace missing values with -3 (-3 represents missing data in the fragile family project)\n",
    "data_frame = data_frame.replace('missing', -3)\n",
    "# Transform all entries in data_frame to numeric \n",
    "data_frame = data_frame.apply(lambda x: pd.to_numeric(x, errors='ignore'))\n",
    "# removing all non-numeric elements\n",
    "data_frame = data_frame.select_dtypes(include = [np.number])\n",
    "\n",
    "print(data_frame.shape)\n",
    "data_frame.head()"
   ]
  },
  {
   "cell_type": "code",
<<<<<<< HEAD
   "execution_count": null,
   "metadata": {
    "collapsed": true
   },
   "outputs": [],
=======
   "execution_count": 97,
   "metadata": {},
   "outputs": [
    {
     "name": "stdout",
     "output_type": "stream",
     "text": [
      "(2121, 7)\n"
     ]
    },
    {
     "data": {
      "text/html": [
       "<div>\n",
       "<style scoped>\n",
       "    .dataframe tbody tr th:only-of-type {\n",
       "        vertical-align: middle;\n",
       "    }\n",
       "\n",
       "    .dataframe tbody tr th {\n",
       "        vertical-align: top;\n",
       "    }\n",
       "\n",
       "    .dataframe thead th {\n",
       "        text-align: right;\n",
       "    }\n",
       "</style>\n",
       "<table border=\"1\" class=\"dataframe\">\n",
       "  <thead>\n",
       "    <tr style=\"text-align: right;\">\n",
       "      <th></th>\n",
       "      <th>challengeID</th>\n",
       "      <th>gpa</th>\n",
       "      <th>grit</th>\n",
       "      <th>materialHardship</th>\n",
       "      <th>eviction</th>\n",
       "      <th>layoff</th>\n",
       "      <th>jobTraining</th>\n",
       "    </tr>\n",
       "  </thead>\n",
       "  <tbody>\n",
       "    <tr>\n",
       "      <th>0</th>\n",
       "      <td>1</td>\n",
       "      <td>NaN</td>\n",
       "      <td>NaN</td>\n",
       "      <td>NaN</td>\n",
       "      <td>NaN</td>\n",
       "      <td>NaN</td>\n",
       "      <td>NaN</td>\n",
       "    </tr>\n",
       "    <tr>\n",
       "      <th>1</th>\n",
       "      <td>3</td>\n",
       "      <td>NaN</td>\n",
       "      <td>NaN</td>\n",
       "      <td>NaN</td>\n",
       "      <td>NaN</td>\n",
       "      <td>NaN</td>\n",
       "      <td>NaN</td>\n",
       "    </tr>\n",
       "    <tr>\n",
       "      <th>2</th>\n",
       "      <td>6</td>\n",
       "      <td>NaN</td>\n",
       "      <td>3.50</td>\n",
       "      <td>0.090909</td>\n",
       "      <td>0.0</td>\n",
       "      <td>0.0</td>\n",
       "      <td>0.0</td>\n",
       "    </tr>\n",
       "    <tr>\n",
       "      <th>3</th>\n",
       "      <td>7</td>\n",
       "      <td>2.5</td>\n",
       "      <td>3.25</td>\n",
       "      <td>0.000000</td>\n",
       "      <td>0.0</td>\n",
       "      <td>0.0</td>\n",
       "      <td>0.0</td>\n",
       "    </tr>\n",
       "    <tr>\n",
       "      <th>4</th>\n",
       "      <td>8</td>\n",
       "      <td>NaN</td>\n",
       "      <td>NaN</td>\n",
       "      <td>NaN</td>\n",
       "      <td>NaN</td>\n",
       "      <td>NaN</td>\n",
       "      <td>NaN</td>\n",
       "    </tr>\n",
       "  </tbody>\n",
       "</table>\n",
       "</div>"
      ],
      "text/plain": [
       "   challengeID  gpa  grit  materialHardship  eviction  layoff  jobTraining\n",
       "0            1  NaN   NaN               NaN       NaN     NaN          NaN\n",
       "1            3  NaN   NaN               NaN       NaN     NaN          NaN\n",
       "2            6  NaN  3.50          0.090909       0.0     0.0          0.0\n",
       "3            7  2.5  3.25          0.000000       0.0     0.0          0.0\n",
       "4            8  NaN   NaN               NaN       NaN     NaN          NaN"
      ]
     },
     "execution_count": 97,
     "metadata": {},
     "output_type": "execute_result"
    }
   ],
>>>>>>> edc129993c2bfbf6c5aa8499aff4d997bf7eaf0d
   "source": [
    "# read outcome data\n",
    "outcome = pd.read_csv(train, low_memory=False)\n",
    "\n",
    "print(outcome.shape)\n",
    "outcome.head()"
   ]
  },
  {
   "cell_type": "code",
   "execution_count": 98,
   "metadata": {},
   "outputs": [
    {
     "name": "stdout",
     "output_type": "stream",
     "text": [
      "(1165, 6)\n"
     ]
    },
    {
     "data": {
      "text/html": [
       "<div>\n",
       "<style scoped>\n",
       "    .dataframe tbody tr th:only-of-type {\n",
       "        vertical-align: middle;\n",
       "    }\n",
       "\n",
       "    .dataframe tbody tr th {\n",
       "        vertical-align: top;\n",
       "    }\n",
       "\n",
       "    .dataframe thead th {\n",
       "        text-align: right;\n",
       "    }\n",
       "</style>\n",
       "<table border=\"1\" class=\"dataframe\">\n",
       "  <thead>\n",
       "    <tr style=\"text-align: right;\">\n",
       "      <th></th>\n",
       "      <th>gpa</th>\n",
       "      <th>grit</th>\n",
       "      <th>materialHardship</th>\n",
       "      <th>eviction</th>\n",
       "      <th>layoff</th>\n",
       "      <th>jobTraining</th>\n",
       "    </tr>\n",
       "    <tr>\n",
       "      <th>challengeID</th>\n",
       "      <th></th>\n",
       "      <th></th>\n",
       "      <th></th>\n",
       "      <th></th>\n",
       "      <th></th>\n",
       "      <th></th>\n",
       "    </tr>\n",
       "  </thead>\n",
       "  <tbody>\n",
       "    <tr>\n",
       "      <th>7</th>\n",
       "      <td>2.50</td>\n",
       "      <td>3.25</td>\n",
       "      <td>0.000000</td>\n",
       "      <td>0.0</td>\n",
       "      <td>0.0</td>\n",
       "      <td>0.0</td>\n",
       "    </tr>\n",
       "    <tr>\n",
       "      <th>9</th>\n",
       "      <td>2.25</td>\n",
       "      <td>4.00</td>\n",
       "      <td>0.181818</td>\n",
       "      <td>0.0</td>\n",
       "      <td>0.0</td>\n",
       "      <td>0.0</td>\n",
       "    </tr>\n",
       "    <tr>\n",
       "      <th>10</th>\n",
       "      <td>3.25</td>\n",
       "      <td>3.25</td>\n",
       "      <td>0.090909</td>\n",
       "      <td>0.0</td>\n",
       "      <td>NaN</td>\n",
       "      <td>0.0</td>\n",
       "    </tr>\n",
       "    <tr>\n",
       "      <th>13</th>\n",
       "      <td>2.75</td>\n",
       "      <td>4.00</td>\n",
       "      <td>0.181818</td>\n",
       "      <td>0.0</td>\n",
       "      <td>0.0</td>\n",
       "      <td>1.0</td>\n",
       "    </tr>\n",
       "    <tr>\n",
       "      <th>14</th>\n",
       "      <td>3.25</td>\n",
       "      <td>2.75</td>\n",
       "      <td>0.272727</td>\n",
       "      <td>0.0</td>\n",
       "      <td>1.0</td>\n",
       "      <td>0.0</td>\n",
       "    </tr>\n",
       "  </tbody>\n",
       "</table>\n",
       "</div>"
      ],
      "text/plain": [
       "              gpa  grit  materialHardship  eviction  layoff  jobTraining\n",
       "challengeID                                                             \n",
       "7            2.50  3.25          0.000000       0.0     0.0          0.0\n",
       "9            2.25  4.00          0.181818       0.0     0.0          0.0\n",
       "10           3.25  3.25          0.090909       0.0     NaN          0.0\n",
       "13           2.75  4.00          0.181818       0.0     0.0          1.0\n",
       "14           3.25  2.75          0.272727       0.0     1.0          0.0"
      ]
     },
     "execution_count": 98,
     "metadata": {},
     "output_type": "execute_result"
    }
   ],
   "source": [
    "# set outcome data index to match data_frame index\n",
    "outcome = outcome.set_index('challengeID')\n",
    "# Remove null entries\n",
    "outcome = outcome.loc[~outcome['gpa'].isnull()]\n",
    "\n",
    "print(outcome.shape)\n",
    "outcome.head()"
   ]
  },
  {
   "cell_type": "markdown",
   "metadata": {},
   "source": [
    "**Observe that the challengeID reflects which rows remain in the outcome DataFrame after NaN removal.**"
   ]
  },
  {
   "cell_type": "markdown",
   "metadata": {},
   "source": [
    "Pick out the students' language and literacy skills (`t5c13a`), social science skills (`t5c13b`), math skills (`t5c13c`) "
   ]
  },
  {
   "cell_type": "code",
   "execution_count": 99,
   "metadata": {},
   "outputs": [
    {
     "name": "stdout",
     "output_type": "stream",
     "text": [
      "(1165, 3)\n"
     ]
    },
    {
     "data": {
      "text/html": [
       "<div>\n",
       "<style scoped>\n",
       "    .dataframe tbody tr th:only-of-type {\n",
       "        vertical-align: middle;\n",
       "    }\n",
       "\n",
       "    .dataframe tbody tr th {\n",
       "        vertical-align: top;\n",
       "    }\n",
       "\n",
       "    .dataframe thead th {\n",
       "        text-align: right;\n",
       "    }\n",
       "</style>\n",
       "<table border=\"1\" class=\"dataframe\">\n",
       "  <thead>\n",
       "    <tr style=\"text-align: right;\">\n",
       "      <th></th>\n",
       "      <th>t5c13a</th>\n",
       "      <th>t5c13b</th>\n",
       "      <th>t5c13c</th>\n",
       "    </tr>\n",
       "    <tr>\n",
       "      <th>challengeID</th>\n",
       "      <th></th>\n",
       "      <th></th>\n",
       "      <th></th>\n",
       "    </tr>\n",
       "  </thead>\n",
       "  <tbody>\n",
       "    <tr>\n",
       "      <th>7</th>\n",
       "      <td>-9</td>\n",
       "      <td>-9</td>\n",
       "      <td>-9</td>\n",
       "    </tr>\n",
       "    <tr>\n",
       "      <th>9</th>\n",
       "      <td>1</td>\n",
       "      <td>2</td>\n",
       "      <td>2</td>\n",
       "    </tr>\n",
       "    <tr>\n",
       "      <th>10</th>\n",
       "      <td>-9</td>\n",
       "      <td>-9</td>\n",
       "      <td>-9</td>\n",
       "    </tr>\n",
       "    <tr>\n",
       "      <th>13</th>\n",
       "      <td>-9</td>\n",
       "      <td>-9</td>\n",
       "      <td>-9</td>\n",
       "    </tr>\n",
       "    <tr>\n",
       "      <th>14</th>\n",
       "      <td>3</td>\n",
       "      <td>4</td>\n",
       "      <td>4</td>\n",
       "    </tr>\n",
       "  </tbody>\n",
       "</table>\n",
       "</div>"
      ],
      "text/plain": [
       "             t5c13a  t5c13b  t5c13c\n",
       "challengeID                        \n",
       "7                -9      -9      -9\n",
       "9                 1       2       2\n",
       "10               -9      -9      -9\n",
       "13               -9      -9      -9\n",
       "14                3       4       4"
      ]
     },
     "execution_count": 99,
     "metadata": {},
     "output_type": "execute_result"
    }
   ],
   "source": [
    "# Choose only those rows of data_frame that are left in outcome\n",
    "rows_remaining_outcome = outcome.index.values\n",
    "rows_to_keep_dataframe = data_frame.index.isin(rows_remaining_outcome)\n",
    "data_frame = data_frame.loc[rows_to_keep_dataframe]\n",
    "\n",
    "# subselect the three columns we are interested in\n",
    "skills_columns = data_frame[['t5c13a', 't5c13b', 't5c13c']]\n",
    "\n",
    "print(skills_columns.shape)\n",
    "skills_columns.head()"
   ]
  },
  {
   "cell_type": "code",
   "execution_count": 100,
   "metadata": {},
   "outputs": [
    {
     "name": "stdout",
     "output_type": "stream",
     "text": [
      "(734, 3)\n"
     ]
    },
    {
     "data": {
      "text/html": [
       "<div>\n",
       "<style scoped>\n",
       "    .dataframe tbody tr th:only-of-type {\n",
       "        vertical-align: middle;\n",
       "    }\n",
       "\n",
       "    .dataframe tbody tr th {\n",
       "        vertical-align: top;\n",
       "    }\n",
       "\n",
       "    .dataframe thead th {\n",
       "        text-align: right;\n",
       "    }\n",
       "</style>\n",
       "<table border=\"1\" class=\"dataframe\">\n",
       "  <thead>\n",
       "    <tr style=\"text-align: right;\">\n",
       "      <th></th>\n",
       "      <th>t5c13a</th>\n",
       "      <th>t5c13b</th>\n",
       "      <th>t5c13c</th>\n",
       "    </tr>\n",
       "    <tr>\n",
       "      <th>challengeID</th>\n",
       "      <th></th>\n",
       "      <th></th>\n",
       "      <th></th>\n",
       "    </tr>\n",
       "  </thead>\n",
       "  <tbody>\n",
       "    <tr>\n",
       "      <th>9</th>\n",
       "      <td>1</td>\n",
       "      <td>2</td>\n",
       "      <td>2</td>\n",
       "    </tr>\n",
       "    <tr>\n",
       "      <th>14</th>\n",
       "      <td>3</td>\n",
       "      <td>4</td>\n",
       "      <td>4</td>\n",
       "    </tr>\n",
       "    <tr>\n",
       "      <th>16</th>\n",
       "      <td>1</td>\n",
       "      <td>2</td>\n",
       "      <td>2</td>\n",
       "    </tr>\n",
       "    <tr>\n",
       "      <th>18</th>\n",
       "      <td>2</td>\n",
       "      <td>2</td>\n",
       "      <td>2</td>\n",
       "    </tr>\n",
       "    <tr>\n",
       "      <th>23</th>\n",
       "      <td>2</td>\n",
       "      <td>4</td>\n",
       "      <td>3</td>\n",
       "    </tr>\n",
       "  </tbody>\n",
       "</table>\n",
       "</div>"
      ],
      "text/plain": [
       "             t5c13a  t5c13b  t5c13c\n",
       "challengeID                        \n",
       "9                 1       2       2\n",
       "14                3       4       4\n",
       "16                1       2       2\n",
       "18                2       2       2\n",
       "23                2       4       3"
      ]
     },
     "execution_count": 100,
     "metadata": {},
     "output_type": "execute_result"
    }
   ],
   "source": [
    "# Pick out students whose skills are non-missing (above 0 values)\n",
    "X = skills_columns[(skills_columns>0).all(1)]\n",
    "# The .all(1) function says \"apply the >0 condition only if all columns (all elements across dimension 1) fulfull it.\n",
    "# This guarantees that only the rows where all skills have non-missing values will be selected.\n",
    "print(X.shape)\n",
    "X.head()"
   ]
  },
  {
   "cell_type": "code",
   "execution_count": 101,
   "metadata": {},
   "outputs": [
    {
     "name": "stdout",
     "output_type": "stream",
     "text": [
      "(734, 6)\n"
     ]
    },
    {
     "data": {
      "text/html": [
       "<div>\n",
       "<style scoped>\n",
       "    .dataframe tbody tr th:only-of-type {\n",
       "        vertical-align: middle;\n",
       "    }\n",
       "\n",
       "    .dataframe tbody tr th {\n",
       "        vertical-align: top;\n",
       "    }\n",
       "\n",
       "    .dataframe thead th {\n",
       "        text-align: right;\n",
       "    }\n",
       "</style>\n",
       "<table border=\"1\" class=\"dataframe\">\n",
       "  <thead>\n",
       "    <tr style=\"text-align: right;\">\n",
       "      <th></th>\n",
       "      <th>gpa</th>\n",
       "      <th>grit</th>\n",
       "      <th>materialHardship</th>\n",
       "      <th>eviction</th>\n",
       "      <th>layoff</th>\n",
       "      <th>jobTraining</th>\n",
       "    </tr>\n",
       "    <tr>\n",
       "      <th>challengeID</th>\n",
       "      <th></th>\n",
       "      <th></th>\n",
       "      <th></th>\n",
       "      <th></th>\n",
       "      <th></th>\n",
       "      <th></th>\n",
       "    </tr>\n",
       "  </thead>\n",
       "  <tbody>\n",
       "    <tr>\n",
       "      <th>9</th>\n",
       "      <td>2.25</td>\n",
       "      <td>4.00</td>\n",
       "      <td>0.181818</td>\n",
       "      <td>0.0</td>\n",
       "      <td>0.0</td>\n",
       "      <td>0.0</td>\n",
       "    </tr>\n",
       "    <tr>\n",
       "      <th>14</th>\n",
       "      <td>3.25</td>\n",
       "      <td>2.75</td>\n",
       "      <td>0.272727</td>\n",
       "      <td>0.0</td>\n",
       "      <td>1.0</td>\n",
       "      <td>0.0</td>\n",
       "    </tr>\n",
       "    <tr>\n",
       "      <th>16</th>\n",
       "      <td>2.00</td>\n",
       "      <td>3.50</td>\n",
       "      <td>0.090909</td>\n",
       "      <td>0.0</td>\n",
       "      <td>0.0</td>\n",
       "      <td>1.0</td>\n",
       "    </tr>\n",
       "    <tr>\n",
       "      <th>18</th>\n",
       "      <td>2.25</td>\n",
       "      <td>3.00</td>\n",
       "      <td>0.000000</td>\n",
       "      <td>0.0</td>\n",
       "      <td>1.0</td>\n",
       "      <td>0.0</td>\n",
       "    </tr>\n",
       "    <tr>\n",
       "      <th>23</th>\n",
       "      <td>2.50</td>\n",
       "      <td>3.25</td>\n",
       "      <td>0.000000</td>\n",
       "      <td>0.0</td>\n",
       "      <td>0.0</td>\n",
       "      <td>0.0</td>\n",
       "    </tr>\n",
       "  </tbody>\n",
       "</table>\n",
       "</div>"
      ],
      "text/plain": [
       "              gpa  grit  materialHardship  eviction  layoff  jobTraining\n",
       "challengeID                                                             \n",
       "9            2.25  4.00          0.181818       0.0     0.0          0.0\n",
       "14           3.25  2.75          0.272727       0.0     1.0          0.0\n",
       "16           2.00  3.50          0.090909       0.0     0.0          1.0\n",
       "18           2.25  3.00          0.000000       0.0     1.0          0.0\n",
       "23           2.50  3.25          0.000000       0.0     0.0          0.0"
      ]
     },
     "execution_count": 101,
     "metadata": {},
     "output_type": "execute_result"
    }
   ],
   "source": [
    "Y = outcome.loc[outcome.index.isin(X.index.values)]\n",
    "\n",
    "print(Y.shape)\n",
    "Y.head()"
   ]
  },
  {
   "cell_type": "code",
   "execution_count": 102,
   "metadata": {},
   "outputs": [
    {
     "name": "stdout",
     "output_type": "stream",
     "text": [
      "(734, 3)\n",
      "(734,)\n"
     ]
    }
   ],
   "source": [
    "#picks out GPA\n",
    "GPA = Y.gpa\n",
    "\n",
    "#make sure the the number of rows are the same\n",
    "print(X.shape)\n",
    "print(GPA.shape)"
   ]
  },
  {
   "cell_type": "markdown",
   "metadata": {},
   "source": [
    "We have our data ready! We can now move to perform our first regression task - linear regression! "
   ]
  },
  {
   "cell_type": "markdown",
   "metadata": {},
   "source": [
    "### Linear regression for GPA using language and literacy skills ('t5c13a') as predictor "
   ]
  },
  {
   "cell_type": "markdown",
   "metadata": {},
   "source": [
    "### Linear Regression\n",
    "\n",
    "In this section, we are gonna predict GPA based on a single feature - language and literacy skills (`t5c13a`). Intuitively, better language and literacy skills would result in a better GPA. Indeed, GPA depends on a lot of factors and language and literacy skill is only one of them. \n",
    "\n",
    "The language and literacy skill can take values 1,2,3,4,5. This is a categorical variable. The GPA data in the data is rounded to a scale of 0.25. This is also a categorical data. We emphasize that regression is a tool that estimate the correlation between two continuous variables. \n",
    "\n",
    "Because of the nature of the fragile framily study, most of the collected data are discretized, like GPA. In our regression analysis, we will first split the 734 samples into training set and test set, and then investigate the correlation between the language and literacy skill and the *average GPA* using linear regression techniques."
   ]
  },
  {
   "cell_type": "code",
<<<<<<< HEAD
   "execution_count": null,
   "metadata": {
    "collapsed": true
   },
   "outputs": [],
=======
   "execution_count": 103,
   "metadata": {},
   "outputs": [
    {
     "name": "stdout",
     "output_type": "stream",
     "text": [
      "(513,)\n",
      "(221,)\n"
     ]
    }
   ],
>>>>>>> edc129993c2bfbf6c5aa8499aff4d997bf7eaf0d
   "source": [
    "# First, let's split our data into train and test sets\n",
    "from sklearn.cross_validation import train_test_split\n",
    "X_train, X_test, y_train, y_test = train_test_split(X.t5c13a, GPA, test_size = 0.3, random_state = 100)\n",
    "\n",
    "print(X_train.shape)\n",
    "print(X_test.shape)"
   ]
  },
  {
   "cell_type": "markdown",
   "metadata": {},
   "source": [
    "**Since we are gonna calculate the mean GPA for each category of language skills and it's a repetitive task, we write a function to perform the task**"
   ]
  },
  {
   "cell_type": "code",
   "execution_count": 104,
   "metadata": {},
   "outputs": [],
   "source": [
    "def category_mean(category_five, gpa):\n",
    "\n",
    "    # Calculate average GPA for students whose language and literacy skills are far below average\n",
    "    one = category_five.loc[category_five == 1 ]\n",
    "    one_gpa = gpa.loc[gpa.index.isin(one.index.values)]\n",
    "    one_gpa_mean = np.mean(one_gpa)\n",
    "    # Calculate average GPA for students whose language and literacy skills are below average\n",
    "    two = category_five.loc[category_five == 2]\n",
    "    two_gpa = gpa.loc[gpa.index.isin(two.index.values)]\n",
    "    two_gpa_mean = np.mean(two_gpa)\n",
    "    # Calculate average GPA for students whose language and literacy skills are average\n",
    "    three = category_five.loc[category_five == 3 ]\n",
    "    three_gpa = gpa.loc[gpa.index.isin(three.index.values)]\n",
    "    three_gpa_mean = np.mean(three_gpa)\n",
    "    # Calculate average GPA for students whose language and literacy skills are above average\n",
    "    four = category_five.loc[category_five == 4 ]\n",
    "    four_gpa = gpa.loc[gpa.index.isin(four.index.values)]\n",
    "    four_gpa_mean = np.mean(four_gpa)\n",
    "    # Calculate average GPA for students whose language and literacy skills are far above average\n",
    "    five = category_five.loc[category_five == 5 ]\n",
    "    five_gpa = gpa.loc[gpa.index.isin(five.index.values)]\n",
    "    five_gpa_mean = np.mean(five_gpa)\n",
    "\n",
    "    return np.array([one_gpa_mean,two_gpa_mean,three_gpa_mean,four_gpa_mean,five_gpa_mean])"
   ]
  },
  {
   "cell_type": "markdown",
   "metadata": {},
   "source": [
    "**We calculate the mean of GPA in each category and plot them versus language/literacy skills.**"
   ]
  },
  {
   "cell_type": "code",
<<<<<<< HEAD
   "execution_count": null,
   "metadata": {
    "collapsed": true
   },
   "outputs": [],
=======
   "execution_count": 105,
   "metadata": {},
   "outputs": [
    {
     "name": "stdout",
     "output_type": "stream",
     "text": [
      "[2.64150943 2.70247934 2.87948718 3.10169492 3.33653846]\n"
     ]
    },
    {
     "data": {
      "image/png": "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\n",
      "text/plain": [
       "<matplotlib.figure.Figure at 0x1a10772b90>"
      ]
     },
     "metadata": {},
     "output_type": "display_data"
    }
   ],
>>>>>>> edc129993c2bfbf6c5aa8499aff4d997bf7eaf0d
   "source": [
    "GPA_mean = category_mean(X_train,y_train)\n",
    "print(GPA_mean)\n",
    "Categories = np.array([1,2,3,4,5])\n",
    "plt.scatter(Categories, GPA_mean)\n",
    "plt.show()"
   ]
  },
  {
   "cell_type": "markdown",
   "metadata": {},
   "source": [
    "Could you see the trend? It tells us that our intuition is correct. We now seek a linear regression model using this training data and see if we can use this model to predict the mean GPA of the test data.\n",
    "\n",
    "There are numerous ways to do linear regression in Python. Here we show three of them, using package `numpy.polyfit`, `scipy.stats.linregress` and `sklearn.linear_model.LinearRegression`."
   ]
  },
  {
   "cell_type": "markdown",
   "metadata": {},
   "source": [
    "**Let's do linear regression with `numpy.polyfit`** You can learn about this function at <https://docs.scipy.org/doc/numpy-1.13.0/reference/generated/numpy.polyfit.html>\n"
   ]
  },
  {
   "cell_type": "code",
<<<<<<< HEAD
   "execution_count": null,
   "metadata": {
    "collapsed": true
   },
   "outputs": [],
=======
   "execution_count": 106,
   "metadata": {},
   "outputs": [
    {
     "name": "stdout",
     "output_type": "stream",
     "text": [
      "slope : 0.178927363156\n",
      "intercept : 2.39555977635\n",
      "mean square error : 0.00242384661561\n"
     ]
    },
    {
     "data": {
      "image/png": "iVBORw0KGgoAAAANSUhEUgAAAXcAAAD8CAYAAACMwORRAAAABHNCSVQICAgIfAhkiAAAAAlwSFlzAAALEgAACxIB0t1+/AAAADl0RVh0U29mdHdhcmUAbWF0cGxvdGxpYiB2ZXJzaW9uIDIuMS4yLCBodHRwOi8vbWF0cGxvdGxpYi5vcmcvNQv5yAAAIABJREFUeJzt3Xl4lOXZ/vHvTQgQtoQdEgj7IpssAVSsC6LgDi6v1qp1qVh/3WwrAm6goKK0WvuqVdyKrdUqCYi44Iq4AWWRJAQCYScBAsSQhCQkmbl+fxB9kQYSwiTPzOT8HAeHM5N7MucIOXm455lrnJkhIiLhpZ7XAUREJPBU7iIiYUjlLiIShlTuIiJhSOUuIhKGVO4iImFI5S4iEoZU7iIiYUjlLiIShup79cCtW7e2Ll26ePXwIiIhaeXKlfvMrE1l6zwr9y5durBixQqvHl5EJCQ557ZVZZ22ZUREwpDKXUQkDKncRUTCkMpdRCQMqdxFRMKQyl1EJAyp3EVEwpDKXUSklpT6/Dy7OIM1O3Jr/LE8exOTiEhdkpp5gEmJyazNyuOOc8o4tVNMjT6eyl1EpAYVl/r46ycbeX7JZlo0bsBz1w9hbP8ONf64KncRkRqyYmsOdycms3nvQa4e2pH7Lu5LdOPIWnlslbuISIAVHCpj1gfreXXpNmKjo3j1luGc1avSWV8BpXIXEQmgzzfs5Z6kFLIOFPHz07swcUxvmjSs/apVuYuIBEBuYQnTF64jcdVOurdpwlu3n05Cl5ae5VG5i4icpPdSdvHA26l8V1jKr8/twa9H9aBRZISnmVTuIiLVlJ1XzANvr+WDtbvpH9ecObcMp19stNexAJW7iMgJMzPeWrmTGQvTOFTmZ9LYPtz2k67Ujwie94VWWu7OuUbAEqBh+fq5Zjb1GGuvAt4ChpmZPmZJRMLOjpxC7pmXwhcb9zG8S0tmXjmAbm2aeh3rv1TlyP0QMMrMCpxzkcCXzrn3zWzpkYucc82A3wLLaiCniIinfH7j1W+2MmtROg6Yfnk/fjaiM/XqOa+jVajScjczAwrKr0aW/7IKlk4HHgfuClg6EZEgkJGdz91zk1m1PZdzerfh4fEDiIuJ8jrWcVVpz905FwGsBHoAz5jZsqO+PhjoZGYLnXMqdxEJC6U+P88t3sT/fppB44YRPHnNqYwbFIdzwXm0fqQqlbuZ+YBBzrkYYJ5zrr+ZpQI45+oBTwI3VfZ9nHMTgAkA8fHx1c0sIlLjUnYeYOLcNazfnc8lAzsw7bJ+tG7a0OtYVeYO77qcwB2cmwocNLM/lV+PBjbxf1s37YEc4LLjvaiakJBgK1boNVcRCS7FpT6e/HgDLyzZTOumDZkxrj8X9GvvdawfOOdWmllCZeuqcrZMG6DUzHKdc1HAaOCx779uZgeA1kesXwzcpbNlRCTULN+Sw6TEZLbsO8i1wzox5aJTiI6qnUFfgVaVbZkOwJzyffd6wJvle+sPASvMbEGNJhQRqWH5xaU89sF6/rl0O51aRvHaL0Ywskfryu8YxKpytkwyMLiC2x84xvpzTj6WiEjt+Gx9NvfOS2FXXjG3ntmVP17Qi8YNQv/9naH/DEREqiHnYAnTF6Yxb3UmPds2JfGOMxgS38LrWAGjcheROsXMeDdlF1PfXsuBolJ+e15PfnVudxrW93bQV6Cp3EWkztiTV8x981P5KG0PAztG889fjOCUDs29jlUjVO4iEvbMjDdX7GDGu+soKfNzz0V9uGVkcA36CjSVu4gEtfmrM5m1KJ2s3CJiY6KYOKY34wbHVfn+2/cXMjkpma837WdE15bMvHIgXVs3qcHEwUHlLiJBa/7qTKYkpVBU6gMgM7eIKUkpAJUWvM9vvPLVFv70YTr169Xj4fH9+emw+KAd9BVoKncRCVqzFqX/UOzfKyr1MWtR+nHLPX13PpMSk/l2Ry7n9WnLjPH96RAd3IO+Ak3lLiJBKyu36IRuLynz8+ziDJ75LINmjSJ56tpBXHZqbEgM+go0lbuIBK3YmCgyKyjy2ArG7a7Zkcvdc5NJ35PPZafGMvXSvrQKoUFfgRa+LxWLSMibOKY3UUd90HRUZAQTx/T+4XpRiY+H301j/LNfcaColBdvTOCvPx1cp4sddOQuIkHs+331Y50t882m/UxOSmbb/kJ+OvzwoK/mjUJz0FegqdxFJKiNGxz3Xy+e5hWXMvP99fxr2XY6t2rMv24bwRndQ3vQV6Cp3EUkpHyybg/3zkslO7+Y237SlT+c35uoBuE1OiAQVO4iEhL2FxziwXfSWLAmi97tmvHcDUMZ1CnG61hBS+UuIkHNzFiwJosH30kjv7iUO0f35P+d04MG9XU+yPGo3EUkaO06UMR981L5ZH02gzrF8PhVA+nVrpnXsUKCyl1Ego7fb7z+n+08+t56yvx+7rv4FG4e2ZWIOjI6IBBU7iISVLbuO8jkpGSWbs7hjO6tmHnFQOJbNfY6VshRuYtIUCjz+Xn5qy38+cMNNIiox8wrBnDNsE51cnRAIKjcRcRz63fnMWluMmt2HmD0Ke2YMa4/7aMbeR0rpKncRcQzh8p8PPPZJp79LIPoqEievm4wFw/ooKP1AFC5i4gnVm3/jklzk9mYXcD4wXHcf0lfWjZp4HWssKFyF5FaVVhSxp8/3MDLX22hffNGvHxTAqP6tPM6VthRuYtIrfk6Yx+Tk1LYnlPI9afFM2lsH5pp0FeNULmLSI07UFTKzPfX8fryHXRp1Zg3JpzGad1aeR0rrKncRaRGfZS2h/vmp7A3/xC3n92N34/uRaNIDfqqaSp3EakR+woOMW3BWhYm76JP+2a8cGMCAztq0FdtUbmLSECZGfO/zeTBd9IoPOTjrgt6cfvZ3YmM0KCv2lRpuTvnGgFLgIbl6+ea2dSj1vwB+AVQBuwFbjGzbYGPKyLBLDO3iHvnpbA4fS+D42N4/MqB9NSgL09U5cj9EDDKzAqcc5HAl865981s6RFrVgMJZlbonLsDeBy4pgbyikgQ8vuN15ZvZ+Z76/AbTL20Lzee3kWDvjxUabmbmQEF5Vcjy3/ZUWs+O+LqUuD6QAUUkeC2eW8BkxNTWL41hzN7tObRKwbQqaUGfXmtSnvuzrkIYCXQA3jGzJYdZ/mtwPsByCYiQazM5+fFL7fw5EcbaFi/Ho9fNZCrh3bU6IAgUaVyNzMfMMg5FwPMc871N7PUo9c5564HEoCzK/o+zrkJwASA+Pj4aocWEW+lZeVxd+IaUjPzGNOvHdMv70/b5hr0FUxO6GwZM8t1zi0GxgI/Knfn3GjgXuBsMzt0jPvPBmYDJCQkWEVrRCR4HSrz8fSnGfxt8SZiGjfgbz8bwoUDOngdSypQlbNl2gCl5cUeBYwGHjtqzWDgeWCsmWXXSFIR8dTKbTlMSkwhI7uAK4bE8cAlfYlprEFfwaoqR+4dgDnl++71gDfNbKFz7iFghZktAGYBTYG3yvfbtpvZZTUVWkRqz8FDZcxalM6cb7YSGx3F328exjm923odSypRlbNlkoHBFdz+wBGXRwc4l4gEgSUb9jIlKYXM3CJuOK0zky7sQ9OGeu9jKNDvkoj8lwOFpUx/N425K3fSrXUT3rz9dIZ3bel1LDkBKncR+ZEPUndx/9tryTlYwh3ndOd35/XUoK8QpHIXEQCy84uZtmAt76Xspm+H5rxy0zD6x0V7HUuqSeUuUseZGYmrMpm+MI2iUh8Tx/RmwlndNOgrxKncReqwnd8Vcs+8VJZs2EtC5xbMvHIgPdo29TqWBIDKXaQO8vuNV7/ZyuOL0gF46PJ+XD+iM/U06CtsqNxF6piM7AImJyazYtt3nNWrDY+M70/HFhr0FW5U7iJ1RKnPz+wlm3nq441ENYjgz1efyhVD4jToK0yp3EXqgNTMA0xKTGZtVh4XDWjPtMv60baZBn2FM5W7SBgrLvXx1Ccbmb1kMy0aN+C564cwtr8GfdUFKneRMDR/dSYz3k1jX0EJAMO7tmT2DUM16KsO0YmsImHmjeXb+eNba34odoCUnQdYnL7Xw1RS21TuImHk8w17uXdeKj7/jz8uoajUx6zy0x6lbtC2jEgYyC0s4aGFaSStyjzmmqzcolpMJF7TkbtICDMz3kvZxegnPmfBt1n8ZlQPYqMrPgsmNiaqltOJl3TkLhKisvOKuf/tVBat3UP/uOa8essI+sY2p3ubpkxJSqGo1PfD2qjICCaO6e1hWqltKneREGNmvLVyJzMWpnGozM/kC/vwizO7Ur980Ne4wXEAzFqUTlZuEbExUUwc0/uH26VuULmLhJAdOYVMSUrhy4x9DO/SkplXDqBbm/8e9DVucJzKvI5TuYuEAN/3g74+SCeinmPGuP5cNzxeg77kmFTuIkEuIzufu+cms2p7Luf0bsMj4wfoxVGplMpdJEiV+vw8//km/vpJBk0aRvCXawZx+aBYDfqSKlG5iwShlJ0HmDh3Det353PJwA5Mu6wfrZs29DqWhBCVu0gQKS718eTHG3hhyWZaN23I7BuGckG/9l7HkhCkchcJEks372dKUgpb9h3k2mGdmHLRKURHRXodS0KUyl3EY/nFpcx8fz2vLdtOp5ZR/OsXIzijR2uvY0mIU7mLeOiz9dncMy+F3XnF3DKyK3eN6UXjBvqxlJOnP0UiHsg5WML0hWnMW51Jz7ZNSbzjDIbEt/A6loQRlbtILTIzFibvYtqCtRwoKuW3o3rwq1E9aFg/wutoEmYqLXfnXCNgCdCwfP1cM5t61JqGwKvAUGA/cI2ZbQ14WpEQtievmPvmp/JR2h4GdozmtdtG0Kd9c69jSZiqypH7IWCUmRU45yKBL51z75vZ0iPW3Ap8Z2Y9nHPXAo8B19RAXpGQY2b8+z87ePi9dZSU+bnnoj7cMvL/Bn2J1IRKy93MDCgovxpZ/suOWnY5MK388lzgaeecK7+vSJ21fX8hk5OS+XrTfkZ0bcljVw6kS+smXseSOqBKe+7OuQhgJdADeMbMlh21JA7YAWBmZc65A0ArYF8As4qEDJ/feOWrLfzpw3Tq16vHI+MHcO2wThr0JbWmSuVuZj5gkHMuBpjnnOtvZqlHLKnoT+x/HbU75yYAEwDi4+OrEVck+G3Yc3jQ17c7cjmvT1tmjO9Ph2gN+pLadUJny5hZrnNuMTAWOLLcdwKdgJ3OufpANJBTwf1nA7MBEhIStGUjYaWkzM/fFm/i6c820qxRJE9dO4jLTtWgL/FGVc6WaQOUlhd7FDCawy+YHmkB8HPgG+Aq4FPtt0tdsmZHLpMSk1m/O5/LB8XywCV9aaVBX+Khqhy5dwDmlO+71wPeNLOFzrmHgBVmtgB4CfiHcy6Dw0fs19ZYYpEgUlTi44mP0nnpyy20bdaIF29MYHTfdl7HEqnS2TLJwOAKbn/giMvFwNWBjSYS3L7etI8pSSls21/IdSPimXxhH5o30qAvCQ56h6rICcorLuXR99bz+vLtdG7VmNdvO43Tu7fyOpbIj6jcRU7AJ+v2cO+8VLLzi5lwVjd+P7oXUQ00OkCCj8pdpAr2FxziwXfSWLAmi97tmvH8DUM5tVOM17FEjknlLnIcZsaCNVk8+E4a+cWl/H50L+44pzsN6mt0gAQ3lbvIMew6UMR981L5ZH02p3aKYdZVA+nVrpnXsUSqROUuchS/33jjPzt49L11lPmN+y/py01ndCFCowMkhKjcRY6wdd9BJicls3RzDiN7tOLR8QOJb9XY61giJ0zlLgKU+fy8/NUW/vzhBhrUr8fjVw7k6oSOGh0gIUvlLnXeul15TEpMJnnnAc7v244Z4/rTrnkjr2OJnBSVu9RZh8p8PPNpBs8u3kR0VCRPXzeYiwd00NG6hAWVu9RJq7Z/x6S5yWzMLmDcoFgeuLQfLZs08DqWSMCo3KVOKSwp40+LNvDK11to37wRr9w0jHP7tPU6lkjAqdylzvgqYx+Tk5LZkVPE9afFM2lsH5pp0JeEKZW7hL0DRaU88u46/r1iB11bN+HfE05jRDcN+pLwpnKXsPbh2t3cNz+V/QdL+OXZ3blzdE8aRR570Nf81ZnMWpROVm4RsTFRTBzTm3GD42oxsUhgqNwlLO0rOMTUBWt5N3kXp3Rozks/H8aAjtHHvc/81ZlMSUqhqNQHQGZuEVOSUgBU8BJyVO4SVsyM+d9m8uA7aRQe8vHH83vxy3O6ExlR+aCvWYvSfyj27xWV+pi1KF3lLiFH5S5hIzO3iHvnpbA4fS9D4mN4/KqB9Ghb9UFfWblFJ3S7SDBTuUvI8/uN15ZvZ+Z76zBg2qV9ueH0Ex/0FRsTRWYFRR4bExWgpCK1R+UuIW3z3gImJ6awfGsOP+nZmkfGD6BTy+oN+po4pveP9twBoiIjmDimd6DiitQalbuEpDKfnxe+2MKTH2+gUf16zLpqIFcNPblBX9/vq+tsGQkHKncJOWlZedyduIbUzDzG9mvPQ+P60bZZYAZ9jRscpzKXsKByl5BRXOrj6U8zeO7zTcQ0bsCzPxvCRQM6eB1LJCip3CUkrNyWw6TEFDKyC7hySEfuv+QUYhpr0JfIsajcJagdPFTGrEXpzPlmK7HRUcy5ZThn92rjdSyRoKdyl6C1ZMNepiSlkHWgiBtP68zEsX1o2lB/ZEWqQj8pEnQOFJYy/d005q7cSbc2TXjz9tMZ1qWl17FEQorKXYLKB6m7uP/tteQcLOH/ndOd3553/EFfIlKxSsvdOdcJeBVoD/iB2Wb21FFrooF/AvHl3/NPZvZK4ONKuMrOL2bq22t5P3U3fTs055WbhtE/7viDvkTk2Kpy5F4G/NHMVjnnmgErnXMfmVnaEWt+BaSZ2aXOuTZAunPuNTMrqYnQEj7MjMRVmUxfmEZRqY+7x/bmtp90q9KgLxE5tkrL3cx2AbvKL+c759YBccCR5W5AM3f47YFNgRwO/6Ugckw7cgq5Z14KX2zcx7AuLZh55UC6t2nqdSyRsHBCe+7OuS7AYGDZUV96GlgAZAHNgGvMzF/B/ScAEwDi4+NPPK2EBb/f+MfSbTz2wXoc8OBl/bjhtM7UO8FBXyJybFUud+dcUyARuNPM8o768hjgW2AU0B34yDn3xdHrzGw2MBsgISHBTia4hKaM7AImJyazYtt3nNWrDY+M70/HFtUb9CUix1alcnfORXK42F8zs6QKltwMzDQzAzKcc1uAPsDygCWVkFbq8zN7yWae+mQjjRtE8OerT+WKIXEnNehLRI6tKmfLOOAlYJ2ZPXGMZduB84AvnHPtgN7A5oCllJCWmnmAu+cmk7Yrj4sGtOfBy/rTpllDr2OJhLWqHLmPBG4AUpxz35bfdg+HT3vEzJ4DpgN/d86lAA6YZGb7aiCvhJDiUh9PfbKR2Us207JJA567fihj+7f3OpZInVCVs2W+5HBhH29NFnBBoEJJ6Fu+JYfJicls3neQq4d25L6L+xLdONLrWCJ1ht6hKgFVcKiMx95fzz+WbqNjiyj+eesIzuzZ2utYInWOyl0C5rP0bO5NSmFXXjE3j+zCXRf0pokGfYl4Qj95ctK+O1jC9IVpJK3OpHubJsz95ekM7axBXyJeUrlLtZkZ76XsZuqCVHILS/n1uT34zXk9aFhfg75EvKZyl2rJzivmvvmpfJi2hwFx0bx6ywj6xjb3OpaIlFO5ywkxM95asZPp76ZRUuZnyoV9uPXMrtTXoC+RoKJylyrbkVPIlKQUvszYx/CuLZl5xQC6adCXSFBSuUulfH5jztdbmbUonYh6jhnj+nPd8HgN+hIJYip3Oa6Ne/KZlJjMqu25nNu7DQ+PH0BsTJTXsUSkEip3qVBJmZ/nP9/E/36aQZOGEfzlmkFcPii2wkFf81dnMmtROlm5RcTGRDFxTG/GDY7zILWIfE/lLv8leWcud89NZv3ufC49NZapl/alddOKB33NX53JlKQUikp9AGTmFjElKQVABS/iIZW7/KC41MeTH23ghS8206ZZQ164MYHz+7Y77n1mLUr/odi/V1TqY9aidJW7iIdU7gLA0s37mZyYzNb9hfx0eCemXHQKzRtVPugrK7fohG4Xkdqhcq/j8otLmfn+el5btp34lo351y9GcEaPqg/6io2JIrOCIteLriLe0jtP6rBP1+/hgieX8Pry7dx6Zlc+uPMnJ1TsABPH9CYq8sfjBqIiI5g4pncgo4rICdKRex20v+AQDy1M4+1vs+jVrinP/uwMBse3qNb3+n5fXWfLiAQXlXsdYma8k7yLaQvWkldUyu/O68mvzu1Bg/on9w+4cYPjVOYiQUblXkfsPnB40NfH6/YwsGM0j982gj7tNehLJFyp3MOcmfHv/+zg4ffWUerzc+9Fp3DzyC4a9CUS5lTuYWzb/oNMTkzhm837Oa1bS2ZeMZAurZt4HUtEaoHKPQz5/MYrX23hTx+mE1mvHo9eMYBrh3WqcHSAiIQnlbtHamoeS/rufO5OTGbNjlzO69OWGeP70yFa55yL1DUqdw/UxDyWkjI/zy7O4JnPMmjWKJK//nQwlw7soKN1kTpK5e6BQM9j+XZHLpPmJpO+J5/LB8Uy9dJ+tGzSIFBxRSQEqdw9EKh5LEUlPv78YTovf7WFds0b8fJNCYzqc/xBXyJSN6jcPRCIeSxfb9rH5MQUtucUct2IeKZc2IdmVRj0JSJ1g0529sDJzGPJKy5lSlIy172wjHoOXr/tNB4ZP0DFLiI/oiN3D1R3HsvHaXu4d34Ke/MPMeGsbvx+dC+iGkQc9z4iUjdVWu7OuU7Aq0B7wA/MNrOnKlh3DvAXIBLYZ2ZnBzZqeDmReSz7Cw4x7Z003lmTRZ/2zXjhxgQGdoyp4YQiEsqqcuReBvzRzFY555oBK51zH5lZ2vcLnHMxwLPAWDPb7pxrW0N56xQzY8GaLKYtWEvBoTL+cH4vfnl295Me9CUi4a/ScjezXcCu8sv5zrl1QByQdsSy64AkM9tevi67BrLWKVm5Rdw3P5VP12czqFMMj181kF7tmnkdS0RCxAntuTvnugCDgWVHfakXEOmcWww0A54ys1cruP8EYAJAfHz8iaetA/x+41/LtzPz/fX4/MZ9F5/CzSO7ElFPb0YSkaqrcrk755oCicCdZpZXwfcZCpwHRAHfOOeWmtmGIxeZ2WxgNkBCQoKdTPBwtGXfQSYnJrNsSw4je7Ti0fEDiW/V2OtYIhKCqlTuzrlIDhf7a2aWVMGSnRx+EfUgcNA5twQ4FdhQwVo5SpnPz0tfbuGJjzbQoH49HrtyAP+ToEFfIlJ9VTlbxgEvAevM7IljLHsbeNo5Vx9oAIwAngxYyjC2blcekxKTSd55gPP7tmPGuP60a97I61giEuKqcuQ+ErgBSHHOfVt+2z1APICZPWdm65xzHwDJHD5d8kUzS62JwOHiUJmPZz7N4NnFm4iOiuTp6wZz8QAN+hKRwKjK2TJfApU2jpnNAmYFIlS4W7X9OybNTWZjdgFXDI7j/kv60kKDvkQkgPQO1VpUWFLGrEXp/P3rrbRv3ohXbhrGuX30lgARCTyVey35cuM+Jicls/O7Im44rTN3j+2teTAiUmNU7jXsQFEpj7y7jn+v2EHX1k148/bTGd61pdexRCTMqdxr0KK1u7l/fir7D5Zwxznd+d15PWkUqUFfIlLzVO41YG/+IaYtWMu7Kbs4pUNzXvr5MAZ0jPY6lojUISr3ADIz5q3O5KGFaRQe8nHXBb24/ezuREZo0JeI1C6Ve4Bk5hZx77wUFqfvZUj84UFfPdpq0JeIeEPlfpL8fuO1ZduY+f56/AZTL+3Ljad30aAvEfGUyv0kbNpbwJTEFJZvzeEnPVvzyPgBdGqpQV8i4j2VezWU+fzM/mIzf/l4I43q12PWVQO5amhHjQ4QkaChcj9Ba7MOMCkxmdTMPMb2a89D4/rRtpkGfYlIcFG5V1FxqY///XQjz32+mRaNG/Dsz4Zw0YAOXscSEamQyr0KVmzN4e7EZDbvPchVQzty38WnENNYg75EJHip3I/j4KHDg77mfLOV2Ogo5twynLN7tfE6lohIpVTux7Bkw16mJKWQdaCIG0/rzN1j+9Ckof53iUhoUFsdJbewhBnvrmPuyp10a9OEt24/nYQuGvQlIqFF5X6E91N2cf/ba/musIRfndud34zSoC8RCU0qdyA7v5gH5q/lg7W76RfbnDm3DKNfrAZ9iUjoqtPlbmbMXbmTGe+uo6jUx6SxfbjtJ12pr0FfIhLi6my578gp5J55KXyxcR/DurRg5pUD6d6mqdexREQCos6Vu89v/OObrTy+KB0HPHR5P64f0Zl6GvQlImGkTpV7RnY+kxJTWLntO87u1YaHx/enYwsN+hKR8FMnyr3U5+f5zzfx108yaNwwgif+51TGD47ToC8RCVthX+6pmQeYODeZdbvyuHhAB6Zd1o82zRp6HUtEpEaFbbkXl/r4y8cbeeGLzbRs0oDnbxjKmH7tvY4lIlIrwrLcl2/JYXJiMpv3HeR/Ejpy70V9iW4c6XUsEZFaE1blnl9cyuMfpPOPpdvo2CKKf946gjN7tvY6lohIrau03J1znYBXgfaAH5htZk8dY+0wYClwjZnNDWTQynyWns29SSnsyivmlpFduWtMLxo3CKu/u0REqqwq7VcG/NHMVjnnmgErnXMfmVnakYuccxHAY8CiGsh5TN8dLGH6wjSSVmfSs21T5v7yDIZ2blGbEUREgk6l5W5mu4Bd5ZfznXPrgDgg7ailvwESgWGBDnmMXLyXspupC1LJLSzlN6N68OtRPWhYX4O+REROaN/COdcFGAwsO+r2OGA8MIpaKPc9ecXcPz+VD9P2MCAumn/cOoJTOjSv6YcVEQkZVS5351xTDh+Z32lmeUd9+S/AJDPzHe+NQc65CcAEgPj4+BNPC3y2PpvfvrGakjI/Uy7sw61natCXiMjRqlTuzrlIDhf7a2aWVMGSBOCN8mJvDVzknCszs/lHLjKz2cBsgISEBKtO4K6tmzAkvgXTLutH19ZNqvMtRETCXlXOlnHAS8A6M3uiojVm1vWI9X8HFh5d7IHSpXUT5twyvCa+tYhI2KjKkftI4AYgxTn3bflt9wDxAGb2XA1lExGRaqrK2TIQVN0GAAADzUlEQVRfAlWesGVmN51MIBEROXl6JVJEJAyp3EVEwpDKXUQkDKncRUTCkMpdRCQMqdxFRMKQM6vWG0VP/oGd2wtsq+bdWwP7AhjHS3ouwSlcnku4PA/Qc/leZzNrU9kiz8r9ZDjnVphZgtc5AkHPJTiFy3MJl+cBei4nStsyIiJhSOUuIhKGQrXcZ3sdIID0XIJTuDyXcHkeoOdyQkJyz11ERI4vVI/cRUTkOEKu3J1zY51z6c65DOfcZK/zVJdz7mXnXLZzLtXrLCfDOdfJOfeZc26dc26tc+53XmeqLudcI+fccufcmvLn8qDXmU6Wcy7CObfaObfQ6ywnwzm31TmX4pz71jm3wus81eWci3HOzXXOrS//mTm9xh4rlLZlnHMRwAbgfGAn8B/gp2Z29Id1Bz3n3FlAAfCqmfX3Ok91Oec6AB3MbJVzrhmwEhgXor8nDmhiZgXlnz72JfA7M1vqcbRqc879gcOflNbczC7xOk91Oee2AglmFtLnuTvn5gBfmNmLzrkGQGMzy62Jxwq1I/fhQIaZbTazEuAN4HKPM1WLmS0BcrzOcbLMbJeZrSq/nA+sA+K8TVU9dlhB+dXI8l+hc/RzFOdcR+Bi4EWvswg455oDZ3H4k+0ws5KaKnYIvXKPA3YccX0nIVok4cg51wUYDCzzNkn1lW9jfAtkAx+ZWcg+Fw5/cP3dgN/rIAFgwIfOuZXOuQleh6mmbsBe4JXyrbIXnXM19kHQoVbuFX0iVMgeWYUT51xTDn+I+p1mlud1nuoyM5+ZDQI6AsOdcyG5ZeacuwTINrOVXmcJkJFmNgS4EPhV+bZmqKkPDAH+ZmaDgYNAjb1uGGrlvhPodMT1jkCWR1mkXPn+dCLwmpkleZ0nEMr/ubwYGOtxlOoaCVxWvlf9BjDKOfdPbyNVn5lllf83G5jH4S3aULMT2HnEvwbncrjsa0Solft/gJ7Oua7lL0ZcCyzwOFOdVv4i5EvAOjN7wus8J8M518Y5F1N+OQoYDaz3NlX1mNkUM+toZl04/HPyqZld73GsanHONSl/sZ7ybYwLgJA7y8zMdgM7nHO9y286D6ixEw8q/YDsYGJmZc65XwOLgAjgZTNb63GsanHOvQ6cA7R2zu0EpprZS96mqpaRwA1ASvleNcA9Zvaeh5mqqwMwp/ysrHrAm2YW0qcQhol2wLzDxxHUB/5lZh94G6nafgO8Vn5wuhm4uaYeKKROhRQRkaoJtW0ZERGpApW7iEgYUrmLiIQhlbuISBhSuYuIhCGVu4hIGFK5i4iEIZW7iEgY+v/IgSIZenc8GQAAAABJRU5ErkJggg==\n",
      "text/plain": [
       "<matplotlib.figure.Figure at 0x1a0e8178d0>"
      ]
     },
     "metadata": {},
     "output_type": "display_data"
    }
   ],
>>>>>>> edc129993c2bfbf6c5aa8499aff4d997bf7eaf0d
   "source": [
    "# the argument \"1\" tells polyfit we are doing an linear regression (linear is degree 1)\n",
    "coef = np.polyfit(Categories,GPA_mean,1)\n",
    "print('slope : {}'.format(coef[0]))\n",
    "print('intercept : {}'.format(coef[1]))\n",
    "\n",
    "#we plot the regression line along with the data points\n",
    "fig = plt.figure()\n",
    "ax = plt.axes()\n",
    "plt.scatter(Categories, GPA_mean)\n",
    "# the following two lines plots a line with coefficients by the linear regression model.\n",
    "x = np.linspace(0, 6, 100)\n",
    "ax.plot(x, coef[0]*x + coef[1]);\n",
    "\n",
    "# calculate mean square error\n",
    "mse = np.mean(((coef[0]*Categories + coef[1] - GPA_mean) ** 2))\n",
    "print('mean square error : {}'.format(mse))"
   ]
  },
  {
   "cell_type": "markdown",
   "metadata": {},
   "source": [
    "It seems the five data points lie on a quadratic function. Could you fit the data points to a quadratic function using `numpy.polyfit` and point the quadratic function along with the data points? Write down your code below!"
   ]
  },
  {
   "cell_type": "code",
   "execution_count": null,
   "metadata": {},
   "outputs": [],
   "source": []
  },
  {
   "cell_type": "markdown",
   "metadata": {},
   "source": [
    "**We can also do linear regression with `scipy.stats.linregress`.** You can learn more about this at <https://docs.scipy.org/doc/scipy/reference/generated/scipy.stats.linregress.html>"
   ]
  },
  {
   "cell_type": "code",
   "execution_count": 107,
   "metadata": {
<<<<<<< HEAD
    "collapsed": true
=======
    "scrolled": true
>>>>>>> edc129993c2bfbf6c5aa8499aff4d997bf7eaf0d
   },
   "outputs": [
    {
     "name": "stdout",
     "output_type": "stream",
     "text": [
      "slope : 0.178927363156\n",
      "intercept : 2.39555977635\n",
      "r-squared : 0.981593533886\n"
     ]
    }
   ],
   "source": [
    "from scipy import stats\n",
    "\n",
    "slope, intercept, r_value, p_value, std_err = stats.linregress(Categories, GPA_mean)\n",
    "\n",
    "print('slope : {}'.format(slope))\n",
    "print('intercept : {}'.format(intercept))\n",
    "print('r-squared : {}'.format(r_value))"
   ]
  },
  {
   "cell_type": "markdown",
   "metadata": {},
   "source": [
    "**We can also do linear regression with `sklearn.linear_model.LinearRegression`.** You can learn more about this at <http://scikit-learn.org/stable/modules/generated/sklearn.linear_model.LinearRegression.html#sklearn.linear_model.LinearRegression>"
   ]
  },
  {
   "cell_type": "code",
<<<<<<< HEAD
   "execution_count": null,
   "metadata": {
    "collapsed": true
   },
   "outputs": [],
=======
   "execution_count": 108,
   "metadata": {},
   "outputs": [
    {
     "name": "stdout",
     "output_type": "stream",
     "text": [
      "(5, 1)\n",
      "(5,)\n"
     ]
    }
   ],
>>>>>>> edc129993c2bfbf6c5aa8499aff4d997bf7eaf0d
   "source": [
    "# Since the feature input to this package should have dimension [n_samples,n_features], we need to modify our feature\n",
    "Categories_M = np.expand_dims(Categories.T , axis=1)\n",
    "print(Categories_M.shape)\n",
    "GPA_mean_M = GPA_mean.T\n",
    "print(GPA_mean_M.shape)\n"
   ]
  },
  {
   "cell_type": "code",
   "execution_count": 109,
   "metadata": {},
   "outputs": [
    {
     "name": "stdout",
     "output_type": "stream",
     "text": [
      "slope : 0.178927363156\n",
      "intercept : 2.39555977635\n"
     ]
    }
   ],
   "source": [
    "from sklearn import linear_model\n",
    "# fit the linear regression model and get the slope and intercept\n",
    "reg = linear_model.LinearRegression()\n",
    "\n",
    "reg.fit(Categories_M,GPA_mean_M)\n",
    "\n",
    "print('slope : {}'.format(reg.coef_[0]))\n",
    "print('intercept : {}'.format(reg.intercept_))"
   ]
  },
  {
<<<<<<< HEAD
   "cell_type": "code",
   "execution_count": null,
   "metadata": {
    "collapsed": true
   },
   "outputs": [],
=======
   "cell_type": "markdown",
   "metadata": {},
>>>>>>> edc129993c2bfbf6c5aa8499aff4d997bf7eaf0d
   "source": [
    "As you can see, the three methods yields the same *slope* and *intercept*."
   ]
  },
  {
   "cell_type": "markdown",
   "metadata": {},
   "source": [
    "**Next we are gonna use the slope and intercept to predict the average GPA for the test data and calculate the mean square error**"
   ]
  },
  {
   "cell_type": "code",
<<<<<<< HEAD
   "execution_count": null,
   "metadata": {
    "collapsed": true
   },
   "outputs": [],
=======
   "execution_count": 110,
   "metadata": {},
   "outputs": [
    {
     "name": "stdout",
     "output_type": "stream",
     "text": [
      "mean square error of prediction: 0.0205166040828\n"
     ]
    },
    {
     "data": {
      "image/png": "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\n",
      "text/plain": [
       "<matplotlib.figure.Figure at 0x1a0e06ca50>"
      ]
     },
     "metadata": {},
     "output_type": "display_data"
    }
   ],
>>>>>>> edc129993c2bfbf6c5aa8499aff4d997bf7eaf0d
   "source": [
    "GPA_mean_predict = coef[0]*Categories + coef[1]\n",
    "\n",
    "GPA_mean_test = category_mean(X_test,y_test)\n",
    "\n",
    "# Plot GPA mean for test data and \n",
    "fig = plt.figure()\n",
    "ax = plt.axes()\n",
    "plt.scatter(Categories, GPA_mean_test)\n",
    "# the following two lines plots a line with coefficients by the linear regression model.\n",
    "x = np.linspace(0, 6, 100)\n",
    "ax.plot(x, coef[0]*x + coef[1]);\n",
    "\n",
    "\n",
    "mse_test = np.mean(((GPA_mean_predict - GPA_mean_test) ** 2))\n",
    "print('mean square error of prediction: {}'.format(mse_test))"
   ]
  },
  {
   "cell_type": "markdown",
   "metadata": {},
   "source": [
    "You can also do linear regression to predict mean GPA with science and social skills (`t5c13b`) and math skills (`t5c13c`) respectively.\n",
    "\n",
    "Next, we do linear regression based on the original training data. In other words, we directly predict GPA instead of mean GPA. Fisrt, fit the model to traning data"
   ]
  },
  {
   "cell_type": "code",
   "execution_count": 111,
   "metadata": {},
   "outputs": [
    {
     "name": "stdout",
     "output_type": "stream",
     "text": [
      "mean square error : 0.392803274454\n"
     ]
    },
    {
     "data": {
      "image/png": "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\n",
      "text/plain": [
       "<matplotlib.figure.Figure at 0x1a0fbc0f10>"
      ]
     },
     "metadata": {},
     "output_type": "display_data"
    }
   ],
   "source": [
    "X_train_M = np.expand_dims(X_train, axis=1)\n",
    "\n",
    "# fit the linear regression model and get the slope and intercept\n",
    "reg = linear_model.LinearRegression()\n",
    "\n",
    "reg.fit(X_train_M,y_train)\n",
    "\n",
    "slope = reg.coef_[0]\n",
    "intercept = reg.intercept_\n",
    "\n",
    "#we plot the regression line along with the data points\n",
    "fig = plt.figure()\n",
    "ax = plt.axes()\n",
    "plt.scatter(X_train, y_train)\n",
    "# the following two lines plots a line with coefficients by the linear regression model.\n",
    "x = np.linspace(0, 6, 100)\n",
    "ax.plot(x, slope*x + intercept);\n",
    "\n",
    "# calculate mean square error\n",
    "mse = np.mean(((slope*X_train + intercept - y_train) ** 2))\n",
    "print('mean square error : {}'.format(mse))"
   ]
  },
  {
   "cell_type": "markdown",
   "metadata": {},
   "source": [
    "Then, use the model to predict GPA for test data"
   ]
  },
  {
   "cell_type": "code",
<<<<<<< HEAD
   "execution_count": null,
   "metadata": {
    "collapsed": true
   },
   "outputs": [],
=======
   "execution_count": 112,
   "metadata": {},
   "outputs": [
    {
     "name": "stdout",
     "output_type": "stream",
     "text": [
      "mean square error of prediction: 0.455507122432\n"
     ]
    },
    {
     "data": {
      "image/png": "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\n",
      "text/plain": [
       "<matplotlib.figure.Figure at 0x1a0fb50c90>"
      ]
     },
     "metadata": {},
     "output_type": "display_data"
    }
   ],
>>>>>>> edc129993c2bfbf6c5aa8499aff4d997bf7eaf0d
   "source": [
    "X_test_M = np.expand_dims(X_test, axis=1)\n",
    "y_predict = reg.predict(X_test_M)\n",
    "\n",
    "# Plot GPA mean for test data and \n",
    "fig = plt.figure()\n",
    "ax = plt.axes()\n",
    "plt.scatter(X_test, y_test)\n",
    "# the following two lines plots a line with coefficients by the linear regression model.\n",
    "x = np.linspace(0, 6, 100)\n",
    "ax.plot(x, slope*x + intercept);\n",
    "\n",
    "\n",
    "mse_test = np.mean(((y_predict - y_test) ** 2))\n",
    "print('mean square error of prediction: {}'.format(mse_test))"
   ]
  },
  {
   "cell_type": "markdown",
   "metadata": {
    "collapsed": true
   },
   "source": [
    "## Multiple Linear Regression\n",
    "\n",
    "Multiple linear regression is a generalization of linear regression. In multiple linear regression we model the relationship between a continuous variable (called the outcome or the dependent variable) and multiple explanatory variables (called predictors or independent variables). \n",
    "\n",
    "As in linear regression, we plot the data on a scatter plot and then compute the best-fit line through the data points. However, we use a different equation for the best-fit line which takes into account the effects of multiple predictors $X_1,X_2,\\dots,X_n$: \n",
    "\n",
    "The best-fit line is described by the equation:\n",
    "\n",
    "$$Y = c_0 + c_1 X_1 + c_2 X_2 + c_3 X_3 + \\dots + c_n X_n + \\epsilon$$\n",
    "\n",
    "where $c_0$ is the regression coefficient associated with the value of $Y$ when $X=0$, and $c_i$ where $i = 1,2,3,\\dots,n$ is the regression coefficient that tells us by how much $Y$ changes when the predictor $X_i$ is not zero. As before, we will set $\\epsilon$ to zero, meaning we will ignore the effects of noise.\n",
    "\n",
    "The best-fit line provides what is known as a linear model which allows us to make predictions about the value of $Y$ given the values of $X_i$.\n",
    "\n",
    "In this section we will build a multiple linear regression model to predict the child's GPA scores. As predictors, we will use language and literacy skills (feature t5c13a), science and social skills (feature t5c13b), and math skills (feature t5c13c)."
   ]
  },
  {
   "cell_type": "code",
   "execution_count": 113,
   "metadata": {},
   "outputs": [
    {
     "data": {
      "text/html": [
       "<div>\n",
       "<style scoped>\n",
       "    .dataframe tbody tr th:only-of-type {\n",
       "        vertical-align: middle;\n",
       "    }\n",
       "\n",
       "    .dataframe tbody tr th {\n",
       "        vertical-align: top;\n",
       "    }\n",
       "\n",
       "    .dataframe thead th {\n",
       "        text-align: right;\n",
       "    }\n",
       "</style>\n",
       "<table border=\"1\" class=\"dataframe\">\n",
       "  <thead>\n",
       "    <tr style=\"text-align: right;\">\n",
       "      <th></th>\n",
       "      <th>t5c13a</th>\n",
       "      <th>t5c13b</th>\n",
       "      <th>t5c13c</th>\n",
       "    </tr>\n",
       "    <tr>\n",
       "      <th>challengeID</th>\n",
       "      <th></th>\n",
       "      <th></th>\n",
       "      <th></th>\n",
       "    </tr>\n",
       "  </thead>\n",
       "  <tbody>\n",
       "    <tr>\n",
       "      <th>9</th>\n",
       "      <td>1</td>\n",
       "      <td>2</td>\n",
       "      <td>2</td>\n",
       "    </tr>\n",
       "    <tr>\n",
       "      <th>14</th>\n",
       "      <td>3</td>\n",
       "      <td>4</td>\n",
       "      <td>4</td>\n",
       "    </tr>\n",
       "    <tr>\n",
       "      <th>16</th>\n",
       "      <td>1</td>\n",
       "      <td>2</td>\n",
       "      <td>2</td>\n",
       "    </tr>\n",
       "    <tr>\n",
       "      <th>18</th>\n",
       "      <td>2</td>\n",
       "      <td>2</td>\n",
       "      <td>2</td>\n",
       "    </tr>\n",
       "    <tr>\n",
       "      <th>23</th>\n",
       "      <td>2</td>\n",
       "      <td>4</td>\n",
       "      <td>3</td>\n",
       "    </tr>\n",
       "  </tbody>\n",
       "</table>\n",
       "</div>"
      ],
      "text/plain": [
       "             t5c13a  t5c13b  t5c13c\n",
       "challengeID                        \n",
       "9                 1       2       2\n",
       "14                3       4       4\n",
       "16                1       2       2\n",
       "18                2       2       2\n",
       "23                2       4       3"
      ]
     },
     "execution_count": 113,
     "metadata": {},
     "output_type": "execute_result"
    }
   ],
   "source": [
    "#Remember our dataframe X and GPA\n",
    "X.head()"
   ]
  },
  {
   "cell_type": "code",
   "execution_count": 114,
   "metadata": {},
   "outputs": [
    {
     "data": {
      "text/plain": [
       "challengeID\n",
       "9     2.25\n",
       "14    3.25\n",
       "16    2.00\n",
       "18    2.25\n",
       "23    2.50\n",
       "Name: gpa, dtype: float64"
      ]
     },
     "execution_count": 114,
     "metadata": {},
     "output_type": "execute_result"
    }
   ],
   "source": [
    "GPA.head()"
   ]
  },
  {
   "cell_type": "code",
   "execution_count": 115,
   "metadata": {},
   "outputs": [
    {
     "name": "stdout",
     "output_type": "stream",
     "text": [
      "(513, 3)\n"
     ]
    }
   ],
   "source": [
    "# Split our data into train and test sets\n",
    "X_train, X_test, y_train, y_test = train_test_split(X, GPA, test_size = 0.3, random_state = 100)\n",
    "\n",
    "print(X_train.shape)"
   ]
  },
  {
   "cell_type": "markdown",
   "metadata": {},
   "source": [
    "We can't use `numpy.polyfit` or `scipy.stats.linregress` to do multiple linear regression! (Browse the documentation to understand why)\n",
    "\n",
    "In this section, we'll use `sklearn.linear_model.LinearRegression` to do multiple linear regression."
   ]
  },
  {
   "cell_type": "code",
   "execution_count": 116,
   "metadata": {},
   "outputs": [
    {
     "data": {
      "text/plain": [
       "LinearRegression(copy_X=True, fit_intercept=True, n_jobs=1, normalize=False)"
      ]
     },
     "execution_count": 116,
     "metadata": {},
     "output_type": "execute_result"
    }
   ],
   "source": [
    "# fit the linear regression model and get the slope and intercept\n",
    "reg = linear_model.LinearRegression()\n",
    "\n",
    "reg.fit(X_train,y_train)"
   ]
  },
  {
   "cell_type": "markdown",
   "metadata": {},
   "source": [
    "We denote $X_1$, $X_2$, $X_3$ as three features `t5c13a`, `t5c13b`, `t5c13c`, respectively. Then the multiple regression model can be written as \n",
    "\n",
    "$Y = c_0 + c_1 X_1 + c_2 X_2 + c_3 X_3 + \\epsilon$\n",
    "\n",
    "The coefficients can be retrieved from the fitted model.\n"
   ]
  },
  {
   "cell_type": "code",
   "execution_count": 117,
   "metadata": {},
   "outputs": [
    {
     "name": "stdout",
     "output_type": "stream",
     "text": [
      "[c_1 c_2 c_3] = [0.07342398 0.07174348 0.07980745]\n",
      "c_0 = 2.23232327455\n"
     ]
    }
   ],
   "source": [
    "print('[c_1 c_2 c_3] = {}'.format(reg.coef_))\n",
    "print('c_0 = {}'.format(reg.intercept_))"
   ]
  },
  {
   "cell_type": "markdown",
   "metadata": {},
   "source": [
    "We can use this model to predict the GPA for students in the test set."
   ]
  },
  {
   "cell_type": "code",
   "execution_count": 79,
   "metadata": {},
   "outputs": [
    {
     "name": "stdout",
     "output_type": "stream",
     "text": [
      "mean square error : 0.448083488118\n"
     ]
    }
   ],
   "source": [
    "y_predict = reg.predict(X_test)\n",
    "\n",
    "# calculate mean square error\n",
    "mse_test = np.mean(((y_predict - y_test) ** 2))\n",
    "print('mean square error of prediction : {}'.format(mse_test))"
   ]
  },
  {
   "cell_type": "markdown",
   "metadata": {},
   "source": [
    "## Logistic Regression"
   ]
  },
  {
   "cell_type": "markdown",
   "metadata": {
    "collapsed": true
   },
   "source": [
    "Logistic regression models the relationship between a binary outcome $Y$ that can be either 1 or 0 and a predictor $X$. The main difference between logistic regression and linear and multiple linear regression is that the resulting model is not linear (it is not a line but a curve) and that it does not predict the value of the outcome $Y$ but instead it predicts the probability that $Y$ is equal to 1.\n",
    "\n",
    "As in linear regression, we plot the data on a scatter plot and then compute the best-fit curve through the data points using the following equation which takes into account that $Y$ is a binary variable:\n",
    "\n",
    "$$ \\frac{p(Y)}{1-p(Y)} = c_0 + c_1 X + \\epsilon$$\n",
    "\n",
    "where $p(Y)$ is the probability that $Y=1, $$c_0$ is the regression coefficient associated with the probability that $Y=1$ when $X=0$, and $c_1$ is the regression coefficient that tells us how much the probability that $Y=1$ changes when the predictor $X$ is not zero. As before, we will set $\\epsilon$ to zero, meaning we will ignore the effects of noise.\n",
    "\n",
    "The best-fit curve provides a nonlinear model which allows us to make predictions about the probability that $Y=1$ or $Y=0$ given the value of $X$.\n",
    "\n",
    "In this section we will build a logistic regression model to predict eviction. For the predictor $X$ predictor, we will use SOMETHING(feature XXXXXXX)."
   ]
  },
  {
   "cell_type": "markdown",
   "metadata": {
    "collapsed": true
   },
   "source": [
    "## Multiple Logistic Regression\n",
    "\n",
    "Multiple logistic regression models is the generalization of logistic regression to multiple predictors. That is, multiple logistic regression models the relationship between a binary outcome $Y$ that can be either 1 or 0 and multiple predictors $X_i$. \n",
    "\n",
    "The model is given by the equation\n",
    "\n",
    "$$ \\frac{p(Y)}{1-p(Y)} = c_0 + c_1 X_1 + c_2 X_2 + c_3 X_3 + \\dots + c_n X_n + \\epsilon$$\n",
    "\n",
    "where $p(Y)$ is the probability that $Y=1, $$c_0$ is the regression coefficient associated with the probability that $Y=1$ when $X_i=0$ for all $i$, and $c_i$ is the regression coefficient that tells us how much the probability that $Y=1$ changes when the predictor $X_i$ is not zero. As before, we will set $\\epsilon$ to zero, meaning we will ignore the effects of noise.\n",
    "\n",
    "The best-fit curve provides a nonlinear model which allows us to make predictions about the probability that $Y=1$ or $Y=0$ given the values of $X_i$.\n",
    "\n",
    "In this section we will build a multiple logistic regression model to predict eviction. For the predictor $X$ predictor, we will use SOMETHING (feature XXXXXXX) and SOMETHING2 (feature XXXX2)."
   ]
  },
  {
   "cell_type": "code",
   "execution_count": null,
   "metadata": {
    "collapsed": true
   },
   "outputs": [],
   "source": []
  }
 ],
 "metadata": {
  "kernelspec": {
   "display_name": "Python 2",
   "language": "python",
   "name": "python2"
  },
  "language_info": {
   "codemirror_mode": {
    "name": "ipython",
    "version": 2
   },
   "file_extension": ".py",
   "mimetype": "text/x-python",
   "name": "python",
   "nbconvert_exporter": "python",
<<<<<<< HEAD
   "pygments_lexer": "ipython3",
   "version": "3.6.3"
=======
   "pygments_lexer": "ipython2",
   "version": "2.7.14"
>>>>>>> edc129993c2bfbf6c5aa8499aff4d997bf7eaf0d
  }
 },
 "nbformat": 4,
 "nbformat_minor": 2
}
