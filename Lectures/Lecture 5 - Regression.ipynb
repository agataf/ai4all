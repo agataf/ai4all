{
 "cells": [
  {
   "cell_type": "markdown",
   "metadata": {},
   "source": [
    "# Regression\n",
    "\n",
    "One of the most important and common question concerning data analysis if there is a statistical relationship between a response variable $Y$ and explanatory variables $X_i$. An common, powerful framework to address this question is to employ regression analysis in order to model the relationship. There are various types of regression analysis. The type of the regression model depends on the type of the distribution of the response variable $Y$; if it is continuous we use a linear regression model and if it is binary (i.e., 0 or 1) we use logistic regression. By modeling we try to predict the outcome $Y$ based on values of a set of predictor variables $X_i$ and noise $\\epsilon$. These methods allow us to assess the effects that the predictors $X_i$ have in the outcome $Y$. \n",
    "\n",
    "We will cover four different types of regression:\n",
    "\n",
    "1) Linear Regression (Models the value of one continuous outcome Y given one continuous or discrete predictor X)\n",
    "\n",
    "$$Y = c_0 + c_1 X + \\epsilon$$\n",
    "\n",
    "2) Multiple Linear Regression (Models the value of one continuous outcome Y given multiple continuous, discrete, or categorical predictors Xi)\n",
    "\n",
    "$$Y = c_0 + c_1 X_1 + c_2 X_2 + c_3 X_3 + \\dots + c_n X_n + \\epsilon$$\n",
    "\n",
    "3) Logistic Regression (Models the probability of a binary outcome Y given one continuous or discrete predictor X)\n",
    "\n",
    "$$\\frac{p(Y)}{1-p(Y)} = c_0 + c_1 X + \\epsilon$$\n",
    "\n",
    "4) Multiple Logistic Regression (Models the probability of a binary outcome Y given multiple continuous, discrete, or categorical predictors Xi)\n",
    "\n",
    "$$\\frac{p(Y)}{1-p(Y)} = c_0 + c_1 X_1 + c_2 X_2 + c_3 X_3 + \\dots + c_n X_n + \\epsilon$$"
   ]
  },
  {
   "cell_type": "markdown",
   "metadata": {},
   "source": [
    "## Linear Regression\n",
    "\n",
    "Linear regression is a linear approach to modelling the relationship between a continuous variable (called the outcome or the dependent variable) and one explanatory variable (called predictor or independent variable). \n",
    "\n",
    "In linear regression, we plot the data on a scatter plot and then compute the best-fit line through the data points. The term \"best-fit\" refers to the fact that the resulting line minimizes the squared distance between the data points and the line. \n",
    "\n",
    "The best-fit line is described by the equation:\n",
    "\n",
    "$$Y = c_0 + c_1 X + \\epsilon$$\n",
    "\n",
    "where $c_0$ is the regression coefficient associated with the value of $Y$ when $X=0$, $c_1$ is the regression coefficient that tells us by how much $Y$ changes when $X$ is not zero, and $\\epsilon$ is noise. For now, we will set $\\epsilon$ to zero, meaning we will ignore the effects of noise. The resulting equation $Y = c_0 + c_1 X$ is just the equation for a line with $c_0$ as its y-intercept and $c_1$ is its slope. \n",
    "\n",
    "The best-fit line provides what is known as a linear model which allows us to make predictions about the value of $Y$ given the value of $X$.\n",
    "\n",
    "In this section we will build a linear regression model to predict the child's GPA scores. As a predictor, we will use language and literacy skills (feature `t5c13a`), science and social skills (feature `t5c13b`), and math skills (feature `t5c13c`)."
   ]
  },
  {
   "cell_type": "code",
   "outputs": [],
   "source": [
    "# First, we import the libraries we will use in this notebook and load the Fragile Families data. \n",
    "# The first line sets maplotlib plots to show inside the notebook.\n",
    "%matplotlib inline \n",
    "import matplotlib.pyplot as plt\n",
    "import numpy as np\n",
    "import scipy.stats as stats\n",
    "import pandas as pd\n",
    "\n",
    "# Directory with cleaned data\n",
    "background = \"../../ai4all_data/background.csv\"\n",
    "train = \"../../ai4all_data/train.csv\"\n",
    "output_dir = \"../output\""
   ]
  },
  {
   "cell_type": "markdown",
   "metadata": {},
   "source": [
    "# Data preprocessing\n",
    "\n",
    "### Read in data"
   ]
  },
  {
   "cell_type": "code",
   "metadata": {},
   "outputs": [
    {
     "name": "stdout",
     "output_type": "stream",
     "text": [
      "(4242, 12943)\n"
     ]
    },
    {
     "data": {
      "text/html": [
       "<div>\n",
       "<style scoped>\n",
       "    .dataframe tbody tr th:only-of-type {\n",
       "        vertical-align: middle;\n",
       "    }\n",
       "\n",
       "    .dataframe tbody tr th {\n",
       "        vertical-align: top;\n",
       "    }\n",
       "\n",
       "    .dataframe thead th {\n",
       "        text-align: right;\n",
       "    }\n",
       "</style>\n",
       "<table border=\"1\" class=\"dataframe\">\n",
       "  <thead>\n",
       "    <tr style=\"text-align: right;\">\n",
       "      <th></th>\n",
       "      <th>challengeID</th>\n",
       "      <th>m1intmon</th>\n",
       "      <th>m1intyr</th>\n",
       "      <th>m1lenhr</th>\n",
       "      <th>m1lenmin</th>\n",
       "      <th>cm1twoc</th>\n",
       "      <th>cm1fint</th>\n",
       "      <th>cm1tdiff</th>\n",
       "      <th>cm1natsm</th>\n",
       "      <th>m1natwt</th>\n",
       "      <th>...</th>\n",
       "      <th>m4d9</th>\n",
       "      <th>m4e23</th>\n",
       "      <th>f4d6</th>\n",
       "      <th>f4d7</th>\n",
       "      <th>f4d9</th>\n",
       "      <th>m5c6</th>\n",
       "      <th>m5d20</th>\n",
       "      <th>m5k10</th>\n",
       "      <th>f5c6</th>\n",
       "      <th>k5f1</th>\n",
       "    </tr>\n",
       "  </thead>\n",
       "  <tbody>\n",
       "    <tr>\n",
       "      <th>0</th>\n",
       "      <td>1</td>\n",
       "      <td>-3</td>\n",
       "      <td>NaN</td>\n",
       "      <td>-3</td>\n",
       "      <td>40</td>\n",
       "      <td>NaN</td>\n",
       "      <td>0</td>\n",
       "      <td>NaN</td>\n",
       "      <td>NaN</td>\n",
       "      <td>NaN</td>\n",
       "      <td>...</td>\n",
       "      <td>-3.0</td>\n",
       "      <td>-3.000000</td>\n",
       "      <td>-3.000000</td>\n",
       "      <td>-3.000000</td>\n",
       "      <td>-3.0</td>\n",
       "      <td>-3.000000</td>\n",
       "      <td>-3.000000</td>\n",
       "      <td>-3</td>\n",
       "      <td>-3.000000</td>\n",
       "      <td>-3.000000</td>\n",
       "    </tr>\n",
       "    <tr>\n",
       "      <th>1</th>\n",
       "      <td>2</td>\n",
       "      <td>-3</td>\n",
       "      <td>NaN</td>\n",
       "      <td>0</td>\n",
       "      <td>40</td>\n",
       "      <td>NaN</td>\n",
       "      <td>1</td>\n",
       "      <td>NaN</td>\n",
       "      <td>NaN</td>\n",
       "      <td>NaN</td>\n",
       "      <td>...</td>\n",
       "      <td>-3.0</td>\n",
       "      <td>8.473318</td>\n",
       "      <td>-3.000000</td>\n",
       "      <td>-3.000000</td>\n",
       "      <td>-3.0</td>\n",
       "      <td>-3.000000</td>\n",
       "      <td>9.845074</td>\n",
       "      <td>-3</td>\n",
       "      <td>-3.000000</td>\n",
       "      <td>9.723551</td>\n",
       "    </tr>\n",
       "    <tr>\n",
       "      <th>2</th>\n",
       "      <td>3</td>\n",
       "      <td>-3</td>\n",
       "      <td>NaN</td>\n",
       "      <td>0</td>\n",
       "      <td>35</td>\n",
       "      <td>NaN</td>\n",
       "      <td>1</td>\n",
       "      <td>NaN</td>\n",
       "      <td>NaN</td>\n",
       "      <td>NaN</td>\n",
       "      <td>...</td>\n",
       "      <td>-3.0</td>\n",
       "      <td>-3.000000</td>\n",
       "      <td>9.097495</td>\n",
       "      <td>10.071504</td>\n",
       "      <td>-3.0</td>\n",
       "      <td>-3.000000</td>\n",
       "      <td>-3.000000</td>\n",
       "      <td>-3</td>\n",
       "      <td>-3.000000</td>\n",
       "      <td>-3.000000</td>\n",
       "    </tr>\n",
       "    <tr>\n",
       "      <th>3</th>\n",
       "      <td>4</td>\n",
       "      <td>-3</td>\n",
       "      <td>NaN</td>\n",
       "      <td>0</td>\n",
       "      <td>30</td>\n",
       "      <td>NaN</td>\n",
       "      <td>1</td>\n",
       "      <td>NaN</td>\n",
       "      <td>NaN</td>\n",
       "      <td>NaN</td>\n",
       "      <td>...</td>\n",
       "      <td>-3.0</td>\n",
       "      <td>-3.000000</td>\n",
       "      <td>9.512706</td>\n",
       "      <td>10.286578</td>\n",
       "      <td>-3.0</td>\n",
       "      <td>10.677285</td>\n",
       "      <td>-3.000000</td>\n",
       "      <td>-3</td>\n",
       "      <td>8.522331</td>\n",
       "      <td>10.608137</td>\n",
       "    </tr>\n",
       "    <tr>\n",
       "      <th>4</th>\n",
       "      <td>5</td>\n",
       "      <td>-3</td>\n",
       "      <td>NaN</td>\n",
       "      <td>0</td>\n",
       "      <td>25</td>\n",
       "      <td>NaN</td>\n",
       "      <td>1</td>\n",
       "      <td>NaN</td>\n",
       "      <td>NaN</td>\n",
       "      <td>NaN</td>\n",
       "      <td>...</td>\n",
       "      <td>-3.0</td>\n",
       "      <td>-3.000000</td>\n",
       "      <td>11.076016</td>\n",
       "      <td>9.615958</td>\n",
       "      <td>-3.0</td>\n",
       "      <td>9.731979</td>\n",
       "      <td>-3.000000</td>\n",
       "      <td>-3</td>\n",
       "      <td>10.115313</td>\n",
       "      <td>9.646466</td>\n",
       "    </tr>\n",
       "  </tbody>\n",
       "</table>\n",
       "<p>5 rows × 12943 columns</p>\n",
       "</div>"
      ],
      "text/plain": [
       "   challengeID  m1intmon  m1intyr  m1lenhr  m1lenmin  cm1twoc  cm1fint  \\\n",
       "0            1        -3      NaN       -3        40      NaN        0   \n",
       "1            2        -3      NaN        0        40      NaN        1   \n",
       "2            3        -3      NaN        0        35      NaN        1   \n",
       "3            4        -3      NaN        0        30      NaN        1   \n",
       "4            5        -3      NaN        0        25      NaN        1   \n",
       "\n",
       "   cm1tdiff  cm1natsm  m1natwt    ...      m4d9     m4e23       f4d6  \\\n",
       "0       NaN       NaN      NaN    ...      -3.0 -3.000000  -3.000000   \n",
       "1       NaN       NaN      NaN    ...      -3.0  8.473318  -3.000000   \n",
       "2       NaN       NaN      NaN    ...      -3.0 -3.000000   9.097495   \n",
       "3       NaN       NaN      NaN    ...      -3.0 -3.000000   9.512706   \n",
       "4       NaN       NaN      NaN    ...      -3.0 -3.000000  11.076016   \n",
       "\n",
       "        f4d7  f4d9       m5c6     m5d20  m5k10       f5c6       k5f1  \n",
       "0  -3.000000  -3.0  -3.000000 -3.000000     -3  -3.000000  -3.000000  \n",
       "1  -3.000000  -3.0  -3.000000  9.845074     -3  -3.000000   9.723551  \n",
       "2  10.071504  -3.0  -3.000000 -3.000000     -3  -3.000000  -3.000000  \n",
       "3  10.286578  -3.0  10.677285 -3.000000     -3   8.522331  10.608137  \n",
       "4   9.615958  -3.0   9.731979 -3.000000     -3  10.115313   9.646466  \n",
       "\n",
       "[5 rows x 12943 columns]"
      ]
     },
     "execution_count": 94,
     "metadata": {},
     "output_type": "execute_result"
    }
   ],
   "source": [
    "data_frame = pd.read_csv(background, low_memory=False)\n",
    "print(data_frame.shape)\n",
    "data_frame.head()"
   ]
  },
  {
   "cell_type": "code",
   "execution_count": 95,
   "metadata": {},
   "outputs": [
    {
     "name": "stdout",
     "output_type": "stream",
     "text": [
      "(4242, 12942)\n"
     ]
    },
    {
     "data": {
      "text/html": [
       "<div>\n",
       "<style scoped>\n",
       "    .dataframe tbody tr th:only-of-type {\n",
       "        vertical-align: middle;\n",
       "    }\n",
       "\n",
       "    .dataframe tbody tr th {\n",
       "        vertical-align: top;\n",
       "    }\n",
       "\n",
       "    .dataframe thead th {\n",
       "        text-align: right;\n",
       "    }\n",
       "</style>\n",
       "<table border=\"1\" class=\"dataframe\">\n",
       "  <thead>\n",
       "    <tr style=\"text-align: right;\">\n",
       "      <th></th>\n",
       "      <th>m1intmon</th>\n",
       "      <th>m1intyr</th>\n",
       "      <th>m1lenhr</th>\n",
       "      <th>m1lenmin</th>\n",
       "      <th>cm1twoc</th>\n",
       "      <th>cm1fint</th>\n",
       "      <th>cm1tdiff</th>\n",
       "      <th>cm1natsm</th>\n",
       "      <th>m1natwt</th>\n",
       "      <th>cm1natsmx</th>\n",
       "      <th>...</th>\n",
       "      <th>m4d9</th>\n",
       "      <th>m4e23</th>\n",
       "      <th>f4d6</th>\n",
       "      <th>f4d7</th>\n",
       "      <th>f4d9</th>\n",
       "      <th>m5c6</th>\n",
       "      <th>m5d20</th>\n",
       "      <th>m5k10</th>\n",
       "      <th>f5c6</th>\n",
       "      <th>k5f1</th>\n",
       "    </tr>\n",
       "    <tr>\n",
       "      <th>challengeID</th>\n",
       "      <th></th>\n",
       "      <th></th>\n",
       "      <th></th>\n",
       "      <th></th>\n",
       "      <th></th>\n",
       "      <th></th>\n",
       "      <th></th>\n",
       "      <th></th>\n",
       "      <th></th>\n",
       "      <th></th>\n",
       "      <th></th>\n",
       "      <th></th>\n",
       "      <th></th>\n",
       "      <th></th>\n",
       "      <th></th>\n",
       "      <th></th>\n",
       "      <th></th>\n",
       "      <th></th>\n",
       "      <th></th>\n",
       "      <th></th>\n",
       "      <th></th>\n",
       "    </tr>\n",
       "  </thead>\n",
       "  <tbody>\n",
       "    <tr>\n",
       "      <th>1</th>\n",
       "      <td>-3</td>\n",
       "      <td>NaN</td>\n",
       "      <td>-3</td>\n",
       "      <td>40</td>\n",
       "      <td>NaN</td>\n",
       "      <td>0</td>\n",
       "      <td>NaN</td>\n",
       "      <td>NaN</td>\n",
       "      <td>NaN</td>\n",
       "      <td>NaN</td>\n",
       "      <td>...</td>\n",
       "      <td>-3.0</td>\n",
       "      <td>-3.000000</td>\n",
       "      <td>-3.000000</td>\n",
       "      <td>-3.000000</td>\n",
       "      <td>-3.0</td>\n",
       "      <td>-3.000000</td>\n",
       "      <td>-3.000000</td>\n",
       "      <td>-3</td>\n",
       "      <td>-3.000000</td>\n",
       "      <td>-3.000000</td>\n",
       "    </tr>\n",
       "    <tr>\n",
       "      <th>2</th>\n",
       "      <td>-3</td>\n",
       "      <td>NaN</td>\n",
       "      <td>0</td>\n",
       "      <td>40</td>\n",
       "      <td>NaN</td>\n",
       "      <td>1</td>\n",
       "      <td>NaN</td>\n",
       "      <td>NaN</td>\n",
       "      <td>NaN</td>\n",
       "      <td>NaN</td>\n",
       "      <td>...</td>\n",
       "      <td>-3.0</td>\n",
       "      <td>8.473318</td>\n",
       "      <td>-3.000000</td>\n",
       "      <td>-3.000000</td>\n",
       "      <td>-3.0</td>\n",
       "      <td>-3.000000</td>\n",
       "      <td>9.845074</td>\n",
       "      <td>-3</td>\n",
       "      <td>-3.000000</td>\n",
       "      <td>9.723551</td>\n",
       "    </tr>\n",
       "    <tr>\n",
       "      <th>3</th>\n",
       "      <td>-3</td>\n",
       "      <td>NaN</td>\n",
       "      <td>0</td>\n",
       "      <td>35</td>\n",
       "      <td>NaN</td>\n",
       "      <td>1</td>\n",
       "      <td>NaN</td>\n",
       "      <td>NaN</td>\n",
       "      <td>NaN</td>\n",
       "      <td>NaN</td>\n",
       "      <td>...</td>\n",
       "      <td>-3.0</td>\n",
       "      <td>-3.000000</td>\n",
       "      <td>9.097495</td>\n",
       "      <td>10.071504</td>\n",
       "      <td>-3.0</td>\n",
       "      <td>-3.000000</td>\n",
       "      <td>-3.000000</td>\n",
       "      <td>-3</td>\n",
       "      <td>-3.000000</td>\n",
       "      <td>-3.000000</td>\n",
       "    </tr>\n",
       "    <tr>\n",
       "      <th>4</th>\n",
       "      <td>-3</td>\n",
       "      <td>NaN</td>\n",
       "      <td>0</td>\n",
       "      <td>30</td>\n",
       "      <td>NaN</td>\n",
       "      <td>1</td>\n",
       "      <td>NaN</td>\n",
       "      <td>NaN</td>\n",
       "      <td>NaN</td>\n",
       "      <td>NaN</td>\n",
       "      <td>...</td>\n",
       "      <td>-3.0</td>\n",
       "      <td>-3.000000</td>\n",
       "      <td>9.512706</td>\n",
       "      <td>10.286578</td>\n",
       "      <td>-3.0</td>\n",
       "      <td>10.677285</td>\n",
       "      <td>-3.000000</td>\n",
       "      <td>-3</td>\n",
       "      <td>8.522331</td>\n",
       "      <td>10.608137</td>\n",
       "    </tr>\n",
       "    <tr>\n",
       "      <th>5</th>\n",
       "      <td>-3</td>\n",
       "      <td>NaN</td>\n",
       "      <td>0</td>\n",
       "      <td>25</td>\n",
       "      <td>NaN</td>\n",
       "      <td>1</td>\n",
       "      <td>NaN</td>\n",
       "      <td>NaN</td>\n",
       "      <td>NaN</td>\n",
       "      <td>NaN</td>\n",
       "      <td>...</td>\n",
       "      <td>-3.0</td>\n",
       "      <td>-3.000000</td>\n",
       "      <td>11.076016</td>\n",
       "      <td>9.615958</td>\n",
       "      <td>-3.0</td>\n",
       "      <td>9.731979</td>\n",
       "      <td>-3.000000</td>\n",
       "      <td>-3</td>\n",
       "      <td>10.115313</td>\n",
       "      <td>9.646466</td>\n",
       "    </tr>\n",
       "  </tbody>\n",
       "</table>\n",
       "<p>5 rows × 12942 columns</p>\n",
       "</div>"
      ],
      "text/plain": [
       "             m1intmon  m1intyr  m1lenhr  m1lenmin  cm1twoc  cm1fint  cm1tdiff  \\\n",
       "challengeID                                                                     \n",
       "1                  -3      NaN       -3        40      NaN        0       NaN   \n",
       "2                  -3      NaN        0        40      NaN        1       NaN   \n",
       "3                  -3      NaN        0        35      NaN        1       NaN   \n",
       "4                  -3      NaN        0        30      NaN        1       NaN   \n",
       "5                  -3      NaN        0        25      NaN        1       NaN   \n",
       "\n",
       "             cm1natsm  m1natwt  cm1natsmx    ...      m4d9     m4e23  \\\n",
       "challengeID                                  ...                       \n",
       "1                 NaN      NaN        NaN    ...      -3.0 -3.000000   \n",
       "2                 NaN      NaN        NaN    ...      -3.0  8.473318   \n",
       "3                 NaN      NaN        NaN    ...      -3.0 -3.000000   \n",
       "4                 NaN      NaN        NaN    ...      -3.0 -3.000000   \n",
       "5                 NaN      NaN        NaN    ...      -3.0 -3.000000   \n",
       "\n",
       "                  f4d6       f4d7  f4d9       m5c6     m5d20  m5k10  \\\n",
       "challengeID                                                           \n",
       "1            -3.000000  -3.000000  -3.0  -3.000000 -3.000000     -3   \n",
       "2            -3.000000  -3.000000  -3.0  -3.000000  9.845074     -3   \n",
       "3             9.097495  10.071504  -3.0  -3.000000 -3.000000     -3   \n",
       "4             9.512706  10.286578  -3.0  10.677285 -3.000000     -3   \n",
       "5            11.076016   9.615958  -3.0   9.731979 -3.000000     -3   \n",
       "\n",
       "                  f5c6       k5f1  \n",
       "challengeID                        \n",
       "1            -3.000000  -3.000000  \n",
       "2            -3.000000   9.723551  \n",
       "3            -3.000000  -3.000000  \n",
       "4             8.522331  10.608137  \n",
       "5            10.115313   9.646466  \n",
       "\n",
       "[5 rows x 12942 columns]"
      ]
     },
     "execution_count": 95,
     "metadata": {},
     "output_type": "execute_result"
    }
   ],
   "source": [
    "num_samples = data_frame.shape[0]\n",
    "\n",
    "# \"assert\" will throw an error if the condition is not fulfilled. This checks whether the challengeID frame is \n",
    "# a set of consecutive numbers from 1 to number of samples+1\n",
    "assert list(data_frame['challengeID'].to_dict().values()) == list(range(1, num_samples+1))\n",
    "\n",
    "# move from the original index (starting from 0) to the challengeID index\n",
    "data_frame = data_frame.set_index('challengeID')\n",
    "\n",
    "print(data_frame.shape)\n",
    "data_frame.head()"
   ]
  },
  {
   "cell_type": "markdown",
   "metadata": {},
   "source": [
    "**Next, we clean the data and get a data frame with all numeric elements for future use.**"
   ]
  },
  {
   "cell_type": "code",
   "execution_count": 96,
   "metadata": {},
   "outputs": [
    {
     "name": "stdout",
     "output_type": "stream",
     "text": [
      "(4242, 12795)\n"
     ]
    },
    {
     "data": {
      "text/html": [
       "<div>\n",
       "<style scoped>\n",
       "    .dataframe tbody tr th:only-of-type {\n",
       "        vertical-align: middle;\n",
       "    }\n",
       "\n",
       "    .dataframe tbody tr th {\n",
       "        vertical-align: top;\n",
       "    }\n",
       "\n",
       "    .dataframe thead th {\n",
       "        text-align: right;\n",
       "    }\n",
       "</style>\n",
       "<table border=\"1\" class=\"dataframe\">\n",
       "  <thead>\n",
       "    <tr style=\"text-align: right;\">\n",
       "      <th></th>\n",
       "      <th>m1intmon</th>\n",
       "      <th>m1intyr</th>\n",
       "      <th>m1lenhr</th>\n",
       "      <th>m1lenmin</th>\n",
       "      <th>cm1twoc</th>\n",
       "      <th>cm1fint</th>\n",
       "      <th>cm1tdiff</th>\n",
       "      <th>cm1natsm</th>\n",
       "      <th>m1natwt</th>\n",
       "      <th>cm1natsmx</th>\n",
       "      <th>...</th>\n",
       "      <th>m4d9</th>\n",
       "      <th>m4e23</th>\n",
       "      <th>f4d6</th>\n",
       "      <th>f4d7</th>\n",
       "      <th>f4d9</th>\n",
       "      <th>m5c6</th>\n",
       "      <th>m5d20</th>\n",
       "      <th>m5k10</th>\n",
       "      <th>f5c6</th>\n",
       "      <th>k5f1</th>\n",
       "    </tr>\n",
       "    <tr>\n",
       "      <th>challengeID</th>\n",
       "      <th></th>\n",
       "      <th></th>\n",
       "      <th></th>\n",
       "      <th></th>\n",
       "      <th></th>\n",
       "      <th></th>\n",
       "      <th></th>\n",
       "      <th></th>\n",
       "      <th></th>\n",
       "      <th></th>\n",
       "      <th></th>\n",
       "      <th></th>\n",
       "      <th></th>\n",
       "      <th></th>\n",
       "      <th></th>\n",
       "      <th></th>\n",
       "      <th></th>\n",
       "      <th></th>\n",
       "      <th></th>\n",
       "      <th></th>\n",
       "      <th></th>\n",
       "    </tr>\n",
       "  </thead>\n",
       "  <tbody>\n",
       "    <tr>\n",
       "      <th>1</th>\n",
       "      <td>-3</td>\n",
       "      <td>NaN</td>\n",
       "      <td>-3</td>\n",
       "      <td>40</td>\n",
       "      <td>NaN</td>\n",
       "      <td>0</td>\n",
       "      <td>NaN</td>\n",
       "      <td>NaN</td>\n",
       "      <td>NaN</td>\n",
       "      <td>NaN</td>\n",
       "      <td>...</td>\n",
       "      <td>-3.0</td>\n",
       "      <td>-3.000000</td>\n",
       "      <td>-3.000000</td>\n",
       "      <td>-3.000000</td>\n",
       "      <td>-3.0</td>\n",
       "      <td>-3.000000</td>\n",
       "      <td>-3.000000</td>\n",
       "      <td>-3</td>\n",
       "      <td>-3.000000</td>\n",
       "      <td>-3.000000</td>\n",
       "    </tr>\n",
       "    <tr>\n",
       "      <th>2</th>\n",
       "      <td>-3</td>\n",
       "      <td>NaN</td>\n",
       "      <td>0</td>\n",
       "      <td>40</td>\n",
       "      <td>NaN</td>\n",
       "      <td>1</td>\n",
       "      <td>NaN</td>\n",
       "      <td>NaN</td>\n",
       "      <td>NaN</td>\n",
       "      <td>NaN</td>\n",
       "      <td>...</td>\n",
       "      <td>-3.0</td>\n",
       "      <td>8.473318</td>\n",
       "      <td>-3.000000</td>\n",
       "      <td>-3.000000</td>\n",
       "      <td>-3.0</td>\n",
       "      <td>-3.000000</td>\n",
       "      <td>9.845074</td>\n",
       "      <td>-3</td>\n",
       "      <td>-3.000000</td>\n",
       "      <td>9.723551</td>\n",
       "    </tr>\n",
       "    <tr>\n",
       "      <th>3</th>\n",
       "      <td>-3</td>\n",
       "      <td>NaN</td>\n",
       "      <td>0</td>\n",
       "      <td>35</td>\n",
       "      <td>NaN</td>\n",
       "      <td>1</td>\n",
       "      <td>NaN</td>\n",
       "      <td>NaN</td>\n",
       "      <td>NaN</td>\n",
       "      <td>NaN</td>\n",
       "      <td>...</td>\n",
       "      <td>-3.0</td>\n",
       "      <td>-3.000000</td>\n",
       "      <td>9.097495</td>\n",
       "      <td>10.071504</td>\n",
       "      <td>-3.0</td>\n",
       "      <td>-3.000000</td>\n",
       "      <td>-3.000000</td>\n",
       "      <td>-3</td>\n",
       "      <td>-3.000000</td>\n",
       "      <td>-3.000000</td>\n",
       "    </tr>\n",
       "    <tr>\n",
       "      <th>4</th>\n",
       "      <td>-3</td>\n",
       "      <td>NaN</td>\n",
       "      <td>0</td>\n",
       "      <td>30</td>\n",
       "      <td>NaN</td>\n",
       "      <td>1</td>\n",
       "      <td>NaN</td>\n",
       "      <td>NaN</td>\n",
       "      <td>NaN</td>\n",
       "      <td>NaN</td>\n",
       "      <td>...</td>\n",
       "      <td>-3.0</td>\n",
       "      <td>-3.000000</td>\n",
       "      <td>9.512706</td>\n",
       "      <td>10.286578</td>\n",
       "      <td>-3.0</td>\n",
       "      <td>10.677285</td>\n",
       "      <td>-3.000000</td>\n",
       "      <td>-3</td>\n",
       "      <td>8.522331</td>\n",
       "      <td>10.608137</td>\n",
       "    </tr>\n",
       "    <tr>\n",
       "      <th>5</th>\n",
       "      <td>-3</td>\n",
       "      <td>NaN</td>\n",
       "      <td>0</td>\n",
       "      <td>25</td>\n",
       "      <td>NaN</td>\n",
       "      <td>1</td>\n",
       "      <td>NaN</td>\n",
       "      <td>NaN</td>\n",
       "      <td>NaN</td>\n",
       "      <td>NaN</td>\n",
       "      <td>...</td>\n",
       "      <td>-3.0</td>\n",
       "      <td>-3.000000</td>\n",
       "      <td>11.076016</td>\n",
       "      <td>9.615958</td>\n",
       "      <td>-3.0</td>\n",
       "      <td>9.731979</td>\n",
       "      <td>-3.000000</td>\n",
       "      <td>-3</td>\n",
       "      <td>10.115313</td>\n",
       "      <td>9.646466</td>\n",
       "    </tr>\n",
       "  </tbody>\n",
       "</table>\n",
       "<p>5 rows × 12795 columns</p>\n",
       "</div>"
      ],
      "text/plain": [
       "             m1intmon  m1intyr  m1lenhr  m1lenmin  cm1twoc  cm1fint  cm1tdiff  \\\n",
       "challengeID                                                                     \n",
       "1                  -3      NaN       -3        40      NaN        0       NaN   \n",
       "2                  -3      NaN        0        40      NaN        1       NaN   \n",
       "3                  -3      NaN        0        35      NaN        1       NaN   \n",
       "4                  -3      NaN        0        30      NaN        1       NaN   \n",
       "5                  -3      NaN        0        25      NaN        1       NaN   \n",
       "\n",
       "             cm1natsm  m1natwt  cm1natsmx    ...      m4d9     m4e23  \\\n",
       "challengeID                                  ...                       \n",
       "1                 NaN      NaN        NaN    ...      -3.0 -3.000000   \n",
       "2                 NaN      NaN        NaN    ...      -3.0  8.473318   \n",
       "3                 NaN      NaN        NaN    ...      -3.0 -3.000000   \n",
       "4                 NaN      NaN        NaN    ...      -3.0 -3.000000   \n",
       "5                 NaN      NaN        NaN    ...      -3.0 -3.000000   \n",
       "\n",
       "                  f4d6       f4d7  f4d9       m5c6     m5d20  m5k10  \\\n",
       "challengeID                                                           \n",
       "1            -3.000000  -3.000000  -3.0  -3.000000 -3.000000     -3   \n",
       "2            -3.000000  -3.000000  -3.0  -3.000000  9.845074     -3   \n",
       "3             9.097495  10.071504  -3.0  -3.000000 -3.000000     -3   \n",
       "4             9.512706  10.286578  -3.0  10.677285 -3.000000     -3   \n",
       "5            11.076016   9.615958  -3.0   9.731979 -3.000000     -3   \n",
       "\n",
       "                  f5c6       k5f1  \n",
       "challengeID                        \n",
       "1            -3.000000  -3.000000  \n",
       "2            -3.000000   9.723551  \n",
       "3            -3.000000  -3.000000  \n",
       "4             8.522331  10.608137  \n",
       "5            10.115313   9.646466  \n",
       "\n",
       "[5 rows x 12795 columns]"
      ]
     },
     "execution_count": 96,
     "metadata": {},
     "output_type": "execute_result"
    }
   ],
   "source": [
    "# Replace missing values with -3 (-3 represents missing data in the fragile family project)\n",
    "data_frame = data_frame.replace('missing', -3)\n",
    "# Transform all entries in data_frame to numeric \n",
    "data_frame = data_frame.apply(lambda x: pd.to_numeric(x, errors='ignore'))\n",
    "# removing all non-numeric elements\n",
    "data_frame = data_frame.select_dtypes(include = [np.number])\n",
    "\n",
    "print(data_frame.shape)\n",
    "data_frame.head()"
   ]
  },
  {
   "cell_type": "code",
   "source": [
    "# read outcome data\n",
    "outcome = pd.read_csv(train, low_memory=False)\n",
    "\n",
    "print(outcome.shape)\n",
    "outcome.head()"
   ]
  },
  {
   "cell_type": "code",
   "execution_count": 98,
   "metadata": {},
   "outputs": [
    {
     "name": "stdout",
     "output_type": "stream",
     "text": [
      "(1165, 6)\n"
     ]
    },
    {
     "data": {
      "text/html": [
       "<div>\n",
       "<style scoped>\n",
       "    .dataframe tbody tr th:only-of-type {\n",
       "        vertical-align: middle;\n",
       "    }\n",
       "\n",
       "    .dataframe tbody tr th {\n",
       "        vertical-align: top;\n",
       "    }\n",
       "\n",
       "    .dataframe thead th {\n",
       "        text-align: right;\n",
       "    }\n",
       "</style>\n",
       "<table border=\"1\" class=\"dataframe\">\n",
       "  <thead>\n",
       "    <tr style=\"text-align: right;\">\n",
       "      <th></th>\n",
       "      <th>gpa</th>\n",
       "      <th>grit</th>\n",
       "      <th>materialHardship</th>\n",
       "      <th>eviction</th>\n",
       "      <th>layoff</th>\n",
       "      <th>jobTraining</th>\n",
       "    </tr>\n",
       "    <tr>\n",
       "      <th>challengeID</th>\n",
       "      <th></th>\n",
       "      <th></th>\n",
       "      <th></th>\n",
       "      <th></th>\n",
       "      <th></th>\n",
       "      <th></th>\n",
       "    </tr>\n",
       "  </thead>\n",
       "  <tbody>\n",
       "    <tr>\n",
       "      <th>7</th>\n",
       "      <td>2.50</td>\n",
       "      <td>3.25</td>\n",
       "      <td>0.000000</td>\n",
       "      <td>0.0</td>\n",
       "      <td>0.0</td>\n",
       "      <td>0.0</td>\n",
       "    </tr>\n",
       "    <tr>\n",
       "      <th>9</th>\n",
       "      <td>2.25</td>\n",
       "      <td>4.00</td>\n",
       "      <td>0.181818</td>\n",
       "      <td>0.0</td>\n",
       "      <td>0.0</td>\n",
       "      <td>0.0</td>\n",
       "    </tr>\n",
       "    <tr>\n",
       "      <th>10</th>\n",
       "      <td>3.25</td>\n",
       "      <td>3.25</td>\n",
       "      <td>0.090909</td>\n",
       "      <td>0.0</td>\n",
       "      <td>NaN</td>\n",
       "      <td>0.0</td>\n",
       "    </tr>\n",
       "    <tr>\n",
       "      <th>13</th>\n",
       "      <td>2.75</td>\n",
       "      <td>4.00</td>\n",
       "      <td>0.181818</td>\n",
       "      <td>0.0</td>\n",
       "      <td>0.0</td>\n",
       "      <td>1.0</td>\n",
       "    </tr>\n",
       "    <tr>\n",
       "      <th>14</th>\n",
       "      <td>3.25</td>\n",
       "      <td>2.75</td>\n",
       "      <td>0.272727</td>\n",
       "      <td>0.0</td>\n",
       "      <td>1.0</td>\n",
       "      <td>0.0</td>\n",
       "    </tr>\n",
       "  </tbody>\n",
       "</table>\n",
       "</div>"
      ],
      "text/plain": [
       "              gpa  grit  materialHardship  eviction  layoff  jobTraining\n",
       "challengeID                                                             \n",
       "7            2.50  3.25          0.000000       0.0     0.0          0.0\n",
       "9            2.25  4.00          0.181818       0.0     0.0          0.0\n",
       "10           3.25  3.25          0.090909       0.0     NaN          0.0\n",
       "13           2.75  4.00          0.181818       0.0     0.0          1.0\n",
       "14           3.25  2.75          0.272727       0.0     1.0          0.0"
      ]
     },
     "execution_count": 98,
     "metadata": {},
     "output_type": "execute_result"
    }
   ],
   "source": [
    "# set outcome data index to match data_frame index\n",
    "outcome = outcome.set_index('challengeID')\n",
    "# Remove null entries\n",
    "outcome = outcome.loc[~outcome['gpa'].isnull()]\n",
    "\n",
    "print(outcome.shape)\n",
    "outcome.head()"
   ]
  },
  {
   "cell_type": "markdown",
   "metadata": {},
   "source": [
    "**Observe that the challengeID reflects which rows remain in the outcome DataFrame after NaN removal.**"
   ]
  },
  {
   "cell_type": "markdown",
   "metadata": {},
   "source": [
    "Pick out the students' language and literacy skills (`t5c13a`), social science skills (`t5c13b`), math skills (`t5c13c`) "
   ]
  },
  {
   "cell_type": "code",
   "execution_count": 99,
   "metadata": {},
   "outputs": [
    {
     "name": "stdout",
     "output_type": "stream",
     "text": [
      "(1165, 3)\n"
     ]
    },
    {
     "data": {
      "text/html": [
       "<div>\n",
       "<style scoped>\n",
       "    .dataframe tbody tr th:only-of-type {\n",
       "        vertical-align: middle;\n",
       "    }\n",
       "\n",
       "    .dataframe tbody tr th {\n",
       "        vertical-align: top;\n",
       "    }\n",
       "\n",
       "    .dataframe thead th {\n",
       "        text-align: right;\n",
       "    }\n",
       "</style>\n",
       "<table border=\"1\" class=\"dataframe\">\n",
       "  <thead>\n",
       "    <tr style=\"text-align: right;\">\n",
       "      <th></th>\n",
       "      <th>t5c13a</th>\n",
       "      <th>t5c13b</th>\n",
       "      <th>t5c13c</th>\n",
       "    </tr>\n",
       "    <tr>\n",
       "      <th>challengeID</th>\n",
       "      <th></th>\n",
       "      <th></th>\n",
       "      <th></th>\n",
       "    </tr>\n",
       "  </thead>\n",
       "  <tbody>\n",
       "    <tr>\n",
       "      <th>7</th>\n",
       "      <td>-9</td>\n",
       "      <td>-9</td>\n",
       "      <td>-9</td>\n",
       "    </tr>\n",
       "    <tr>\n",
       "      <th>9</th>\n",
       "      <td>1</td>\n",
       "      <td>2</td>\n",
       "      <td>2</td>\n",
       "    </tr>\n",
       "    <tr>\n",
       "      <th>10</th>\n",
       "      <td>-9</td>\n",
       "      <td>-9</td>\n",
       "      <td>-9</td>\n",
       "    </tr>\n",
       "    <tr>\n",
       "      <th>13</th>\n",
       "      <td>-9</td>\n",
       "      <td>-9</td>\n",
       "      <td>-9</td>\n",
       "    </tr>\n",
       "    <tr>\n",
       "      <th>14</th>\n",
       "      <td>3</td>\n",
       "      <td>4</td>\n",
       "      <td>4</td>\n",
       "    </tr>\n",
       "  </tbody>\n",
       "</table>\n",
       "</div>"
      ],
      "text/plain": [
       "             t5c13a  t5c13b  t5c13c\n",
       "challengeID                        \n",
       "7                -9      -9      -9\n",
       "9                 1       2       2\n",
       "10               -9      -9      -9\n",
       "13               -9      -9      -9\n",
       "14                3       4       4"
      ]
     },
     "execution_count": 99,
     "metadata": {},
     "output_type": "execute_result"
    }
   ],
   "source": [
    "# Choose only those rows of data_frame that are left in outcome\n",
    "rows_remaining_outcome = outcome.index.values\n",
    "rows_to_keep_dataframe = data_frame.index.isin(rows_remaining_outcome)\n",
    "data_frame = data_frame.loc[rows_to_keep_dataframe]\n",
    "\n",
    "# subselect the three columns we are interested in\n",
    "skills_columns = data_frame[['t5c13a', 't5c13b', 't5c13c']]\n",
    "\n",
    "print(skills_columns.shape)\n",
    "skills_columns.head()"
   ]
  },
  {
   "cell_type": "code",
   "execution_count": 100,
   "metadata": {},
   "outputs": [
    {
     "name": "stdout",
     "output_type": "stream",
     "text": [
      "(734, 3)\n"
     ]
    },
    {
     "data": {
      "text/html": [
       "<div>\n",
       "<style scoped>\n",
       "    .dataframe tbody tr th:only-of-type {\n",
       "        vertical-align: middle;\n",
       "    }\n",
       "\n",
       "    .dataframe tbody tr th {\n",
       "        vertical-align: top;\n",
       "    }\n",
       "\n",
       "    .dataframe thead th {\n",
       "        text-align: right;\n",
       "    }\n",
       "</style>\n",
       "<table border=\"1\" class=\"dataframe\">\n",
       "  <thead>\n",
       "    <tr style=\"text-align: right;\">\n",
       "      <th></th>\n",
       "      <th>t5c13a</th>\n",
       "      <th>t5c13b</th>\n",
       "      <th>t5c13c</th>\n",
       "    </tr>\n",
       "    <tr>\n",
       "      <th>challengeID</th>\n",
       "      <th></th>\n",
       "      <th></th>\n",
       "      <th></th>\n",
       "    </tr>\n",
       "  </thead>\n",
       "  <tbody>\n",
       "    <tr>\n",
       "      <th>9</th>\n",
       "      <td>1</td>\n",
       "      <td>2</td>\n",
       "      <td>2</td>\n",
       "    </tr>\n",
       "    <tr>\n",
       "      <th>14</th>\n",
       "      <td>3</td>\n",
       "      <td>4</td>\n",
       "      <td>4</td>\n",
       "    </tr>\n",
       "    <tr>\n",
       "      <th>16</th>\n",
       "      <td>1</td>\n",
       "      <td>2</td>\n",
       "      <td>2</td>\n",
       "    </tr>\n",
       "    <tr>\n",
       "      <th>18</th>\n",
       "      <td>2</td>\n",
       "      <td>2</td>\n",
       "      <td>2</td>\n",
       "    </tr>\n",
       "    <tr>\n",
       "      <th>23</th>\n",
       "      <td>2</td>\n",
       "      <td>4</td>\n",
       "      <td>3</td>\n",
       "    </tr>\n",
       "  </tbody>\n",
       "</table>\n",
       "</div>"
      ],
      "text/plain": [
       "             t5c13a  t5c13b  t5c13c\n",
       "challengeID                        \n",
       "9                 1       2       2\n",
       "14                3       4       4\n",
       "16                1       2       2\n",
       "18                2       2       2\n",
       "23                2       4       3"
      ]
     },
     "execution_count": 100,
     "metadata": {},
     "output_type": "execute_result"
    }
   ],
   "source": [
    "# Pick out students whose skills are non-missing (above 0 values)\n",
    "X = skills_columns[(skills_columns>0).all(1)]\n",
    "# The .all(1) function says \"apply the >0 condition only if all columns (all elements across dimension 1) fulfull it.\n",
    "# This guarantees that only the rows where all skills have non-missing values will be selected.\n",
    "print(X.shape)\n",
    "X.head()"
   ]
  },
  {
   "cell_type": "code",
   "execution_count": 101,
   "metadata": {},
   "outputs": [
    {
     "name": "stdout",
     "output_type": "stream",
     "text": [
      "(734, 6)\n"
     ]
    },
    {
     "data": {
      "text/html": [
       "<div>\n",
       "<style scoped>\n",
       "    .dataframe tbody tr th:only-of-type {\n",
       "        vertical-align: middle;\n",
       "    }\n",
       "\n",
       "    .dataframe tbody tr th {\n",
       "        vertical-align: top;\n",
       "    }\n",
       "\n",
       "    .dataframe thead th {\n",
       "        text-align: right;\n",
       "    }\n",
       "</style>\n",
       "<table border=\"1\" class=\"dataframe\">\n",
       "  <thead>\n",
       "    <tr style=\"text-align: right;\">\n",
       "      <th></th>\n",
       "      <th>gpa</th>\n",
       "      <th>grit</th>\n",
       "      <th>materialHardship</th>\n",
       "      <th>eviction</th>\n",
       "      <th>layoff</th>\n",
       "      <th>jobTraining</th>\n",
       "    </tr>\n",
       "    <tr>\n",
       "      <th>challengeID</th>\n",
       "      <th></th>\n",
       "      <th></th>\n",
       "      <th></th>\n",
       "      <th></th>\n",
       "      <th></th>\n",
       "      <th></th>\n",
       "    </tr>\n",
       "  </thead>\n",
       "  <tbody>\n",
       "    <tr>\n",
       "      <th>9</th>\n",
       "      <td>2.25</td>\n",
       "      <td>4.00</td>\n",
       "      <td>0.181818</td>\n",
       "      <td>0.0</td>\n",
       "      <td>0.0</td>\n",
       "      <td>0.0</td>\n",
       "    </tr>\n",
       "    <tr>\n",
       "      <th>14</th>\n",
       "      <td>3.25</td>\n",
       "      <td>2.75</td>\n",
       "      <td>0.272727</td>\n",
       "      <td>0.0</td>\n",
       "      <td>1.0</td>\n",
       "      <td>0.0</td>\n",
       "    </tr>\n",
       "    <tr>\n",
       "      <th>16</th>\n",
       "      <td>2.00</td>\n",
       "      <td>3.50</td>\n",
       "      <td>0.090909</td>\n",
       "      <td>0.0</td>\n",
       "      <td>0.0</td>\n",
       "      <td>1.0</td>\n",
       "    </tr>\n",
       "    <tr>\n",
       "      <th>18</th>\n",
       "      <td>2.25</td>\n",
       "      <td>3.00</td>\n",
       "      <td>0.000000</td>\n",
       "      <td>0.0</td>\n",
       "      <td>1.0</td>\n",
       "      <td>0.0</td>\n",
       "    </tr>\n",
       "    <tr>\n",
       "      <th>23</th>\n",
       "      <td>2.50</td>\n",
       "      <td>3.25</td>\n",
       "      <td>0.000000</td>\n",
       "      <td>0.0</td>\n",
       "      <td>0.0</td>\n",
       "      <td>0.0</td>\n",
       "    </tr>\n",
       "  </tbody>\n",
       "</table>\n",
       "</div>"
      ],
      "text/plain": [
       "              gpa  grit  materialHardship  eviction  layoff  jobTraining\n",
       "challengeID                                                             \n",
       "9            2.25  4.00          0.181818       0.0     0.0          0.0\n",
       "14           3.25  2.75          0.272727       0.0     1.0          0.0\n",
       "16           2.00  3.50          0.090909       0.0     0.0          1.0\n",
       "18           2.25  3.00          0.000000       0.0     1.0          0.0\n",
       "23           2.50  3.25          0.000000       0.0     0.0          0.0"
      ]
     },
     "execution_count": 101,
     "metadata": {},
     "output_type": "execute_result"
    }
   ],
   "source": [
    "Y = outcome.loc[outcome.index.isin(X.index.values)]\n",
    "\n",
    "print(Y.shape)\n",
    "Y.head()"
   ]
  },
  {
   "cell_type": "code",
   "execution_count": 102,
   "metadata": {},
   "outputs": [
    {
     "name": "stdout",
     "output_type": "stream",
     "text": [
      "(734, 3)\n",
      "(734,)\n"
     ]
    }
   ],
   "source": [
    "#picks out GPA\n",
    "GPA = Y.gpa\n",
    "\n",
    "#make sure the the number of rows are the same\n",
    "print(X.shape)\n",
    "print(GPA.shape)"
   ]
  },
  {
   "cell_type": "markdown",
   "metadata": {},
   "source": [
    "We have our data ready! We can now move to perform our first regression task - linear regression! "
   ]
  },
  {
   "cell_type": "markdown",
   "metadata": {},
   "source": [
    "### Linear regression for GPA using language and literacy skills ('t5c13a') as predictor "
   ]
  },
  {
   "cell_type": "markdown",
   "metadata": {},
   "source": [
    "### Linear Regression\n",
    "\n",
    "In this section, we are gonna predict GPA based on a single feature - language and literacy skills (`t5c13a`). Intuitively, better language and literacy skills would result in a better GPA. Indeed, GPA depends on a lot of factors and language and literacy skill is only one of them. \n",
    "\n",
    "The language and literacy skill can take values 1,2,3,4,5. This is a categorical variable. The GPA data in the data is rounded to a scale of 0.25. This is also a categorical data. We emphasize that regression is a tool that estimate the correlation between two continuous variables. \n",
    "\n",
    "Because of the nature of the fragile framily study, most of the collected data are discretized, like GPA. In our regression analysis, we will first split the 734 samples into training set and test set, and then investigate the correlation between the language and literacy skill and the *average GPA* using linear regression techniques."
   ]
  },
  {
   "cell_type": "code",
   "source": [
    "# First, let's split our data into train and test sets\n",
    "from sklearn.cross_validation import train_test_split\n",
    "X_train, X_test, y_train, y_test = train_test_split(X.t5c13a, GPA, test_size = 0.3, random_state = 100)\n",
    "\n",
    "print(X_train.shape)\n",
    "print(X_test.shape)"
   ]
  },
  {
   "cell_type": "markdown",
   "metadata": {},
   "source": [
    "**Since we are gonna calculate the mean GPA for each category of language skills and it's a repetitive task, we write a function to perform the task**"
   ]
  },
  {
   "cell_type": "code",
   "execution_count": 104,
   "metadata": {},
   "outputs": [],
   "source": [
    "def category_mean(category_five, gpa):\n",
    "\n",
    "    # Calculate average GPA for students whose language and literacy skills are far below average\n",
    "    one = category_five.loc[category_five == 1 ]\n",
    "    one_gpa = gpa.loc[gpa.index.isin(one.index.values)]\n",
    "    one_gpa_mean = np.mean(one_gpa)\n",
    "    # Calculate average GPA for students whose language and literacy skills are below average\n",
    "    two = category_five.loc[category_five == 2]\n",
    "    two_gpa = gpa.loc[gpa.index.isin(two.index.values)]\n",
    "    two_gpa_mean = np.mean(two_gpa)\n",
    "    # Calculate average GPA for students whose language and literacy skills are average\n",
    "    three = category_five.loc[category_five == 3 ]\n",
    "    three_gpa = gpa.loc[gpa.index.isin(three.index.values)]\n",
    "    three_gpa_mean = np.mean(three_gpa)\n",
    "    # Calculate average GPA for students whose language and literacy skills are above average\n",
    "    four = category_five.loc[category_five == 4 ]\n",
    "    four_gpa = gpa.loc[gpa.index.isin(four.index.values)]\n",
    "    four_gpa_mean = np.mean(four_gpa)\n",
    "    # Calculate average GPA for students whose language and literacy skills are far above average\n",
    "    five = category_five.loc[category_five == 5 ]\n",
    "    five_gpa = gpa.loc[gpa.index.isin(five.index.values)]\n",
    "    five_gpa_mean = np.mean(five_gpa)\n",
    "\n",
    "    return np.array([one_gpa_mean,two_gpa_mean,three_gpa_mean,four_gpa_mean,five_gpa_mean])"
   ]
  },
  {
   "cell_type": "markdown",
   "metadata": {},
   "source": [
    "**We calculate the mean of GPA in each category and plot them versus language/literacy skills.**"
   ]
  },
  {
   "cell_type": "code",
   "source": [
    "GPA_mean = category_mean(X_train,y_train)\n",
    "print(GPA_mean)\n",
    "Categories = np.array([1,2,3,4,5])\n",
    "plt.scatter(Categories, GPA_mean)\n",
    "plt.show()"
   ]
  },
  {
   "cell_type": "markdown",
   "metadata": {},
   "source": [
    "Could you see the trend? It tells us that our intuition is correct. We now seek a linear regression model using this training data and see if we can use this model to predict the mean GPA of the test data.\n",
    "\n",
    "There are numerous ways to do linear regression in Python. Here we show three of them, using package `numpy.polyfit`, `scipy.stats.linregress` and `sklearn.linear_model.LinearRegression`."
   ]
  },
  {
   "cell_type": "markdown",
   "metadata": {},
   "source": [
    "**Let's do linear regression with `numpy.polyfit`** You can learn about this function at <https://docs.scipy.org/doc/numpy-1.13.0/reference/generated/numpy.polyfit.html>\n"
   ]
  },
  {
   "cell_type": "code",
   "source": [
    "# the argument \"1\" tells polyfit we are doing an linear regression (linear is degree 1)\n",
    "coef = np.polyfit(Categories,GPA_mean,1)\n",
    "print('slope : {}'.format(coef[0]))\n",
    "print('intercept : {}'.format(coef[1]))\n",
    "\n",
    "#we plot the regression line along with the data points\n",
    "fig = plt.figure()\n",
    "ax = plt.axes()\n",
    "plt.scatter(Categories, GPA_mean)\n",
    "# the following two lines plots a line with coefficients by the linear regression model.\n",
    "x = np.linspace(0, 6, 100)\n",
    "ax.plot(x, coef[0]*x + coef[1]);\n",
    "\n",
    "# calculate mean square error\n",
    "mse = np.mean(((coef[0]*Categories + coef[1] - GPA_mean) ** 2))\n",
    "print('mean square error : {}'.format(mse))"
   ]
  },
  {
   "cell_type": "markdown",
   "metadata": {},
   "source": [
    "It seems the five data points lie on a quadratic function. Could you fit the data points to a quadratic function using `numpy.polyfit` and point the quadratic function along with the data points? Write down your code below!"
   ]
  },
  {
   "cell_type": "code",
   "execution_count": null,
   "metadata": {},
   "outputs": [],
   "source": []
  },
  {
   "cell_type": "markdown",
   "metadata": {},
   "source": [
    "**We can also do linear regression with `scipy.stats.linregress`.** You can learn more about this at <https://docs.scipy.org/doc/scipy/reference/generated/scipy.stats.linregress.html>"
   ]
  },
  {
   "cell_type": "code",
   "execution_count": 107,
   "metadata": {
   },
   "outputs": [
    {
     "name": "stdout",
     "output_type": "stream",
     "text": [
      "slope : 0.178927363156\n",
      "intercept : 2.39555977635\n",
      "r-squared : 0.981593533886\n"
     ]
    }
   ],
   "source": [
    "from scipy import stats\n",
    "\n",
    "slope, intercept, r_value, p_value, std_err = stats.linregress(Categories, GPA_mean)\n",
    "\n",
    "print('slope : {}'.format(slope))\n",
    "print('intercept : {}'.format(intercept))\n",
    "print('r-squared : {}'.format(r_value))"
   ]
  },
  {
   "cell_type": "markdown",
   "metadata": {},
   "source": [
    "**We can also do linear regression with `sklearn.linear_model.LinearRegression`.** You can learn more about this at <http://scikit-learn.org/stable/modules/generated/sklearn.linear_model.LinearRegression.html#sklearn.linear_model.LinearRegression>"
   ]
  },
  {
   "cell_type": "code",
   "source": [
    "# Since the feature input to this package should have dimension [n_samples,n_features], we need to modify our feature\n",
    "Categories_M = np.expand_dims(Categories.T , axis=1)\n",
    "print(Categories_M.shape)\n",
    "GPA_mean_M = GPA_mean.T\n",
    "print(GPA_mean_M.shape)\n"
   ]
  },
  {
   "cell_type": "code",
   "execution_count": 109,
   "metadata": {},
   "outputs": [
    {
     "name": "stdout",
     "output_type": "stream",
     "text": [
      "slope : 0.178927363156\n",
      "intercept : 2.39555977635\n"
     ]
    }
   ],
   "source": [
    "from sklearn import linear_model\n",
    "# fit the linear regression model and get the slope and intercept\n",
    "reg = linear_model.LinearRegression()\n",
    "\n",
    "reg.fit(Categories_M,GPA_mean_M)\n",
    "\n",
    "print('slope : {}'.format(reg.coef_[0]))\n",
    "print('intercept : {}'.format(reg.intercept_))"
   ]
  },
  {
   "source": [
    "As you can see, the three methods yields the same *slope* and *intercept*."
   ]
  },
  {
   "cell_type": "markdown",
   "metadata": {},
   "source": [
    "**Next we are gonna use the slope and intercept to predict the average GPA for the test data and calculate the mean square error**"
   ]
  },
  {
   "cell_type": "code",
   "source": [
    "GPA_mean_predict = coef[0]*Categories + coef[1]\n",
    "\n",
    "GPA_mean_test = category_mean(X_test,y_test)\n",
    "\n",
    "# Plot GPA mean for test data and \n",
    "fig = plt.figure()\n",
    "ax = plt.axes()\n",
    "plt.scatter(Categories, GPA_mean_test)\n",
    "# the following two lines plots a line with coefficients by the linear regression model.\n",
    "x = np.linspace(0, 6, 100)\n",
    "ax.plot(x, coef[0]*x + coef[1]);\n",
    "\n",
    "\n",
    "mse_test = np.mean(((GPA_mean_predict - GPA_mean_test) ** 2))\n",
    "print('mean square error of prediction: {}'.format(mse_test))"
   ]
  },
  {
   "cell_type": "markdown",
   "metadata": {},
   "source": [
    "You can also do linear regression to predict mean GPA with science and social skills (`t5c13b`) and math skills (`t5c13c`) respectively.\n",
    "\n",
    "Next, we do linear regression based on the original training data. In other words, we directly predict GPA instead of mean GPA. Fisrt, fit the model to traning data"
   ]
  },
  {
   "cell_type": "code",
   "execution_count": 111,
   "metadata": {},
   "outputs": [
    {
     "name": "stdout",
     "output_type": "stream",
     "text": [
      "mean square error : 0.392803274454\n"
     ]
    },
    {
     "data": {
      "image/png": "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\n",
      "text/plain": [
       "<matplotlib.figure.Figure at 0x1a0fbc0f10>"
      ]
     },
     "metadata": {},
     "output_type": "display_data"
    }
   ],
   "source": [
    "X_train_M = np.expand_dims(X_train, axis=1)\n",
    "\n",
    "# fit the linear regression model and get the slope and intercept\n",
    "reg = linear_model.LinearRegression()\n",
    "\n",
    "reg.fit(X_train_M,y_train)\n",
    "\n",
    "slope = reg.coef_[0]\n",
    "intercept = reg.intercept_\n",
    "\n",
    "#we plot the regression line along with the data points\n",
    "fig = plt.figure()\n",
    "ax = plt.axes()\n",
    "plt.scatter(X_train, y_train)\n",
    "# the following two lines plots a line with coefficients by the linear regression model.\n",
    "x = np.linspace(0, 6, 100)\n",
    "ax.plot(x, slope*x + intercept);\n",
    "\n",
    "# calculate mean square error\n",
    "mse = np.mean(((slope*X_train + intercept - y_train) ** 2))\n",
    "print('mean square error : {}'.format(mse))"
   ]
  },
  {
   "cell_type": "markdown",
   "metadata": {},
   "source": [
    "Then, use the model to predict GPA for test data"
   ]
  },
  {
   "cell_type": "code",
   "source": [
    "X_test_M = np.expand_dims(X_test, axis=1)\n",
    "y_predict = reg.predict(X_test_M)\n",
    "\n",
    "# Plot GPA mean for test data and \n",
    "fig = plt.figure()\n",
    "ax = plt.axes()\n",
    "plt.scatter(X_test, y_test)\n",
    "# the following two lines plots a line with coefficients by the linear regression model.\n",
    "x = np.linspace(0, 6, 100)\n",
    "ax.plot(x, slope*x + intercept);\n",
    "\n",
    "\n",
    "mse_test = np.mean(((y_predict - y_test) ** 2))\n",
    "print('mean square error of prediction: {}'.format(mse_test))"
   ]
  },
  {
   "cell_type": "markdown",
   "metadata": {
    "collapsed": true
   },
   "source": [
    "## Multiple Linear Regression\n",
    "\n",
    "Multiple linear regression is a generalization of linear regression. In multiple linear regression we model the relationship between a continuous variable (called the outcome or the dependent variable) and multiple explanatory variables (called predictors or independent variables). \n",
    "\n",
    "As in linear regression, we plot the data on a scatter plot and then compute the best-fit line through the data points. However, we use a different equation for the best-fit line which takes into account the effects of multiple predictors $X_1,X_2,\\dots,X_n$: \n",
    "\n",
    "The best-fit line is described by the equation:\n",
    "\n",
    "$$Y = c_0 + c_1 X_1 + c_2 X_2 + c_3 X_3 + \\dots + c_n X_n + \\epsilon$$\n",
    "\n",
    "where $c_0$ is the regression coefficient associated with the value of $Y$ when $X=0$, and $c_i$ where $i = 1,2,3,\\dots,n$ is the regression coefficient that tells us by how much $Y$ changes when the predictor $X_i$ is not zero. As before, we will set $\\epsilon$ to zero, meaning we will ignore the effects of noise.\n",
    "\n",
    "The best-fit line provides what is known as a linear model which allows us to make predictions about the value of $Y$ given the values of $X_i$.\n",
    "\n",
    "In this section we will build a multiple linear regression model to predict the child's GPA scores. As predictors, we will use language and literacy skills (feature t5c13a), science and social skills (feature t5c13b), and math skills (feature t5c13c)."
   ]
  },
  {
   "cell_type": "code",
   "execution_count": 113,
   "metadata": {},
   "outputs": [
    {
     "data": {
      "text/html": [
       "<div>\n",
       "<style scoped>\n",
       "    .dataframe tbody tr th:only-of-type {\n",
       "        vertical-align: middle;\n",
       "    }\n",
       "\n",
       "    .dataframe tbody tr th {\n",
       "        vertical-align: top;\n",
       "    }\n",
       "\n",
       "    .dataframe thead th {\n",
       "        text-align: right;\n",
       "    }\n",
       "</style>\n",
       "<table border=\"1\" class=\"dataframe\">\n",
       "  <thead>\n",
       "    <tr style=\"text-align: right;\">\n",
       "      <th></th>\n",
       "      <th>t5c13a</th>\n",
       "      <th>t5c13b</th>\n",
       "      <th>t5c13c</th>\n",
       "    </tr>\n",
       "    <tr>\n",
       "      <th>challengeID</th>\n",
       "      <th></th>\n",
       "      <th></th>\n",
       "      <th></th>\n",
       "    </tr>\n",
       "  </thead>\n",
       "  <tbody>\n",
       "    <tr>\n",
       "      <th>9</th>\n",
       "      <td>1</td>\n",
       "      <td>2</td>\n",
       "      <td>2</td>\n",
       "    </tr>\n",
       "    <tr>\n",
       "      <th>14</th>\n",
       "      <td>3</td>\n",
       "      <td>4</td>\n",
       "      <td>4</td>\n",
       "    </tr>\n",
       "    <tr>\n",
       "      <th>16</th>\n",
       "      <td>1</td>\n",
       "      <td>2</td>\n",
       "      <td>2</td>\n",
       "    </tr>\n",
       "    <tr>\n",
       "      <th>18</th>\n",
       "      <td>2</td>\n",
       "      <td>2</td>\n",
       "      <td>2</td>\n",
       "    </tr>\n",
       "    <tr>\n",
       "      <th>23</th>\n",
       "      <td>2</td>\n",
       "      <td>4</td>\n",
       "      <td>3</td>\n",
       "    </tr>\n",
       "  </tbody>\n",
       "</table>\n",
       "</div>"
      ],
      "text/plain": [
       "             t5c13a  t5c13b  t5c13c\n",
       "challengeID                        \n",
       "9                 1       2       2\n",
       "14                3       4       4\n",
       "16                1       2       2\n",
       "18                2       2       2\n",
       "23                2       4       3"
      ]
     },
     "execution_count": 113,
     "metadata": {},
     "output_type": "execute_result"
    }
   ],
   "source": [
    "#Remember our dataframe X and GPA\n",
    "X.head()"
   ]
  },
  {
   "cell_type": "code",
   "execution_count": 114,
   "metadata": {},
   "outputs": [
    {
     "data": {
      "text/plain": [
       "challengeID\n",
       "9     2.25\n",
       "14    3.25\n",
       "16    2.00\n",
       "18    2.25\n",
       "23    2.50\n",
       "Name: gpa, dtype: float64"
      ]
     },
     "execution_count": 114,
     "metadata": {},
     "output_type": "execute_result"
    }
   ],
   "source": [
    "GPA.head()"
   ]
  },
  {
   "cell_type": "code",
   "execution_count": 115,
   "metadata": {},
   "outputs": [
    {
     "name": "stdout",
     "output_type": "stream",
     "text": [
      "(513, 3)\n"
     ]
    }
   ],
   "source": [
    "# Split our data into train and test sets\n",
    "X_train, X_test, y_train, y_test = train_test_split(X, GPA, test_size = 0.3, random_state = 100)\n",
    "\n",
    "print(X_train.shape)"
   ]
  },
  {
   "cell_type": "markdown",
   "metadata": {},
   "source": [
    "We can't use `numpy.polyfit` or `scipy.stats.linregress` to do multiple linear regression! (Browse the documentation to understand why)\n",
    "\n",
    "In this section, we'll use `sklearn.linear_model.LinearRegression` to do multiple linear regression."
   ]
  },
  {
   "cell_type": "code",
   "execution_count": 116,
   "metadata": {},
   "outputs": [
    {
     "data": {
      "text/plain": [
       "LinearRegression(copy_X=True, fit_intercept=True, n_jobs=1, normalize=False)"
      ]
     },
     "execution_count": 116,
     "metadata": {},
     "output_type": "execute_result"
    }
   ],
   "source": [
    "# fit the linear regression model and get the slope and intercept\n",
    "reg = linear_model.LinearRegression()\n",
    "\n",
    "reg.fit(X_train,y_train)"
   ]
  },
  {
   "cell_type": "markdown",
   "metadata": {},
   "source": [
    "We denote $X_1$, $X_2$, $X_3$ as three features `t5c13a`, `t5c13b`, `t5c13c`, respectively. Then the multiple regression model can be written as \n",
    "\n",
    "$Y = c_0 + c_1 X_1 + c_2 X_2 + c_3 X_3 + \\epsilon$\n",
    "\n",
    "The coefficients can be retrieved from the fitted model.\n"
   ]
  },
  {
   "cell_type": "code",
   "execution_count": 117,
   "metadata": {},
   "outputs": [
    {
     "name": "stdout",
     "output_type": "stream",
     "text": [
      "[c_1 c_2 c_3] = [0.07342398 0.07174348 0.07980745]\n",
      "c_0 = 2.23232327455\n"
     ]
    }
   ],
   "source": [
    "print('[c_1 c_2 c_3] = {}'.format(reg.coef_))\n",
    "print('c_0 = {}'.format(reg.intercept_))"
   ]
  },
  {
   "cell_type": "markdown",
   "metadata": {},
   "source": [
    "We can use this model to predict the GPA for students in the test set."
   ]
  },
  {
   "cell_type": "code",
   "execution_count": 79,
   "metadata": {},
   "outputs": [
    {
     "name": "stdout",
     "output_type": "stream",
     "text": [
      "mean square error : 0.448083488118\n"
     ]
    }
   ],
   "source": [
    "y_predict = reg.predict(X_test)\n",
    "\n",
    "# calculate mean square error\n",
    "mse_test = np.mean(((y_predict - y_test) ** 2))\n",
    "print('mean square error of prediction : {}'.format(mse_test))"
   ]
  },
  {
   "cell_type": "markdown",
   "metadata": {},
   "source": [
    "## Logistic Regression"
   ]
  },
  {
   "cell_type": "markdown",
   "metadata": {
    "collapsed": true
   },
   "source": [
    "Logistic regression models the relationship between a binary outcome $Y$ that can be either 1 or 0 and a predictor $X$. The main difference between logistic regression and linear and multiple linear regression is that the resulting model is not linear (it is not a line but a curve) and that it does not predict the value of the outcome $Y$ but instead it predicts the probability that $Y$ is equal to 1.\n",
    "\n",
    "As in linear regression, we plot the data on a scatter plot and then compute the best-fit curve through the data points using the following equation which takes into account that $Y$ is a binary variable:\n",
    "\n",
    "$$ \\frac{p(Y)}{1-p(Y)} = c_0 + c_1 X + \\epsilon$$\n",
    "\n",
    "where $p(Y)$ is the probability that $Y=1, $$c_0$ is the regression coefficient associated with the probability that $Y=1$ when $X=0$, and $c_1$ is the regression coefficient that tells us how much the probability that $Y=1$ changes when the predictor $X$ is not zero. As before, we will set $\\epsilon$ to zero, meaning we will ignore the effects of noise.\n",
    "\n",
    "The best-fit curve provides a nonlinear model which allows us to make predictions about the probability that $Y=1$ or $Y=0$ given the value of $X$.\n",
    "\n",
    "In this section we will build a logistic regression model to predict eviction. For the predictor $X$ predictor, we will use SOMETHING(feature XXXXXXX)."
   ]
  },
  {
   "cell_type": "markdown",
   "metadata": {
    "collapsed": true
   },
   "source": [
    "## Multiple Logistic Regression\n",
    "\n",
    "Multiple logistic regression models is the generalization of logistic regression to multiple predictors. That is, multiple logistic regression models the relationship between a binary outcome $Y$ that can be either 1 or 0 and multiple predictors $X_i$. \n",
    "\n",
    "The model is given by the equation\n",
    "\n",
    "$$ \\frac{p(Y)}{1-p(Y)} = c_0 + c_1 X_1 + c_2 X_2 + c_3 X_3 + \\dots + c_n X_n + \\epsilon$$\n",
    "\n",
    "where $p(Y)$ is the probability that $Y=1, $$c_0$ is the regression coefficient associated with the probability that $Y=1$ when $X_i=0$ for all $i$, and $c_i$ is the regression coefficient that tells us how much the probability that $Y=1$ changes when the predictor $X_i$ is not zero. As before, we will set $\\epsilon$ to zero, meaning we will ignore the effects of noise.\n",
    "\n",
    "The best-fit curve provides a nonlinear model which allows us to make predictions about the probability that $Y=1$ or $Y=0$ given the values of $X_i$.\n",
    "\n",
    "In this section we will build a multiple logistic regression model to predict eviction. For the predictor $X$ predictor, we will use SOMETHING (feature XXXXXXX) and SOMETHING2 (feature XXXX2)."
   ]
  },
  {
   "cell_type": "code",
   "execution_count": null,
   "metadata": {
    "collapsed": true
   },
   "outputs": [],
   "source": []
  }
 ],
 "metadata": {
  "kernelspec": {
   "display_name": "Python 2",
   "language": "python",
   "name": "python2"
  },
  "language_info": {
   "codemirror_mode": {
    "name": "ipython",
    "version": 2
   },
   "file_extension": ".py",
   "mimetype": "text/x-python",
   "name": "python",
   "nbconvert_exporter": "python",
  }
 },
 "nbformat": 4,
 "nbformat_minor": 2
}
