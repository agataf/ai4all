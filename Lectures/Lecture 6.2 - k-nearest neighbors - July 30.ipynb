{
 "cells": [
  {
   "cell_type": "markdown",
   "metadata": {},
   "source": [
    "Sources:\n",
    "    \n",
    "http://dataaspirant.com/2017/02/01/decision-tree-algorithm-python-with-scikit-learn/\n",
    "\n",
    "http://scikit-learn.org/stable/modules/tree.html\n",
    "\n",
    "https://medium.com/@rnbrown/creating-and-visualizing-decision-trees-with-python-f8e8fa394176\n",
    "\n",
    "http://scikit-learn.org/stable/modules/neighbors.html\n",
    "\n",
    "http://scikit-learn.org/stable/auto_examples/neighbors/plot_classification.html#sphx-glr-auto-examples-neighbors-plot-classification-py"
   ]
  },
  {
   "cell_type": "markdown",
   "metadata": {},
   "source": [
    "# k Nearest Neighbors\n",
    "\n",
    "Today we will try to predict a student's GPA using Decision Trees and K Nearest Neighbors Algorithms. \n",
    "\n",
    "Tutorial plan:\n",
    "\n",
    "[1. Data Preprocessing](#1.-Data-Preprocessing)\n",
    "\n",
    "[2. K Nearest Neighbors (Regression)](#3.-K-Nearest-Neighbors)\n",
    "\n",
    "\n",
    "* We will use three input variables for decision trees. These input variables (or **predictors**) do not need to be discrete.\n",
    "\n",
    "**K Nearest Neighbors**\n",
    "\n",
    "Additional topics:\n",
    "* feature normalization"
   ]
  },
  {
   "cell_type": "markdown",
   "metadata": {},
   "source": [
    "### Let's start by loading in our data, looking at it and reshaping it to the form that's necessary for our algorithm."
   ]
  },
  {
   "cell_type": "code",
   "execution_count": 1,
   "metadata": {
    "collapsed": false
   },
   "outputs": [],
   "source": [
    "# import libraries\n",
    "%matplotlib inline \n",
    "import matplotlib.pyplot as plt\n",
    "import pandas as pd\n",
    "import numpy as np\n",
    "import sys, os\n",
    "from sklearn.metrics import accuracy_score\n",
    "import sys\n",
    "# ff is a library written by the Fragile Families team and stored in a file ff.py a level up from our directory. \n",
    "# To import it, we need to append the directory above ours ('..') to our path and import the ff package (file ff.py)\n",
    "sys.path.append('..')\n",
    "import ff"
   ]
  },
  {
   "cell_type": "markdown",
   "metadata": {},
   "source": [
    "### Set input variables"
   ]
  },
  {
   "cell_type": "code",
   "execution_count": 2,
   "metadata": {
    "collapsed": false
   },
   "outputs": [],
   "source": [
    "# directory with output data\n",
    "background = \"../../ai4all_data/background.csv\"\n",
    "train = \"../../ai4all_data/train.csv\"\n",
    "output_dir = \"../output\"\n",
    "\n",
    "# if the output directory hasn't been created, Python will complain, so let's create it if it doesn't exist yet.\n",
    "if not os.path.exists(output_dir):\n",
    "    os.makedirs(output_dir)"
   ]
  },
  {
   "cell_type": "markdown",
   "metadata": {},
   "source": [
    "# k Nearest Neighbors"
   ]
  },
  {
   "cell_type": "markdown",
   "metadata": {},
   "source": [
    "http://scikit-learn.org/stable/modules/neighbors.html\n",
    "\n",
    "We will use K Nearest Neighbors for classification (assigning input to one of predefined classes). \n",
    "\n",
    "Neighbors-based classification is a type of instance-based learning or non-generalizing learning: it does not attempt to construct a general internal model, but simply stores instances of the training data. Classification is computed from a simple majority vote of the nearest neighbors of each point: a query point is assigned the data class which has the most representatives within the nearest neighbors of the point. \n",
    "\n",
    "However, it is a method that can also be used for regression (predicting a continuous output) and clustering (unsupervised grouping of inputs).\n",
    "\n",
    "The basic idea behind K Nearest Neighbors Classification is that you assign each data point to a class based on the K (could be 1, 2, 5 etc.) points most similar to it (K Nearest Neighbors)."
   ]
  },
  {
   "cell_type": "markdown",
   "metadata": {},
   "source": [
    "Let's try to predict grit."
   ]
  },
  {
   "cell_type": "code",
   "execution_count": 34,
   "metadata": {
    "collapsed": true
   },
   "outputs": [],
   "source": [
    "# First, let's load in the data, as in the previous example\n",
    "\n",
    "data_frame = pd.read_csv(background, low_memory=False)\n",
    "# move from the original index (starting from 0) to the challengeID index\n",
    "data_frame = data_frame.set_index('challengeID')\n",
    "data_frame = data_frame.select_dtypes(include = [np.number])\n",
    "\n",
    "outcome = pd.read_csv(train, low_memory=False)\n",
    "outcome = outcome.set_index('challengeID')"
   ]
  },
  {
   "cell_type": "code",
   "execution_count": 35,
   "metadata": {
    "collapsed": false
   },
   "outputs": [
    {
     "name": "stdout",
     "output_type": "stream",
     "text": [
      "[  nan  3.5   3.25  4.    2.75  3.    3.75  2.5   2.25  2.    1.5   1.75\n",
      "  1.25]\n",
      "NaN      703\n",
      " 4.00    339\n",
      " 3.25    271\n",
      " 3.75    225\n",
      " 3.50    220\n",
      " 3.00    200\n",
      " 2.75     86\n",
      " 2.50     35\n",
      " 2.25     19\n",
      " 2.00     15\n",
      " 1.75      5\n",
      " 1.50      2\n",
      " 1.25      1\n",
      "Name: grit, dtype: int64\n"
     ]
    }
   ],
   "source": [
    "print(outcome.grit.unique())\n",
    "print(outcome.grit.value_counts(dropna=False))"
   ]
  },
  {
   "cell_type": "markdown",
   "metadata": {},
   "source": [
    "We can see that grit, similar to GPA, is a discrete variable. It ranges from 1.25 to 4.00. We have identified three variables that are likely to be correlated with grit:\n",
    "* t5b2b, Categorical (1-4): Child persists in completing tasks\n",
    "* t5b4y, Categorical (0-3): Child fails to finish things he or she starts\n",
    "* t5b4z, Categorical (0-3): Child does not follow through on instructions and fails to finish homework\n",
    "\n",
    "Notice that while the first variable seems to be supporting grit, the other two seem point towards lack of grit.\n",
    "\n",
    "Let's now preprocess the data the way we did with the GPA predictors - by removing the missing values."
   ]
  },
  {
   "cell_type": "code",
   "execution_count": 36,
   "metadata": {
    "collapsed": false
   },
   "outputs": [],
   "source": [
    "# remove individuals with missing grit\n",
    "outcome = outcome.loc[~outcome['grit'].isnull()]\n",
    "\n",
    "# Choose only those individuals (rows of data_frame) whose grit value is not missing\n",
    "rows_remaining_outcome = outcome.index.values\n",
    "rows_to_keep_dataframe = data_frame.index.isin(rows_remaining_outcome)\n",
    "data_frame = data_frame.loc[rows_to_keep_dataframe]\n",
    "\n",
    "# subselect the three columns we are interested in\n",
    "grit_predictors = data_frame[['t5b2b','t5b4y','t5b4z']]\n",
    "grit_predictors.head()\n",
    "\n",
    "# define our predictor (X) and outcome (GRIT) variables\n",
    "X = grit_predictors[(grit_predictors>0).all(1)]\n",
    "Y = outcome.loc[outcome.index.isin(X.index.values)]\n",
    "\n",
    "# similarly to GPA, we need to express GRIT as a categorical variable. Treating grit categories as strings\n",
    "# is equivalent to creating a distinct category for each grit value.\n",
    "GRIT = Y.grit.astype('str')"
   ]
  },
  {
   "cell_type": "markdown",
   "metadata": {},
   "source": [
    "### Normalization\n",
    "\n",
    "One thing to keep in mind is that different features could have different scales (0-3 or 1-4). If we measure similarity of the points by the euclidean distance between them in all feature dimensions, we will end up weighing the features with higher scales more than features with smaller ones. To overcome it, we can do what's called *feature normalization* - changing each feature to range from 0 to 1. "
   ]
  },
  {
   "cell_type": "code",
   "execution_count": 37,
   "metadata": {
    "collapsed": false
   },
   "outputs": [
    {
     "data": {
      "text/html": [
       "<div>\n",
       "<style scoped>\n",
       "    .dataframe tbody tr th:only-of-type {\n",
       "        vertical-align: middle;\n",
       "    }\n",
       "\n",
       "    .dataframe tbody tr th {\n",
       "        vertical-align: top;\n",
       "    }\n",
       "\n",
       "    .dataframe thead th {\n",
       "        text-align: right;\n",
       "    }\n",
       "</style>\n",
       "<table border=\"1\" class=\"dataframe\">\n",
       "  <thead>\n",
       "    <tr style=\"text-align: right;\">\n",
       "      <th></th>\n",
       "      <th>t5b2b</th>\n",
       "      <th>t5b4y</th>\n",
       "      <th>t5b4z</th>\n",
       "    </tr>\n",
       "    <tr>\n",
       "      <th>challengeID</th>\n",
       "      <th></th>\n",
       "      <th></th>\n",
       "      <th></th>\n",
       "    </tr>\n",
       "  </thead>\n",
       "  <tbody>\n",
       "    <tr>\n",
       "      <th>9</th>\n",
       "      <td>0.333333</td>\n",
       "      <td>0.5</td>\n",
       "      <td>0.5</td>\n",
       "    </tr>\n",
       "    <tr>\n",
       "      <th>16</th>\n",
       "      <td>0.333333</td>\n",
       "      <td>0.0</td>\n",
       "      <td>0.0</td>\n",
       "    </tr>\n",
       "    <tr>\n",
       "      <th>18</th>\n",
       "      <td>0.666667</td>\n",
       "      <td>0.0</td>\n",
       "      <td>0.0</td>\n",
       "    </tr>\n",
       "    <tr>\n",
       "      <th>20</th>\n",
       "      <td>0.333333</td>\n",
       "      <td>0.5</td>\n",
       "      <td>0.5</td>\n",
       "    </tr>\n",
       "    <tr>\n",
       "      <th>23</th>\n",
       "      <td>0.333333</td>\n",
       "      <td>0.0</td>\n",
       "      <td>0.0</td>\n",
       "    </tr>\n",
       "  </tbody>\n",
       "</table>\n",
       "</div>"
      ],
      "text/plain": [
       "                t5b2b  t5b4y  t5b4z\n",
       "challengeID                        \n",
       "9            0.333333    0.5    0.5\n",
       "16           0.333333    0.0    0.0\n",
       "18           0.666667    0.0    0.0\n",
       "20           0.333333    0.5    0.5\n",
       "23           0.333333    0.0    0.0"
      ]
     },
     "execution_count": 37,
     "metadata": {},
     "output_type": "execute_result"
    }
   ],
   "source": [
    "X_norm = X.copy()\n",
    "X_norm.t5b2b = (X.t5b2b - X.t5b2b.min())/(X.t5b2b.max()-X.t5b2b.min())\n",
    "X_norm.t5b4y = (X.t5b4y - X.t5b4y.min())/(X.t5b4y.max()-X.t5b4y.min())\n",
    "X_norm.t5b4z = (X.t5b4z - X.t5b4z.min())/(X.t5b4z.max()-X.t5b4z.min())\n",
    "X_norm.head()"
   ]
  },
  {
   "cell_type": "code",
   "execution_count": 39,
   "metadata": {
    "collapsed": false
   },
   "outputs": [],
   "source": [
    "normalized_grit = (Y.grit-Y.grit.min())/(Y.grit.max()-Y.grit.min())"
   ]
  },
  {
   "cell_type": "code",
   "execution_count": 49,
   "metadata": {
    "collapsed": false
   },
   "outputs": [
    {
     "data": {
      "image/png": "[encoded data removed]",
      "text/plain": [
       "<matplotlib.figure.Figure at 0x133a86208>"
      ]
     },
     "metadata": {},
     "output_type": "display_data"
    },
    {
     "data": {
      "image/png": "[encoded data removed]",
      "text/plain": [
       "<matplotlib.figure.Figure at 0x13458eda0>"
      ]
     },
     "metadata": {},
     "output_type": "display_data"
    }
   ],
   "source": [
    "# Observe how changing the scales impacts the distance between specific points\n",
    "\n",
    "from mpl_toolkits.mplot3d import Axes3D\n",
    "\n",
    "# Top figure: before normalization\n",
    "fig = plt.figure()\n",
    "ax = fig.add_subplot(111, projection='3d')\n",
    "ax.axis('equal')\n",
    "ax.scatter(X.t5b2b,X.t5b4y,X.t5b4z, c=normalized_grit)\n",
    "plt.show()\n",
    "\n",
    "fig = plt.figure()\n",
    "# Bottom figure: after normalization\n",
    "ax1 = fig.add_subplot(111, projection='3d')\n",
    "ax1.axis('equal')\n",
    "ax1.scatter(X_norm.t5b2b,X_norm.t5b4y,X_norm.t5b4z, c=normalized_grit)\n",
    "plt.show()\n"
   ]
  },
  {
   "cell_type": "code",
   "execution_count": 41,
   "metadata": {
    "collapsed": true
   },
   "outputs": [],
   "source": [
    "# AGATA: maybe choose a better variable so we could see clusters clearly?\n",
    "# In our case, because points are disreeet, often the nearest neighbors just means other points with the exact same\n",
    "# values. This may be ok but is not an interesting example."
   ]
  },
  {
   "cell_type": "code",
   "execution_count": 42,
   "metadata": {
    "collapsed": false
   },
   "outputs": [],
   "source": [
    "# Now, let's split our data into train and test sets\n",
    "from sklearn.cross_validation import train_test_split\n",
    "X_norm_train, X_norm_test, y_norm_train, y_norm_test = train_test_split(X_norm, GRIT, test_size = 0.3, random_state = 100)"
   ]
  },
  {
   "cell_type": "markdown",
   "metadata": {},
   "source": [
    "### How to choose k?\n",
    "The k-neighbors classification in KNeighborsClassifier is the more commonly used of the two techniques. The optimal choice of the value k is highly data-dependent: in general a larger k suppresses the effects of noise, but makes the classification boundaries less distinct."
   ]
  },
  {
   "cell_type": "code",
   "execution_count": 43,
   "metadata": {
    "collapsed": false
   },
   "outputs": [
    {
     "data": {
      "text/plain": [
       "KNeighborsClassifier(algorithm='auto', leaf_size=30, metric='minkowski',\n",
       "           metric_params=None, n_jobs=1, n_neighbors=15, p=2,\n",
       "           weights='uniform')"
      ]
     },
     "execution_count": 43,
     "metadata": {},
     "output_type": "execute_result"
    }
   ],
   "source": [
    "from sklearn.neighbors import KNeighborsClassifier\n",
    "nbrs = KNeighborsClassifier(n_neighbors=15)\n",
    "nbrs.fit(X_norm_train, y_norm_train)\n",
    "#distances, indices = nbrs.kneighbors(X_norm_train)"
   ]
  },
  {
   "cell_type": "code",
   "execution_count": 44,
   "metadata": {
    "collapsed": false
   },
   "outputs": [
    {
     "data": {
      "text/plain": [
       "0.11312217194570136"
      ]
     },
     "execution_count": 44,
     "metadata": {},
     "output_type": "execute_result"
    }
   ],
   "source": [
    "pred = nbrs.predict(X_test)\n",
    "accuracy = sum(pred==y_test.values)/pred.shape[0]\n",
    "accuracy"
   ]
  },
  {
   "cell_type": "markdown",
   "metadata": {},
   "source": [
    "Exercise: Try changing the n_neighbors variable, see what happens."
   ]
  },
  {
   "cell_type": "code",
   "execution_count": 45,
   "metadata": {
    "collapsed": false
   },
   "outputs": [],
   "source": [
    "results = np.zeros(28)\n",
    "for i in range(2,30):\n",
    "    nbrs = KNeighborsClassifier(n_neighbors=i)\n",
    "    nbrs.fit(X_norm_train, y_norm_train)\n",
    "    pred = nbrs.predict(X_test)\n",
    "    accuracy = sum(pred==y_test.values)/pred.shape[0]\n",
    "    results[i-2] = accuracy"
   ]
  },
  {
   "cell_type": "code",
   "execution_count": 46,
   "metadata": {
    "collapsed": false
   },
   "outputs": [
    {
     "data": {
      "image/png": "[encoded data removed]",
      "text/plain": [
       "<matplotlib.figure.Figure at 0x134537128>"
      ]
     },
     "metadata": {},
     "output_type": "display_data"
    }
   ],
   "source": [
    "import matplotlib.pyplot as plt\n",
    "plt.figure()\n",
    "plt.scatter(list(range(2,30)),results)\n",
    "plt.show()"
   ]
  }
 ],
 "metadata": {
  "anaconda-cloud": {},
  "kernelspec": {
   "display_name": "Python [Root]",
   "language": "python",
   "name": "Python [Root]"
  },
  "language_info": {
   "codemirror_mode": {
    "name": "ipython",
    "version": 3
   },
   "file_extension": ".py",
   "mimetype": "text/x-python",
   "name": "python",
   "nbconvert_exporter": "python",
   "pygments_lexer": "ipython3",
   "version": "3.5.2"
  }
 },
 "nbformat": 4,
 "nbformat_minor": 0
}
