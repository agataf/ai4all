{
 "cells": [
  {
   "cell_type": "markdown",
   "metadata": {},
   "source": [
    "# Statistics, Visualization, Correlation\n",
    "\n",
    "Today, we will continue our discussion of data exploration, and look for variables which co-occur together (*correlated variables*)."
   ]
  },
  {
   "cell_type": "markdown",
   "metadata": {},
   "source": [
    "# Table of contents\n",
    "[1. Data Exploration and Statistics](#1.-Data-Exploration-and-Statistics)\n",
    "- mean, meadian, standard deviation\n",
    "- correlation and causation\n",
    "\n",
    "[2. Correlation](#1.-Correlation)"
   ]
  },
  {
   "cell_type": "markdown",
   "metadata": {},
   "source": [
    "# 1. Data Exploration and Statistics\n",
    "\n",
    "Our dataset is enormous - it is difficult to understand the data we have available just by looking at the Data Frame. \n",
    "\n",
    "Data Scientists and AI researchers start every project with *data exploration* - plotting and summarizing various attributes of the data to get a better idea of what the data looks like.\n",
    "\n",
    "We learned a lot of useful ways to visualize data yesterday. Today, we will continue learning about data exploration.\n",
    "\n",
    "We'll start by examining\n"
   ]
  },
  {
   "cell_type": "code",
   "execution_count": null,
   "metadata": {
    "collapsed": true
   },
   "outputs": [],
   "source": [
    "# First, we import the libraries we will use in this notebook and load the Fragile Families data. \n",
    "# The first line sets maplotlib plots to show inside the notebook.\n",
    "%matplotlib inline \n",
    "import matplotlib.pyplot as plt\n",
    "import scipy.stats as stats\n",
    "import pandas as pd\n",
    "import numpy as np\n",
    "import sys\n",
    "import ff_functions as fff"
   ]
  },
  {
   "cell_type": "code",
   "execution_count": 1,
   "metadata": {
    "collapsed": false
   },
   "outputs": [],
   "source": [
    "# Read in data\n",
    "background = \"../../ai4all_data/background.csv\"\n",
    "train = \"../../ai4all_data/train.csv\"\n",
    "\n",
    "# Read in data\n",
    "data_frame = pd.read_csv(background, low_memory=False)\n",
    "data_frame = data_frame.set_index('challengeID')"
   ]
  },
  {
   "cell_type": "markdown",
   "metadata": {},
   "source": [
    "Let's look at three variables:\n",
    "* f2l1: Total household income before taxes/deductions (Year 2)\n",
    "* f3l1: Total household income before taxes/deductions (Year 3)\n",
    "* m5j1: Total household income before taxes/deductions (Year 9)\n",
    "\n",
    "We're interested in understanding how income of families changes across the years. Let's start by looking at the mean and median of "
   ]
  },
  {
   "cell_type": "markdown",
   "metadata": {},
   "source": [
    "## 1.1. Histograms"
   ]
  },
  {
   "cell_type": "code",
   "execution_count": 2,
   "metadata": {
    "collapsed": false
   },
   "outputs": [
    {
     "data": {
      "text/html": [
       "<div>\n",
       "<style scoped>\n",
       "    .dataframe tbody tr th:only-of-type {\n",
       "        vertical-align: middle;\n",
       "    }\n",
       "\n",
       "    .dataframe tbody tr th {\n",
       "        vertical-align: top;\n",
       "    }\n",
       "\n",
       "    .dataframe thead th {\n",
       "        text-align: right;\n",
       "    }\n",
       "</style>\n",
       "<table border=\"1\" class=\"dataframe\">\n",
       "  <thead>\n",
       "    <tr style=\"text-align: right;\">\n",
       "      <th></th>\n",
       "      <th>f2l1</th>\n",
       "      <th>f3l1</th>\n",
       "      <th>m5j1</th>\n",
       "    </tr>\n",
       "    <tr>\n",
       "      <th>challengeID</th>\n",
       "      <th></th>\n",
       "      <th></th>\n",
       "      <th></th>\n",
       "    </tr>\n",
       "  </thead>\n",
       "  <tbody>\n",
       "    <tr>\n",
       "      <th>4</th>\n",
       "      <td>31037.239985</td>\n",
       "      <td>49894.100586</td>\n",
       "      <td>52330.093001</td>\n",
       "    </tr>\n",
       "    <tr>\n",
       "      <th>9</th>\n",
       "      <td>23437.652319</td>\n",
       "      <td>24955.283838</td>\n",
       "      <td>51248.022497</td>\n",
       "    </tr>\n",
       "    <tr>\n",
       "      <th>11</th>\n",
       "      <td>19508.401102</td>\n",
       "      <td>40362.995906</td>\n",
       "      <td>26853.171229</td>\n",
       "    </tr>\n",
       "    <tr>\n",
       "      <th>13</th>\n",
       "      <td>26212.061488</td>\n",
       "      <td>18347.662082</td>\n",
       "      <td>9679.511515</td>\n",
       "    </tr>\n",
       "    <tr>\n",
       "      <th>22</th>\n",
       "      <td>44228.967925</td>\n",
       "      <td>32289.146143</td>\n",
       "      <td>21674.654791</td>\n",
       "    </tr>\n",
       "  </tbody>\n",
       "</table>\n",
       "</div>"
      ],
      "text/plain": [
       "                     f2l1          f3l1          m5j1\n",
       "challengeID                                          \n",
       "4            31037.239985  49894.100586  52330.093001\n",
       "9            23437.652319  24955.283838  51248.022497\n",
       "11           19508.401102  40362.995906  26853.171229\n",
       "13           26212.061488  18347.662082   9679.511515\n",
       "22           44228.967925  32289.146143  21674.654791"
      ]
     },
     "execution_count": 2,
     "metadata": {},
     "output_type": "execute_result"
    }
   ],
   "source": [
    "incomes = fff.pick_ff_variables(data_frame, [\"f2l1\", \"f3l1\", \"m5j1\"], remove_nans=True, remove_negatives=True)\n",
    "incomes.head()"
   ]
  },
  {
   "cell_type": "code",
   "execution_count": 3,
   "metadata": {
    "collapsed": false
   },
   "outputs": [
    {
     "data": {
      "text/plain": [
       "Index(['f2l1', 'f3l1', 'm5j1'], dtype='object')"
      ]
     },
     "execution_count": 3,
     "metadata": {},
     "output_type": "execute_result"
    }
   ],
   "source": [
    "incomes.columns"
   ]
  },
  {
   "cell_type": "markdown",
   "metadata": {},
   "source": [
    "First, let's plot a histogram of the income.\n",
    "\n",
    "We included the following function in the **`ff_functions.py`** file:"
   ]
  },
  {
   "cell_type": "code",
   "execution_count": 4,
   "metadata": {
    "collapsed": false
   },
   "outputs": [],
   "source": [
    "'''\n",
    "Plot a histogram based on a 1D DataFrame\n",
    "'''\n",
    "def plot_histogram(data, labels=[], xlabel=\"\", ylabel=\"\", title=\"\"):\n",
    "    max_val = int(np.max(data.values))\n",
    "    min_val = int(np.min(data.values))\n",
    "    bins = np.linspace(min_val, max_val, min(max_val-min_val,50))\n",
    "    fig = plt.figure(figsize=(7,7))\n",
    "    if len(data.shape) > 1:\n",
    "        for i,column in enumerate(data.columns):\n",
    "            plt.hist(data[column], bins, alpha=1/len(data.shape), label=labels[i])\n",
    "    else:\n",
    "        plt.hist(data.values, bins, alpha=0.5, label=labels[0])\n",
    "    plt.xlabel(xlabel)\n",
    "    plt.ylabel(ylabel)\n",
    "    plt.title(title)\n",
    "    plt.legend(loc=\"upper right\")"
   ]
  },
  {
   "cell_type": "code",
   "execution_count": 5,
   "metadata": {
    "collapsed": false
   },
   "outputs": [
    {
     "data": {
      "image/png": "[encoded data removed]",
      "text/plain": [
       "<matplotlib.figure.Figure at 0x10f811630>"
      ]
     },
     "metadata": {},
     "output_type": "display_data"
    }
   ],
   "source": [
    "fff.plot_histogram(incomes, labels=[\"Year 2\", \"Year 3\", \"Year 9\"])"
   ]
  },
  {
   "cell_type": "markdown",
   "metadata": {},
   "source": [
    "Since we called\n",
    "\n",
    "**`import ff_functions as fff`**\n",
    "\n",
    "below, we can now call the function directly from the file:"
   ]
  },
  {
   "cell_type": "markdown",
   "metadata": {},
   "source": [
    "You can see that most families are concentrated between 30,000 and 60,000, but some go as far as 160,000. \n",
    "\n",
    "We can also view incomes in different years one by one:"
   ]
  },
  {
   "cell_type": "code",
   "execution_count": 6,
   "metadata": {
    "collapsed": false
   },
   "outputs": [
    {
     "data": {
      "image/png": "[encoded data removed]",
      "text/plain": [
       "<matplotlib.figure.Figure at 0x10efaa0f0>"
      ]
     },
     "metadata": {},
     "output_type": "display_data"
    }
   ],
   "source": [
    "fff.plot_histogram(incomes.f2l1, labels=[\"Year 2\"])"
   ]
  },
  {
   "cell_type": "code",
   "execution_count": 7,
   "metadata": {
    "collapsed": false
   },
   "outputs": [
    {
     "data": {
      "image/png": "[encoded data removed]",
      "text/plain": [
       "<matplotlib.figure.Figure at 0x10f06ba90>"
      ]
     },
     "metadata": {},
     "output_type": "display_data"
    }
   ],
   "source": [
    "fff.plot_histogram(incomes.f3l1, labels=[\"Year 3\"])"
   ]
  },
  {
   "cell_type": "code",
   "execution_count": 8,
   "metadata": {
    "collapsed": false
   },
   "outputs": [
    {
     "data": {
      "image/png": "[encoded data removed]",
      "text/plain": [
       "<matplotlib.figure.Figure at 0x10f40ee80>"
      ]
     },
     "metadata": {},
     "output_type": "display_data"
    }
   ],
   "source": [
    "fff.plot_histogram(incomes.m5j1, labels=[\"Year 9\"])"
   ]
  },
  {
   "cell_type": "markdown",
   "metadata": {},
   "source": [
    "## 1.2 Mean and Median \n",
    " \n",
    "### Question 1.2.1: \n",
    "What do you think the means and medians will be for each?\n",
    "### Answer:"
   ]
  },
  {
   "cell_type": "code",
   "execution_count": null,
   "metadata": {
    "collapsed": true
   },
   "outputs": [],
   "source": []
  },
  {
   "cell_type": "markdown",
   "metadata": {},
   "source": [
    "We can use the pandas mean and median functions to calculate the values."
   ]
  },
  {
   "cell_type": "code",
   "execution_count": 9,
   "metadata": {
    "collapsed": false
   },
   "outputs": [
    {
     "data": {
      "text/plain": [
       "f2l1    49595.675268\n",
       "f3l1    53186.063011\n",
       "m5j1    55926.737885\n",
       "dtype: float64"
      ]
     },
     "execution_count": 9,
     "metadata": {},
     "output_type": "execute_result"
    }
   ],
   "source": [
    "incomes.mean()"
   ]
  },
  {
   "cell_type": "code",
   "execution_count": 10,
   "metadata": {
    "collapsed": false
   },
   "outputs": [
    {
     "data": {
      "text/plain": [
       "f2l1    44084.943356\n",
       "f3l1    46932.836165\n",
       "m5j1    47707.741682\n",
       "dtype: float64"
      ]
     },
     "execution_count": 10,
     "metadata": {},
     "output_type": "execute_result"
    }
   ],
   "source": [
    "incomes.median()"
   ]
  },
  {
   "cell_type": "markdown",
   "metadata": {},
   "source": [
    "### Question 1.2.1: \n",
    "What trend do you see in the relationship between the mean and median values? Why do you think that is?\n",
    "\n",
    "(Hint: look at the histograms again).\n",
    "\n",
    "### Answer:"
   ]
  },
  {
   "cell_type": "code",
   "execution_count": null,
   "metadata": {
    "collapsed": true
   },
   "outputs": [],
   "source": []
  },
  {
   "cell_type": "markdown",
   "metadata": {},
   "source": [
    "One of the more common mistakes in data science is trusting the mean value too much. It is a mistake often made when reporting typical incomes in a country. Reporting a mean value averages out many lower earners and fewer higher earners and produces an unrepresentative in-between value. \n",
    "Often, knowing the median can help us get a better idea of what is a \"typical\", or most common, wage."
   ]
  },
  {
   "cell_type": "markdown",
   "metadata": {},
   "source": [
    "## 1.3 Standard Deviation\n",
    "Standard deviation is a measure that is used to quantify the amount of variation or dispersion of a set of data values. Together with the mean and median, it can help us quantify the distribution of the data.\n",
    "\n",
    "Low standard deviation means all values lie relatively close to the mean. High standard deviation means many values lie very far away from the mean."
   ]
  },
  {
   "cell_type": "code",
   "execution_count": 11,
   "metadata": {
    "collapsed": false
   },
   "outputs": [
    {
     "data": {
      "text/plain": [
       "f2l1    31679.714645\n",
       "f3l1    33792.459173\n",
       "m5j1    38785.639411\n",
       "dtype: float64"
      ]
     },
     "execution_count": 11,
     "metadata": {},
     "output_type": "execute_result"
    }
   ],
   "source": [
    "incomes.std()"
   ]
  },
  {
   "cell_type": "markdown",
   "metadata": {},
   "source": [
    "### Question 1.3.1: \n",
    "What trend do you see in the consecutive standard deviations as years progress? What does this mean about the wage gap?\n",
    "\n",
    "(Hint: look at the histograms again).\n",
    "\n",
    "### Answer:"
   ]
  },
  {
   "cell_type": "code",
   "execution_count": null,
   "metadata": {
    "collapsed": true
   },
   "outputs": [],
   "source": []
  },
  {
   "cell_type": "markdown",
   "metadata": {},
   "source": [
    "## Outliers\n",
    "However well we define our data, there may always be examples unlike any others. We call those \"outliers\"."
   ]
  },
  {
   "cell_type": "markdown",
   "metadata": {},
   "source": [
    "## TODO: Example of an outlier"
   ]
  },
  {
   "cell_type": "markdown",
   "metadata": {},
   "source": [
    "# 2. Correlation\n",
    "Recall the examples of two scatterplots from yesterday: The year 1 vs year 9 and year 1 vs year 3 income:"
   ]
  },
  {
   "cell_type": "markdown",
   "metadata": {},
   "source": [
    "## 2.1. Scatterplots\n",
    "Scatter plots are graphs in which the values of two variables are plotted along two axes, the pattern of the resulting points revealing any correlation present.\n",
    "\n",
    "We can visualize the changes of single family's income across any two years with a scatterplot.\n",
    "\n",
    "Let's compare how the income changed between years 2 and 3 and years 2 and 9.\n",
    "\n",
    "### Question 2.1.1.\n",
    "How do you expect families' incomes to change across these two time frames?\n",
    "\n",
    "### Answer:\n",
    "\n"
   ]
  },
  {
   "cell_type": "code",
   "execution_count": null,
   "metadata": {
    "collapsed": true
   },
   "outputs": [],
   "source": []
  },
  {
   "cell_type": "markdown",
   "metadata": {},
   "source": [
    "Let's use a scatteplot function we define in the **`ff_functions.py`**  file:"
   ]
  },
  {
   "cell_type": "code",
   "execution_count": 16,
   "metadata": {
    "collapsed": true
   },
   "outputs": [],
   "source": [
    "'''\n",
    "This function takes in two arrays of equal length (xdata, ydata)\n",
    "and plots them against each other in a scatterplot\n",
    "'''\n",
    "def scatterplot(xdata, ydata, xlabel=\"\", ylabel=\"\", title=\"\"):\n",
    "    fig = plt.figure(figsize=(7,7))\n",
    "    plt.scatter(xdata, ydata)\n",
    "    #plt.plot([0,data_max],[0,data_max])\n",
    "    plt.xlim(min(xdata)-1,max(xdata)+1)\n",
    "    plt.ylim(min(ydata)-1,max(ydata)+1)\n",
    "    plt.xlabel(xlabel)\n",
    "    plt.ylabel(ylabel)\n",
    "    plt.title(title)"
   ]
  },
  {
   "cell_type": "code",
   "execution_count": 17,
   "metadata": {
    "collapsed": false
   },
   "outputs": [
    {
     "data": {
      "image/png": "[encoded data removed]",
      "text/plain": [
       "<matplotlib.figure.Figure at 0x104c5eb00>"
      ]
     },
     "metadata": {},
     "output_type": "display_data"
    }
   ],
   "source": [
    "fff.scatterplot(incomes.f2l1, incomes.f3l1, xlabel = \"Year 2 Income\", ylabel = \"Year 3 Income\")"
   ]
  },
  {
   "cell_type": "code",
   "execution_count": 13,
   "metadata": {
    "collapsed": false
   },
   "outputs": [
    {
     "data": {
      "image/png": "[encoded data removed]",
      "text/plain": [
       "<matplotlib.figure.Figure at 0x1109157f0>"
      ]
     },
     "metadata": {},
     "output_type": "display_data"
    }
   ],
   "source": [
    "fff.scatterplot(incomes.f2l1, incomes.m5j1, xlabel = \"Year 2 Income\", ylabel = \"Year 9 Income\")"
   ]
  },
  {
   "cell_type": "markdown",
   "metadata": {},
   "source": [
    "We can observe that Year 2 income and Year 3 income data points are concentrated along the diagonal, while  Year 2 income and Year 9 income data points are not. \n",
    "### Question 2.1.2: \n",
    "How do you interpret these two plots? How does the income distribution change between years 2 and 3 vs years 2 and 9?\n",
    "### Answer:"
   ]
  },
  {
   "cell_type": "markdown",
   "metadata": {},
   "source": [
    "## 2.2 Correlation"
   ]
  },
  {
   "cell_type": "markdown",
   "metadata": {},
   "source": [
    "If you look at the plots above, you will see that there seems to be a relationship between the Incomes in consecutive years.\n",
    "\n",
    "Correlation is a statistical technique that can show whether and how strongly pairs of variables are related. A positive correlation means that as you increase one of the variables, you would expect the second variable to increase too. A negative correlation means that as you increase one of the variables, you would expect the second variable to decrease.\n",
    "\n",
    "We observe that we have a positive correlation between the incomes in consecutive year. (**Why?**)\n",
    "\n",
    "\n",
    "We can compute the correlation by using the numpy corrcoef function which computes the Pearson correlation coefficient. The result is a number that lies between -1 and 1. -1 means that the variables are very strongly correlated in a negative way, 1 means that the variables are very strongly related in a positive way, and 0 means that the variables are not correlated with each other.\n",
    "\n",
    "Note that the Pearson correlation is a linear correlation measure (only tells you about whether a line in a scatter plot captures the relationship between the variables) and does not provide information on any nonlinear relationship there might exist between the two variables."
   ]
  },
  {
   "cell_type": "code",
   "execution_count": 21,
   "metadata": {
    "collapsed": false
   },
   "outputs": [
    {
     "name": "stdout",
     "output_type": "stream",
     "text": [
      "[[ 1.          0.70529798]\n",
      " [ 0.70529798  1.        ]]\n",
      "[[ 1.          0.51104765]\n",
      " [ 0.51104765  1.        ]]\n",
      "Correlation between Incomes in Years 2 and 9: 0.7052979846390249\n",
      "Correlation between Incomes in Years 2 and 3: 0.5110476536730737\n"
     ]
    }
   ],
   "source": [
    "# corrcoef returns what is known as the Pearson product-moment correlation coefficients. The correlation between the two\n",
    "# variables is equal to the non-diagonal entries of the array.\n",
    "Pearson_corr = np.corrcoef(incomes.f2l1, incomes.f3l1)\n",
    "print(Pearson_corr)\n",
    "\n",
    "# select a diagonal element\n",
    "income_corr2_3 = Pearson_corr[0,1] # or equivalently Pearson_corr[1,0]\n",
    "\n",
    "Pearson_corr = np.corrcoef(incomes.f2l1, incomes.m5j1)\n",
    "print(Pearson_corr)\n",
    "\n",
    "# select a diagonal element\n",
    "income_corr2_9 = Pearson_corr[0,1] # or equivalently Pearson_corr[1,0]\n",
    "\n",
    "print(\"Correlation between Incomes in Years 2 and 9: {0}\".format(income_corr2_3))\n",
    "print(\"Correlation between Incomes in Years 2 and 3: {0}\".format(income_corr2_9))\n"
   ]
  },
  {
   "cell_type": "markdown",
   "metadata": {},
   "source": [
    "### Question 2.2.1:\n",
    "Interpret the different correlation values. What do they mean about the relationships between incomes in different years?\n",
    "### Answer:"
   ]
  },
  {
   "cell_type": "markdown",
   "metadata": {
    "collapsed": true
   },
   "source": [
    "## 2.3 Correlation Matrices"
   ]
  },
  {
   "cell_type": "markdown",
   "metadata": {},
   "source": [
    "We can visualize a correlation matrix of all the variables in a given dataframe using the following function (also defined in **`ff_functions.py`**"
   ]
  },
  {
   "cell_type": "code",
   "execution_count": 32,
   "metadata": {
    "collapsed": true
   },
   "outputs": [],
   "source": [
    "'''\n",
    "This function takes in a 2D DataFrame and returns a correlation matrix heatmap for all variables\n",
    "present in the frame.\n",
    "'''\n",
    "def get_corr_plot(frame):\n",
    "    correlations = frame.astype(float).corr()\n",
    "    fig = plt.figure()\n",
    "    ax = fig.add_subplot(111)\n",
    "    cax = ax.matshow(correlations, vmin=-1, vmax=1)\n",
    "    fig.colorbar(cax)"
   ]
  },
  {
   "cell_type": "code",
   "execution_count": 33,
   "metadata": {
    "collapsed": false
   },
   "outputs": [
    {
     "data": {
      "image/png": "[encoded data removed]",
      "text/plain": [
       "<matplotlib.figure.Figure at 0x10f331208>"
      ]
     },
     "metadata": {},
     "output_type": "display_data"
    }
   ],
   "source": [
    "get_corr_plot(incomes)"
   ]
  },
  {
   "cell_type": "markdown",
   "metadata": {},
   "source": [
    "The indices in the correlation plot correspond to the column indices in the provided dataframe."
   ]
  }
 ],
 "metadata": {
  "anaconda-cloud": {},
  "kernelspec": {
   "display_name": "Python [Root]",
   "language": "python",
   "name": "Python [Root]"
  },
  "language_info": {
   "codemirror_mode": {
    "name": "ipython",
    "version": 3
   },
   "file_extension": ".py",
   "mimetype": "text/x-python",
   "name": "python",
   "nbconvert_exporter": "python",
   "pygments_lexer": "ipython3",
   "version": "3.5.2"
  }
 },
 "nbformat": 4,
 "nbformat_minor": 2
}
