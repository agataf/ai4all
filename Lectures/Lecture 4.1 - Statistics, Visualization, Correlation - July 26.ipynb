{
 "cells": [
  {
   "cell_type": "markdown",
   "metadata": {},
   "source": [
    "# Statistics, Visualization, Correlation\n",
    "\n",
    "Today, we will continue our discussion of data exploration, and look for variables which co-occur together (*correlated variables*)."
   ]
  },
  {
   "cell_type": "markdown",
   "metadata": {},
   "source": [
    "# Table of contents\n",
    "[1. Data Exploration and Statistics](#1.-Data-Exploration-and-Statistics)\n",
    "- mean, meadian, standard deviation\n",
    "- histograms, scatterplots\n",
    "\n",
    "[2. Correlation](#1.-Correlation)"
   ]
  },
  {
   "cell_type": "markdown",
   "metadata": {},
   "source": [
    "# 1. Data Exploration and Statistics\n",
    "\n",
    "Our dataset is enormous - it is difficult to understand the data we have available just by looking at the Data Frame. \n",
    "\n",
    "Data Scientists and AI researchers start every project with *data exploration* - plotting and summarizing various attributes of the data to get a better idea of what the data looks like."
   ]
  },
  {
   "cell_type": "code",
   "execution_count": 1,
   "metadata": {
    "collapsed": false
   },
   "outputs": [],
   "source": [
    "%matplotlib inline \n",
    "import matplotlib.pyplot as plt\n",
    "# this library provides functions for performing statistics on data\n",
    "import scipy.stats as stats\n",
    "import pandas as pd\n",
    "import numpy as np\n",
    "import sys\n",
    "\n",
    "# we have created this library containing all the \n",
    "# functions that we created in previous notebooks\n",
    "# you can examine it by looking at the ff_functions.py file\n",
    "import ff_functions as fff"
   ]
  },
  {
   "cell_type": "code",
   "execution_count": 2,
   "metadata": {
    "collapsed": false
   },
   "outputs": [],
   "source": [
    "# Read in data\n",
    "background = \"../../ai4all_data/background.csv\"\n",
    "data_frame = pd.read_csv(background, low_memory=False)\n",
    "data_frame = data_frame.set_index('challengeID')"
   ]
  },
  {
   "cell_type": "markdown",
   "metadata": {},
   "source": [
    "Let's look at three variables:\n",
    "* f2l1: Total household income before taxes/deductions (Year 1)\n",
    "* f3l1: Total household income before taxes/deductions (Year 3)\n",
    "* m5j1: Total household income before taxes/deductions (Year 9)\n",
    "\n",
    "We're interested in understanding how income of families changes across the years. Let's start by looking at the mean and median of "
   ]
  },
  {
   "cell_type": "markdown",
   "metadata": {},
   "source": [
    "## 1.1. Histograms"
   ]
  },
  {
   "cell_type": "code",
   "execution_count": 3,
   "metadata": {
    "collapsed": false
   },
   "outputs": [
    {
     "name": "stdout",
     "output_type": "stream",
     "text": [
      "Data frame with  892  rows and  3 columns.\n"
     ]
    },
    {
     "data": {
      "text/html": [
       "<div>\n",
       "<style scoped>\n",
       "    .dataframe tbody tr th:only-of-type {\n",
       "        vertical-align: middle;\n",
       "    }\n",
       "\n",
       "    .dataframe tbody tr th {\n",
       "        vertical-align: top;\n",
       "    }\n",
       "\n",
       "    .dataframe thead th {\n",
       "        text-align: right;\n",
       "    }\n",
       "</style>\n",
       "<table border=\"1\" class=\"dataframe\">\n",
       "  <thead>\n",
       "    <tr style=\"text-align: right;\">\n",
       "      <th></th>\n",
       "      <th>Year_1_income</th>\n",
       "      <th>Year_3_income</th>\n",
       "      <th>Year_9_income</th>\n",
       "    </tr>\n",
       "    <tr>\n",
       "      <th>challengeID</th>\n",
       "      <th></th>\n",
       "      <th></th>\n",
       "      <th></th>\n",
       "    </tr>\n",
       "  </thead>\n",
       "  <tbody>\n",
       "    <tr>\n",
       "      <th>4</th>\n",
       "      <td>31037.239985</td>\n",
       "      <td>49894.100586</td>\n",
       "      <td>52330.093001</td>\n",
       "    </tr>\n",
       "    <tr>\n",
       "      <th>9</th>\n",
       "      <td>23437.652319</td>\n",
       "      <td>24955.283838</td>\n",
       "      <td>51248.022497</td>\n",
       "    </tr>\n",
       "    <tr>\n",
       "      <th>11</th>\n",
       "      <td>19508.401102</td>\n",
       "      <td>40362.995906</td>\n",
       "      <td>26853.171229</td>\n",
       "    </tr>\n",
       "    <tr>\n",
       "      <th>13</th>\n",
       "      <td>26212.061488</td>\n",
       "      <td>18347.662082</td>\n",
       "      <td>9679.511515</td>\n",
       "    </tr>\n",
       "    <tr>\n",
       "      <th>22</th>\n",
       "      <td>44228.967925</td>\n",
       "      <td>32289.146143</td>\n",
       "      <td>21674.654791</td>\n",
       "    </tr>\n",
       "  </tbody>\n",
       "</table>\n",
       "</div>"
      ],
      "text/plain": [
       "             Year_1_income  Year_3_income  Year_9_income\n",
       "challengeID                                             \n",
       "4             31037.239985   49894.100586   52330.093001\n",
       "9             23437.652319   24955.283838   51248.022497\n",
       "11            19508.401102   40362.995906   26853.171229\n",
       "13            26212.061488   18347.662082    9679.511515\n",
       "22            44228.967925   32289.146143   21674.654791"
      ]
     },
     "execution_count": 3,
     "metadata": {},
     "output_type": "execute_result"
    }
   ],
   "source": [
    "incomes = fff.pick_ff_variables(data_frame, [\"f2l1\", \"f3l1\", \"m5j1\"], remove_nans=True, remove_negatives=True)\n",
    "\n",
    "# Let's change the names of the columns so it's easier for us to work with the data\n",
    "incomes.columns = [\"Year_1_income\", \"Year_3_income\", \"Year_9_income\"]\n",
    "\n",
    "incomes.head()"
   ]
  },
  {
   "cell_type": "markdown",
   "metadata": {},
   "source": [
    "First, let's plot a histogram of the income.\n",
    "\n",
    "We included the following function in the **`ff_functions.py`** file.\n",
    "\n",
    "Do not worry about understanding the function in detail now - you can always revisit it if you want to modify anything."
   ]
  },
  {
   "cell_type": "code",
   "execution_count": 4,
   "metadata": {
    "collapsed": false
   },
   "outputs": [],
   "source": [
    "'''\n",
    "Plot a histogram based on a DataFrame \"data\"\n",
    "\n",
    "Input arguments:\n",
    "\n",
    "Required:\n",
    "data: the pandas DataFrame to be plotted\n",
    "\n",
    "Additional (with default values filled in):\n",
    "labels: a list of labels for each column of the DataFrame\n",
    "xlabel: label for the x axis\n",
    "ylabel: label for the y axis\n",
    "title: plot title\n",
    "\n",
    "Output: \n",
    "Histogram plotted directly in notebook\n",
    "'''\n",
    "def plot_histogram(data, labels=[], xlabel=\"\", ylabel=\"\", title=\"\"):\n",
    "    \n",
    "    # Set the ranges for X and Y coorinates to be the lowest and highest values observed\n",
    "    max_val = int(np.max(data.values))\n",
    "    min_val = int(np.min(data.values))\n",
    "    \n",
    "    # choose ranges into which we'll \"bin\" (count) occurences of variables\n",
    "    bins = np.linspace(min_val, max_val, min(max_val-min_val,50))\n",
    "    \n",
    "    # set figure size\n",
    "    fig = plt.figure(figsize=(7,7))\n",
    "    \n",
    "    # two options for dataframes with one vs more than one column\n",
    "    if len(data.shape) > 1:\n",
    "        for i,column in enumerate(data.columns):\n",
    "            # build the histogram from a given column, bin it\n",
    "            # set how \"see-though\" it is (alpha parameters)\n",
    "            # set the label which will be displayed witht his histogram\n",
    "            plt.hist(data[column], bins, alpha=1/len(data.shape), label=labels[i])\n",
    "    else:\n",
    "        plt.hist(data.values, bins, alpha=0.5, label=labels[0])\n",
    "        \n",
    "    # Set x and y corrdinates labels, title    \n",
    "    plt.xlabel(xlabel)\n",
    "    plt.ylabel(ylabel)\n",
    "    plt.title(title)\n",
    "    \n",
    "    # put the legend in the upper right corner\n",
    "    plt.legend(loc=\"upper right\")"
   ]
  },
  {
   "cell_type": "markdown",
   "metadata": {},
   "source": [
    "Since we called\n",
    "\n",
    "**`import ff_functions as fff`**\n",
    "\n",
    "below, and the function is present in the file, we can now call the function directly from the file:"
   ]
  },
  {
   "cell_type": "code",
   "execution_count": 5,
   "metadata": {
    "collapsed": false
   },
   "outputs": [
    {
     "data": {
      "image/png": "[encoded data removed]",
      "text/plain": [
       "<matplotlib.figure.Figure at 0x10efe8a20>"
      ]
     },
     "metadata": {},
     "output_type": "display_data"
    }
   ],
   "source": [
    "fff.plot_histogram(incomes, labels=[\"Year 1\", \"Year 3\", \"Year 9\"])"
   ]
  },
  {
   "cell_type": "markdown",
   "metadata": {},
   "source": [
    "You can see that most families are concentrated between 30,000 and 60,000, but some go as far as 160,000. \n",
    "\n",
    "We can also view incomes in different years one by one:"
   ]
  },
  {
   "cell_type": "code",
   "execution_count": 6,
   "metadata": {
    "collapsed": false
   },
   "outputs": [
    {
     "data": {
      "image/png": "[encoded data removed]",
      "text/plain": [
       "<matplotlib.figure.Figure at 0x10efe9160>"
      ]
     },
     "metadata": {},
     "output_type": "display_data"
    }
   ],
   "source": [
    "fff.plot_histogram(incomes.Year_1_income, labels=[\"Year 1\"])"
   ]
  },
  {
   "cell_type": "code",
   "execution_count": 7,
   "metadata": {
    "collapsed": false
   },
   "outputs": [
    {
     "data": {
      "image/png": "[encoded data removed]",
      "text/plain": [
       "<matplotlib.figure.Figure at 0x10ec2eef0>"
      ]
     },
     "metadata": {},
     "output_type": "display_data"
    }
   ],
   "source": [
    "fff.plot_histogram(incomes.Year_3_income, labels=[\"Year 3\"])"
   ]
  },
  {
   "cell_type": "code",
   "execution_count": 8,
   "metadata": {
    "collapsed": false
   },
   "outputs": [
    {
     "data": {
      "image/png": "[encoded data removed]",
      "text/plain": [
       "<matplotlib.figure.Figure at 0x10ed327b8>"
      ]
     },
     "metadata": {},
     "output_type": "display_data"
    }
   ],
   "source": [
    "fff.plot_histogram(incomes.Year_9_income, labels=[\"Year 9\"])"
   ]
  },
  {
   "cell_type": "markdown",
   "metadata": {},
   "source": [
    "## 1.2 Mean and Median \n",
    " \n",
    "### Question 1.2.1: \n",
    "Looking at the shapes of the histograms, what do you think the means and medians will be for each? How did the incomes change across the years?\n",
    "### Answer:"
   ]
  },
  {
   "cell_type": "code",
   "execution_count": null,
   "metadata": {
    "collapsed": true
   },
   "outputs": [],
   "source": []
  },
  {
   "cell_type": "markdown",
   "metadata": {},
   "source": [
    "We can use the pandas mean and median functions to calculate the values."
   ]
  },
  {
   "cell_type": "code",
   "execution_count": 9,
   "metadata": {
    "collapsed": false
   },
   "outputs": [
    {
     "data": {
      "text/plain": [
       "Year_1_income    49595.675268\n",
       "Year_3_income    53186.063011\n",
       "Year_9_income    55926.737885\n",
       "dtype: float64"
      ]
     },
     "execution_count": 9,
     "metadata": {},
     "output_type": "execute_result"
    }
   ],
   "source": [
    "### TODO: consider changing this to an exercise to google functions\n",
    "incomes.mean()"
   ]
  },
  {
   "cell_type": "code",
   "execution_count": 10,
   "metadata": {
    "collapsed": false
   },
   "outputs": [
    {
     "data": {
      "text/plain": [
       "Year_1_income    44084.943356\n",
       "Year_3_income    46932.836165\n",
       "Year_9_income    47707.741682\n",
       "dtype: float64"
      ]
     },
     "execution_count": 10,
     "metadata": {},
     "output_type": "execute_result"
    }
   ],
   "source": [
    "### TODO: consider changing this to an exercise to google functions\n",
    "incomes.median()"
   ]
  },
  {
   "cell_type": "markdown",
   "metadata": {},
   "source": [
    "### Question 1.2.1: \n",
    "Do you see a pattern, when comparing the mean and median values across the three years?\n",
    "\n",
    "(Hint: look at the histograms again).\n",
    "\n",
    "### Answer:"
   ]
  },
  {
   "cell_type": "code",
   "execution_count": 11,
   "metadata": {
    "collapsed": true
   },
   "outputs": [],
   "source": [
    "# TODO: Answer: what I mean is for students to observe that median is lower than mean because distributions\n",
    "# are skewed to the left"
   ]
  },
  {
   "cell_type": "markdown",
   "metadata": {},
   "source": [
    "One of the more common mistakes in data science is trusting the mean value too much. It is a mistake often made when reporting typical incomes in a country. Reporting a mean value averages out many lower earners and fewer higher earners and produces an unrepresentative in-between value. \n",
    "Often, knowing the median can help us get a better idea of what is a \"typical\", or most common, wage."
   ]
  },
  {
   "cell_type": "markdown",
   "metadata": {},
   "source": [
    "## 1.3 Standard Deviation\n",
    "Standard deviation is a measure that is used to quantify the amount of variation or dispersion of a set of data values. Together with the mean and median, it can help us quantify the distribution of the data.\n",
    "\n",
    "Low standard deviation means all values lie relatively close to the mean. High standard deviation means many values lie very far away from the mean."
   ]
  },
  {
   "cell_type": "code",
   "execution_count": 12,
   "metadata": {
    "collapsed": false
   },
   "outputs": [
    {
     "data": {
      "text/plain": [
       "Year_1_income    31679.714645\n",
       "Year_3_income    33792.459173\n",
       "Year_9_income    38785.639411\n",
       "dtype: float64"
      ]
     },
     "execution_count": 12,
     "metadata": {},
     "output_type": "execute_result"
    }
   ],
   "source": [
    "incomes.std()"
   ]
  },
  {
   "cell_type": "markdown",
   "metadata": {},
   "source": [
    "### Question 1.3.1: \n",
    "What trend do you see in the consecutive standard deviations as years progress? What does this mean about the wage gap?\n",
    "\n",
    "(Hint: look at the histograms again).\n",
    "\n",
    "### Answer:"
   ]
  },
  {
   "cell_type": "markdown",
   "metadata": {},
   "source": [
    "## 1.4 Outliers\n",
    "However well we define our data, there may always be examples unlike any others. We call those \"outliers\".\n",
    "\n",
    "There aren't clear outliers in our data, but let's try adding one and see how it influences the mean and the median."
   ]
  },
  {
   "cell_type": "code",
   "execution_count": 13,
   "metadata": {
    "collapsed": false
   },
   "outputs": [
    {
     "data": {
      "text/html": [
       "<div>\n",
       "<style scoped>\n",
       "    .dataframe tbody tr th:only-of-type {\n",
       "        vertical-align: middle;\n",
       "    }\n",
       "\n",
       "    .dataframe tbody tr th {\n",
       "        vertical-align: top;\n",
       "    }\n",
       "\n",
       "    .dataframe thead th {\n",
       "        text-align: right;\n",
       "    }\n",
       "</style>\n",
       "<table border=\"1\" class=\"dataframe\">\n",
       "  <thead>\n",
       "    <tr style=\"text-align: right;\">\n",
       "      <th></th>\n",
       "      <th>Year_1_income</th>\n",
       "      <th>Year_3_income</th>\n",
       "      <th>Year_9_income</th>\n",
       "    </tr>\n",
       "  </thead>\n",
       "  <tbody>\n",
       "    <tr>\n",
       "      <th>0</th>\n",
       "      <td>200000</td>\n",
       "      <td>200000</td>\n",
       "      <td>200000</td>\n",
       "    </tr>\n",
       "  </tbody>\n",
       "</table>\n",
       "</div>"
      ],
      "text/plain": [
       "   Year_1_income  Year_3_income  Year_9_income\n",
       "0         200000         200000         200000"
      ]
     },
     "execution_count": 13,
     "metadata": {},
     "output_type": "execute_result"
    }
   ],
   "source": [
    "# add new data point with much higher income\n",
    "df2 = pd.DataFrame([[200000, 200000, 200000]], columns=incomes.columns)\n",
    "df2"
   ]
  },
  {
   "cell_type": "code",
   "execution_count": 14,
   "metadata": {
    "collapsed": false
   },
   "outputs": [
    {
     "data": {
      "text/html": [
       "<div>\n",
       "<style scoped>\n",
       "    .dataframe tbody tr th:only-of-type {\n",
       "        vertical-align: middle;\n",
       "    }\n",
       "\n",
       "    .dataframe tbody tr th {\n",
       "        vertical-align: top;\n",
       "    }\n",
       "\n",
       "    .dataframe thead th {\n",
       "        text-align: right;\n",
       "    }\n",
       "</style>\n",
       "<table border=\"1\" class=\"dataframe\">\n",
       "  <thead>\n",
       "    <tr style=\"text-align: right;\">\n",
       "      <th></th>\n",
       "      <th>Year_1_income</th>\n",
       "      <th>Year_3_income</th>\n",
       "      <th>Year_9_income</th>\n",
       "    </tr>\n",
       "  </thead>\n",
       "  <tbody>\n",
       "    <tr>\n",
       "      <th>4224</th>\n",
       "      <td>13086.969351</td>\n",
       "      <td>0.000000</td>\n",
       "      <td>25537.123873</td>\n",
       "    </tr>\n",
       "    <tr>\n",
       "      <th>4229</th>\n",
       "      <td>47522.704360</td>\n",
       "      <td>49888.399071</td>\n",
       "      <td>88714.469289</td>\n",
       "    </tr>\n",
       "    <tr>\n",
       "      <th>4234</th>\n",
       "      <td>31638.940484</td>\n",
       "      <td>27530.275347</td>\n",
       "      <td>64400.912510</td>\n",
       "    </tr>\n",
       "    <tr>\n",
       "      <th>4239</th>\n",
       "      <td>2678.615872</td>\n",
       "      <td>8747.037075</td>\n",
       "      <td>28213.337679</td>\n",
       "    </tr>\n",
       "    <tr>\n",
       "      <th>0</th>\n",
       "      <td>200000.000000</td>\n",
       "      <td>200000.000000</td>\n",
       "      <td>200000.000000</td>\n",
       "    </tr>\n",
       "  </tbody>\n",
       "</table>\n",
       "</div>"
      ],
      "text/plain": [
       "      Year_1_income  Year_3_income  Year_9_income\n",
       "4224   13086.969351       0.000000   25537.123873\n",
       "4229   47522.704360   49888.399071   88714.469289\n",
       "4234   31638.940484   27530.275347   64400.912510\n",
       "4239    2678.615872    8747.037075   28213.337679\n",
       "0     200000.000000  200000.000000  200000.000000"
      ]
     },
     "execution_count": 14,
     "metadata": {},
     "output_type": "execute_result"
    }
   ],
   "source": [
    "incomes_with_outlier = incomes.append(df2)\n",
    "incomes_with_outlier.tail()"
   ]
  },
  {
   "cell_type": "code",
   "execution_count": 15,
   "metadata": {
    "collapsed": true
   },
   "outputs": [],
   "source": [
    "# TODO: Answer: As the years grow, the wage gap in this population increases."
   ]
  },
  {
   "cell_type": "markdown",
   "metadata": {},
   "source": [
    "### Problem 1.4.2\n",
    "- Plot the histograms for all three years again\n",
    "- recalculate the mean, median and standard deviation\n",
    "- what do you observe? What does it say about the impact of outliers in mean, median and standard deviation values?\n",
    "\n",
    "### Answer:"
   ]
  },
  {
   "cell_type": "code",
   "execution_count": 16,
   "metadata": {
    "collapsed": false
   },
   "outputs": [
    {
     "name": "stdout",
     "output_type": "stream",
     "text": [
      "incomes mean\n",
      " Year_1_income    49595.675268\n",
      "Year_3_income    53186.063011\n",
      "Year_9_income    55926.737885\n",
      "dtype: float64\n",
      "mean with outlier\n",
      " Year_1_income    49764.101164\n",
      "Year_3_income    53350.468315\n",
      "Year_9_income    56088.074125\n",
      "dtype: float64\n",
      "incomes median\n",
      " Year_1_income    44084.943356\n",
      "Year_3_income    46932.836165\n",
      "Year_9_income    47707.741682\n",
      "dtype: float64\n",
      "median with outlier\n",
      " Year_1_income    44141.035201\n",
      "Year_3_income    46945.726010\n",
      "Year_9_income    47828.754365\n",
      "dtype: float64\n",
      "incomes standard deviation\n",
      " Year_1_income    31679.714645\n",
      "Year_3_income    33792.459173\n",
      "Year_9_income    38785.639411\n",
      "dtype: float64\n",
      "standard deviation with outlier\n",
      " Year_1_income    32059.494477\n",
      "Year_3_income    34128.977367\n",
      "Year_9_income    39062.560067\n",
      "dtype: float64\n"
     ]
    },
    {
     "data": {
      "image/png": "[encoded data removed]",
      "text/plain": [
       "<matplotlib.figure.Figure at 0x1104c41d0>"
      ]
     },
     "metadata": {},
     "output_type": "display_data"
    }
   ],
   "source": [
    "######### TODO: remove this (this is the solution) ###########\n",
    "fff.plot_histogram(incomes_with_outlier, labels=[\"Year 1\", \"Year 3\", \"Year 9\"])\n",
    "print(\"incomes mean\\n\", incomes.mean())\n",
    "print(\"mean with outlier\\n\", incomes_with_outlier.mean())\n",
    "print(\"incomes median\\n\", incomes.median())\n",
    "print(\"median with outlier\\n\", incomes_with_outlier.median())\n",
    "print(\"incomes standard deviation\\n\", incomes.std())\n",
    "print(\"standard deviation with outlier\\n\", incomes_with_outlier.std())\n",
    "######### TODO: remove this (this is the solution) ###########"
   ]
  },
  {
   "cell_type": "markdown",
   "metadata": {},
   "source": [
    "# 2. Correlation"
   ]
  },
  {
   "cell_type": "markdown",
   "metadata": {},
   "source": [
    "## 2.1. Scatterplots\n",
    "Scatter plots are graphs in which the values of two variables are plotted along two axes, the pattern of the resulting points revealing any correlation present.\n",
    "\n",
    "We can visualize the changes of single family's income across any two years with a scatterplot.\n",
    "\n",
    "Let's compare how the income changed between years 1 and 3 and years 1 and 9.\n",
    "\n",
    "### Question 2.1.1.\n",
    "How do you expect families' incomes to change across these two time frames?\n",
    "\n",
    "### Answer:\n",
    "\n"
   ]
  },
  {
   "cell_type": "code",
   "execution_count": null,
   "metadata": {
    "collapsed": true
   },
   "outputs": [],
   "source": []
  },
  {
   "cell_type": "markdown",
   "metadata": {},
   "source": [
    "Let's use a scatteplot function we define in the **`ff_functions.py`**  file:"
   ]
  },
  {
   "cell_type": "code",
   "execution_count": 17,
   "metadata": {
    "collapsed": true
   },
   "outputs": [],
   "source": [
    "'''\n",
    "This function takes in two arrays of equal length (xdata, ydata)\n",
    "and plots them against each other in a scatterplot\n",
    "\n",
    "Input arguments:\n",
    "\n",
    "Required:\n",
    "xdata: a column of a Pandas DataFrame, data to be plotted against the x axis\n",
    "ydata: a column of a Pandas DataFrame, data to be plotted against the y axis\n",
    "(must be same length as xdata)\n",
    "\n",
    "Additional (with default values filled in):\n",
    "xlabel: label for the x axis (string)\n",
    "ylabel: label for the y axis (string)\n",
    "title: plot title (string)\n",
    "plot_diagonal: if true (boolean)\n",
    "\n",
    "\n",
    "Output: \n",
    "Scatterplot plotted directly in notebook\n",
    "'''\n",
    "def scatterplot(xdata, ydata, xlabel=\"\", ylabel=\"\", title=\"\", plot_diagonal=False):\n",
    "    \n",
    "    # start new figure with sizes 7, 7 (try changing the numbers\n",
    "    # to see the impact on the size of printed plot)\n",
    "    fig = plt.figure(figsize=(7,7))\n",
    "    \n",
    "    # set the ranges for x and y axes to be between\n",
    "    # the minimum value and the maximum value\n",
    "    # (with an additional margin of 1 on each side for clarity)\n",
    "    plt.xlim(min(xdata)-1,max(xdata)+1)\n",
    "    plt.ylim(min(ydata)-1,max(ydata)+1)\n",
    "    \n",
    "    if plot_diagonal:\n",
    "        x = np.linspace(min(xdata)-1,max(xdata)+1, 100)\n",
    "        plt.plot(x, x)\n",
    "    \n",
    "    # plot the data\n",
    "    plt.scatter(xdata, ydata)\n",
    "    \n",
    "    # set the selected labels for x and y axes, and title (empty by default)\n",
    "    plt.xlabel(xlabel)\n",
    "    plt.ylabel(ylabel)\n",
    "    plt.title(title)"
   ]
  },
  {
   "cell_type": "markdown",
   "metadata": {},
   "source": [
    "We saved this function in the ff_functions file as well, so you can call it directly from the file now:"
   ]
  },
  {
   "cell_type": "code",
   "execution_count": 21,
   "metadata": {
    "collapsed": false
   },
   "outputs": [
    {
     "data": {
      "image/png": "[encoded data removed]",
      "text/plain": [
       "<matplotlib.figure.Figure at 0x10ede6390>"
      ]
     },
     "metadata": {},
     "output_type": "display_data"
    }
   ],
   "source": [
    "fff.scatterplot(incomes.Year_1_income, incomes.Year_3_income, xlabel = \"Year 1 Income\", ylabel = \"Year 3 Income\", \\\n",
    "                plot_diagonal = True)"
   ]
  },
  {
   "cell_type": "code",
   "execution_count": 22,
   "metadata": {
    "collapsed": false
   },
   "outputs": [
    {
     "data": {
      "image/png": "[encoded data removed]",
      "text/plain": [
       "<matplotlib.figure.Figure at 0x1108acc88>"
      ]
     },
     "metadata": {},
     "output_type": "display_data"
    }
   ],
   "source": [
    "fff.scatterplot(incomes.Year_1_income, incomes.Year_9_income, xlabel = \"Year 1 Income\", ylabel = \"Year 9 Income\", \\\n",
    "               plot_diagonal = True)"
   ]
  },
  {
   "cell_type": "markdown",
   "metadata": {},
   "source": [
    "Notice the diagonal line we drew - the points lying along the diagonal are families whose income did not change between the years. **(Why?)**\n",
    "\n",
    "The points below the diagonal represent families whose income *decreased* between the plotted years.\n",
    "\n",
    "The points above the diagonal represent families whose income *increased* between the plotted years."
   ]
  },
  {
   "cell_type": "markdown",
   "metadata": {},
   "source": [
    "### Question 2.1.2: \n",
    "How do you interpret these two plots? How does the income distribution change between years 1 and 3 vs years 1 and 9?\n",
    "\n",
    "(Hint: use the plotted diagonal to talk about the increase/decrease in wages across years.)\n",
    "### Answer:"
   ]
  },
  {
   "cell_type": "code",
   "execution_count": null,
   "metadata": {
    "collapsed": true
   },
   "outputs": [],
   "source": [
    "### TODO - remove this (answer) ####\n",
    "\n",
    "# Between years 2 and 3, more points lie closely to the diagonal\n",
    "# this means their income changed little - this makes sense, since only 2 years passed.\n",
    "# We also see a couple of families whose income increased or decreased a lot\n",
    "\n",
    "# Between years 2 and 9, points lie more far away from the diagonal\n",
    "# this means families' income changed more - this makes sense, since 8 years passed.\n",
    "# There about as many (???) families whose income increased as those whose income decreased.\n",
    "\n",
    "####################################"
   ]
  },
  {
   "cell_type": "markdown",
   "metadata": {},
   "source": [
    "## 2.2 Correlation"
   ]
  },
  {
   "cell_type": "markdown",
   "metadata": {},
   "source": [
    "If you look at the plots above, you will see that there seems to be a relationship between the Incomes in consecutive years.\n",
    "\n",
    "Correlation is a statistical technique that can show whether and how strongly pairs of variables are related. A positive correlation means that as you increase one of the variables, you would expect the second variable to increase too. A negative correlation means that as you increase one of the variables, you would expect the second variable to decrease."
   ]
  },
  {
   "cell_type": "markdown",
   "metadata": {},
   "source": [
    "### Question 2.2.1\n",
    "Do we observe a correlation in the scatterplots above? Which of the two plots shows a stronger correlation? Why?\n",
    "\n",
    "### Answer:"
   ]
  },
  {
   "cell_type": "code",
   "execution_count": null,
   "metadata": {
    "collapsed": true
   },
   "outputs": [],
   "source": []
  },
  {
   "cell_type": "markdown",
   "metadata": {},
   "source": [
    "We can compute the correlation by using the numpy corrcoef function which computes the **Pearson correlation coefficient**. The result is a number that lies between -1 and 1. -1 means that the variables are very strongly correlated in a negative way, 1 means that the variables are very strongly related in a positive way, and 0 means that the variables are not correlated with each other.\n",
    "\n",
    "*Note that the Pearson correlation is a linear correlation measure (only tells you about whether a line in a scatter plot captures the relationship between the variables) and does not provide information on any nonlinear relationship there might exist between the two variables.* (More on that later)"
   ]
  },
  {
   "cell_type": "code",
   "execution_count": 23,
   "metadata": {
    "collapsed": false
   },
   "outputs": [
    {
     "name": "stdout",
     "output_type": "stream",
     "text": [
      "               Year_1_income  Year_3_income\n",
      "Year_1_income       1.000000       0.705298\n",
      "Year_3_income       0.705298       1.000000\n",
      "               Year_1_income  Year_9_income\n",
      "Year_1_income       1.000000       0.511048\n",
      "Year_9_income       0.511048       1.000000\n",
      "Correlation between Incomes in Years 1 and 9: 0.7052979846390245\n",
      "Correlation between Incomes in Years 1 and 3: 0.5110476536730735\n"
     ]
    }
   ],
   "source": [
    "# corrcoef returns what is known as the Pearson product-moment correlation coefficients. The correlation between the two\n",
    "# variables is equal to the non-diagonal entries of the array.\n",
    "\n",
    "Pearson_corr = incomes[[\"Year_1_income\", \"Year_3_income\"]].corr()\n",
    "# Pearson_corr = np.corrcoef(incomes.Year_2_income, incomes.Year_3_income)\n",
    "print(Pearson_corr)\n",
    "\n",
    "# select a diagonal element\n",
    "income_corr1_3 = Pearson_corr.iloc[0,1] # or equivalently Pearson_corr[1,0]\n",
    "\n",
    "Pearson_corr = incomes[[\"Year_1_income\", \"Year_9_income\"]].corr()\n",
    "print(Pearson_corr)\n",
    "\n",
    "# select a diagonal element\n",
    "income_corr1_9 = Pearson_corr.iloc[0,1] # or equivalently Pearson_corr[1,0]\n",
    "\n",
    "print(\"Correlation between Incomes in Years 1 and 9: {0}\".format(income_corr1_3))\n",
    "print(\"Correlation between Incomes in Years 1 and 3: {0}\".format(income_corr1_9))\n"
   ]
  },
  {
   "cell_type": "markdown",
   "metadata": {},
   "source": [
    "### Question 2.2.1:\n",
    "Interpret the different correlation values. What do they mean about the relationships between incomes in different years?\n",
    "### Answer:"
   ]
  },
  {
   "cell_type": "markdown",
   "metadata": {
    "collapsed": true
   },
   "source": [
    "## 2.3 Correlation Matrices"
   ]
  },
  {
   "cell_type": "markdown",
   "metadata": {},
   "source": [
    "We can visualize a correlation matrix of all the variables in a given dataframe using the following function (also defined in **`ff_functions.py`**)"
   ]
  },
  {
   "cell_type": "code",
   "execution_count": 24,
   "metadata": {
    "collapsed": true
   },
   "outputs": [],
   "source": [
    "'''\n",
    "This function takes in a DataFrame and returns a correlation matrix heatmap for all variables\n",
    "present in the frame.\n",
    "\n",
    "Input arguments:\n",
    "\n",
    "Required:\n",
    "frame: a Pandas DataFrame, containing features whose correlations we're interested in\n",
    "\n",
    "Output: \n",
    "Heatmap-colored correlation plot\n",
    "'''\n",
    "def get_corr_plot(frame):\n",
    "    \n",
    "    # calculate the correlations between all variables in the frame\n",
    "    correlations = frame.astype(float).corr()\n",
    "    \n",
    "    # plot the figure\n",
    "    fig = plt.figure()\n",
    "    ax = fig.add_subplot(111)\n",
    "    \n",
    "    # set the color scale\n",
    "    cax = ax.matshow(correlations, vmin=-1, vmax=1)\n",
    "    fig.colorbar(cax)"
   ]
  },
  {
   "cell_type": "code",
   "execution_count": 25,
   "metadata": {
    "collapsed": false
   },
   "outputs": [
    {
     "data": {
      "image/png": "[encoded data removed]",
      "text/plain": [
       "<matplotlib.figure.Figure at 0x10ef69390>"
      ]
     },
     "metadata": {},
     "output_type": "display_data"
    }
   ],
   "source": [
    "fff.get_corr_plot(incomes)"
   ]
  },
  {
   "cell_type": "markdown",
   "metadata": {},
   "source": [
    "The axes indices in the correlation plot correspond to the column indices in the provided dataframe."
   ]
  },
  {
   "cell_type": "markdown",
   "metadata": {},
   "source": [
    "### Question 2.3.1:\n",
    "The diagonal entries show correlation=1. Why?\n",
    "\n",
    "### Answer:"
   ]
  },
  {
   "cell_type": "code",
   "execution_count": null,
   "metadata": {
    "collapsed": true
   },
   "outputs": [],
   "source": []
  }
 ],
 "metadata": {
  "anaconda-cloud": {},
  "kernelspec": {
   "display_name": "Python [Root]",
   "language": "python",
   "name": "Python [Root]"
  },
  "language_info": {
   "codemirror_mode": {
    "name": "ipython",
    "version": 3
   },
   "file_extension": ".py",
   "mimetype": "text/x-python",
   "name": "python",
   "nbconvert_exporter": "python",
   "pygments_lexer": "ipython3",
   "version": "3.5.2"
  }
 },
 "nbformat": 4,
 "nbformat_minor": 2
}
