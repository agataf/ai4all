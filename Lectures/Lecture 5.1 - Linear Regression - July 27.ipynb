{
 "cells": [
  {
   "cell_type": "markdown",
   "metadata": {},
   "source": [
    "# Linear Regression\n",
    "\n",
    "Today we will start working on our first Machine Learning model: Linear Regression."
   ]
  },
  {
   "cell_type": "markdown",
   "metadata": {},
   "source": [
    "# TODO:\n",
    "- change variables for non-challenge predictor\n",
    "- extend evaluation sections\n",
    "- add 3D visualization for multivariate regression\n",
    "- make sure we're just using one regression function consistently\n",
    "- maybe implement it by hand first? To show how least squares works? May be too much"
   ]
  },
  {
   "cell_type": "markdown",
   "metadata": {},
   "source": [
    "# Table of contents\n",
    "[1. Linear Regression](#3.-Linear-Regression)\n",
    "- evaluation\n",
    "\n",
    "[2. Multivariate-Regression](#4.-Multivariate-Regression)\n",
    "- evaluation\n"
   ]
  },
  {
   "cell_type": "markdown",
   "metadata": {},
   "source": [
    "# Linear Regression\n",
    "\n",
    "Linear regression is a linear approach to modelling the relationship between a continuous variable (called the outcome or the dependent variable) and one explanatory variable (called predictor or independent variable). \n",
    "\n",
    "In linear regression, we plot the data on a scatter plot and then compute the best-fit line through the data points. The term \"best-fit\" refers to the fact that the resulting line minimizes the squared distance between the data points and the line. \n",
    "\n",
    "The best-fit line is described by the equation:\n",
    "\n",
    "$$Y = c_0 + c_1 X + \\epsilon$$\n",
    "\n",
    "where $c_0$ is the regression coefficient associated with the value of $Y$ when $X=0$, $c_1$ is the regression coefficient that tells us by how much $Y$ changes when $X$ is not zero, and $\\epsilon$ is noise. For now, we will set $\\epsilon$ to zero, meaning we will ignore the effects of noise. The resulting equation $Y = c_0 + c_1 X$ is just the equation for a line with $c_0$ as its y-intercept and $c_1$ is its slope. \n",
    "\n",
    "The best-fit line provides what is known as a linear model which allows us to make predictions about the value of $Y$ given the value of $X$.\n",
    "\n",
    "In this section we will build a linear regression model to predict the child's GPA scores. As a predictor, we will use language and literacy skills (feature `t5c13a`), science and social skills (feature `t5c13b`), and math skills (feature `t5c13c`).\n",
    "\n",
    "Now we have two data sets. The first data set, called data_frame contains the cleaned data which we will use to infer/predict the data in the second data set called outcome. \n",
    "\n",
    "**Observe that the challengeID reflects which rows remain in the outcome DataFrame after NaN removal.**"
   ]
  },
  {
   "cell_type": "code",
   "execution_count": 1,
   "metadata": {
    "collapsed": true
   },
   "outputs": [],
   "source": [
    "# First, we import the libraries we will use in this notebook and load the Fragile Families data. \n",
    "# The first line sets maplotlib plots to show inside the notebook.\n",
    "%matplotlib inline \n",
    "import matplotlib.pyplot as plt\n",
    "import scipy.stats as stats\n",
    "import pandas as pd\n",
    "import numpy as np\n",
    "import sys\n",
    "sys.path.append('..')\n",
    "import ff"
   ]
  },
  {
   "cell_type": "code",
   "execution_count": 2,
   "metadata": {
    "collapsed": false
   },
   "outputs": [],
   "source": [
    "# Read in data\n",
    "background = \"../../ai4all_data/background.csv\"\n",
    "train = \"../../ai4all_data/train.csv\"\n",
    "\n",
    "# Read in data\n",
    "data_frame = pd.read_csv(background, low_memory=False)\n",
    "data_frame = data_frame.set_index('challengeID')\n",
    "\n",
    "# outcome variables\n",
    "outcome = pd.read_csv(train, low_memory=False)\n",
    "outcome = outcome.set_index('challengeID')"
   ]
  },
  {
   "cell_type": "code",
   "execution_count": 4,
   "metadata": {
    "collapsed": false
   },
   "outputs": [],
   "source": [
    "train_X = data_frame.loc[outcome.index]"
   ]
  },
  {
   "cell_type": "markdown",
   "metadata": {},
   "source": [
    "Pick out the students' language and literacy skills (`t5c13a`), social science skills (`t5c13b`), math skills (`t5c13c`)"
   ]
  },
  {
   "cell_type": "code",
   "execution_count": 5,
   "metadata": {
    "collapsed": false
   },
   "outputs": [
    {
     "name": "stderr",
     "output_type": "stream",
     "text": [
      "//anaconda/lib/python3.5/site-packages/ipykernel/__main__.py:2: SettingWithCopyWarning: \n",
      "A value is trying to be set on a copy of a slice from a DataFrame.\n",
      "Try using .loc[row_indexer,col_indexer] = value instead\n",
      "\n",
      "See the caveats in the documentation: http://pandas.pydata.org/pandas-docs/stable/indexing.html#indexing-view-versus-copy\n",
      "  from ipykernel import kernelapp as app\n"
     ]
    }
   ],
   "source": [
    "edu = train_X[[\"t5c13a\", \"t5c13b\", \"t5c13c\"]]\n",
    "edu[\"gpa\"] = outcome[\"gpa\"]"
   ]
  },
  {
   "cell_type": "code",
   "execution_count": 6,
   "metadata": {
    "collapsed": false
   },
   "outputs": [
    {
     "data": {
      "text/html": [
       "<div>\n",
       "<style scoped>\n",
       "    .dataframe tbody tr th:only-of-type {\n",
       "        vertical-align: middle;\n",
       "    }\n",
       "\n",
       "    .dataframe tbody tr th {\n",
       "        vertical-align: top;\n",
       "    }\n",
       "\n",
       "    .dataframe thead th {\n",
       "        text-align: right;\n",
       "    }\n",
       "</style>\n",
       "<table border=\"1\" class=\"dataframe\">\n",
       "  <thead>\n",
       "    <tr style=\"text-align: right;\">\n",
       "      <th></th>\n",
       "      <th>t5c13a</th>\n",
       "      <th>t5c13b</th>\n",
       "      <th>t5c13c</th>\n",
       "      <th>gpa</th>\n",
       "    </tr>\n",
       "    <tr>\n",
       "      <th>challengeID</th>\n",
       "      <th></th>\n",
       "      <th></th>\n",
       "      <th></th>\n",
       "      <th></th>\n",
       "    </tr>\n",
       "  </thead>\n",
       "  <tbody>\n",
       "    <tr>\n",
       "      <th>1</th>\n",
       "      <td>-9</td>\n",
       "      <td>-9</td>\n",
       "      <td>-9</td>\n",
       "      <td>NaN</td>\n",
       "    </tr>\n",
       "    <tr>\n",
       "      <th>3</th>\n",
       "      <td>-9</td>\n",
       "      <td>-9</td>\n",
       "      <td>-9</td>\n",
       "      <td>NaN</td>\n",
       "    </tr>\n",
       "    <tr>\n",
       "      <th>6</th>\n",
       "      <td>-9</td>\n",
       "      <td>-9</td>\n",
       "      <td>-9</td>\n",
       "      <td>NaN</td>\n",
       "    </tr>\n",
       "    <tr>\n",
       "      <th>7</th>\n",
       "      <td>-9</td>\n",
       "      <td>-9</td>\n",
       "      <td>-9</td>\n",
       "      <td>2.5</td>\n",
       "    </tr>\n",
       "    <tr>\n",
       "      <th>8</th>\n",
       "      <td>-9</td>\n",
       "      <td>-9</td>\n",
       "      <td>-9</td>\n",
       "      <td>NaN</td>\n",
       "    </tr>\n",
       "  </tbody>\n",
       "</table>\n",
       "</div>"
      ],
      "text/plain": [
       "             t5c13a  t5c13b  t5c13c  gpa\n",
       "challengeID                             \n",
       "1                -9      -9      -9  NaN\n",
       "3                -9      -9      -9  NaN\n",
       "6                -9      -9      -9  NaN\n",
       "7                -9      -9      -9  2.5\n",
       "8                -9      -9      -9  NaN"
      ]
     },
     "execution_count": 6,
     "metadata": {},
     "output_type": "execute_result"
    }
   ],
   "source": [
    "edu.head()"
   ]
  },
  {
   "cell_type": "code",
   "execution_count": 7,
   "metadata": {
    "collapsed": false
   },
   "outputs": [
    {
     "name": "stdout",
     "output_type": "stream",
     "text": [
      "[-9  1  3  2  4  5 -2 -1]\n",
      "[-9  2  4  3  1  5 -2 -1]\n",
      "[-9  2  4  3  1  5 -2 -1]\n"
     ]
    }
   ],
   "source": [
    "print(edu.t5c13a.unique())\n",
    "print(edu.t5c13b.unique())\n",
    "print(edu.t5c13c.unique())"
   ]
  },
  {
   "cell_type": "markdown",
   "metadata": {},
   "source": [
    "In this subsection, we are gonna predict GPA based on a single feature - language and literacy skills (`t5c13a`). Intuitively, better language and literacy skills would result in a better GPA. Indeed, GPA depends on a lot of factors and language and literacy skill is only one of them. \n",
    "\n",
    "The language and literacy skill can take values 1,2,3,4,5. This is a categorical variable. The GPA data in the data is rounded to a scale of 0.25. This is a discrete variable. We emphasize that regression is a tool that estimate the correlation between two continuous variables. \n",
    "\n",
    "Because of the nature of the fragile framily study, most of the collected data are discretized, like GPA."
   ]
  },
  {
   "cell_type": "code",
   "execution_count": 8,
   "metadata": {
    "collapsed": false
   },
   "outputs": [],
   "source": [
    "import ff_functions as helper\n",
    "edu_nonan = helper.remove_nan(edu)\n",
    "edu_nonan = helper.select_above_zero(edu_nonan)"
   ]
  },
  {
   "cell_type": "code",
   "execution_count": 9,
   "metadata": {
    "collapsed": false
   },
   "outputs": [
    {
     "data": {
      "text/plain": [
       "(734, 4)"
      ]
     },
     "execution_count": 9,
     "metadata": {},
     "output_type": "execute_result"
    }
   ],
   "source": [
    "edu_nonan.head()\n",
    "edu_nonan.shape"
   ]
  },
  {
   "cell_type": "markdown",
   "metadata": {},
   "source": [
    "We will put all these steps together in a single function so that we can just do it all at once next time:"
   ]
  },
  {
   "cell_type": "code",
   "execution_count": 10,
   "metadata": {
    "collapsed": true
   },
   "outputs": [],
   "source": [
    "'''\n",
    "This function takes in the outcome and backtround DataFrame,\n",
    "a list of desired background variables and a list desired outcome_vars,\n",
    "and subselects them from the background and output frames.\n",
    "It returns a single DataFrame containing the desired columns, where \n",
    "corresponding rows between the two DataFrames have been subselected.\n",
    "'''\n",
    "def pick_out_variables(background, output, background_vars, outcome_vars, remove_nans=False, remove_negatives=False):\n",
    "    train_X = background.loc[outcome.index]\n",
    "    new_frame = train_X[background_vars]\n",
    "    new_frame[outcome_vars] = output[outcome_vars]\n",
    "    if remove_nans:\n",
    "        if len(new_frame.shape)>1:\n",
    "            new_frame = new_frame[(~np.isnan(new_frame)).all(1)]\n",
    "        else:\n",
    "            new_frame = new_frame[~np.isnan(new_frame)]\n",
    "    if remove_negatives:\n",
    "        if len(new_frame.shape)>1:\n",
    "            new_frame = new_frame[(new_frame>=0).all(1)]\n",
    "        else:\n",
    "            new_frame = new_frame[new_frame>=0]\n",
    "    return new_frame"
   ]
  },
  {
   "cell_type": "markdown",
   "metadata": {},
   "source": [
    "We can reproduce the steps by calling:\n",
    "\n",
    "**`edu_nonan = pick_out_variables(data_frame, outcome, [\"t5c13a\", \"t5c13b\", \"t5c13c\"], [\"gpa\"], True, True)`**\n",
    "\n",
    "You can find this function in **`ff_functions.py`** and call after doing **`import ff_functions`**"
   ]
  },
  {
   "cell_type": "markdown",
   "metadata": {},
   "source": [
    "We have our data ready! We can now move to perform our first regression task - linear regression! "
   ]
  },
  {
   "cell_type": "markdown",
   "metadata": {},
   "source": [
    "### Linear regression for GPA using language and literacy skills ('t5c13a') as predictor \n",
    "In our regression analysis, we will first split the 734 samples into training set and test set, and then investigate the correlation between the language and literacy skill and the *average GPA* using linear regression techniques."
   ]
  },
  {
   "cell_type": "code",
   "execution_count": 11,
   "metadata": {
    "collapsed": false
   },
   "outputs": [
    {
     "name": "stdout",
     "output_type": "stream",
     "text": [
      "(513, 2)\n",
      "(221, 2)\n"
     ]
    },
    {
     "name": "stderr",
     "output_type": "stream",
     "text": [
      "//anaconda/lib/python3.5/site-packages/sklearn/cross_validation.py:41: DeprecationWarning: This module was deprecated in version 0.18 in favor of the model_selection module into which all the refactored classes and functions are moved. Also note that the interface of the new CV iterators are different from that of this module. This module will be removed in 0.20.\n",
      "  \"This module will be removed in 0.20.\", DeprecationWarning)\n"
     ]
    }
   ],
   "source": [
    "# First, let's split our data into train and test sets\n",
    "from sklearn.cross_validation import train_test_split\n",
    "#X_train, X_test, y_train, y_test = train_test_split(edu_nonan.t5c13a, edu_nonan.gpa, test_size = 0.3, random_state = 100)\n",
    "\n",
    "train, test = train_test_split(edu_nonan[[\"t5c13a\", \"gpa\"]], test_size = 0.3, random_state = 100)\n",
    "\n",
    "\n",
    "print(train.shape)\n",
    "print(test.shape)\n",
    "\n",
    "\n",
    "# # First, let's split our data into train and test sets\n",
    "# from sklearn.cross_validation import train_test_split\n",
    "# X_train, X_test, y_train, y_test = train_test_split(edu_nonan.iloc[:,:3], edu_nonan.gpa, test_size = 0.3, random_state = 100)\n",
    "\n",
    "# print(X_train.shape)\n",
    "# print(X_test.shape)"
   ]
  },
  {
   "cell_type": "markdown",
   "metadata": {},
   "source": [
    "**Since we are gonna calculate the mean GPA for each category of language skills and it's a repetitive task, we write a function to perform the task**"
   ]
  },
  {
   "cell_type": "code",
   "execution_count": 12,
   "metadata": {
    "collapsed": true
   },
   "outputs": [],
   "source": [
    "'''\n",
    "Calculate average GPA for students with various language and literacy skills scores\n",
    "'''\n",
    "def category_mean(cat):\n",
    "    one_gpa_mean = cat.loc[cat['t5c13a'] == 1, 'gpa'].mean()\n",
    "    two_gpa_mean = cat.loc[cat['t5c13a'] == 2, 'gpa'].mean()\n",
    "    three_gpa_mean = cat.loc[cat['t5c13a'] == 3, 'gpa'].mean()\n",
    "    four_gpa_mean = cat.loc[cat['t5c13a'] == 4, 'gpa'].mean()\n",
    "    five_gpa_mean = cat.loc[cat['t5c13a'] == 5, 'gpa'].mean()\n",
    "    return np.array([one_gpa_mean,two_gpa_mean,three_gpa_mean,four_gpa_mean,five_gpa_mean])"
   ]
  },
  {
   "cell_type": "markdown",
   "metadata": {},
   "source": [
    "**We calculate the mean of GPA in each category and plot them versus language/literacy skills.**"
   ]
  },
  {
   "cell_type": "code",
   "execution_count": 13,
   "metadata": {
    "collapsed": false
   },
   "outputs": [
    {
     "name": "stdout",
     "output_type": "stream",
     "text": [
      "[ 2.64150943  2.70247934  2.87948718  3.10169492  3.33653846]\n"
     ]
    },
    {
     "data": {
      "image/png": "[encoded data removed]",
      "text/plain": [
       "<matplotlib.figure.Figure at 0x10f02f0f0>"
      ]
     },
     "metadata": {},
     "output_type": "display_data"
    }
   ],
   "source": [
    "GPA_mean = category_mean(train)\n",
    "print(GPA_mean)\n",
    "Categories = np.array([1,2,3,4,5])\n",
    "plt.scatter(Categories, GPA_mean)\n",
    "plt.show()"
   ]
  },
  {
   "cell_type": "markdown",
   "metadata": {},
   "source": [
    "Could you see the trend? It tells us that our intuition is correct. We now seek a linear regression model using this training data and see if we can use this model to predict the mean GPA of the test data.\n",
    "\n",
    "There are numerous ways to do linear regression in Python. Here we show three of them, using package `numpy.polyfit`, `scipy.stats.linregress` and `sklearn.linear_model.LinearRegression`."
   ]
  },
  {
   "cell_type": "markdown",
   "metadata": {},
   "source": [
    "**Let's do linear regression with `numpy.polyfit`** You can learn about this function at <https://docs.scipy.org/doc/numpy-1.13.0/reference/generated/numpy.polyfit.html>\n"
   ]
  },
  {
   "cell_type": "code",
   "execution_count": 14,
   "metadata": {
    "collapsed": false
   },
   "outputs": [
    {
     "name": "stdout",
     "output_type": "stream",
     "text": [
      "slope : 0.1789273631563654\n",
      "intercept : 2.395559776347926\n",
      "mean square error : 0.0024238466156115664\n"
     ]
    },
    {
     "data": {
      "image/png": "[encoded data removed]",
      "text/plain": [
       "<matplotlib.figure.Figure at 0x10fe482b0>"
      ]
     },
     "metadata": {},
     "output_type": "display_data"
    }
   ],
   "source": [
    "# the argument \"1\" tells polyfit we are doing an linear regression (linear is degree 1)\n",
    "coef = np.polyfit(Categories,GPA_mean,1)\n",
    "print('slope : {}'.format(coef[0]))\n",
    "print('intercept : {}'.format(coef[1]))\n",
    "    \n",
    "# we plot the regression line along with the data points\n",
    "helper.scatterplot_with_line(Categories, GPA_mean, coef[0], coef[1])\n",
    "\n",
    "# calculate mean square error\n",
    "mse = np.mean(((coef[0]*Categories + coef[1] - GPA_mean) ** 2))\n",
    "print('mean square error : {}'.format(mse))"
   ]
  },
  {
   "cell_type": "markdown",
   "metadata": {},
   "source": [
    "2.1 Evaluation and Generalization"
   ]
  },
  {
   "cell_type": "markdown",
   "metadata": {},
   "source": [
    "**Next we are gonna use the slope and intercept to predict the average GPA for the test data and calculate the mean square error**"
   ]
  },
  {
   "cell_type": "code",
   "execution_count": 15,
   "metadata": {
    "collapsed": false
   },
   "outputs": [
    {
     "name": "stdout",
     "output_type": "stream",
     "text": [
      "mean square error of prediction: 0.020516604082810835\n"
     ]
    },
    {
     "data": {
      "image/png": "[encoded data removed]",
      "text/plain": [
       "<matplotlib.figure.Figure at 0x10fe48a20>"
      ]
     },
     "metadata": {},
     "output_type": "display_data"
    }
   ],
   "source": [
    "GPA_mean_predict = coef[0]*Categories + coef[1]\n",
    "GPA_mean_test = category_mean(test)\n",
    "helper.scatterplot_with_line(Categories, GPA_mean_test, coef[0], coef[1])\n",
    "mse_test = np.mean(((GPA_mean_predict - GPA_mean_test) ** 2))\n",
    "print('mean square error of prediction: {}'.format(mse_test))"
   ]
  },
  {
   "cell_type": "markdown",
   "metadata": {},
   "source": [
    "You can also do linear regression to predict mean GPA with science and social skills (`t5c13b`) and math skills (`t5c13c`) respectively.\n",
    "\n",
    "Next, we do linear regression based on the original training data. In other words, we directly predict GPA instead of mean GPA. Fisrt, fit the model to traning data"
   ]
  },
  {
   "cell_type": "code",
   "execution_count": 16,
   "metadata": {
    "collapsed": false
   },
   "outputs": [
    {
     "data": {
      "text/plain": [
       "challengeID\n",
       "1564    4\n",
       "700     4\n",
       "1223    1\n",
       "3386    3\n",
       "377     3\n",
       "Name: t5c13a, dtype: int64"
      ]
     },
     "execution_count": 16,
     "metadata": {},
     "output_type": "execute_result"
    }
   ],
   "source": [
    "X_train, y_train = train['t5c13a'], train['gpa']\n",
    "X_train.head()"
   ]
  },
  {
   "cell_type": "code",
   "execution_count": 17,
   "metadata": {
    "collapsed": false
   },
   "outputs": [
    {
     "name": "stdout",
     "output_type": "stream",
     "text": [
      "mean square error : 0.3928032744536407\n"
     ]
    },
    {
     "data": {
      "image/png": "[encoded data removed]",
      "text/plain": [
       "<matplotlib.figure.Figure at 0x10fe48550>"
      ]
     },
     "metadata": {},
     "output_type": "display_data"
    }
   ],
   "source": [
    "from sklearn import linear_model\n",
    "#X_train_M = np.expand_dims(train['t5c13a'], axis=1)\n",
    "X_train, y_train = train['t5c13a'], train['gpa']\n",
    "X_train = np.expand_dims(X_train, axis=1)\n",
    "y_train = np.expand_dims(y_train, axis=1)\n",
    "\n",
    "# fit the linear regression model and get the slope and intercept\n",
    "reg = linear_model.LinearRegression()\n",
    "reg.fit(X_train, y_train)\n",
    "\n",
    "slope = reg.coef_[0]\n",
    "intercept = reg.intercept_\n",
    "\n",
    "# we plot the regression line along with the data points\n",
    "helper.scatterplot_with_line(X_train, y_train, slope, intercept)\n",
    "\n",
    "# calculate mean square error\n",
    "mse = np.mean(((slope*X_train + intercept - y_train) ** 2))\n",
    "print('mean square error : {}'.format(mse))"
   ]
  },
  {
   "cell_type": "markdown",
   "metadata": {},
   "source": [
    "Then, use the model to predict GPA for test data"
   ]
  },
  {
   "cell_type": "code",
   "execution_count": 18,
   "metadata": {
    "collapsed": false
   },
   "outputs": [
    {
     "name": "stdout",
     "output_type": "stream",
     "text": [
      "mean square error of prediction: 0.45550712243196134\n"
     ]
    },
    {
     "data": {
      "image/png": "[encoded data removed]",
      "text/plain": [
       "<matplotlib.figure.Figure at 0x110e40f60>"
      ]
     },
     "metadata": {},
     "output_type": "display_data"
    }
   ],
   "source": [
    "X_test, y_test = test['t5c13a'], test['gpa']\n",
    "X_test = np.expand_dims(X_test, axis=1)\n",
    "y_test = np.expand_dims(y_test, axis=1)\n",
    "\n",
    "y_predict = reg.predict(X_test)\n",
    "\n",
    "helper.scatterplot_with_line(X_train, y_train, slope, intercept)\n",
    "\n",
    "mse_test = np.mean(((y_predict - y_test) ** 2))\n",
    "print('mean square error of prediction: {}'.format(mse_test))"
   ]
  },
  {
   "cell_type": "markdown",
   "metadata": {},
   "source": [
    "# 2. Multivariate Linear Regression\n",
    "2 predictors - plot in 3D\n",
    "\n",
    "can add more but it's hard to visualize."
   ]
  },
  {
   "cell_type": "markdown",
   "metadata": {
    "collapsed": true
   },
   "source": [
    "## Multiple Linear Regression\n",
    "\n",
    "Multiple linear regression is a generalization of linear regression. In multiple linear regression we model the relationship between a continuous variable (called the outcome or the dependent variable) and multiple explanatory variables (called predictors or independent variables). \n",
    "\n",
    "As in linear regression, we plot the data on a scatter plot and then compute the best-fit line through the data points. However, we use a different equation for the best-fit line which takes into account the effects of multiple predictors $X_1,X_2,\\dots,X_n$: \n",
    "\n",
    "The best-fit line is described by the equation:\n",
    "\n",
    "$$Y = c_0 + c_1 X_1 + c_2 X_2 + c_3 X_3 + \\dots + c_n X_n + \\epsilon$$\n",
    "\n",
    "where $c_0$ is the regression coefficient associated with the value of $Y$ when $X=0$, and $c_i$ where $i = 1,2,3,\\dots,n$ is the regression coefficient that tells us by how much $Y$ changes when the predictor $X_i$ is not zero. As before, we will set $\\epsilon$ to zero, meaning we will ignore the effects of noise.\n",
    "\n",
    "The best-fit line provides what is known as a linear model which allows us to make predictions about the value of $Y$ given the values of $X_i$.\n",
    "\n",
    "In this section we will build a multiple linear regression model to predict the child's GPA scores. As predictors, we will use language and literacy skills (feature t5c13a), science and social skills (feature t5c13b), and math skills (feature t5c13c)."
   ]
  },
  {
   "cell_type": "code",
   "execution_count": 19,
   "metadata": {
    "collapsed": false
   },
   "outputs": [
    {
     "data": {
      "text/html": [
       "<div>\n",
       "<style scoped>\n",
       "    .dataframe tbody tr th:only-of-type {\n",
       "        vertical-align: middle;\n",
       "    }\n",
       "\n",
       "    .dataframe tbody tr th {\n",
       "        vertical-align: top;\n",
       "    }\n",
       "\n",
       "    .dataframe thead th {\n",
       "        text-align: right;\n",
       "    }\n",
       "</style>\n",
       "<table border=\"1\" class=\"dataframe\">\n",
       "  <thead>\n",
       "    <tr style=\"text-align: right;\">\n",
       "      <th></th>\n",
       "      <th>t5c13a</th>\n",
       "      <th>t5c13b</th>\n",
       "      <th>t5c13c</th>\n",
       "      <th>gpa</th>\n",
       "    </tr>\n",
       "    <tr>\n",
       "      <th>challengeID</th>\n",
       "      <th></th>\n",
       "      <th></th>\n",
       "      <th></th>\n",
       "      <th></th>\n",
       "    </tr>\n",
       "  </thead>\n",
       "  <tbody>\n",
       "    <tr>\n",
       "      <th>9</th>\n",
       "      <td>1</td>\n",
       "      <td>2</td>\n",
       "      <td>2</td>\n",
       "      <td>2.25</td>\n",
       "    </tr>\n",
       "    <tr>\n",
       "      <th>14</th>\n",
       "      <td>3</td>\n",
       "      <td>4</td>\n",
       "      <td>4</td>\n",
       "      <td>3.25</td>\n",
       "    </tr>\n",
       "    <tr>\n",
       "      <th>16</th>\n",
       "      <td>1</td>\n",
       "      <td>2</td>\n",
       "      <td>2</td>\n",
       "      <td>2.00</td>\n",
       "    </tr>\n",
       "    <tr>\n",
       "      <th>18</th>\n",
       "      <td>2</td>\n",
       "      <td>2</td>\n",
       "      <td>2</td>\n",
       "      <td>2.25</td>\n",
       "    </tr>\n",
       "    <tr>\n",
       "      <th>23</th>\n",
       "      <td>2</td>\n",
       "      <td>4</td>\n",
       "      <td>3</td>\n",
       "      <td>2.50</td>\n",
       "    </tr>\n",
       "  </tbody>\n",
       "</table>\n",
       "</div>"
      ],
      "text/plain": [
       "             t5c13a  t5c13b  t5c13c   gpa\n",
       "challengeID                              \n",
       "9                 1       2       2  2.25\n",
       "14                3       4       4  3.25\n",
       "16                1       2       2  2.00\n",
       "18                2       2       2  2.25\n",
       "23                2       4       3  2.50"
      ]
     },
     "execution_count": 19,
     "metadata": {},
     "output_type": "execute_result"
    }
   ],
   "source": [
    "#Remember our dataframe X and GPA\n",
    "edu_nonan.head()"
   ]
  },
  {
   "cell_type": "markdown",
   "metadata": {},
   "source": [
    "Let's reshuffle the data"
   ]
  },
  {
   "cell_type": "code",
   "execution_count": 20,
   "metadata": {
    "collapsed": false
   },
   "outputs": [
    {
     "name": "stdout",
     "output_type": "stream",
     "text": [
      "(513, 3)\n",
      "(221, 3)\n"
     ]
    }
   ],
   "source": [
    "# Split our data into train and test sets\n",
    "X_train, X_test, y_train, y_test = train_test_split(edu_nonan.iloc[:,:3], edu_nonan.gpa, test_size = 0.3, random_state = 100)\n",
    "\n",
    "print(X_train.shape)\n",
    "print(X_test.shape)"
   ]
  },
  {
   "cell_type": "markdown",
   "metadata": {},
   "source": [
    "In this section, we'll again use `sklearn.linear_model.LinearRegression` to do multiple linear regression."
   ]
  },
  {
   "cell_type": "code",
   "execution_count": 21,
   "metadata": {
    "collapsed": false
   },
   "outputs": [
    {
     "data": {
      "text/plain": [
       "LinearRegression(copy_X=True, fit_intercept=True, n_jobs=1, normalize=False)"
      ]
     },
     "execution_count": 21,
     "metadata": {},
     "output_type": "execute_result"
    }
   ],
   "source": [
    "# fit the linear regression model and get the slope and intercept\n",
    "reg = linear_model.LinearRegression()\n",
    "\n",
    "reg.fit(X_train, y_train)"
   ]
  },
  {
   "cell_type": "markdown",
   "metadata": {},
   "source": [
    "We denote $X_1$, $X_2$, $X_3$ as three features `t5c13a`, `t5c13b`, `t5c13c`, respectively. Then the multiple regression model can be written as \n",
    "\n",
    "$Y = c_0 + c_1 X_1 + c_2 X_2 + c_3 X_3 + \\epsilon$\n",
    "\n",
    "The coefficients can be retrieved from the fitted model.\n"
   ]
  },
  {
   "cell_type": "code",
   "execution_count": 22,
   "metadata": {
    "collapsed": false
   },
   "outputs": [
    {
     "name": "stdout",
     "output_type": "stream",
     "text": [
      "[c_1 c_2 c_3] = [ 0.07342398  0.07174348  0.07980745]\n",
      "c_0 = 2.232323274548894\n"
     ]
    }
   ],
   "source": [
    "print('[c_1 c_2 c_3] = {}'.format(reg.coef_))\n",
    "print('c_0 = {}'.format(reg.intercept_))"
   ]
  },
  {
   "cell_type": "markdown",
   "metadata": {},
   "source": [
    "We can use this model to predict the GPA for students in the test set."
   ]
  },
  {
   "cell_type": "code",
   "execution_count": 23,
   "metadata": {
    "collapsed": false
   },
   "outputs": [
    {
     "name": "stdout",
     "output_type": "stream",
     "text": [
      "mean square error of prediction : 0.4480834881179986\n"
     ]
    }
   ],
   "source": [
    "y_predict = reg.predict(X_test)\n",
    "\n",
    "# calculate mean square error\n",
    "mse_test = np.mean(((y_predict - y_test) ** 2))\n",
    "print('mean square error of prediction : {}'.format(mse_test))"
   ]
  },
  {
   "cell_type": "code",
   "execution_count": 24,
   "metadata": {
    "collapsed": true
   },
   "outputs": [],
   "source": [
    "slope = reg.coef_\n",
    "intercept = reg.intercept_"
   ]
  },
  {
   "cell_type": "code",
   "execution_count": 29,
   "metadata": {
    "collapsed": false
   },
   "outputs": [
    {
     "data": {
      "text/plain": [
       "LinearRegression(copy_X=True, fit_intercept=True, n_jobs=1, normalize=False)"
      ]
     },
     "execution_count": 29,
     "metadata": {},
     "output_type": "execute_result"
    }
   ],
   "source": [
    "reg"
   ]
  }
 ],
 "metadata": {
  "anaconda-cloud": {},
  "kernelspec": {
   "display_name": "Python [Root]",
   "language": "python",
   "name": "Python [Root]"
  },
  "language_info": {
   "codemirror_mode": {
    "name": "ipython",
    "version": 3
   },
   "file_extension": ".py",
   "mimetype": "text/x-python",
   "name": "python",
   "nbconvert_exporter": "python",
   "pygments_lexer": "ipython3",
   "version": "3.5.2"
  }
 },
 "nbformat": 4,
 "nbformat_minor": 2
}
