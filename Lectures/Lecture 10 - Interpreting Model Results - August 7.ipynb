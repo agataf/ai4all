{
 "cells": [
  {
   "cell_type": "markdown",
   "metadata": {
    "collapsed": true
   },
   "source": [
    "# Correlation vs Causation \n",
    "Correlation says that there is a relationship between some quantity $X$ and some quantity $Y$, while causation says that $X$ causes $Y$. THIS IS NOT THE SAME THING! Check out [this webpage](http://www.tylervigen.com/spurious-correlations) for funny examples of things that are strongly correlated but that make no sense for one of them to cause the other, like number of people who drown in pools vs number of movies Nicolas Cage appears in!\n",
    "\n",
    "Inference problems postulate that there are a set of features (let's call them $W_i$ with $i=1,\\dots,n$) that cause $Y$. However, most of the times the $W_i$ features that cause $Y$ are very abstract and cannot be directly observed. For example, assume $Y$ is quality of life in a country. The $W_i$ features in this case might be things like income inequality, well-being, safety, community and social relationships, etc. which are very hard to measure because they are not well-defined quantities. \n",
    "\n",
    "What can we do then if we cannot measure the $W_i$? The answer is to measure some other set of features $X_i$ that we believe are good approximations for the $W_i$. For example, a value for income inequality can be approximated by measuring the average difference between the highest and lowest wages across corporations, and a value for safety can be approximated by measuring the number of reported robberies in an area. \n",
    "\n",
    "Exercise: can you describe why these quantities are just approximations? do wages contain all the information you need to know about income inequality? how about vacation days? how about employer provided health insurance? \n",
    "\n",
    "Once we have some $X_i$ features that we can measure, we can then collect data and build a model, such as a linear regression model to try and understand the effect of the $X_i$ on $Y$, and since we know the $X_i$ are good approximations for the $W_i$, the results can be used to understand the relationship between the $W_i$ and $Y$.\n",
    "\n",
    "Note that picking a model gives rise to a similar problem. We do not know what the \"true model\" (let's call it $F$) is that describes the relationship between $Y$ and $W_i$ (i.e. $Y = F(W_i)$), so we try and estimate a model (let's call it $f$) of the form $Y = f(X_i)$ that approximates $F(W_i)$, such that the error $F(W_i)-f(X_i)$ is small.\n",
    "\n",
    "On the other hand, the prediction problem does not care about what causes $Y$. All it cares about is whether we can predict what $Y$ will be based on the available data $X_i$. In the example above, the prediction problem does not care about income inequality per se, but it cares about whether we can use the average difference in wages in corporations to predict quality of life. "
   ]
  },
  {
   "cell_type": "markdown",
   "metadata": {},
   "source": [
    "### Model Results\n",
    "\n",
    "Summarize and Report your findings:\n",
    "- What was the question you were trying to answer?\n",
    "- What model did you use to answer the questions?\n",
    "- What features did you use?\n",
    "- What procedure did you follow to build your model? (training/testing percentage split, number of k-folds, etc.)\n",
    "- What was the performance of your model? (ROC curve, AUC, $R^2$ value)\n",
    "- What are the model parameter values and what do they mean? (positive/negative correlations between $X_i$ and $Y$)\n",
    "- What is the interpretation of the results? \n",
    "    - Do your results make sense?\n",
    "    - Do you think the correlations you found imply causation? Why or why not?\n",
    "        - Do you think that the features you used are directly related to the outcome?\n",
    "        - Did you want to include other features but they were not in the data? How would these ghost features change your results?\n",
    "        - Where the features you used collected in a thorough and unbiased manner?\n",
    "        - Did you have enough data to build an accurate model?\n",
    "        - Do your model parameters change by much when you train the model with different data?\n",
    "- What could have improved your methodology and results?\n",
    "    - Better features?\n",
    "    - More data?\n",
    "    - Better models?"
   ]
  },
  {
   "cell_type": "markdown",
   "metadata": {},
   "source": [
    "### Policy Implications\n",
    "\n",
    "- Can you use your results to propose a policy that would help prevent or increase the probability of certain outcomes? \n",
    "    - Be very careful about correlations vs. causation when thinking about this. \n",
    "        - Do you think the correlations you found imply causation? Why or why not?\n",
    "        - Is more data needed before drawing conclusions?"
   ]
  },
  {
   "cell_type": "code",
   "execution_count": null,
   "metadata": {
    "collapsed": true
   },
   "outputs": [],
   "source": []
  }
 ],
 "metadata": {
  "kernelspec": {
   "display_name": "Python 3",
   "language": "python",
   "name": "python3"
  },
  "language_info": {
   "codemirror_mode": {
    "name": "ipython",
    "version": 3
   },
   "file_extension": ".py",
   "mimetype": "text/x-python",
   "name": "python",
   "nbconvert_exporter": "python",
   "pygments_lexer": "ipython3",
   "version": "3.5.3"
  }
 },
 "nbformat": 4,
 "nbformat_minor": 0
}
