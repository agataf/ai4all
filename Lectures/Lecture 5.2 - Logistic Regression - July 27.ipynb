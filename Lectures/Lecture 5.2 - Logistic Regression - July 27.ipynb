{
 "cells": [
  {
   "cell_type": "markdown",
   "metadata": {},
   "source": [
    "# Logistic Regression\n",
    "\n",
    "Today we will start working on our second Machine Learning model: Logistic Regression."
   ]
  },
  {
   "cell_type": "markdown",
   "metadata": {},
   "source": [
    "# Table of contents\n",
    "[1. Logistic Regression](#1.-Linear-Regression)\n",
    "- [1.1 Using logistic regression for child's low birth weight using father's engagement as predictor](#1.1-Using-logistic-regression-for-child's-low-birth-weight-using-father's-engagement-as-predictor)\n",
    "- [1.2 Plotting the data](#1.2-Plotting-the-data)\n",
    "- [1.3 Splitting data into train and test sets](#1.3-Splitting-data-into-train-and-test-sets)\n",
    "- [1.4 Running the logistic regression algorithm](#1.4-Running-the-logistic-regression-algorithm)\n",
    "- [1.5 Evaluating the logistic regression model](#1.5-Evaluating-the-logistic-regression-model)\n",
    "\n",
    "\n",
    "[2. Multiple Logistic Regression](#2.-Multiple-Linear-Regression)\n",
    "- [2.1 Multiple logistic regression for child's low birth weight using multiple features on father's engagement as predictors](#2.1-Multiple-logistic-regression-for-child's-low-birth-weight-using-multiple-features-on-father's-engagement-as-predictors)\n",
    "- [2.2 Plotting the data](#2.2-Plotting-the-data)\n",
    "- [2.3 Splitting data into train and test sets](#2.3-Splitting-data-into-train-and-test-sets)\n",
    "- [2.4 Running the multiple logistic regression algorithm](#2.4-Running-the-multiple-logistic-regression-algorithm)\n",
    "- [2.5 Evaluation and generalization](#2.5-Evaluation-and-generalization)\n",
    "\n"
   ]
  },
  {
   "cell_type": "markdown",
   "metadata": {},
   "source": [
    "# 1. Logistic Regression"
   ]
  },
  {
   "cell_type": "markdown",
   "metadata": {
    "collapsed": true
   },
   "source": [
    "Logistic regression models the relationship between a binary outcome $Y$ that can be either 1 or 0 and a predictor $X$. The main difference between logistic regression and linear and multiple linear regression is that the resulting model is not linear (it is not a line but a curve) and that it does not predict the value of the outcome $Y$ but instead it predicts the probability that $Y$ is equal to 1.\n",
    "\n",
    "As in linear regression, we plot the data on a scatter plot and then compute the best-fit curve through the data points using the following equation which takes into account that $Y$ is a binary variable:\n",
    "\n",
    "$$ \\frac{p(Y)}{1-p(Y)} = c_0 + c_1 X + \\epsilon$$\n",
    "\n",
    "where $p(Y)$ is the probability that $Y=1, $$c_0$ is the regression coefficient associated with the probability that $Y=1$ when $X=0$, and $c_1$ is the regression coefficient that tells us how much the probability that $Y=1$ changes when the predictor $X$ is not zero. As before, we will set $\\epsilon$ to zero, meaning we will ignore the effects of noise.\n",
    "\n",
    "The best-fit curve provides a nonlinear model which allows us to make predictions about the probability that $Y=1$ or $Y=0$ given the value of $X$.\n",
    "\n",
    "In this section we will build a logistic regression model to predict layoff. For the predictor $X$, we will use information about whether the mother had \"done regular work for pay last week\" in wave 5 (when the child was ~9 years old) (feature m5i4)."
   ]
  },
  {
   "cell_type": "code",
   "execution_count": 1,
   "metadata": {
    "collapsed": true
   },
   "outputs": [],
   "source": [
    "# First, we load the libraries we will need for this notebook\n",
    "%matplotlib inline \n",
    "import matplotlib.pyplot as plt\n",
    "import numpy as np\n",
    "import scipy.stats as stats\n",
    "import pandas as pd\n",
    "import sys\n",
    "import sklearn # this library provides functions for performing machine learning on data\n",
    "import ff_functions as fff # this is the library we are providing for you to perform common operations on data"
   ]
  },
  {
   "cell_type": "code",
   "execution_count": 2,
   "metadata": {
    "collapsed": false
   },
   "outputs": [],
   "source": [
    "# We read in the Fragile Families data as in previous notebooks\n",
    "background = \"../../ai4all_data/background.csv\"\n",
    "data_frame = pd.read_csv(background, low_memory=False)\n",
    "# We set the index of the DataFrame to match the challengeID\n",
    "data_frame = data_frame.set_index('challengeID')"
   ]
  },
  {
   "cell_type": "markdown",
   "metadata": {},
   "source": [
    "# 1.1 Using logistic regression for child's low birth weight using father's engagement as predictor\n",
    "\n",
    "In this section we will build a logistic regression model to predict child's low birth weight. As a predictor, we will use an engineered feature, which we constructed on day 3, following a paper published in March 2018: \"Father Early Engagement Behaviors and Infant Low Birth Weight\" by Lee et al.\n",
    "\n",
    "The paper combined the following three features into a single \"father involvement\" variable.\n",
    "\n",
    "* \"f1b16\": During the baby mother's preg, did you give her money or buy things for the baby/ies?\n",
    "* \"f1b17\": Did you help in other ways, like providing transportation / doing chores?\n",
    "* \"f1a2\": Were you present at the birth?\n",
    "\n",
    "They then used the engineered feature to predict the following **binary** variable:\n",
    "* \"cm1lbw\": Constructed variable - Low Birth Weight\n",
    "\n",
    "\n",
    "### Discuss with your partner:\n",
    "TODO: fill in"
   ]
  },
  {
   "cell_type": "markdown",
   "metadata": {},
   "source": [
    "### Subselecting variables"
   ]
  },
  {
   "cell_type": "code",
   "execution_count": 3,
   "metadata": {
    "collapsed": false
   },
   "outputs": [
    {
     "name": "stdout",
     "output_type": "stream",
     "text": [
      "Data frame with  2267  rows and  4 columns.\n"
     ]
    },
    {
     "data": {
      "text/html": [
       "<div>\n",
       "<style scoped>\n",
       "    .dataframe tbody tr th:only-of-type {\n",
       "        vertical-align: middle;\n",
       "    }\n",
       "\n",
       "    .dataframe tbody tr th {\n",
       "        vertical-align: top;\n",
       "    }\n",
       "\n",
       "    .dataframe thead th {\n",
       "        text-align: right;\n",
       "    }\n",
       "</style>\n",
       "<table border=\"1\" class=\"dataframe\">\n",
       "  <thead>\n",
       "    <tr style=\"text-align: right;\">\n",
       "      <th></th>\n",
       "      <th>gave_money</th>\n",
       "      <th>other_help</th>\n",
       "      <th>present_at_birth</th>\n",
       "      <th>low_birth_weight</th>\n",
       "    </tr>\n",
       "    <tr>\n",
       "      <th>challengeID</th>\n",
       "      <th></th>\n",
       "      <th></th>\n",
       "      <th></th>\n",
       "      <th></th>\n",
       "    </tr>\n",
       "  </thead>\n",
       "  <tbody>\n",
       "    <tr>\n",
       "      <th>2</th>\n",
       "      <td>1</td>\n",
       "      <td>1</td>\n",
       "      <td>2</td>\n",
       "      <td>0</td>\n",
       "    </tr>\n",
       "    <tr>\n",
       "      <th>4</th>\n",
       "      <td>1</td>\n",
       "      <td>1</td>\n",
       "      <td>1</td>\n",
       "      <td>0</td>\n",
       "    </tr>\n",
       "    <tr>\n",
       "      <th>5</th>\n",
       "      <td>1</td>\n",
       "      <td>2</td>\n",
       "      <td>2</td>\n",
       "      <td>0</td>\n",
       "    </tr>\n",
       "    <tr>\n",
       "      <th>7</th>\n",
       "      <td>1</td>\n",
       "      <td>1</td>\n",
       "      <td>1</td>\n",
       "      <td>0</td>\n",
       "    </tr>\n",
       "    <tr>\n",
       "      <th>8</th>\n",
       "      <td>1</td>\n",
       "      <td>1</td>\n",
       "      <td>1</td>\n",
       "      <td>0</td>\n",
       "    </tr>\n",
       "  </tbody>\n",
       "</table>\n",
       "</div>"
      ],
      "text/plain": [
       "             gave_money  other_help  present_at_birth  low_birth_weight\n",
       "challengeID                                                            \n",
       "2                     1           1                 2                 0\n",
       "4                     1           1                 1                 0\n",
       "5                     1           2                 2                 0\n",
       "7                     1           1                 1                 0\n",
       "8                     1           1                 1                 0"
      ]
     },
     "execution_count": 3,
     "metadata": {},
     "output_type": "execute_result"
    }
   ],
   "source": [
    "# Pick mother's age (cm1age), father's age (cf1age), and father reported income (f211)\n",
    "baby_weight = fff.pick_ff_variables(data_frame, [\"f1b16\", \"f1b17\", \"f1a2\", \"cm1lbw\"], \n",
    "                                   remove_nans=True, remove_negatives=True)\n",
    "\n",
    "# Let's change the names of the columns so it's easier for us to work with the data\n",
    "baby_weight.columns = [\"gave_money\", \"other_help\", \"present_at_birth\", \"low_birth_weight\"]\n",
    "\n",
    "baby_weight.head()"
   ]
  },
  {
   "cell_type": "code",
   "execution_count": 4,
   "metadata": {
    "collapsed": false
   },
   "outputs": [
    {
     "data": {
      "text/html": [
       "<div>\n",
       "<style scoped>\n",
       "    .dataframe tbody tr th:only-of-type {\n",
       "        vertical-align: middle;\n",
       "    }\n",
       "\n",
       "    .dataframe tbody tr th {\n",
       "        vertical-align: top;\n",
       "    }\n",
       "\n",
       "    .dataframe thead th {\n",
       "        text-align: right;\n",
       "    }\n",
       "</style>\n",
       "<table border=\"1\" class=\"dataframe\">\n",
       "  <thead>\n",
       "    <tr style=\"text-align: right;\">\n",
       "      <th></th>\n",
       "      <th>gave_money</th>\n",
       "      <th>other_help</th>\n",
       "      <th>present_at_birth</th>\n",
       "      <th>low_birth_weight</th>\n",
       "    </tr>\n",
       "  </thead>\n",
       "  <tbody>\n",
       "    <tr>\n",
       "      <th>count</th>\n",
       "      <td>2267.000000</td>\n",
       "      <td>2267.000000</td>\n",
       "      <td>2267.000000</td>\n",
       "      <td>2267.000000</td>\n",
       "    </tr>\n",
       "    <tr>\n",
       "      <th>mean</th>\n",
       "      <td>1.079400</td>\n",
       "      <td>1.097045</td>\n",
       "      <td>1.276136</td>\n",
       "      <td>0.114248</td>\n",
       "    </tr>\n",
       "    <tr>\n",
       "      <th>std</th>\n",
       "      <td>0.270422</td>\n",
       "      <td>0.296084</td>\n",
       "      <td>0.447183</td>\n",
       "      <td>0.318182</td>\n",
       "    </tr>\n",
       "    <tr>\n",
       "      <th>min</th>\n",
       "      <td>1.000000</td>\n",
       "      <td>1.000000</td>\n",
       "      <td>1.000000</td>\n",
       "      <td>0.000000</td>\n",
       "    </tr>\n",
       "    <tr>\n",
       "      <th>25%</th>\n",
       "      <td>1.000000</td>\n",
       "      <td>1.000000</td>\n",
       "      <td>1.000000</td>\n",
       "      <td>0.000000</td>\n",
       "    </tr>\n",
       "    <tr>\n",
       "      <th>50%</th>\n",
       "      <td>1.000000</td>\n",
       "      <td>1.000000</td>\n",
       "      <td>1.000000</td>\n",
       "      <td>0.000000</td>\n",
       "    </tr>\n",
       "    <tr>\n",
       "      <th>75%</th>\n",
       "      <td>1.000000</td>\n",
       "      <td>1.000000</td>\n",
       "      <td>2.000000</td>\n",
       "      <td>0.000000</td>\n",
       "    </tr>\n",
       "    <tr>\n",
       "      <th>max</th>\n",
       "      <td>2.000000</td>\n",
       "      <td>2.000000</td>\n",
       "      <td>2.000000</td>\n",
       "      <td>1.000000</td>\n",
       "    </tr>\n",
       "  </tbody>\n",
       "</table>\n",
       "</div>"
      ],
      "text/plain": [
       "        gave_money   other_help  present_at_birth  low_birth_weight\n",
       "count  2267.000000  2267.000000       2267.000000       2267.000000\n",
       "mean      1.079400     1.097045          1.276136          0.114248\n",
       "std       0.270422     0.296084          0.447183          0.318182\n",
       "min       1.000000     1.000000          1.000000          0.000000\n",
       "25%       1.000000     1.000000          1.000000          0.000000\n",
       "50%       1.000000     1.000000          1.000000          0.000000\n",
       "75%       1.000000     1.000000          2.000000          0.000000\n",
       "max       2.000000     2.000000          2.000000          1.000000"
      ]
     },
     "execution_count": 4,
     "metadata": {},
     "output_type": "execute_result"
    }
   ],
   "source": [
    "baby_weight.describe()"
   ]
  },
  {
   "cell_type": "markdown",
   "metadata": {},
   "source": [
    "### TODO: make this into a problem"
   ]
  },
  {
   "cell_type": "code",
   "execution_count": 5,
   "metadata": {
    "collapsed": false
   },
   "outputs": [
    {
     "data": {
      "text/html": [
       "<div>\n",
       "<style scoped>\n",
       "    .dataframe tbody tr th:only-of-type {\n",
       "        vertical-align: middle;\n",
       "    }\n",
       "\n",
       "    .dataframe tbody tr th {\n",
       "        vertical-align: top;\n",
       "    }\n",
       "\n",
       "    .dataframe thead th {\n",
       "        text-align: right;\n",
       "    }\n",
       "</style>\n",
       "<table border=\"1\" class=\"dataframe\">\n",
       "  <thead>\n",
       "    <tr style=\"text-align: right;\">\n",
       "      <th></th>\n",
       "      <th>gave_money</th>\n",
       "      <th>other_help</th>\n",
       "      <th>present_at_birth</th>\n",
       "      <th>low_birth_weight</th>\n",
       "      <th>father_engagement</th>\n",
       "    </tr>\n",
       "    <tr>\n",
       "      <th>challengeID</th>\n",
       "      <th></th>\n",
       "      <th></th>\n",
       "      <th></th>\n",
       "      <th></th>\n",
       "      <th></th>\n",
       "    </tr>\n",
       "  </thead>\n",
       "  <tbody>\n",
       "    <tr>\n",
       "      <th>2</th>\n",
       "      <td>1</td>\n",
       "      <td>1</td>\n",
       "      <td>2</td>\n",
       "      <td>0</td>\n",
       "      <td>1.333333</td>\n",
       "    </tr>\n",
       "    <tr>\n",
       "      <th>4</th>\n",
       "      <td>1</td>\n",
       "      <td>1</td>\n",
       "      <td>1</td>\n",
       "      <td>0</td>\n",
       "      <td>1.000000</td>\n",
       "    </tr>\n",
       "    <tr>\n",
       "      <th>5</th>\n",
       "      <td>1</td>\n",
       "      <td>2</td>\n",
       "      <td>2</td>\n",
       "      <td>0</td>\n",
       "      <td>1.666667</td>\n",
       "    </tr>\n",
       "    <tr>\n",
       "      <th>7</th>\n",
       "      <td>1</td>\n",
       "      <td>1</td>\n",
       "      <td>1</td>\n",
       "      <td>0</td>\n",
       "      <td>1.000000</td>\n",
       "    </tr>\n",
       "    <tr>\n",
       "      <th>8</th>\n",
       "      <td>1</td>\n",
       "      <td>1</td>\n",
       "      <td>1</td>\n",
       "      <td>0</td>\n",
       "      <td>1.000000</td>\n",
       "    </tr>\n",
       "  </tbody>\n",
       "</table>\n",
       "</div>"
      ],
      "text/plain": [
       "             gave_money  other_help  present_at_birth  low_birth_weight  \\\n",
       "challengeID                                                               \n",
       "2                     1           1                 2                 0   \n",
       "4                     1           1                 1                 0   \n",
       "5                     1           2                 2                 0   \n",
       "7                     1           1                 1                 0   \n",
       "8                     1           1                 1                 0   \n",
       "\n",
       "             father_engagement  \n",
       "challengeID                     \n",
       "2                     1.333333  \n",
       "4                     1.000000  \n",
       "5                     1.666667  \n",
       "7                     1.000000  \n",
       "8                     1.000000  "
      ]
     },
     "execution_count": 5,
     "metadata": {},
     "output_type": "execute_result"
    }
   ],
   "source": [
    "### Generating an engineered feature:\n",
    "baby_weight[\"father_engagement\"] = (baby_weight.gave_money + \\\n",
    "                                    baby_weight.other_help + \\\n",
    "                                    baby_weight.present_at_birth)/3\n",
    "baby_weight.head()"
   ]
  },
  {
   "cell_type": "markdown",
   "metadata": {},
   "source": [
    "### Discuss with your partner:\n",
    "* Why would the combination of the three features be a better predictor than using the father's providing money only? What other weighings of the three variables would you consider and why?\n",
    "\n",
    "### Answer:"
   ]
  },
  {
   "cell_type": "code",
   "execution_count": null,
   "metadata": {
    "collapsed": true
   },
   "outputs": [],
   "source": []
  },
  {
   "cell_type": "markdown",
   "metadata": {},
   "source": [
    "# 1.2 Plotting the data\n",
    "Let's plot the data using the scatterplot function we learned."
   ]
  },
  {
   "cell_type": "code",
   "execution_count": 6,
   "metadata": {
    "collapsed": false
   },
   "outputs": [
    {
     "data": {
      "image/png": "[encoded data removed]",
      "text/plain": [
       "<matplotlib.figure.Figure at 0x10fd57358>"
      ]
     },
     "metadata": {},
     "output_type": "display_data"
    }
   ],
   "source": [
    "fff.scatterplot(baby_weight.father_engagement, \\\n",
    "                baby_weight.low_birth_weight, \\\n",
    "                xlabel = \"Father's engagement\", \\\n",
    "                ylabel = \"Low birth weight\")"
   ]
  },
  {
   "cell_type": "markdown",
   "metadata": {},
   "source": [
    "TODO: discuss what it means. The students should notice that there are many points overlapping each other."
   ]
  },
  {
   "cell_type": "markdown",
   "metadata": {},
   "source": [
    "# 1.3 Splitting data into train and test sets"
   ]
  },
  {
   "cell_type": "code",
   "execution_count": 7,
   "metadata": {
    "collapsed": false
   },
   "outputs": [
    {
     "name": "stdout",
     "output_type": "stream",
     "text": [
      "(2267, 5)\n",
      "(1586,)\n",
      "(681,)\n",
      "(1586,)\n",
      "(681,)\n"
     ]
    },
    {
     "name": "stderr",
     "output_type": "stream",
     "text": [
      "//anaconda/lib/python3.5/site-packages/sklearn/cross_validation.py:41: DeprecationWarning: This module was deprecated in version 0.18 in favor of the model_selection module into which all the refactored classes and functions are moved. Also note that the interface of the new CV iterators are different from that of this module. This module will be removed in 0.20.\n",
      "  \"This module will be removed in 0.20.\", DeprecationWarning)\n"
     ]
    }
   ],
   "source": [
    "# First, let's split our data into train and test sets\n",
    "from sklearn.cross_validation import train_test_split\n",
    "\n",
    "X = baby_weight.father_engagement # predictor\n",
    "y = baby_weight.low_birth_weight # outcome \n",
    "# The following line of code randomly splits both the outcome data and the predictor data into \n",
    "# a training and a testing set. The test_size argument is a number between 0 and 1 that tells the \n",
    "# function the percentage of data that should go into the test set.\n",
    "train_X, test_X, train_y, test_y = train_test_split(X, y, test_size = 0.3, random_state=100)\n",
    "\n",
    "print(baby_weight.shape)\n",
    "print(train_X.shape)\n",
    "print(test_X.shape)\n",
    "print(train_y.shape)\n",
    "print(test_y.shape)"
   ]
  },
  {
   "cell_type": "markdown",
   "metadata": {},
   "source": [
    "### Convert the sets to numpy arrays"
   ]
  },
  {
   "cell_type": "code",
   "execution_count": 8,
   "metadata": {
    "collapsed": false
   },
   "outputs": [],
   "source": [
    "numpy_train_X = fff.pandas_to_2d_numpy(train_X)\n",
    "numpy_train_y = fff.pandas_to_2d_numpy(train_y)\n",
    "\n",
    "numpy_test_X = fff.pandas_to_2d_numpy(test_X)\n",
    "numpy_test_y = fff.pandas_to_2d_numpy(test_y)"
   ]
  },
  {
   "cell_type": "markdown",
   "metadata": {},
   "source": [
    "# 1.4 Running the logistic regression algorithm\n",
    "**Let's do linear regression with `sklearn.linear_model.LogisticRegression`** You can learn about this function at \n",
    "http://scikit-learn.org/stable/modules/generated/sklearn.linear_model.LogisticRegression.html"
   ]
  },
  {
   "cell_type": "code",
   "execution_count": 9,
   "metadata": {
    "collapsed": false
   },
   "outputs": [
    {
     "name": "stdout",
     "output_type": "stream",
     "text": [
      "slope = 0.7590864384726821\n",
      "y-intercept = -2.924983162834194\n"
     ]
    },
    {
     "name": "stderr",
     "output_type": "stream",
     "text": [
      "//anaconda/lib/python3.5/site-packages/sklearn/utils/validation.py:547: DataConversionWarning: A column-vector y was passed when a 1d array was expected. Please change the shape of y to (n_samples, ), for example using ravel().\n",
      "  y = column_or_1d(y, warn=True)\n"
     ]
    }
   ],
   "source": [
    "from sklearn import linear_model\n",
    "\n",
    "# intialize the model\n",
    "log_reg = linear_model.LogisticRegression()\n",
    "\n",
    "# fit the model ON THE TRAINING DATA\n",
    "log_reg.fit(numpy_train_X, numpy_train_y)\n",
    "\n",
    "# read the resulting model's slope and intercept values\n",
    "slope = log_reg.coef_[0][0]\n",
    "intercept = log_reg.intercept_[0]\n",
    "\n",
    "# print the linear regression model coefficients\n",
    "print('slope = {}'.format(slope))\n",
    "print('y-intercept = {}'.format(intercept))"
   ]
  },
  {
   "cell_type": "markdown",
   "metadata": {},
   "source": [
    "### Plot the result"
   ]
  },
  {
   "cell_type": "code",
   "execution_count": 10,
   "metadata": {
    "collapsed": true
   },
   "outputs": [],
   "source": [
    "def scatterplot_with_curve(xdata, ydata, model, reg, xlabel=\"\", ylabel=\"\", title=\"\"):\n",
    "    fig = plt.figure(figsize=(7,5))\n",
    "    plt.scatter(xdata, ydata)\n",
    "    x = np.linspace(min(xdata)-5,max(xdata)+5, 100)\n",
    "    loss = model(x * reg.coef_ + reg.intercept_)\n",
    "    plt.plot(x, loss.ravel(), color='red', linewidth=3)\n",
    "    plt.xlim(min(xdata)-5,max(xdata)+5)\n",
    "    plt.ylim(min(ydata)-5,max(ydata)+5)\n",
    "    plt.xlabel(xlabel)\n",
    "    plt.ylabel(ylabel)\n",
    "    plt.title(title)"
   ]
  },
  {
   "cell_type": "code",
   "execution_count": 11,
   "metadata": {
    "collapsed": false
   },
   "outputs": [
    {
     "data": {
      "image/png": "[encoded data removed]",
      "text/plain": [
       "<matplotlib.figure.Figure at 0x11a2a97f0>"
      ]
     },
     "metadata": {},
     "output_type": "display_data"
    }
   ],
   "source": [
    "def model(x):\n",
    "    return 1 / (1 + np.exp(-x))\n",
    "\n",
    "#loss = model(linspace * reg.coef_ + reg.intercept_)\n",
    "# Let's visualize how our model fits the testing data\n",
    "scatterplot_with_curve(test_X, test_y, model, log_reg,\n",
    "                          xlabel = \"Average age\", ylabel = \"HH Income\",\\\n",
    "                          title=\"Testing Data\")"
   ]
  },
  {
   "cell_type": "markdown",
   "metadata": {},
   "source": [
    "TODO: discuss why it looks like this (very heavily skewed towards 0, looks like it'll always predict 0?"
   ]
  },
  {
   "cell_type": "markdown",
   "metadata": {},
   "source": [
    "# 1.5 Evaluating the logistic regression model\n",
    "We will use the $R^2$ score to quantify the performance of our model. Note that we always test the performance of the model using the testing data set (not the training data set)."
   ]
  },
  {
   "cell_type": "markdown",
   "metadata": {},
   "source": [
    "TODO: the difference isn't zero below!!"
   ]
  },
  {
   "cell_type": "code",
   "execution_count": 12,
   "metadata": {
    "collapsed": false
   },
   "outputs": [
    {
     "name": "stdout",
     "output_type": "stream",
     "text": [
      "Difference between predictions: [-78.681584 -78.681584 -78.681584 -78.681584 -78.681584 -78.681584\n",
      " -78.681584 -78.681584 -78.681584 -78.681584 -78.681584 -78.681584\n",
      " -78.681584 -78.681584 -78.681584 -78.681584 -78.681584 -78.681584\n",
      " -78.681584 -78.681584 -78.681584 -78.681584 -78.681584 -78.681584\n",
      " -78.681584 -78.681584 -78.681584 -78.681584 -78.681584 -78.681584\n",
      " -78.681584 -78.681584 -78.681584 -78.681584 -78.681584 -78.681584\n",
      " -78.681584 -78.681584 -78.681584 -78.681584 -78.681584 -78.681584\n",
      " -78.681584 -78.681584 -78.681584 -78.681584 -78.681584 -78.681584\n",
      " -78.681584 -78.681584 -78.681584 -78.681584 -78.681584 -78.681584\n",
      " -78.681584 -78.681584 -78.681584 -78.681584 -78.681584 -78.681584\n",
      " -78.681584 -78.681584 -78.681584 -78.681584 -78.681584 -78.681584\n",
      " -78.681584 -78.681584 -78.681584 -78.681584 -78.681584 -78.681584\n",
      " -78.681584 -78.681584 -78.681584 -78.681584 -78.681584 -78.681584\n",
      " -78.681584 -78.681584 -78.681584 -78.681584 -78.681584 -78.681584\n",
      " -78.681584 -78.681584 -78.681584 -78.681584 -78.681584 -78.681584\n",
      " -78.681584 -78.681584 -78.681584 -78.681584 -78.681584 -78.681584\n",
      " -78.681584 -78.681584 -78.681584 -78.681584 -78.681584 -78.681584\n",
      " -78.681584 -78.681584 -78.681584 -78.681584 -78.681584 -78.681584\n",
      " -78.681584 -78.681584 -78.681584 -78.681584 -78.681584 -78.681584\n",
      " -78.681584 -78.681584 -78.681584 -78.681584 -78.681584 -78.681584\n",
      " -78.681584 -78.681584 -78.681584 -78.681584 -78.681584 -78.681584\n",
      " -78.681584 -78.681584 -78.681584 -78.681584 -78.681584 -78.681584\n",
      " -78.681584 -78.681584 -78.681584 -78.681584 -78.681584 -78.681584\n",
      " -78.681584 -78.681584 -78.681584 -78.681584 -78.681584 -78.681584\n",
      " -78.681584 -78.681584 -78.681584 -78.681584 -78.681584 -78.681584\n",
      " -78.681584 -78.681584 -78.681584 -78.681584 -78.681584 -78.681584\n",
      " -78.681584 -78.681584 -78.681584 -78.681584 -78.681584 -78.681584\n",
      " -78.681584 -78.681584 -78.681584 -78.681584 -78.681584 -78.681584\n",
      " -78.681584 -78.681584 -78.681584 -78.681584 -78.681584 -78.681584\n",
      " -78.681584 -78.681584 -78.681584 -78.681584 -78.681584 -78.681584\n",
      " -78.681584 -78.681584 -78.681584 -78.681584 -78.681584 -78.681584\n",
      " -78.681584 -78.681584 -78.681584 -78.681584 -78.681584 -78.681584\n",
      " -78.681584 -78.681584 -78.681584 -78.681584 -78.681584 -78.681584\n",
      " -78.681584 -78.681584 -78.681584 -78.681584 -78.681584 -78.681584\n",
      " -78.681584 -78.681584 -78.681584 -78.681584 -78.681584 -78.681584\n",
      " -78.681584 -78.681584 -78.681584 -78.681584 -78.681584 -78.681584\n",
      " -78.681584 -78.681584 -78.681584 -78.681584 -78.681584 -78.681584\n",
      " -78.681584 -78.681584 -78.681584 -78.681584 -78.681584 -78.681584\n",
      " -78.681584 -78.681584 -78.681584 -78.681584 -78.681584 -78.681584\n",
      " -78.681584 -78.681584 -78.681584 -78.681584 -78.681584 -78.681584\n",
      " -78.681584 -78.681584 -78.681584 -78.681584 -78.681584 -78.681584\n",
      " -78.681584 -78.681584 -78.681584 -78.681584 -78.681584 -78.681584\n",
      " -78.681584 -78.681584 -78.681584 -78.681584 -78.681584 -78.681584\n",
      " -78.681584 -78.681584 -78.681584 -78.681584 -78.681584 -78.681584\n",
      " -78.681584 -78.681584 -78.681584 -78.681584 -78.681584 -78.681584\n",
      " -78.681584 -78.681584 -78.681584 -78.681584 -78.681584 -78.681584\n",
      " -78.681584 -78.681584 -78.681584 -78.681584 -78.681584 -78.681584\n",
      " -78.681584 -78.681584 -78.681584 -78.681584 -78.681584 -78.681584\n",
      " -78.681584 -78.681584 -78.681584 -78.681584 -78.681584 -78.681584\n",
      " -78.681584 -78.681584 -78.681584 -78.681584 -78.681584 -78.681584\n",
      " -78.681584 -78.681584 -78.681584 -78.681584 -78.681584 -78.681584\n",
      " -78.681584 -78.681584 -78.681584 -78.681584 -78.681584 -78.681584\n",
      " -78.681584 -78.681584 -78.681584 -78.681584 -78.681584 -78.681584\n",
      " -78.681584 -78.681584 -78.681584 -78.681584 -78.681584 -78.681584\n",
      " -78.681584 -78.681584 -78.681584 -78.681584 -78.681584 -78.681584\n",
      " -78.681584 -78.681584 -78.681584 -78.681584 -78.681584 -78.681584\n",
      " -78.681584 -78.681584 -78.681584 -78.681584 -78.681584 -78.681584\n",
      " -78.681584 -78.681584 -78.681584 -78.681584 -78.681584 -78.681584\n",
      " -78.681584 -78.681584 -78.681584 -78.681584 -78.681584 -78.681584\n",
      " -78.681584 -78.681584 -78.681584 -78.681584 -78.681584 -78.681584\n",
      " -78.681584 -78.681584 -78.681584 -78.681584 -78.681584 -78.681584\n",
      " -78.681584 -78.681584 -78.681584 -78.681584 -78.681584 -78.681584\n",
      " -78.681584 -78.681584 -78.681584 -78.681584 -78.681584 -78.681584\n",
      " -78.681584 -78.681584 -78.681584 -78.681584 -78.681584 -78.681584\n",
      " -78.681584 -78.681584 -78.681584 -78.681584 -78.681584 -78.681584\n",
      " -78.681584 -78.681584 -78.681584 -78.681584 -78.681584 -78.681584\n",
      " -78.681584 -78.681584 -78.681584 -78.681584 -78.681584 -78.681584\n",
      " -78.681584 -78.681584 -78.681584 -78.681584 -78.681584 -78.681584\n",
      " -78.681584 -78.681584 -78.681584 -78.681584 -78.681584 -78.681584\n",
      " -78.681584 -78.681584 -78.681584 -78.681584 -78.681584 -78.681584\n",
      " -78.681584 -78.681584 -78.681584 -78.681584 -78.681584 -78.681584\n",
      " -78.681584 -78.681584 -78.681584 -78.681584 -78.681584 -78.681584\n",
      " -78.681584 -78.681584 -78.681584 -78.681584 -78.681584 -78.681584\n",
      " -78.681584 -78.681584 -78.681584 -78.681584 -78.681584 -78.681584\n",
      " -78.681584 -78.681584 -78.681584 -78.681584 -78.681584 -78.681584\n",
      " -78.681584 -78.681584 -78.681584 -78.681584 -78.681584 -78.681584\n",
      " -78.681584 -78.681584 -78.681584 -78.681584 -78.681584 -78.681584\n",
      " -78.681584 -78.681584 -78.681584 -78.681584 -78.681584 -78.681584\n",
      " -78.681584 -78.681584 -78.681584 -78.681584 -78.681584 -78.681584\n",
      " -78.681584 -78.681584 -78.681584 -78.681584 -78.681584 -78.681584\n",
      " -78.681584 -78.681584 -78.681584 -78.681584 -78.681584 -78.681584\n",
      " -78.681584 -78.681584 -78.681584 -78.681584 -78.681584 -78.681584\n",
      " -78.681584 -78.681584 -78.681584 -78.681584 -78.681584 -78.681584\n",
      " -78.681584 -78.681584 -78.681584 -78.681584 -78.681584 -78.681584\n",
      " -78.681584 -78.681584 -78.681584 -78.681584 -78.681584 -78.681584\n",
      " -78.681584 -78.681584 -78.681584 -78.681584 -78.681584 -78.681584\n",
      " -78.681584 -78.681584 -78.681584 -78.681584 -78.681584 -78.681584\n",
      " -78.681584 -78.681584 -78.681584 -78.681584 -78.681584 -78.681584\n",
      " -78.681584 -78.681584 -78.681584 -78.681584 -78.681584 -78.681584\n",
      " -78.681584 -78.681584 -78.681584 -78.681584 -78.681584 -78.681584\n",
      " -78.681584 -78.681584 -78.681584 -78.681584 -78.681584 -78.681584\n",
      " -78.681584 -78.681584 -78.681584 -78.681584 -78.681584 -78.681584\n",
      " -78.681584 -78.681584 -78.681584 -78.681584 -78.681584 -78.681584\n",
      " -78.681584 -78.681584 -78.681584 -78.681584 -78.681584 -78.681584\n",
      " -78.681584 -78.681584 -78.681584 -78.681584 -78.681584 -78.681584\n",
      " -78.681584 -78.681584 -78.681584 -78.681584 -78.681584 -78.681584\n",
      " -78.681584 -78.681584 -78.681584 -78.681584 -78.681584 -78.681584\n",
      " -78.681584 -78.681584 -78.681584 -78.681584 -78.681584 -78.681584\n",
      " -78.681584 -78.681584 -78.681584 -78.681584 -78.681584 -78.681584\n",
      " -78.681584 -78.681584 -78.681584 -78.681584 -78.681584 -78.681584\n",
      " -78.681584 -78.681584 -78.681584 -78.681584 -78.681584 -78.681584\n",
      " -78.681584 -78.681584 -78.681584 -78.681584 -78.681584 -78.681584\n",
      " -78.681584 -78.681584 -78.681584 -78.681584 -78.681584 -78.681584\n",
      " -78.681584 -78.681584 -78.681584 -78.681584 -78.681584 -78.681584\n",
      " -78.681584 -78.681584 -78.681584 -78.681584 -78.681584 -78.681584\n",
      " -78.681584 -78.681584 -78.681584 -78.681584 -78.681584 -78.681584\n",
      " -78.681584 -78.681584 -78.681584 -78.681584 -78.681584 -78.681584\n",
      " -78.681584 -78.681584 -78.681584 -78.681584 -78.681584 -78.681584\n",
      " -78.681584 -78.681584 -78.681584 -78.681584 -78.681584 -78.681584\n",
      " -78.681584 -78.681584 -78.681584 -78.681584 -78.681584 -78.681584\n",
      " -78.681584 -78.681584 -78.681584 -78.681584 -78.681584 -78.681584\n",
      " -78.681584 -78.681584 -78.681584 -78.681584 -78.681584 -78.681584\n",
      " -78.681584 -78.681584 -78.681584 -78.681584 -78.681584 -78.681584\n",
      " -78.681584 -78.681584 -78.681584]\n"
     ]
    }
   ],
   "source": [
    "# First we use our model to predict the testing data. That is, we pass the average age of parents in the \n",
    "# testing set (x_test) and predict household income (y_pred).\n",
    "pred_y = log_reg.predict(numpy_test_X)\n",
    "# Note that we used the sklearn function predict. This function is simply using our model y = m*x + b and\n",
    "# applying it to the test data:\n",
    "pred_y2 = model(numpy_test_X * log_reg.coef_ + log_reg.intercept_)\n",
    "print('Difference between predictions: {}'.format(sum(pred_y-pred_y2)) )"
   ]
  },
  {
   "cell_type": "markdown",
   "metadata": {},
   "source": [
    "Now, we can quantify how good our model is at predicting new values by computing R2 score\n"
   ]
  },
  {
   "cell_type": "code",
   "execution_count": 13,
   "metadata": {
    "collapsed": false
   },
   "outputs": [
    {
     "name": "stdout",
     "output_type": "stream",
     "text": [
      "mean root of square error : -0.13122923588039836\n"
     ]
    }
   ],
   "source": [
    "R2 = sklearn.metrics.r2_score(numpy_test_y, pred_y)\n",
    "print('mean root of square error : {}'.format(R2))"
   ]
  },
  {
   "cell_type": "markdown",
   "metadata": {},
   "source": [
    "TODO: explain what this means (negative value?)"
   ]
  },
  {
   "cell_type": "markdown",
   "metadata": {},
   "source": [
    "Let's compare this to the algorithm's performance on the training data:"
   ]
  },
  {
   "cell_type": "code",
   "execution_count": 14,
   "metadata": {
    "collapsed": false
   },
   "outputs": [
    {
     "name": "stdout",
     "output_type": "stream",
     "text": [
      "mean root of square error : -0.12802275960170695\n"
     ]
    }
   ],
   "source": [
    "pred_train_y = log_reg.predict(numpy_train_X)\n",
    "R2 = sklearn.metrics.r2_score(numpy_train_y, pred_train_y)\n",
    "print('mean root of square error : {}'.format(R2))"
   ]
  },
  {
   "cell_type": "markdown",
   "metadata": {},
   "source": [
    "TODO: comment on this."
   ]
  },
  {
   "cell_type": "markdown",
   "metadata": {
    "collapsed": true
   },
   "source": [
    "# 2. Multiple Logistic Regression\n",
    "\n",
    "Multiple logistic regression models is the generalization of logistic regression to multiple predictors. That is, multiple logistic regression models the relationship between a binary outcome $Y$ that can be either 1 or 0 and multiple predictors $X_i$. \n",
    "\n",
    "The model is given by the equation\n",
    "\n",
    "$$ \\frac{p(Y)}{1-p(Y)} = c_0 + c_1 X_1 + c_2 X_2 + c_3 X_3 + \\dots + c_n X_n + \\epsilon$$\n",
    "\n",
    "where $p(Y)$ is the probability that $Y=1, $$c_0$ is the regression coefficient associated with the probability that $Y=1$ when $X_i=0$ for all $i$, and $c_i$ is the regression coefficient that tells us how much the probability that $Y=1$ changes when the predictor $X_i$ is not zero. As before, we will set $\\epsilon$ to zero, meaning we will ignore the effects of noise.\n",
    "\n",
    "The best-fit curve provides a nonlinear model which allows us to make predictions about the probability that $Y=1$ or $Y=0$ given the values of $X_i$.\n",
    "\n",
    "In this section we will build a multiple logistic regression model to predict eviction. For the predictor $X$ predictor, we will use SOMETHING (feature XXXXXXX) and SOMETHING2 (feature XXXX2)."
   ]
  },
  {
   "cell_type": "markdown",
   "metadata": {},
   "source": [
    "# 2.1 Multiple logistic regression for child's low birth weight using multiple features on father's engagement as predictors\n",
    "In this section we will build a multiple logistic regression model to predict the child's low birth weight. As a predictor, we will use two of the three features discussed above:\n",
    "\n",
    "* \"f1b16\": During the baby mother's preg, did you give her money or buy things for the baby/ies?\n",
    "* \"f1b17\": Did you help in other ways, like providing transportation / doing chores?\n",
    "\n",
    "We will stick to two for now, so that we can easily visualize our data. Later, we can expand the number of features to include all 3 (and more!)\n",
    "\n"
   ]
  },
  {
   "cell_type": "markdown",
   "metadata": {},
   "source": [
    "Let's remind ourselves what the data frame looks like:"
   ]
  },
  {
   "cell_type": "code",
   "execution_count": 15,
   "metadata": {
    "collapsed": false
   },
   "outputs": [
    {
     "data": {
      "text/html": [
       "<div>\n",
       "<style scoped>\n",
       "    .dataframe tbody tr th:only-of-type {\n",
       "        vertical-align: middle;\n",
       "    }\n",
       "\n",
       "    .dataframe tbody tr th {\n",
       "        vertical-align: top;\n",
       "    }\n",
       "\n",
       "    .dataframe thead th {\n",
       "        text-align: right;\n",
       "    }\n",
       "</style>\n",
       "<table border=\"1\" class=\"dataframe\">\n",
       "  <thead>\n",
       "    <tr style=\"text-align: right;\">\n",
       "      <th></th>\n",
       "      <th>gave_money</th>\n",
       "      <th>other_help</th>\n",
       "      <th>present_at_birth</th>\n",
       "      <th>low_birth_weight</th>\n",
       "      <th>father_engagement</th>\n",
       "    </tr>\n",
       "    <tr>\n",
       "      <th>challengeID</th>\n",
       "      <th></th>\n",
       "      <th></th>\n",
       "      <th></th>\n",
       "      <th></th>\n",
       "      <th></th>\n",
       "    </tr>\n",
       "  </thead>\n",
       "  <tbody>\n",
       "    <tr>\n",
       "      <th>2</th>\n",
       "      <td>1</td>\n",
       "      <td>1</td>\n",
       "      <td>2</td>\n",
       "      <td>0</td>\n",
       "      <td>1.333333</td>\n",
       "    </tr>\n",
       "    <tr>\n",
       "      <th>4</th>\n",
       "      <td>1</td>\n",
       "      <td>1</td>\n",
       "      <td>1</td>\n",
       "      <td>0</td>\n",
       "      <td>1.000000</td>\n",
       "    </tr>\n",
       "    <tr>\n",
       "      <th>5</th>\n",
       "      <td>1</td>\n",
       "      <td>2</td>\n",
       "      <td>2</td>\n",
       "      <td>0</td>\n",
       "      <td>1.666667</td>\n",
       "    </tr>\n",
       "    <tr>\n",
       "      <th>7</th>\n",
       "      <td>1</td>\n",
       "      <td>1</td>\n",
       "      <td>1</td>\n",
       "      <td>0</td>\n",
       "      <td>1.000000</td>\n",
       "    </tr>\n",
       "    <tr>\n",
       "      <th>8</th>\n",
       "      <td>1</td>\n",
       "      <td>1</td>\n",
       "      <td>1</td>\n",
       "      <td>0</td>\n",
       "      <td>1.000000</td>\n",
       "    </tr>\n",
       "  </tbody>\n",
       "</table>\n",
       "</div>"
      ],
      "text/plain": [
       "             gave_money  other_help  present_at_birth  low_birth_weight  \\\n",
       "challengeID                                                               \n",
       "2                     1           1                 2                 0   \n",
       "4                     1           1                 1                 0   \n",
       "5                     1           2                 2                 0   \n",
       "7                     1           1                 1                 0   \n",
       "8                     1           1                 1                 0   \n",
       "\n",
       "             father_engagement  \n",
       "challengeID                     \n",
       "2                     1.333333  \n",
       "4                     1.000000  \n",
       "5                     1.666667  \n",
       "7                     1.000000  \n",
       "8                     1.000000  "
      ]
     },
     "execution_count": 15,
     "metadata": {},
     "output_type": "execute_result"
    }
   ],
   "source": [
    "baby_weight.head()"
   ]
  },
  {
   "cell_type": "markdown",
   "metadata": {},
   "source": [
    "# 2.2 Plotting the data\n",
    "We can visualize the mother's age, father's age and income in one 3D plot (which can also be found by calling **`fff.scatter_3d()`**). "
   ]
  },
  {
   "cell_type": "code",
   "execution_count": 16,
   "metadata": {
    "collapsed": false
   },
   "outputs": [
    {
     "data": {
      "image/png": "[encoded data removed]",
      "text/plain": [
       "<matplotlib.figure.Figure at 0x11a3107b8>"
      ]
     },
     "metadata": {},
     "output_type": "display_data"
    }
   ],
   "source": [
    "fff.scatter_3d(baby_weight.gave_money, baby_weight.other_help, baby_weight.low_birth_weight, xlabel=\"Father gave money during pregnancy\", \\\n",
    "           ylabel=\"Father provided other help\", zlabel = \"Low birth weight\")"
   ]
  },
  {
   "cell_type": "markdown",
   "metadata": {},
   "source": [
    "TODO: discuss, why does the data look like this?"
   ]
  },
  {
   "cell_type": "markdown",
   "metadata": {},
   "source": [
    "# 2.3 Splitting data into train and test sets\n",
    "Let's again split our data into train and test sets, and try to find the best fit line."
   ]
  },
  {
   "cell_type": "code",
   "execution_count": 17,
   "metadata": {
    "collapsed": false
   },
   "outputs": [
    {
     "name": "stdout",
     "output_type": "stream",
     "text": [
      "(1586, 2)\n",
      "(681, 2)\n",
      "(1586, 1)\n",
      "(681, 1)\n"
     ]
    }
   ],
   "source": [
    "# Split our data into train and test sets\n",
    "from sklearn.cross_validation import train_test_split\n",
    "\n",
    "X = baby_weight[[\"gave_money\",\"other_help\"]] # predictor\n",
    "y = baby_weight[[\"low_birth_weight\"]] # outcome \n",
    "\n",
    "train_X, test_X, train_y, test_y = train_test_split(X, y, test_size = 0.3, random_state=100)\n",
    "\n",
    "print(train_X.shape)\n",
    "print(test_X.shape)\n",
    "print(train_y.shape)\n",
    "print(test_y.shape)"
   ]
  },
  {
   "cell_type": "code",
   "execution_count": 18,
   "metadata": {
    "collapsed": false
   },
   "outputs": [],
   "source": [
    "numpy_train_X = fff.pandas_to_2d_numpy(train_X)\n",
    "numpy_train_y = fff.pandas_to_2d_numpy(train_y)\n",
    "\n",
    "numpy_test_X = fff.pandas_to_2d_numpy(test_X)\n",
    "numpy_test_y = fff.pandas_to_2d_numpy(test_y)"
   ]
  },
  {
   "cell_type": "markdown",
   "metadata": {},
   "source": [
    "# 2.4 Running the multiple logistic regression algorithm\n",
    "In this section, we'll again use `sklearn.linear_model.LogisticRegression` to do multiple linear regression."
   ]
  },
  {
   "cell_type": "code",
   "execution_count": 20,
   "metadata": {
    "collapsed": false
   },
   "outputs": [
    {
     "data": {
      "text/plain": [
       "LinearRegression(copy_X=True, fit_intercept=True, n_jobs=1, normalize=False)"
      ]
     },
     "execution_count": 20,
     "metadata": {},
     "output_type": "execute_result"
    }
   ],
   "source": [
    "# fit the linear regression model and get the slope and intercept\n",
    "multi_log_reg = linear_model.LinearRegression()\n",
    "multi_log_reg.fit(numpy_train_X, numpy_train_y)"
   ]
  },
  {
   "cell_type": "markdown",
   "metadata": {},
   "source": [
    "We denote $X_1$ and $X_2$ as two features `gave_money` and `other_help`. Then the multiple regression model can be written as \n",
    "\n",
    "$$ \\frac{p(Y)}{1-p(Y)} = c_0 + c_1 X_1 + c_2 X_2$$\n",
    "\n",
    "The coefficients can be retrieved from the fitted model.\n"
   ]
  },
  {
   "cell_type": "code",
   "execution_count": 22,
   "metadata": {
    "collapsed": false
   },
   "outputs": [
    {
     "name": "stdout",
     "output_type": "stream",
     "text": [
      "[c1, c2] = [ 0.08881726  0.00044284]\n",
      "c0 = 0.017024096086889984\n"
     ]
    }
   ],
   "source": [
    "# select slope and intercept values\n",
    "slope = multi_log_reg.coef_[0]\n",
    "intercbpt = multi_log_reg.intercept_[0]\n",
    "\n",
    "# print the generated coefficients\n",
    "print('[c1, c2] = {}'.format(slope))\n",
    "print('c0 = {}'.format(intercept))"
   ]
  },
  {
   "cell_type": "markdown",
   "metadata": {},
   "source": [
    "### Question 2.4.1\n",
    "Which feature is more important in predicting the income?\n",
    "\n",
    "### Answer:"
   ]
  },
  {
   "cell_type": "code",
   "execution_count": null,
   "metadata": {
    "collapsed": true
   },
   "outputs": [],
   "source": []
  },
  {
   "cell_type": "markdown",
   "metadata": {},
   "source": [
    "TODO: Plot the 3D scatterplot with the slope and intercept (not sure how to plot the curve in 3d)"
   ]
  },
  {
   "cell_type": "markdown",
   "metadata": {},
   "source": [
    "# 2.5 Evaluation and generalization\n",
    "\n",
    "We can use this model to predict the low birth weight."
   ]
  },
  {
   "cell_type": "code",
   "execution_count": 25,
   "metadata": {
    "collapsed": false
   },
   "outputs": [
    {
     "name": "stdout",
     "output_type": "stream",
     "text": [
      "Multiple regression results on TEST data\n",
      "R2 : -0.0030562012484895984\n"
     ]
    }
   ],
   "source": [
    "pred_y = multi_log_reg.predict(numpy_test_X)\n",
    "# Note we could have also done the same thins using the model equation:\n",
    "# pred_y = slope[0]*multi_numpy_test_X[:,0]+slope[1]*multi_numpy_test_X[:,1]+intercept\n",
    "\n",
    "# calculate R2 score\n",
    "R2 = sklearn.metrics.r2_score(numpy_test_y, pred_y)\n",
    "\n",
    "print('Multiple regression results on TEST data')\n",
    "print('R2 : {}'.format(R2))"
   ]
  },
  {
   "cell_type": "markdown",
   "metadata": {},
   "source": [
    "TODO: explanation.\n",
    "    \n",
    "Now, as a sanity check, calculate mean square error ON THE TRAIN DATA."
   ]
  },
  {
   "cell_type": "code",
   "execution_count": 28,
   "metadata": {
    "collapsed": false
   },
   "outputs": [
    {
     "name": "stdout",
     "output_type": "stream",
     "text": [
      "Multiple regression results on TRAIN data\n",
      "R2 : 0.005841497248233463\n"
     ]
    }
   ],
   "source": [
    "pred_train_y = multi_log_reg.predict(numpy_train_X)\n",
    "# Note we could have also done the same thins using the model equation:\n",
    "# pred_y = slope[0]*multi_numpy_test_X[:,0]+slope[1]*multi_numpy_test_X[:,1]+intercept\n",
    "\n",
    "# calculate R2 score\n",
    "R2 = sklearn.metrics.r2_score(numpy_train_y, pred_train_y)\n",
    "\n",
    "print('Multiple regression results on TRAIN data')\n",
    "print('R2 : {}'.format(R2))"
   ]
  },
  {
   "cell_type": "markdown",
   "metadata": {},
   "source": [
    "TODO: add problems"
   ]
  }
 ],
 "metadata": {
  "anaconda-cloud": {},
  "kernelspec": {
   "display_name": "Python [Root]",
   "language": "python",
   "name": "Python [Root]"
  },
  "language_info": {
   "codemirror_mode": {
    "name": "ipython",
    "version": 3
   },
   "file_extension": ".py",
   "mimetype": "text/x-python",
   "name": "python",
   "nbconvert_exporter": "python",
   "pygments_lexer": "ipython3",
   "version": "3.5.2"
  }
 },
 "nbformat": 4,
 "nbformat_minor": 2
}
